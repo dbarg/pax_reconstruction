{
 "cells": [
  {
   "cell_type": "code",
   "execution_count": null,
   "metadata": {},
   "outputs": [
    {
     "name": "stderr",
     "output_type": "stream",
     "text": [
      "Using TensorFlow backend.\n"
     ]
    }
   ],
   "source": [
    "\n",
    "####################################################################################################\n",
    "####################################################################################################\n",
    "\n",
    "import sys\n",
    "import os.path\n",
    "\n",
    "import matplotlib.pyplot as plt\n",
    "import numpy as np\n",
    "import pandas as pd\n",
    "from IPython.display import display\n",
    "\n",
    "import keras\n",
    "import keras.utils.vis_utils\n",
    "from keras import backend as K\n",
    "from keras import layers\n",
    "from keras.layers import Dense\n",
    "from keras.models import load_model\n",
    "from keras.models import Sequential\n",
    "from keras.utils import plot_model\n",
    "\n",
    "sys.path.append(os.path.abspath(\"../\"))\n",
    "from helpers import *\n",
    "\n",
    "sys.path.append(os.path.abspath(\"../../\"))\n",
    "from pax_utils import s1s2_utils\n",
    "\n",
    "v_drift = 1.44e-4\n"
   ]
  },
  {
   "cell_type": "code",
   "execution_count": null,
   "metadata": {},
   "outputs": [],
   "source": [
    "\n",
    "####################################################################################################\n",
    "####################################################################################################\n",
    "\n",
    "nEventsTrain = 100000\n",
    "file_all     = \"../data_lfs/merged_all_200k_1803261941.pkl\"\n",
    "\n",
    "df_all = pd.read_pickle(file_all)\n",
    "df_all = df_all[df_all['intr_count'] == 1].reset_index(drop=True)\n",
    "df_all = df_all[nEventsTrain:][:]\n",
    "\n",
    "df_all['intr_depth'] = -1*v_drift*df_all['intr_drift_time'] \n",
    "df_all['depth']      *= -1\n",
    "\n",
    "\n",
    "####################################################################################################\n",
    "####################################################################################################\n",
    "\n",
    "df_train_truth = df_all[:][['x', 'y', 'depth', 's2_electrons']]\n",
    "df_train_input = df_all[:][['intr_depth'] + s1s2_utils.getS2integralsDataFrameColumns()]\n",
    "\n",
    "\n",
    "####################################################################################################\n",
    "####################################################################################################\n",
    "\n",
    "checkTrainingData(df_train_input, df_train_truth)\n",
    "\n"
   ]
  },
  {
   "cell_type": "code",
   "execution_count": null,
   "metadata": {},
   "outputs": [],
   "source": [
    "\n",
    "####################################################################################################\n",
    "####################################################################################################\n",
    "\n",
    "model_name     = \"model_barge_xyzS2_elu\"\n",
    "folder         = \"models\" + \"/\"    \n",
    "model_name_h5  = folder + model_name + \".h5\"\n",
    "model_name_png = folder + model_name + \".png\"\n",
    "\n"
   ]
  },
  {
   "cell_type": "code",
   "execution_count": null,
   "metadata": {},
   "outputs": [],
   "source": [
    "\n",
    "####################################################################################################\n",
    "####################################################################################################\n",
    "\n",
    "model       = load_model(model_name_h5)\n",
    "arr_xy_pred = model.predict(df_train_input)\n",
    "\n",
    "print(\"\\nLoaded Model: \" + model_name_h5)\n",
    "print(\"Predicted\\n\")\n",
    "\n"
   ]
  },
  {
   "cell_type": "code",
   "execution_count": null,
   "metadata": {},
   "outputs": [],
   "source": [
    "\n",
    "####################################################################################################\n",
    "####################################################################################################\n",
    "\n",
    "arr_x_true = df_train_truth[:]['x'].as_matrix()\n",
    "arr_y_true = df_train_truth[:]['y'].as_matrix()\n",
    "arr_z_true = df_train_truth[:]['depth'].as_matrix()\n",
    "\n",
    "arr_s2_true = df_train_truth[:]['s2_electrons'].as_matrix()\n",
    "arr_s2_reco = df_all[:]['intr_s2_electrons'].as_matrix()\n",
    "\n",
    "arr_x_pred  = arr_xy_pred[:, 0]\n",
    "arr_y_pred  = arr_xy_pred[:, 1]\n",
    "arr_z_pred  = arr_xy_pred[:, 2]\n",
    "arr_s2_pred = arr_xy_pred[:, 3]\n",
    "\n"
   ]
  },
  {
   "cell_type": "code",
   "execution_count": null,
   "metadata": {},
   "outputs": [],
   "source": [
    "\n",
    "####################################################################################################\n",
    "####################################################################################################\n",
    "\n",
    "file_out         = \"./predictions/xyzS2_S2integralsDeltaT.pkl\"\n",
    "\n",
    "cols_out = ['event_number',\n",
    "            'x', 'y', 'depth',\n",
    "            'intr_x', 'intr_y', 'intr_z',\n",
    "            'intr_x_nn', 'intr_y_nn',\n",
    "            's2_electrons', 'intr_s2_electrons']\n",
    "\n",
    "df_out                      = df_all[:][cols_out]\n",
    "df_out['x_pred']            = arr_x_pred\n",
    "df_out['y_pred']            = arr_y_pred\n",
    "df_out['z_pred']            = arr_z_pred\n",
    "df_out['s2_electrons_pred'] = arr_s2_pred\n",
    "\n",
    "\n",
    "df_out.to_pickle(file_out)\n",
    "\n",
    "\n",
    "####################################################################################################\n",
    "####################################################################################################\n",
    "\n",
    "df_test = pd.read_pickle(file_out)\n",
    "\n",
    "display(df_test[0:5][:])\n",
    "print()\n",
    "\n"
   ]
  },
  {
   "cell_type": "code",
   "execution_count": null,
   "metadata": {
    "collapsed": true
   },
   "outputs": [],
   "source": []
  }
 ],
 "metadata": {
  "anaconda-cloud": {},
  "kernelspec": {
   "display_name": "Python 3",
   "language": "python",
   "name": "python3"
  },
  "language_info": {
   "codemirror_mode": {
    "name": "ipython",
    "version": 3
   },
   "file_extension": ".py",
   "mimetype": "text/x-python",
   "name": "python",
   "nbconvert_exporter": "python",
   "pygments_lexer": "ipython3",
   "version": "3.5.4"
  }
 },
 "nbformat": 4,
 "nbformat_minor": 2
}
