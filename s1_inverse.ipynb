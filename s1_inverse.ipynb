{
 "cells": [
  {
   "cell_type": "code",
   "execution_count": 1,
   "metadata": {},
   "outputs": [],
   "source": [
    "\n",
    "####################################################################################################\n",
    "####################################################################################################\n",
    "\n",
    "import sys\n",
    "import os.path\n",
    "\n",
    "import matplotlib.pyplot as plt\n",
    "import numpy as np\n",
    "import pandas as pd\n",
    "\n",
    "from IPython.display import display\n",
    "\n",
    "from matplotlib.colors import LogNorm\n",
    "\n"
   ]
  },
  {
   "cell_type": "code",
   "execution_count": 2,
   "metadata": {},
   "outputs": [],
   "source": [
    "\n",
    "####################################################################################################\n",
    "####################################################################################################\n",
    "\n",
    "file_all = \"../pax_waveform_simulator/merged/merged_all_v180220.pkl\"\n",
    "\n",
    "df_all   = pd.read_pickle(file_all)\n",
    "df_s1s2   = df_all[df_all['interactions'] == 1]\n"
   ]
  },
  {
   "cell_type": "code",
   "execution_count": 4,
   "metadata": {},
   "outputs": [
    {
     "name": "stdout",
     "output_type": "stream",
     "text": [
      "\n",
      "Total Events:   2000\n",
      "S1 & S2 Events: 1205\n",
      "\n"
     ]
    }
   ],
   "source": [
    "\n",
    "####################################################################################################\n",
    "####################################################################################################\n",
    "\n",
    "nEventsTotal = df_all.shape[0]\n",
    "nEventsS1S2  = df_s1s2.shape[0]\n",
    "\n",
    "print()\n",
    "print(\"Total Events:   \" + str(nEventsTotal))\n",
    "print(\"S1 & S2 Events: \" + str(nEventsS1S2))\n",
    "#display(df_s1s2[:][0:5])\n",
    "print()\n"
   ]
  },
  {
   "cell_type": "code",
   "execution_count": 6,
   "metadata": {},
   "outputs": [],
   "source": [
    "\n",
    "####################################################################################################\n",
    "####################################################################################################\n",
    "\n",
    "arr_s1_true = df_s1s2[:]['s1_photons'].as_matrix()\n",
    "arr_s1_reco = np.zeros(1) #df_s1s2[:]['reco_s2_electrons'].as_matrix()\n",
    "\n"
   ]
  },
  {
   "cell_type": "code",
   "execution_count": 9,
   "metadata": {},
   "outputs": [
    {
     "name": "stdout",
     "output_type": "stream",
     "text": [
      "\n",
      "S1 True Max: 831\n",
      "S1 Reco Max: 0.0\n",
      "\n"
     ]
    }
   ],
   "source": [
    "\n",
    "####################################################################################################\n",
    "####################################################################################################\n",
    "\n",
    "s1_max_true = np.amax(arr_s1_true)\n",
    "s1_max_reco = np.amax(arr_s1_reco)\n",
    "\n",
    "s1_true_mean = np.mean(arr_s1_true)\n",
    "s1_reco_mean = np.mean(arr_s1_reco)\n",
    "s1_true_std  = np.std (arr_s1_true)\n",
    "s1_reco_std  = np.std (arr_s1_reco)\n",
    "\n",
    "s1_label_true = 'true (std: %.01f, mean: %.01f)'% (s1_true_std, s1_true_mean)\n",
    "s1_label_reco = 'reco (std: %.01f, mean: %.01f)'% (s1_reco_std, s1_reco_mean)\n",
    "\n",
    "print()\n",
    "print(\"S1 True Max: \" + str(s1_max_true))\n",
    "print(\"S1 Reco Max: \" + str(s1_max_reco))\n",
    "print()\n",
    "\n",
    "s1_max     = 750\n",
    "s1_nbins   = 750/10\n",
    "\n",
    "s1_delta_max   = 50\n",
    "s1_delta_nbins = 100/2\n",
    "\n",
    "eps       = 1"
   ]
  },
  {
   "cell_type": "code",
   "execution_count": 10,
   "metadata": {},
   "outputs": [],
   "source": [
    "\n",
    "####################################################################################################\n",
    "####################################################################################################\n",
    "\n",
    "arr_s1_true_ovflw = arr_s1_true.copy()\n",
    "arr_s1_reco_ovflw = arr_s1_reco.copy()\n",
    "\n",
    "arr_s1_true_ovflw[arr_s1_true_ovflw > s1_max] = s1_max - eps\n",
    "arr_s1_reco_ovflw[arr_s1_reco_ovflw > s1_max] = s1_max - eps\n",
    "\n"
   ]
  },
  {
   "cell_type": "code",
   "execution_count": 13,
   "metadata": {},
   "outputs": [
    {
     "name": "stdout",
     "output_type": "stream",
     "text": [
      "\n"
     ]
    },
    {
     "data": {
      "image/png": "[encoded data removed]",
      "text/plain": [
       "<matplotlib.figure.Figure at 0x10ccbc208>"
      ]
     },
     "metadata": {},
     "output_type": "display_data"
    },
    {
     "name": "stdout",
     "output_type": "stream",
     "text": [
      "\n"
     ]
    }
   ],
   "source": [
    "\n",
    "####################################################################################################\n",
    "####################################################################################################\n",
    "\n",
    "rows = 2\n",
    "cols = 2\n",
    "\n",
    "#fig, ax = plt.subplots(nrows=rows, ncols=cols, figsize=(15, 15))\n",
    "fig = plt.figure(figsize=(10, 10))\n",
    "plt.subplots_adjust(left=None, bottom=None, right=None, top=None, wspace=0.15, hspace=0.3)\n",
    "\n",
    "\n",
    "####################################################################################################\n",
    "####################################################################################################\n",
    "\n",
    "#plt.subplot(rows, cols, 2)\n",
    "plt.hist(arr_s1_true_ovflw, bins=s1_nbins, range=[0, s1_max], label=s1_label_true, fill=False, histtype='step')\n",
    "plt.xlim([0, s1_max])\n",
    "plt.title('Number of S1 Photons (Primary)', fontsize=18)\n",
    "plt.xlabel('S1 Photons', fontsize=18)\n",
    "plt.legend(fontsize=16)\n",
    "plt.grid(True)\n",
    "\n",
    "\n",
    "####################################################################################################\n",
    "####################################################################################################\n",
    "\n",
    "plt.close()\n",
    "print()\n",
    "display(fig)\n",
    "print()\n"
   ]
  },
  {
   "cell_type": "code",
   "execution_count": null,
   "metadata": {},
   "outputs": [],
   "source": []
  },
  {
   "cell_type": "code",
   "execution_count": null,
   "metadata": {},
   "outputs": [],
   "source": []
  },
  {
   "cell_type": "code",
   "execution_count": null,
   "metadata": {},
   "outputs": [],
   "source": []
  },
  {
   "cell_type": "code",
   "execution_count": null,
   "metadata": {},
   "outputs": [],
   "source": []
  },
  {
   "cell_type": "code",
   "execution_count": null,
   "metadata": {},
   "outputs": [],
   "source": []
  },
  {
   "cell_type": "code",
   "execution_count": null,
   "metadata": {},
   "outputs": [],
   "source": []
  },
  {
   "cell_type": "code",
   "execution_count": null,
   "metadata": {},
   "outputs": [],
   "source": []
  },
  {
   "cell_type": "code",
   "execution_count": null,
   "metadata": {},
   "outputs": [],
   "source": []
  },
  {
   "cell_type": "code",
   "execution_count": null,
   "metadata": {},
   "outputs": [],
   "source": []
  }
 ],
 "metadata": {
  "anaconda-cloud": {},
  "kernelspec": {
   "display_name": "Python 3",
   "language": "python",
   "name": "python3"
  },
  "language_info": {
   "codemirror_mode": {
    "name": "ipython",
    "version": 3
   },
   "file_extension": ".py",
   "mimetype": "text/x-python",
   "name": "python",
   "nbconvert_exporter": "python",
   "pygments_lexer": "ipython3",
   "version": "3.5.4"
  }
 },
 "nbformat": 4,
 "nbformat_minor": 2
}
