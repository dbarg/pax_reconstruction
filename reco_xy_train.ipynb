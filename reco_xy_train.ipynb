{
 "cells": [
  {
   "cell_type": "code",
   "execution_count": 2,
   "metadata": {
    "collapsed": false
   },
   "outputs": [],
   "source": [
    "\n",
    "####################################################################################################\n",
    "####################################################################################################\n",
    "\n",
    "import sys\n",
    "import os.path\n",
    "import matplotlib.pyplot as plt\n",
    "import matplotlib.image as mpimg\n",
    "import numpy as np\n",
    "import pandas as pd\n",
    "import seaborn as sns\n",
    "\n",
    "from IPython.display import display\n",
    "from IPython.display import Image\n",
    "\n",
    "import keras\n",
    "import keras.utils.vis_utils\n",
    "from keras import backend as K\n",
    "from keras import layers\n",
    "from keras.layers import Dense\n",
    "from keras.layers.normalization import BatchNormalization\n",
    "from keras.models import load_model\n",
    "from keras.models import Sequential\n",
    "from keras.utils import plot_model\n"
   ]
  },
  {
   "cell_type": "code",
   "execution_count": 3,
   "metadata": {
    "collapsed": false
   },
   "outputs": [],
   "source": [
    "\n",
    "####################################################################################################\n",
    "####################################################################################################\n",
    "\n",
    "df_train_truth = pd.DataFrame.from_csv(\"../python_pax_reader/data/train_truth.csv\")\n",
    "df_train_input = pd.DataFrame.from_csv(\"../python_pax_reader/data/train_input.csv\")\n",
    "\n"
   ]
  },
  {
   "cell_type": "code",
   "execution_count": null,
   "metadata": {
    "collapsed": false
   },
   "outputs": [],
   "source": [
    "\n",
    "####################################################################################################\n",
    "# First 127 are S2\n",
    "####################################################################################################\n",
    "\n",
    "df_train_input = df_train_input.iloc[:, 0:127]\n",
    "df_train_input.shape\n"
   ]
  },
  {
   "cell_type": "code",
   "execution_count": null,
   "metadata": {
    "collapsed": false
   },
   "outputs": [],
   "source": [
    "\n",
    "####################################################################################################\n",
    "####################################################################################################\n",
    "\n",
    "nRows = 5\n",
    "\n",
    "#print()\n",
    "#display(df_train_truth[0:nRows][:])\n",
    "#print()\n",
    "#display(df_train_input[0:nRows][:])\n",
    "#print()\n",
    "\n"
   ]
  },
  {
   "cell_type": "code",
   "execution_count": null,
   "metadata": {
    "collapsed": false
   },
   "outputs": [],
   "source": [
    "\n",
    "##########################################################################################\n",
    "##########################################################################################\n",
    "\n",
    "num_input_nodes = 127\n",
    "\n",
    "\n",
    "##########################################################################################\n",
    "##########################################################################################\n",
    "\n",
    "#act = 'linear'\n",
    "act = 'tanh'\n",
    "\n",
    "model = Sequential()\n",
    "model.add(Dense(127, activation=act, input_dim=num_input_nodes))\n",
    "#model.add(BatchNormalization())\n",
    "#model.add(Dense(1024, activation=act))\n",
    "#model.add(Dense(512, activation=act))\n",
    "model.add(Dense(100, activation=act))\n",
    "model.add(Dense(100, activation=act))\n",
    "model.add(Dense( 40, activation=act))\n",
    "model.add(Dense( 40, activation=act))\n",
    "model.add(Dense( 20, activation=act))\n",
    "model.add(Dense( 20, activation=act))\n",
    "model.add(Dense(  2))\n",
    "\n",
    "\n",
    "##########################################################################################\n",
    "##########################################################################################\n",
    "\n"
   ]
  },
  {
   "cell_type": "code",
   "execution_count": null,
   "metadata": {
    "collapsed": false
   },
   "outputs": [],
   "source": [
    "\n",
    "##########################################################################################\n",
    "##########################################################################################\n",
    "\n",
    "model.compile(loss='mean_squared_error', optimizer='adam', metrics=['accuracy'])\n",
    "#model.compile(loss='mean_absolute_error'            , optimizer='adam', metrics=['accuracy'])\n",
    "#model.compile(loss='mean_absolute_percentage_error' , optimizer='adam', metrics=['accuracy'])\n",
    "#model.compile(loss='mean_squared_logarithmic_error' , optimizer='adam', metrics=['accuracy'])\n",
    "#model.compile(loss='squared_hinge'                  , optimizer='adam', metrics=['accuracy'])\n",
    "#model.compile(loss='hinge'                          , optimizer='adam', metrics=['accuracy'])\n",
    "#model.compile(loss='categorical_hinge'              , optimizer='adam', metrics=['accuracy'])\n",
    "#model.compile(loss='logcosh'                        , optimizer='adam', metrics=['accuracy'])\n",
    "#model.compile(loss='categorical_crossentropy'       , optimizer='adam', metrics=['accuracy'])\n",
    "#model.compile(loss='sparse_categorical_crossentropy', optimizer='adam', metrics=['accuracy'])\n",
    "#model.compile(loss='binary_crossentropy'            , optimizer='adam', metrics=['accuracy'])\n",
    "#model.compile(loss='kullback_leibler_divergence'    , optimizer='adam', metrics=['accuracy'])\n",
    "#model.compile(loss='poisson'                        , optimizer='adam', metrics=['accuracy'])\n",
    "#model.compile(loss='cosine_proximity'               , optimizer='adam', metrics=['accuracy'])\n",
    "\n",
    "\n",
    "##########################################################################################\n",
    "##########################################################################################\n",
    "\n",
    "print(df_train_input.shape)\n",
    "print(df_train_truth.shape)\n"
   ]
  },
  {
   "cell_type": "code",
   "execution_count": null,
   "metadata": {
    "collapsed": false
   },
   "outputs": [],
   "source": [
    "\n",
    "##########################################################################################\n",
    "##########################################################################################\n",
    "\n",
    "model.fit(df_train_input, df_train_truth, epochs=20, batch_size=32, verbose=1)\n",
    "print(\"Done\")\n"
   ]
  },
  {
   "cell_type": "code",
   "execution_count": null,
   "metadata": {
    "collapsed": true
   },
   "outputs": [],
   "source": [
    "\n",
    "##########################################################################################\n",
    "##########################################################################################\n",
    "\n",
    "folder   = \"models\" + \"/\"    \n",
    "name     = \"model_posreco\"\n",
    "name_h5  = folder + name + \".h5\"\n",
    "name_png = folder + name + \".png\"\n",
    "\n",
    "\n",
    "##########################################################################################\n",
    "##########################################################################################\n",
    "\n",
    "model.save(name_h5, overwrite=True)\n",
    "\n"
   ]
  },
  {
   "cell_type": "code",
   "execution_count": null,
   "metadata": {
    "collapsed": false
   },
   "outputs": [],
   "source": [
    "\n",
    "##########################################################################################\n",
    "##########################################################################################\n",
    "\n",
    "plot_model(model, to_file=name_png, show_layer_names=True, show_shapes=True)\n",
    "\n",
    "print()\n",
    "Image(filename=name_png) \n"
   ]
  },
  {
   "cell_type": "code",
   "execution_count": null,
   "metadata": {
    "collapsed": true
   },
   "outputs": [],
   "source": [
    "\n",
    "##########################################################################################\n",
    "# Convergence Plots\n",
    "##########################################################################################\n"
   ]
  }
 ],
 "metadata": {
  "anaconda-cloud": {},
  "kernelspec": {
   "display_name": "Python 3",
   "language": "python",
   "name": "python3"
  },
  "language_info": {
   "codemirror_mode": {
    "name": "ipython",
    "version": 3
   },
   "file_extension": ".py",
   "mimetype": "text/x-python",
   "name": "python",
   "nbconvert_exporter": "python",
   "pygments_lexer": "ipython3",
   "version": "3.5.4"
  }
 },
 "nbformat": 4,
 "nbformat_minor": 2
}
