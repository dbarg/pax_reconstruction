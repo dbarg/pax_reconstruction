{
 "cells": [
  {
   "cell_type": "code",
   "execution_count": 1,
   "metadata": {
    "collapsed": false
   },
   "outputs": [
    {
     "name": "stderr",
     "output_type": "stream",
     "text": [
      "Using TensorFlow backend.\n"
     ]
    }
   ],
   "source": [
    "\n",
    "####################################################################################################\n",
    "####################################################################################################\n",
    "\n",
    "import sys\n",
    "import os.path\n",
    "\n",
    "import matplotlib.pyplot as plt\n",
    "import matplotlib.image as mpimg\n",
    "\n",
    "import numpy as np\n",
    "import pandas as pd\n",
    "import seaborn as sns\n",
    "\n",
    "from IPython.display import display\n",
    "from IPython.display import Image\n",
    "\n",
    "\n",
    "##########################################################################################\n",
    "##########################################################################################\n",
    "\n",
    "import keras\n",
    "import keras.utils.vis_utils\n",
    "from keras import backend as K\n",
    "from keras import layers\n",
    "from keras.layers import Dense\n",
    "from keras.models import load_model\n",
    "from keras.models import Sequential\n",
    "from keras.utils import plot_model\n"
   ]
  },
  {
   "cell_type": "code",
   "execution_count": 17,
   "metadata": {
    "collapsed": false
   },
   "outputs": [],
   "source": [
    "\n",
    "####################################################################################################\n",
    "####################################################################################################\n",
    "\n",
    "df_train_truth = pd.DataFrame.from_csv(\"../python_pax_reader/data/train_truth.csv\")\n",
    "df_train_input = pd.DataFrame.from_csv(\"../python_pax_reader/data/train_input.csv\")\n",
    "\n"
   ]
  },
  {
   "cell_type": "code",
   "execution_count": 20,
   "metadata": {
    "collapsed": false
   },
   "outputs": [
    {
     "data": {
      "text/html": [
       "<div>\n",
       "<table border=\"1\" class=\"dataframe\">\n",
       "  <thead>\n",
       "    <tr style=\"text-align: right;\">\n",
       "      <th></th>\n",
       "      <th>c1</th>\n",
       "      <th>c2</th>\n",
       "      <th>c3</th>\n",
       "      <th>c4</th>\n",
       "      <th>c5</th>\n",
       "      <th>c6</th>\n",
       "      <th>c7</th>\n",
       "      <th>c8</th>\n",
       "      <th>c9</th>\n",
       "      <th>c10</th>\n",
       "      <th>...</th>\n",
       "      <th>c118</th>\n",
       "      <th>c119</th>\n",
       "      <th>c120</th>\n",
       "      <th>c121</th>\n",
       "      <th>c122</th>\n",
       "      <th>c123</th>\n",
       "      <th>c124</th>\n",
       "      <th>c125</th>\n",
       "      <th>c126</th>\n",
       "      <th>c127</th>\n",
       "    </tr>\n",
       "  </thead>\n",
       "  <tbody>\n",
       "    <tr>\n",
       "      <th>1</th>\n",
       "      <td>3040161</td>\n",
       "      <td>0</td>\n",
       "      <td>0</td>\n",
       "      <td>1631966</td>\n",
       "      <td>3424616</td>\n",
       "      <td>0</td>\n",
       "      <td>0</td>\n",
       "      <td>1632058</td>\n",
       "      <td>1600037</td>\n",
       "      <td>0</td>\n",
       "      <td>...</td>\n",
       "      <td>3456052</td>\n",
       "      <td>0</td>\n",
       "      <td>1632116</td>\n",
       "      <td>2975965</td>\n",
       "      <td>2911431</td>\n",
       "      <td>3998442</td>\n",
       "      <td>4220343</td>\n",
       "      <td>4223085</td>\n",
       "      <td>2783925</td>\n",
       "      <td>3933417</td>\n",
       "    </tr>\n",
       "    <tr>\n",
       "      <th>2</th>\n",
       "      <td>0</td>\n",
       "      <td>0</td>\n",
       "      <td>0</td>\n",
       "      <td>0</td>\n",
       "      <td>0</td>\n",
       "      <td>0</td>\n",
       "      <td>1631794</td>\n",
       "      <td>0</td>\n",
       "      <td>0</td>\n",
       "      <td>0</td>\n",
       "      <td>...</td>\n",
       "      <td>1920177</td>\n",
       "      <td>0</td>\n",
       "      <td>0</td>\n",
       "      <td>2271984</td>\n",
       "      <td>2047402</td>\n",
       "      <td>0</td>\n",
       "      <td>0</td>\n",
       "      <td>0</td>\n",
       "      <td>0</td>\n",
       "      <td>0</td>\n",
       "    </tr>\n",
       "    <tr>\n",
       "      <th>3</th>\n",
       "      <td>2720343</td>\n",
       "      <td>0</td>\n",
       "      <td>0</td>\n",
       "      <td>0</td>\n",
       "      <td>3008661</td>\n",
       "      <td>0</td>\n",
       "      <td>2719313</td>\n",
       "      <td>4143735</td>\n",
       "      <td>1600059</td>\n",
       "      <td>2655947</td>\n",
       "      <td>...</td>\n",
       "      <td>3040005</td>\n",
       "      <td>0</td>\n",
       "      <td>0</td>\n",
       "      <td>3583825</td>\n",
       "      <td>3645234</td>\n",
       "      <td>4648453</td>\n",
       "      <td>4573002</td>\n",
       "      <td>3613724</td>\n",
       "      <td>3680111</td>\n",
       "      <td>3964693</td>\n",
       "    </tr>\n",
       "  </tbody>\n",
       "</table>\n",
       "<p>3 rows × 127 columns</p>\n",
       "</div>"
      ],
      "text/plain": [
       "        c1  c2  c3       c4       c5  c6       c7       c8       c9      c10  \\\n",
       "1  3040161   0   0  1631966  3424616   0        0  1632058  1600037        0   \n",
       "2        0   0   0        0        0   0  1631794        0        0        0   \n",
       "3  2720343   0   0        0  3008661   0  2719313  4143735  1600059  2655947   \n",
       "\n",
       "    ...        c118  c119     c120     c121     c122     c123     c124  \\\n",
       "1   ...     3456052     0  1632116  2975965  2911431  3998442  4220343   \n",
       "2   ...     1920177     0        0  2271984  2047402        0        0   \n",
       "3   ...     3040005     0        0  3583825  3645234  4648453  4573002   \n",
       "\n",
       "      c125     c126     c127  \n",
       "1  4223085  2783925  3933417  \n",
       "2        0        0        0  \n",
       "3  3613724  3680111  3964693  \n",
       "\n",
       "[3 rows x 127 columns]"
      ]
     },
     "metadata": {},
     "output_type": "display_data"
    },
    {
     "data": {
      "text/plain": [
       "(924, 127)"
      ]
     },
     "execution_count": 20,
     "metadata": {},
     "output_type": "execute_result"
    }
   ],
   "source": [
    "\n",
    "####################################################################################################\n",
    "# First 127 are S2\n",
    "####################################################################################################\n",
    "\n",
    "df_train_input = df_train_input.iloc[:, 0:127]\n",
    "df_train_input.shape\n"
   ]
  },
  {
   "cell_type": "code",
   "execution_count": 21,
   "metadata": {
    "collapsed": false
   },
   "outputs": [
    {
     "name": "stdout",
     "output_type": "stream",
     "text": [
      "\n"
     ]
    },
    {
     "data": {
      "text/html": [
       "<div>\n",
       "<table border=\"1\" class=\"dataframe\">\n",
       "  <thead>\n",
       "    <tr style=\"text-align: right;\">\n",
       "      <th></th>\n",
       "      <th>x</th>\n",
       "      <th>y</th>\n",
       "    </tr>\n",
       "  </thead>\n",
       "  <tbody>\n",
       "    <tr>\n",
       "      <th>1</th>\n",
       "      <td>2.626434</td>\n",
       "      <td>-17.960824</td>\n",
       "    </tr>\n",
       "    <tr>\n",
       "      <th>2</th>\n",
       "      <td>-32.844888</td>\n",
       "      <td>-21.247503</td>\n",
       "    </tr>\n",
       "    <tr>\n",
       "      <th>3</th>\n",
       "      <td>10.907536</td>\n",
       "      <td>-6.312277</td>\n",
       "    </tr>\n",
       "    <tr>\n",
       "      <th>5</th>\n",
       "      <td>24.631697</td>\n",
       "      <td>-12.763601</td>\n",
       "    </tr>\n",
       "    <tr>\n",
       "      <th>6</th>\n",
       "      <td>2.726006</td>\n",
       "      <td>37.749081</td>\n",
       "    </tr>\n",
       "  </tbody>\n",
       "</table>\n",
       "</div>"
      ],
      "text/plain": [
       "           x          y\n",
       "1   2.626434 -17.960824\n",
       "2 -32.844888 -21.247503\n",
       "3  10.907536  -6.312277\n",
       "5  24.631697 -12.763601\n",
       "6   2.726006  37.749081"
      ]
     },
     "metadata": {},
     "output_type": "display_data"
    },
    {
     "name": "stdout",
     "output_type": "stream",
     "text": [
      "\n"
     ]
    },
    {
     "data": {
      "text/html": [
       "<div>\n",
       "<table border=\"1\" class=\"dataframe\">\n",
       "  <thead>\n",
       "    <tr style=\"text-align: right;\">\n",
       "      <th></th>\n",
       "      <th>c1</th>\n",
       "      <th>c2</th>\n",
       "      <th>c3</th>\n",
       "      <th>c4</th>\n",
       "      <th>c5</th>\n",
       "      <th>c6</th>\n",
       "      <th>c7</th>\n",
       "      <th>c8</th>\n",
       "      <th>c9</th>\n",
       "      <th>c10</th>\n",
       "      <th>...</th>\n",
       "      <th>c118</th>\n",
       "      <th>c119</th>\n",
       "      <th>c120</th>\n",
       "      <th>c121</th>\n",
       "      <th>c122</th>\n",
       "      <th>c123</th>\n",
       "      <th>c124</th>\n",
       "      <th>c125</th>\n",
       "      <th>c126</th>\n",
       "      <th>c127</th>\n",
       "    </tr>\n",
       "  </thead>\n",
       "  <tbody>\n",
       "    <tr>\n",
       "      <th>1</th>\n",
       "      <td>3040161</td>\n",
       "      <td>0</td>\n",
       "      <td>0</td>\n",
       "      <td>1631966</td>\n",
       "      <td>3424616</td>\n",
       "      <td>0</td>\n",
       "      <td>0</td>\n",
       "      <td>1632058</td>\n",
       "      <td>1600037</td>\n",
       "      <td>0</td>\n",
       "      <td>...</td>\n",
       "      <td>3456052</td>\n",
       "      <td>0</td>\n",
       "      <td>1632116</td>\n",
       "      <td>2975965</td>\n",
       "      <td>2911431</td>\n",
       "      <td>3998442</td>\n",
       "      <td>4220343</td>\n",
       "      <td>4223085</td>\n",
       "      <td>2783925</td>\n",
       "      <td>3933417</td>\n",
       "    </tr>\n",
       "    <tr>\n",
       "      <th>2</th>\n",
       "      <td>0</td>\n",
       "      <td>0</td>\n",
       "      <td>0</td>\n",
       "      <td>0</td>\n",
       "      <td>0</td>\n",
       "      <td>0</td>\n",
       "      <td>1631794</td>\n",
       "      <td>0</td>\n",
       "      <td>0</td>\n",
       "      <td>0</td>\n",
       "      <td>...</td>\n",
       "      <td>1920177</td>\n",
       "      <td>0</td>\n",
       "      <td>0</td>\n",
       "      <td>2271984</td>\n",
       "      <td>2047402</td>\n",
       "      <td>0</td>\n",
       "      <td>0</td>\n",
       "      <td>0</td>\n",
       "      <td>0</td>\n",
       "      <td>0</td>\n",
       "    </tr>\n",
       "    <tr>\n",
       "      <th>3</th>\n",
       "      <td>2720343</td>\n",
       "      <td>0</td>\n",
       "      <td>0</td>\n",
       "      <td>0</td>\n",
       "      <td>3008661</td>\n",
       "      <td>0</td>\n",
       "      <td>2719313</td>\n",
       "      <td>4143735</td>\n",
       "      <td>1600059</td>\n",
       "      <td>2655947</td>\n",
       "      <td>...</td>\n",
       "      <td>3040005</td>\n",
       "      <td>0</td>\n",
       "      <td>0</td>\n",
       "      <td>3583825</td>\n",
       "      <td>3645234</td>\n",
       "      <td>4648453</td>\n",
       "      <td>4573002</td>\n",
       "      <td>3613724</td>\n",
       "      <td>3680111</td>\n",
       "      <td>3964693</td>\n",
       "    </tr>\n",
       "    <tr>\n",
       "      <th>5</th>\n",
       "      <td>1632026</td>\n",
       "      <td>0</td>\n",
       "      <td>3935957</td>\n",
       "      <td>3231596</td>\n",
       "      <td>1104122</td>\n",
       "      <td>0</td>\n",
       "      <td>2111364</td>\n",
       "      <td>2096172</td>\n",
       "      <td>2240101</td>\n",
       "      <td>1632041</td>\n",
       "      <td>...</td>\n",
       "      <td>1631931</td>\n",
       "      <td>0</td>\n",
       "      <td>1600269</td>\n",
       "      <td>3600074</td>\n",
       "      <td>4959183</td>\n",
       "      <td>3599730</td>\n",
       "      <td>3072779</td>\n",
       "      <td>4159783</td>\n",
       "      <td>1712096</td>\n",
       "      <td>3390560</td>\n",
       "    </tr>\n",
       "    <tr>\n",
       "      <th>6</th>\n",
       "      <td>4543933</td>\n",
       "      <td>0</td>\n",
       "      <td>4063043</td>\n",
       "      <td>4541811</td>\n",
       "      <td>3518826</td>\n",
       "      <td>1952352</td>\n",
       "      <td>4159031</td>\n",
       "      <td>3360242</td>\n",
       "      <td>1631984</td>\n",
       "      <td>2655808</td>\n",
       "      <td>...</td>\n",
       "      <td>0</td>\n",
       "      <td>0</td>\n",
       "      <td>0</td>\n",
       "      <td>1888285</td>\n",
       "      <td>0</td>\n",
       "      <td>0</td>\n",
       "      <td>1632440</td>\n",
       "      <td>0</td>\n",
       "      <td>1632131</td>\n",
       "      <td>0</td>\n",
       "    </tr>\n",
       "  </tbody>\n",
       "</table>\n",
       "<p>5 rows × 127 columns</p>\n",
       "</div>"
      ],
      "text/plain": [
       "        c1  c2       c3       c4       c5       c6       c7       c8       c9  \\\n",
       "1  3040161   0        0  1631966  3424616        0        0  1632058  1600037   \n",
       "2        0   0        0        0        0        0  1631794        0        0   \n",
       "3  2720343   0        0        0  3008661        0  2719313  4143735  1600059   \n",
       "5  1632026   0  3935957  3231596  1104122        0  2111364  2096172  2240101   \n",
       "6  4543933   0  4063043  4541811  3518826  1952352  4159031  3360242  1631984   \n",
       "\n",
       "       c10   ...        c118  c119     c120     c121     c122     c123  \\\n",
       "1        0   ...     3456052     0  1632116  2975965  2911431  3998442   \n",
       "2        0   ...     1920177     0        0  2271984  2047402        0   \n",
       "3  2655947   ...     3040005     0        0  3583825  3645234  4648453   \n",
       "5  1632041   ...     1631931     0  1600269  3600074  4959183  3599730   \n",
       "6  2655808   ...           0     0        0  1888285        0        0   \n",
       "\n",
       "      c124     c125     c126     c127  \n",
       "1  4220343  4223085  2783925  3933417  \n",
       "2        0        0        0        0  \n",
       "3  4573002  3613724  3680111  3964693  \n",
       "5  3072779  4159783  1712096  3390560  \n",
       "6  1632440        0  1632131        0  \n",
       "\n",
       "[5 rows x 127 columns]"
      ]
     },
     "metadata": {},
     "output_type": "display_data"
    },
    {
     "name": "stdout",
     "output_type": "stream",
     "text": [
      "\n"
     ]
    }
   ],
   "source": [
    "\n",
    "####################################################################################################\n",
    "####################################################################################################\n",
    "\n",
    "nRows = 5\n",
    "\n",
    "print()\n",
    "display(df_train_truth[0:nRows][:])\n",
    "print()\n",
    "display(df_train_input[0:nRows][:])\n",
    "print()\n",
    "\n"
   ]
  },
  {
   "cell_type": "code",
   "execution_count": 27,
   "metadata": {
    "collapsed": false
   },
   "outputs": [],
   "source": [
    "\n",
    "##########################################################################################\n",
    "##########################################################################################\n",
    "\n",
    "num_input_nodes = 127\n",
    "\n",
    "\n",
    "##########################################################################################\n",
    "##########################################################################################\n",
    "\n",
    "act = 'linear'\n",
    "\n",
    "model = Sequential()\n",
    "model.add(Dense(127, activation=act, input_dim=num_input_nodes))\n",
    "model.add(Dense(100, activation=act))\n",
    "model.add(Dense(100, activation=act))\n",
    "model.add(Dense( 40, activation=act))\n",
    "model.add(Dense( 40, activation=act))\n",
    "model.add(Dense( 20, activation=act))\n",
    "model.add(Dense( 20, activation=act))\n",
    "model.add(Dense(  2, activation='sigmoid'))\n",
    "\n",
    "\n",
    "##########################################################################################\n",
    "##########################################################################################\n",
    "\n"
   ]
  },
  {
   "cell_type": "code",
   "execution_count": 28,
   "metadata": {
    "collapsed": false
   },
   "outputs": [
    {
     "name": "stdout",
     "output_type": "stream",
     "text": [
      "(924, 127)\n",
      "(924, 2)\n"
     ]
    }
   ],
   "source": [
    "\n",
    "##########################################################################################\n",
    "##########################################################################################\n",
    "\n",
    "model.compile(loss='mean_squared_error', optimizer='adam', metrics=['accuracy'])\n",
    "#model.compile(loss='mean_absolute_error'            , optimizer='adam', metrics=['accuracy'])\n",
    "#model.compile(loss='mean_absolute_percentage_error' , optimizer='adam', metrics=['accuracy'])\n",
    "#model.compile(loss='mean_squared_logarithmic_error' , optimizer='adam', metrics=['accuracy'])\n",
    "#model.compile(loss='squared_hinge'                  , optimizer='adam', metrics=['accuracy'])\n",
    "#model.compile(loss='hinge'                          , optimizer='adam', metrics=['accuracy'])\n",
    "#model.compile(loss='categorical_hinge'              , optimizer='adam', metrics=['accuracy'])\n",
    "#model.compile(loss='logcosh'                        , optimizer='adam', metrics=['accuracy'])\n",
    "#model.compile(loss='categorical_crossentropy'       , optimizer='adam', metrics=['accuracy'])\n",
    "#model.compile(loss='sparse_categorical_crossentropy', optimizer='adam', metrics=['accuracy'])\n",
    "#model.compile(loss='binary_crossentropy'            , optimizer='adam', metrics=['accuracy'])\n",
    "#model.compile(loss='kullback_leibler_divergence'    , optimizer='adam', metrics=['accuracy'])\n",
    "#model.compile(loss='poisson'                        , optimizer='adam', metrics=['accuracy'])\n",
    "#model.compile(loss='cosine_proximity'               , optimizer='adam', metrics=['accuracy'])\n",
    "\n",
    "\n",
    "##########################################################################################\n",
    "##########################################################################################\n",
    "\n",
    "print(df_train_input.shape)\n",
    "print(df_train_truth.shape)\n"
   ]
  },
  {
   "cell_type": "code",
   "execution_count": 29,
   "metadata": {
    "collapsed": false
   },
   "outputs": [
    {
     "name": "stdout",
     "output_type": "stream",
     "text": [
      "Epoch 1/5\n",
      "924/924 [==============================] - 1s 1ms/step - loss: 400.4253 - acc: 0.4784\n",
      "Epoch 2/5\n",
      "924/924 [==============================] - 0s 179us/step - loss: 399.6997 - acc: 0.4848\n",
      "Epoch 3/5\n",
      "924/924 [==============================] - 0s 165us/step - loss: 399.3294 - acc: 0.4870\n",
      "Epoch 4/5\n",
      "924/924 [==============================] - 0s 170us/step - loss: 399.6510 - acc: 0.4892\n",
      "Epoch 5/5\n",
      "924/924 [==============================] - 0s 172us/step - loss: 399.6975 - acc: 0.4870\n",
      "Done\n"
     ]
    }
   ],
   "source": [
    "\n",
    "##########################################################################################\n",
    "##########################################################################################\n",
    "\n",
    "model.fit(df_train_input, df_train_truth, epochs=5, batch_size=32, verbose=1)\n",
    "print(\"Done\")\n"
   ]
  },
  {
   "cell_type": "code",
   "execution_count": 30,
   "metadata": {
    "collapsed": true
   },
   "outputs": [],
   "source": [
    "\n",
    "##########################################################################################\n",
    "##########################################################################################\n",
    "\n",
    "folder   = \"models\" + \"/\"    \n",
    "name     = \"model_posreco\"\n",
    "name_h5  = folder + name + \".h5\"\n",
    "name_png = folder + name + \".png\"\n",
    "\n",
    "\n",
    "##########################################################################################\n",
    "##########################################################################################\n",
    "\n",
    "model.save(name_h5, overwrite=True)\n",
    "\n"
   ]
  },
  {
   "cell_type": "code",
   "execution_count": 31,
   "metadata": {
    "collapsed": false
   },
   "outputs": [
    {
     "name": "stdout",
     "output_type": "stream",
     "text": [
      "\n"
     ]
    },
    {
     "data": {
      "image/png": "[encoded data removed]",
      "text/plain": [
       "<IPython.core.display.Image object>"
      ]
     },
     "execution_count": 31,
     "metadata": {},
     "output_type": "execute_result"
    }
   ],
   "source": [
    "\n",
    "##########################################################################################\n",
    "##########################################################################################\n",
    "\n",
    "plot_model(model, to_file=name_png, show_layer_names=True, show_shapes=True)\n",
    "\n",
    "print()\n",
    "Image(filename=name_png) \n"
   ]
  },
  {
   "cell_type": "code",
   "execution_count": null,
   "metadata": {
    "collapsed": true
   },
   "outputs": [],
   "source": [
    "\n",
    "##########################################################################################\n",
    "# Convergence Plots\n",
    "##########################################################################################\n"
   ]
  }
 ],
 "metadata": {
  "anaconda-cloud": {},
  "kernelspec": {
   "display_name": "Python 3",
   "language": "python",
   "name": "python3"
  },
  "language_info": {
   "codemirror_mode": {
    "name": "ipython",
    "version": 3
   },
   "file_extension": ".py",
   "mimetype": "text/x-python",
   "name": "python",
   "nbconvert_exporter": "python",
   "pygments_lexer": "ipython3",
   "version": "3.5.4"
  }
 },
 "nbformat": 4,
 "nbformat_minor": 2
}
