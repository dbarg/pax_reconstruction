{
 "cells": [
  {
   "cell_type": "code",
   "execution_count": 1,
   "metadata": {
    "collapsed": false
   },
   "outputs": [],
   "source": [
    "%load_ext autoreload\n",
    "%autoreload 2\n",
    "\n",
    "%matplotlib inline\n",
    "import sys\n",
    "import os.path\n",
    "import matplotlib.pyplot as plt\n",
    "import seaborn as sbn\n",
    "from IPython.display import display\n",
    "\n",
    "sys.path.append(os.path.dirname(\"../\"))\n",
    "\n",
    "from plugins.FaxDistiller import Distill"
   ]
  },
  {
   "cell_type": "code",
   "execution_count": 2,
   "metadata": {
    "collapsed": true
   },
   "outputs": [],
   "source": [
    "raw_file   = \"../data/FakeWaveform_raw/XENON1T-0-000000000-000000999-000001000.zip\"\n",
    "truth_file = \"../data/FakeWaveform_truth.csv\""
   ]
  },
  {
   "cell_type": "markdown",
   "metadata": {},
   "source": [
    "### Load FAX raw data and distill down into useful parts"
   ]
  },
  {
   "cell_type": "code",
   "execution_count": 3,
   "metadata": {
    "collapsed": false
   },
   "outputs": [
    {
     "name": "stderr",
     "output_type": "stream",
     "text": [
      "100%|██████████| 1000/1000 [00:03<00:00, 288.86it/s]\n",
      "100%|██████████| 1000/1000 [00:01<00:00, 768.81it/s]\n"
     ]
    }
   ],
   "source": [
    "distiller = Distill(raw_file, truth_file)\n",
    "distiller.load()"
   ]
  },
  {
   "cell_type": "markdown",
   "metadata": {},
   "source": [
    "### The way to retrieve distilled data"
   ]
  },
  {
   "cell_type": "code",
   "execution_count": 4,
   "metadata": {
    "collapsed": false
   },
   "outputs": [
    {
     "data": {
      "text/html": [
       "<div>\n",
       "<table border=\"1\" class=\"dataframe\">\n",
       "  <thead>\n",
       "    <tr style=\"text-align: right;\">\n",
       "      <th></th>\n",
       "      <th>baseline</th>\n",
       "      <th>channel</th>\n",
       "      <th>event_number</th>\n",
       "      <th>left</th>\n",
       "      <th>length</th>\n",
       "      <th>max_waveform_length</th>\n",
       "      <th>right</th>\n",
       "      <th>waveform</th>\n",
       "    </tr>\n",
       "  </thead>\n",
       "  <tbody>\n",
       "    <tr>\n",
       "      <th>0</th>\n",
       "      <td>NaN</td>\n",
       "      <td>0</td>\n",
       "      <td>0</td>\n",
       "      <td>82764</td>\n",
       "      <td>158</td>\n",
       "      <td>158</td>\n",
       "      <td>82921</td>\n",
       "      <td>[16002, 16006, 15998, 16006, 16000, 16003, 159...</td>\n",
       "    </tr>\n",
       "    <tr>\n",
       "      <th>1</th>\n",
       "      <td>NaN</td>\n",
       "      <td>2</td>\n",
       "      <td>0</td>\n",
       "      <td>82646</td>\n",
       "      <td>284</td>\n",
       "      <td>284</td>\n",
       "      <td>82929</td>\n",
       "      <td>[15999, 16001, 16003, 16003, 16004, 16005, 160...</td>\n",
       "    </tr>\n",
       "    <tr>\n",
       "      <th>2</th>\n",
       "      <td>NaN</td>\n",
       "      <td>3</td>\n",
       "      <td>0</td>\n",
       "      <td>82738</td>\n",
       "      <td>130</td>\n",
       "      <td>130</td>\n",
       "      <td>82867</td>\n",
       "      <td>[16001, 15999, 16002, 15999, 16001, 16000, 160...</td>\n",
       "    </tr>\n",
       "    <tr>\n",
       "      <th>3</th>\n",
       "      <td>NaN</td>\n",
       "      <td>4</td>\n",
       "      <td>0</td>\n",
       "      <td>82698</td>\n",
       "      <td>198</td>\n",
       "      <td>198</td>\n",
       "      <td>82895</td>\n",
       "      <td>[16006, 16002, 16008, 16003, 16008, 16004, 160...</td>\n",
       "    </tr>\n",
       "    <tr>\n",
       "      <th>4</th>\n",
       "      <td>NaN</td>\n",
       "      <td>5</td>\n",
       "      <td>0</td>\n",
       "      <td>72794</td>\n",
       "      <td>100</td>\n",
       "      <td>100</td>\n",
       "      <td>72893</td>\n",
       "      <td>[16002, 16002, 16005, 16007, 16004, 16006, 160...</td>\n",
       "    </tr>\n",
       "  </tbody>\n",
       "</table>\n",
       "</div>"
      ],
      "text/plain": [
       "   baseline  channel  event_number   left  length  max_waveform_length  right  \\\n",
       "0       NaN        0             0  82764     158                  158  82921   \n",
       "1       NaN        2             0  82646     284                  284  82929   \n",
       "2       NaN        3             0  82738     130                  130  82867   \n",
       "3       NaN        4             0  82698     198                  198  82895   \n",
       "4       NaN        5             0  72794     100                  100  72893   \n",
       "\n",
       "                                            waveform  \n",
       "0  [16002, 16006, 15998, 16006, 16000, 16003, 159...  \n",
       "1  [15999, 16001, 16003, 16003, 16004, 16005, 160...  \n",
       "2  [16001, 15999, 16002, 15999, 16001, 16000, 160...  \n",
       "3  [16006, 16002, 16008, 16003, 16008, 16004, 160...  \n",
       "4  [16002, 16002, 16005, 16007, 16004, 16006, 160...  "
      ]
     },
     "execution_count": 4,
     "metadata": {},
     "output_type": "execute_result"
    }
   ],
   "source": [
    "### Distill.get() returns iterator of distilled data for the event (objects of the Condensate() class)\n",
    "event = distiller.get(1).__next__()\n",
    "event.get_event().head()"
   ]
  },
  {
   "cell_type": "code",
   "execution_count": 5,
   "metadata": {
    "collapsed": false
   },
   "outputs": [
    {
     "name": "stdout",
     "output_type": "stream",
     "text": [
      "<class 'pandas.core.frame.DataFrame'>\n"
     ]
    },
    {
     "data": {
      "text/plain": [
       "array(['baseline', 'channel', 'event_number', 'left', 'length',\n",
       "       'max_waveform_length', 'right', 'waveform'], dtype=object)"
      ]
     },
     "execution_count": 5,
     "metadata": {},
     "output_type": "execute_result"
    }
   ],
   "source": [
    "print(type(event.get_event()))\n",
    "      \n",
    "event.get_event().columns.values"
   ]
  },
  {
   "cell_type": "code",
   "execution_count": 6,
   "metadata": {
    "collapsed": false
   },
   "outputs": [
    {
     "name": "stdout",
     "output_type": "stream",
     "text": [
      "\n",
      "        Class of distilled FAX events.\n",
      "        \n",
      "        Methods:\n",
      "            : get_events() : Returns pandas.DataFrame with core information on pulses in the event.\n",
      "            : get_waveforms_in_channel() : Returns pandas.DataFrame with reconstructed waveforms per\n",
      "                                           channel (pmt) for the event.\n",
      "            : get_event_truth() : Returns pandas.DataFrame with FAX truth information on the event\n",
      "    \n"
     ]
    }
   ],
   "source": [
    "print(event.__doc__)"
   ]
  },
  {
   "cell_type": "markdown",
   "metadata": {},
   "source": [
    "### Loop over events and store distilled data for each event"
   ]
  },
  {
   "cell_type": "code",
   "execution_count": 7,
   "metadata": {
    "collapsed": false
   },
   "outputs": [],
   "source": [
    "events = []\n",
    "waveforms_in_channels = []\n",
    "event_truths = []\n",
    "\n",
    "nEventsGeant = 1000\n",
    "\n",
    "for distilled_events in distiller.get(nEventsGeant):\n",
    "    \n",
    "    events.append(distilled_events.get_event())                                 # Retrieve pandas.DataFrame of event information\n",
    "    waveforms_in_channels.append(distilled_events.get_waveforms_in_channels())  # Retrieve pandas.DataFrame of per channel reconstructed waveforms in the event\n",
    "    event_truths.append(distilled_events.get_event_truth())                     # Retrieve pandas.DataFrame of PAX truth information for event\n",
    "    \n",
    "    "
   ]
  },
  {
   "cell_type": "code",
   "execution_count": 8,
   "metadata": {
    "collapsed": false
   },
   "outputs": [
    {
     "data": {
      "image/png": "[encoded data removed]",
      "text/plain": [
       "<matplotlib.figure.Figure at 0x7f59586df240>"
      ]
     },
     "metadata": {},
     "output_type": "display_data"
    }
   ],
   "source": [
    "### Plot of waveforms for each pmt summed up\n",
    "\n",
    "sum_waveforms = waveforms_in_channels[0].drop(\"event_number\", axis=1).sum(axis=1)\n",
    "\n",
    "fig = plt.figure(figsize=(14,6))\n",
    "ax = plt.subplot(111)\n",
    "fig = ax.plot(sum_waveforms.index, sum_waveforms)"
   ]
  },
  {
   "cell_type": "code",
   "execution_count": null,
   "metadata": {
    "collapsed": true
   },
   "outputs": [],
   "source": []
  },
  {
   "cell_type": "code",
   "execution_count": 9,
   "metadata": {
    "collapsed": false
   },
   "outputs": [
    {
     "data": {
      "text/html": [
       "<div>\n",
       "<table border=\"1\" class=\"dataframe\">\n",
       "  <thead>\n",
       "    <tr style=\"text-align: right;\">\n",
       "      <th></th>\n",
       "      <th>fax_truth_peak_id</th>\n",
       "      <th>event</th>\n",
       "      <th>g4_id</th>\n",
       "      <th>instruction</th>\n",
       "      <th>n_electrons</th>\n",
       "      <th>n_photons</th>\n",
       "      <th>peak_type</th>\n",
       "      <th>repetition</th>\n",
       "      <th>t_first_electron</th>\n",
       "      <th>t_first_photon</th>\n",
       "      <th>...</th>\n",
       "      <th>t_last_electron</th>\n",
       "      <th>t_last_photon</th>\n",
       "      <th>t_mean_electrons</th>\n",
       "      <th>t_mean_photons</th>\n",
       "      <th>t_sigma_electrons</th>\n",
       "      <th>t_sigma_photons</th>\n",
       "      <th>top_fraction</th>\n",
       "      <th>x</th>\n",
       "      <th>y</th>\n",
       "      <th>z</th>\n",
       "    </tr>\n",
       "  </thead>\n",
       "  <tbody>\n",
       "    <tr>\n",
       "      <th>0</th>\n",
       "      <td>0</td>\n",
       "      <td>0</td>\n",
       "      <td>-1</td>\n",
       "      <td>0</td>\n",
       "      <td>16.0</td>\n",
       "      <td>379</td>\n",
       "      <td>s2</td>\n",
       "      <td>0</td>\n",
       "      <td>826638.620366</td>\n",
       "      <td>8.267593e+05</td>\n",
       "      <td>...</td>\n",
       "      <td>828324.404529</td>\n",
       "      <td>8.290946e+05</td>\n",
       "      <td>827641.784142</td>\n",
       "      <td>8.279530e+05</td>\n",
       "      <td>404.286682</td>\n",
       "      <td>410.426691</td>\n",
       "      <td>0.675462</td>\n",
       "      <td>4.517730</td>\n",
       "      <td>27.061374</td>\n",
       "      <td>-24.814994</td>\n",
       "    </tr>\n",
       "    <tr>\n",
       "      <th>1</th>\n",
       "      <td>1</td>\n",
       "      <td>0</td>\n",
       "      <td>-1</td>\n",
       "      <td>0</td>\n",
       "      <td>NaN</td>\n",
       "      <td>16</td>\n",
       "      <td>photoionization_afterpulse</td>\n",
       "      <td>0</td>\n",
       "      <td>NaN</td>\n",
       "      <td>1.390559e+06</td>\n",
       "      <td>...</td>\n",
       "      <td>NaN</td>\n",
       "      <td>1.391185e+06</td>\n",
       "      <td>NaN</td>\n",
       "      <td>1.390809e+06</td>\n",
       "      <td>NaN</td>\n",
       "      <td>165.495422</td>\n",
       "      <td>0.625000</td>\n",
       "      <td>-46.204034</td>\n",
       "      <td>2.173650</td>\n",
       "      <td>-0.500000</td>\n",
       "    </tr>\n",
       "    <tr>\n",
       "      <th>2</th>\n",
       "      <td>2</td>\n",
       "      <td>0</td>\n",
       "      <td>-1</td>\n",
       "      <td>0</td>\n",
       "      <td>NaN</td>\n",
       "      <td>25</td>\n",
       "      <td>photoionization_afterpulse</td>\n",
       "      <td>0</td>\n",
       "      <td>NaN</td>\n",
       "      <td>1.036173e+06</td>\n",
       "      <td>...</td>\n",
       "      <td>NaN</td>\n",
       "      <td>1.036733e+06</td>\n",
       "      <td>NaN</td>\n",
       "      <td>1.036475e+06</td>\n",
       "      <td>NaN</td>\n",
       "      <td>146.108306</td>\n",
       "      <td>0.760000</td>\n",
       "      <td>-28.172135</td>\n",
       "      <td>23.369638</td>\n",
       "      <td>-0.500000</td>\n",
       "    </tr>\n",
       "    <tr>\n",
       "      <th>3</th>\n",
       "      <td>3</td>\n",
       "      <td>0</td>\n",
       "      <td>-1</td>\n",
       "      <td>0</td>\n",
       "      <td>NaN</td>\n",
       "      <td>15</td>\n",
       "      <td>photoionization_afterpulse</td>\n",
       "      <td>0</td>\n",
       "      <td>NaN</td>\n",
       "      <td>8.490969e+05</td>\n",
       "      <td>...</td>\n",
       "      <td>NaN</td>\n",
       "      <td>8.494908e+05</td>\n",
       "      <td>NaN</td>\n",
       "      <td>8.492659e+05</td>\n",
       "      <td>NaN</td>\n",
       "      <td>113.777219</td>\n",
       "      <td>0.466667</td>\n",
       "      <td>-4.167860</td>\n",
       "      <td>27.947109</td>\n",
       "      <td>-0.500000</td>\n",
       "    </tr>\n",
       "    <tr>\n",
       "      <th>4</th>\n",
       "      <td>4</td>\n",
       "      <td>0</td>\n",
       "      <td>-1</td>\n",
       "      <td>0</td>\n",
       "      <td>NaN</td>\n",
       "      <td>26</td>\n",
       "      <td>photoionization_afterpulse</td>\n",
       "      <td>0</td>\n",
       "      <td>NaN</td>\n",
       "      <td>8.420800e+05</td>\n",
       "      <td>...</td>\n",
       "      <td>NaN</td>\n",
       "      <td>8.428152e+05</td>\n",
       "      <td>NaN</td>\n",
       "      <td>8.423495e+05</td>\n",
       "      <td>NaN</td>\n",
       "      <td>167.032715</td>\n",
       "      <td>0.846154</td>\n",
       "      <td>44.117512</td>\n",
       "      <td>15.064367</td>\n",
       "      <td>-0.500000</td>\n",
       "    </tr>\n",
       "  </tbody>\n",
       "</table>\n",
       "<p>5 rows × 21 columns</p>\n",
       "</div>"
      ],
      "text/plain": [
       "   fax_truth_peak_id  event  g4_id  instruction  n_electrons  n_photons  \\\n",
       "0                  0      0     -1            0         16.0        379   \n",
       "1                  1      0     -1            0          NaN         16   \n",
       "2                  2      0     -1            0          NaN         25   \n",
       "3                  3      0     -1            0          NaN         15   \n",
       "4                  4      0     -1            0          NaN         26   \n",
       "\n",
       "                    peak_type  repetition  t_first_electron  t_first_photon  \\\n",
       "0                          s2           0     826638.620366    8.267593e+05   \n",
       "1  photoionization_afterpulse           0               NaN    1.390559e+06   \n",
       "2  photoionization_afterpulse           0               NaN    1.036173e+06   \n",
       "3  photoionization_afterpulse           0               NaN    8.490969e+05   \n",
       "4  photoionization_afterpulse           0               NaN    8.420800e+05   \n",
       "\n",
       "     ...      t_last_electron  t_last_photon  t_mean_electrons  \\\n",
       "0    ...        828324.404529   8.290946e+05     827641.784142   \n",
       "1    ...                  NaN   1.391185e+06               NaN   \n",
       "2    ...                  NaN   1.036733e+06               NaN   \n",
       "3    ...                  NaN   8.494908e+05               NaN   \n",
       "4    ...                  NaN   8.428152e+05               NaN   \n",
       "\n",
       "   t_mean_photons  t_sigma_electrons  t_sigma_photons  top_fraction  \\\n",
       "0    8.279530e+05         404.286682       410.426691      0.675462   \n",
       "1    1.390809e+06                NaN       165.495422      0.625000   \n",
       "2    1.036475e+06                NaN       146.108306      0.760000   \n",
       "3    8.492659e+05                NaN       113.777219      0.466667   \n",
       "4    8.423495e+05                NaN       167.032715      0.846154   \n",
       "\n",
       "           x          y          z  \n",
       "0   4.517730  27.061374 -24.814994  \n",
       "1 -46.204034   2.173650  -0.500000  \n",
       "2 -28.172135  23.369638  -0.500000  \n",
       "3  -4.167860  27.947109  -0.500000  \n",
       "4  44.117512  15.064367  -0.500000  \n",
       "\n",
       "[5 rows x 21 columns]"
      ]
     },
     "execution_count": 9,
     "metadata": {},
     "output_type": "execute_result"
    }
   ],
   "source": [
    "event_truths[0]"
   ]
  },
  {
   "cell_type": "code",
   "execution_count": null,
   "metadata": {
    "collapsed": true
   },
   "outputs": [],
   "source": []
  },
  {
   "cell_type": "code",
   "execution_count": 15,
   "metadata": {
    "collapsed": false
   },
   "outputs": [],
   "source": [
    "\n",
    "####################################################################################################\n",
    "####################################################################################################\n",
    "\n",
    "#for i in range(0, len(waveforms_in_channels)):\n",
    "\n",
    "    #wf = waveforms_in_channels[i]\n",
    "    \n",
    "    #df_c0 = wf[:]['channel_0']\n",
    "\n",
    "    #print(i)\n",
    "    #print(len(df_c0))\n",
    "    #print(len(df_s0))\n",
    "\n",
    "    \n",
    "    \n",
    "\n",
    "####################################################################################################\n",
    "####################################################################################################\n",
    "\n",
    "#plt.plot(waveforms_in_channels[0].drop(\"event_number\", axis=1).index, waveforms_in_channels[0].drop(\"event_number\", axis=1))\n",
    "\n",
    "#plt.show()"
   ]
  },
  {
   "cell_type": "code",
   "execution_count": null,
   "metadata": {
    "collapsed": true
   },
   "outputs": [],
   "source": []
  },
  {
   "cell_type": "code",
   "execution_count": null,
   "metadata": {
    "collapsed": true
   },
   "outputs": [],
   "source": []
  },
  {
   "cell_type": "code",
   "execution_count": null,
   "metadata": {
    "collapsed": true
   },
   "outputs": [],
   "source": []
  },
  {
   "cell_type": "code",
   "execution_count": null,
   "metadata": {
    "collapsed": true
   },
   "outputs": [],
   "source": []
  },
  {
   "cell_type": "code",
   "execution_count": 16,
   "metadata": {
    "collapsed": false
   },
   "outputs": [
    {
     "name": "stdout",
     "output_type": "stream",
     "text": [
      "\n",
      "Geant4 events: 1000\n",
      "\n"
     ]
    },
    {
     "data": {
      "text/html": [
       "<div>\n",
       "<table border=\"1\" class=\"dataframe\">\n",
       "  <thead>\n",
       "    <tr style=\"text-align: right;\">\n",
       "      <th></th>\n",
       "      <th>event</th>\n",
       "      <th>type</th>\n",
       "      <th>x</th>\n",
       "      <th>y</th>\n",
       "      <th>z</th>\n",
       "      <th>s1_photons_true</th>\n",
       "      <th>s2_electrons_true</th>\n",
       "    </tr>\n",
       "  </thead>\n",
       "  <tbody>\n",
       "    <tr>\n",
       "      <th>1</th>\n",
       "      <td>0</td>\n",
       "      <td>ER</td>\n",
       "      <td>4.628629</td>\n",
       "      <td>27.725661</td>\n",
       "      <td>24.814994</td>\n",
       "      <td>5</td>\n",
       "      <td>20</td>\n",
       "    </tr>\n",
       "    <tr>\n",
       "      <th>2</th>\n",
       "      <td>1</td>\n",
       "      <td>ER</td>\n",
       "      <td>2.626434</td>\n",
       "      <td>-17.960824</td>\n",
       "      <td>57.456815</td>\n",
       "      <td>164</td>\n",
       "      <td>79</td>\n",
       "    </tr>\n",
       "    <tr>\n",
       "      <th>3</th>\n",
       "      <td>2</td>\n",
       "      <td>ER</td>\n",
       "      <td>-32.844888</td>\n",
       "      <td>-21.247503</td>\n",
       "      <td>25.655845</td>\n",
       "      <td>11</td>\n",
       "      <td>22</td>\n",
       "    </tr>\n",
       "    <tr>\n",
       "      <th>4</th>\n",
       "      <td>3</td>\n",
       "      <td>ER</td>\n",
       "      <td>10.907536</td>\n",
       "      <td>-6.312277</td>\n",
       "      <td>57.780505</td>\n",
       "      <td>212</td>\n",
       "      <td>75</td>\n",
       "    </tr>\n",
       "    <tr>\n",
       "      <th>5</th>\n",
       "      <td>4</td>\n",
       "      <td>ER</td>\n",
       "      <td>12.190372</td>\n",
       "      <td>-35.645256</td>\n",
       "      <td>46.617485</td>\n",
       "      <td>16</td>\n",
       "      <td>29</td>\n",
       "    </tr>\n",
       "  </tbody>\n",
       "</table>\n",
       "</div>"
      ],
      "text/plain": [
       "   event type          x          y          z  s1_photons_true  \\\n",
       "1      0   ER   4.628629  27.725661  24.814994                5   \n",
       "2      1   ER   2.626434 -17.960824  57.456815              164   \n",
       "3      2   ER -32.844888 -21.247503  25.655845               11   \n",
       "4      3   ER  10.907536  -6.312277  57.780505              212   \n",
       "5      4   ER  12.190372 -35.645256  46.617485               16   \n",
       "\n",
       "   s2_electrons_true  \n",
       "1                 20  \n",
       "2                 79  \n",
       "3                 22  \n",
       "4                 75  \n",
       "5                 29  "
      ]
     },
     "metadata": {},
     "output_type": "display_data"
    },
    {
     "name": "stdout",
     "output_type": "stream",
     "text": [
      "\n"
     ]
    }
   ],
   "source": [
    "\n",
    "####################################################################################################\n",
    "# NEST Truth\n",
    "####################################################################################################\n",
    "\n",
    "#geant_cols = ['event', 'type', 'x', 'y', 'z', 's1_photons_true', 's2_electrons_true', 't']\n",
    "geant_cols = ['event', 'type', 'x', 'y', 'z', 's1_photons_true', 's2_electrons_true']\n",
    "\n",
    "geant_truth_file       = \"../data/FakeWaveform.csv\"\n",
    "df_geant_truth         = pd.read_csv(geant_truth_file)\n",
    "df_geant_truth.columns = ['event', 'type', 'x', 'y', 'z', 's1_photons_true', 's2_electrons_true', 't'] \n",
    "df_geant_truth         = df_geant_truth[geant_cols]\n",
    "lgth                  = len(df_geant_truth.index)\n",
    "df_geant_truth.index   = np.arange(1, len(df_geant_truth) + 1)\n",
    "\n",
    "\n",
    "####################################################################################################\n",
    "####################################################################################################\n",
    "\n",
    "print(\"\")\n",
    "print(\"Geant4 events: \" + str(len(df_geant_truth.index)))\n",
    "print(\"\")\n",
    "display(df_geant_truth[:5][:])\n",
    "print(\"\")\n",
    "\n"
   ]
  },
  {
   "cell_type": "code",
   "execution_count": null,
   "metadata": {
    "collapsed": true
   },
   "outputs": [],
   "source": []
  },
  {
   "cell_type": "code",
   "execution_count": null,
   "metadata": {
    "collapsed": true
   },
   "outputs": [],
   "source": [
    "\n"
   ]
  },
  {
   "cell_type": "code",
   "execution_count": null,
   "metadata": {
    "collapsed": true
   },
   "outputs": [],
   "source": []
  },
  {
   "cell_type": "code",
   "execution_count": 17,
   "metadata": {
    "collapsed": false
   },
   "outputs": [
    {
     "name": "stdout",
     "output_type": "stream",
     "text": [
      "\n",
      "Event Statistics\n",
      "----------------------------------------------------------------------------------------------------\n",
      "\n",
      "Geant4                          :   1000\n",
      "NEST                            :   993   (7 missing )\n",
      "\n"
     ]
    }
   ],
   "source": [
    "\n",
    "####################################################################################################\n",
    "####################################################################################################\n",
    "\n",
    "nEventsNest        = len(event_truths)\n",
    "nEventsNestMissing = nEventsGeant - nEventsNest\n",
    "\n",
    "\n",
    "####################################################################################################\n",
    "####################################################################################################\n",
    "\n",
    "print(\"\")\n",
    "print(\"Event Statistics\")\n",
    "print(\"----------------------------------------------------------------------------------------------------\")\n",
    "print(\"\")\n",
    "print(\"Geant4                          :   \" + str(nEventsGeant))\n",
    "print(\"NEST                            :   \" + str(nEventsNest) + \"   (\" + str(nEventsNestMissing) + \" missing )\" )\n",
    "print(\"\")\n"
   ]
  },
  {
   "cell_type": "code",
   "execution_count": 18,
   "metadata": {
    "collapsed": false,
    "scrolled": true
   },
   "outputs": [
    {
     "name": "stdout",
     "output_type": "stream",
     "text": [
      "Event: 138, i: 138 is missing\n",
      "Event: 350, i: 349 is missing\n",
      "Event: 372, i: 370 is missing\n",
      "Event: 554, i: 551 is missing\n",
      "Event: 628, i: 624 is missing\n",
      "Event: 674, i: 669 is missing\n",
      "Exception reading event data (df2.iloc[0]['event']): single positional indexer is out-of-bounds\n",
      "   i=842, index=848, (last) event_num=847\n",
      "\n"
     ]
    },
    {
     "data": {
      "text/html": [
       "<div>\n",
       "<table border=\"1\" class=\"dataframe\">\n",
       "  <thead>\n",
       "    <tr style=\"text-align: right;\">\n",
       "      <th></th>\n",
       "      <th>fax_truth_peak_id</th>\n",
       "      <th>event</th>\n",
       "      <th>g4_id</th>\n",
       "      <th>instruction</th>\n",
       "      <th>n_electrons</th>\n",
       "      <th>n_photons</th>\n",
       "      <th>peak_type</th>\n",
       "      <th>repetition</th>\n",
       "      <th>t_first_electron</th>\n",
       "      <th>t_first_photon</th>\n",
       "      <th>...</th>\n",
       "      <th>t_last_electron</th>\n",
       "      <th>t_last_photon</th>\n",
       "      <th>t_mean_electrons</th>\n",
       "      <th>t_mean_photons</th>\n",
       "      <th>t_sigma_electrons</th>\n",
       "      <th>t_sigma_photons</th>\n",
       "      <th>top_fraction</th>\n",
       "      <th>x</th>\n",
       "      <th>y</th>\n",
       "      <th>z</th>\n",
       "    </tr>\n",
       "  </thead>\n",
       "  <tbody>\n",
       "    <tr>\n",
       "      <th>0</th>\n",
       "      <td>NaN</td>\n",
       "      <td>848.0</td>\n",
       "      <td>NaN</td>\n",
       "      <td>848.0</td>\n",
       "      <td>NaN</td>\n",
       "      <td>NaN</td>\n",
       "      <td>NaN</td>\n",
       "      <td>NaN</td>\n",
       "      <td>NaN</td>\n",
       "      <td>NaN</td>\n",
       "      <td>...</td>\n",
       "      <td>NaN</td>\n",
       "      <td>NaN</td>\n",
       "      <td>NaN</td>\n",
       "      <td>NaN</td>\n",
       "      <td>NaN</td>\n",
       "      <td>NaN</td>\n",
       "      <td>NaN</td>\n",
       "      <td>NaN</td>\n",
       "      <td>NaN</td>\n",
       "      <td>NaN</td>\n",
       "    </tr>\n",
       "  </tbody>\n",
       "</table>\n",
       "<p>1 rows × 21 columns</p>\n",
       "</div>"
      ],
      "text/plain": [
       "   fax_truth_peak_id  event  g4_id  instruction  n_electrons  n_photons  \\\n",
       "0                NaN  848.0    NaN        848.0          NaN        NaN   \n",
       "\n",
       "   peak_type  repetition  t_first_electron  t_first_photon ...  \\\n",
       "0        NaN         NaN               NaN             NaN ...   \n",
       "\n",
       "   t_last_electron  t_last_photon  t_mean_electrons  t_mean_photons  \\\n",
       "0              NaN            NaN               NaN             NaN   \n",
       "\n",
       "   t_sigma_electrons  t_sigma_photons  top_fraction   x   y   z  \n",
       "0                NaN              NaN           NaN NaN NaN NaN  \n",
       "\n",
       "[1 rows x 21 columns]"
      ]
     },
     "metadata": {},
     "output_type": "display_data"
    },
    {
     "name": "stdout",
     "output_type": "stream",
     "text": [
      "\n",
      "\n",
      "Events in s1 dataframe: 992\n",
      "Events in s2 dataframe: 992\n",
      "\n",
      "Missing 7 of 1000 events: ([ 138.  350.  372.  554.  628.  674.  848.])\n",
      "\n"
     ]
    }
   ],
   "source": [
    "\n",
    "####################################################################################################\n",
    "####################################################################################################\n",
    "\n",
    "cols = ['event', 'x', 'y', 'z', 'peak_type', 't_first_photon', 't_last_photon', 't_mean_photons', 't_first_electron', 't_last_electron', 't_mean_electrons']\n",
    "\n",
    "df_xyz    = pd.DataFrame(columns=['event', 'x', 'y', 'z']) \n",
    "df_num_s1 = pd.DataFrame(columns=['event', 's1_num']) \n",
    "df_num_s2 = pd.DataFrame(columns=['event', 's2_num']) \n",
    "\n",
    "df_t_mean_s1 = pd.DataFrame(columns=['event', 't_first_photon', 't_last_photon', 't_mean_photons']) \n",
    "df_t_mean_s2 = pd.DataFrame(columns=['event', 't_mean_electrons']) \n",
    "\n",
    "npa_missing = np.array([])\n",
    "\n",
    "i_start = 0\n",
    "i_end   = nEventsNest\n",
    "\n",
    "index     = i_start\n",
    "event_num = 0\n",
    "\n",
    "\n",
    "\n",
    "####################################################################################################\n",
    "####################################################################################################\n",
    "\n",
    "for i in range(i_start, i_end):\n",
    "    \n",
    "    ################################################################################################\n",
    "    ################################################################################################\n",
    "\n",
    "    df1 = event_truths[i]\n",
    "    df2 = df1[:][cols]\n",
    "    \n",
    "\n",
    "    \n",
    "    ################################################################################################\n",
    "    ################################################################################################\n",
    "    \n",
    "    try:\n",
    "        \n",
    "        event_num = df2.iloc[0]['event']\n",
    "        \n",
    "    except Exception as e:\n",
    "        \n",
    "        \n",
    "        print(\"Exception reading event data (df2.iloc[0]['event']): \" + str(e))\n",
    "        print(\"   i=\" + str(i) + \", index=\" + str(index) + \", (last) event_num=\" + str(event_num))\n",
    "        \n",
    "        #\n",
    "        row        = [np.array([np.nan]*int(len(df1.columns.values)))]\n",
    "        df_missing = pd.DataFrame(row, columns=df1.columns.values)\n",
    "        \n",
    "        df_missing.iloc[0]['event']       = int(index)\n",
    "        df_missing.iloc[0]['instruction'] = int(index)\n",
    "        df_missing.iloc[0]['peak_type']   = 'missing event'\n",
    "        df_missing.iloc[0]['geant4_id'] = -1\n",
    "        \n",
    "        #\n",
    "        print(\"\")\n",
    "        display(df_missing)\n",
    "        print(\"\")\n",
    "        \n",
    "\n",
    "        \n",
    "        #\n",
    "        npa_missing = np.append(npa_missing, [index])\n",
    "        \n",
    "        index += 1\n",
    "        \n",
    "        continue\n",
    "    \n",
    "    \n",
    "    ################################################################################################\n",
    "    ################################################################################################\n",
    "    \n",
    "    if (event_num != index):\n",
    "        \n",
    "        print(\"Event: \" + str(index) + \", i: \" + str(i) + \" is missing\")\n",
    "        \n",
    "        npa_missing = np.append(npa_missing, [index])\n",
    "        \n",
    "        index += 1\n",
    "        \n",
    "    index += 1\n",
    "    \n",
    "    \n",
    "    ################################################################################################\n",
    "    # (X, Y, Z)\n",
    "    ################################################################################################\n",
    "    \n",
    "    x  = df_geant_truth.at[i+1, 'x']\n",
    "    y  = df_geant_truth.at[i+1, 'y']\n",
    "    z  = df_geant_truth.at[i+1, 'z']\n",
    "    s1 = df_geant_truth.at[i+1, 's1_photons_true']\n",
    "    s2 = df_geant_truth.at[i+1, 's2_electrons_true']\n",
    "    \n",
    "    df_xyz_add = pd.DataFrame([[event_num, x, y, z, s1, s2]], columns=['event', 'x', 'y', 'z', 's1_photons_true', 's2_electrons_true'])\n",
    "    df_xyz     = df_xyz.append(df_xyz_add, ignore_index=False)\n",
    "    \n",
    "    \n",
    "    ################################################################################################\n",
    "    # Number of S1's\n",
    "    ################################################################################################\n",
    "    \n",
    "    df3       = df2.loc[df2['peak_type'] == 's1']\n",
    "    n_s1      = (df3['peak_type'] == 's1').count()\n",
    "    df_s1_add = pd.DataFrame([[event_num, n_s1]], columns=['event', 's1_num'])\n",
    "    df_num_s1 = df_num_s1.append(df_s1_add, ignore_index=False)\n",
    "    \n",
    "    \n",
    "    ################################################################################################\n",
    "    # Number of S2's\n",
    "    ################################################################################################\n",
    "    \n",
    "    df_s2     = df2.loc[df2['peak_type'] == 's2']\n",
    "    n_s2      = (df_s2['peak_type'] == 's2').count()\n",
    "    df_s2_add = pd.DataFrame([[event_num, n_s2]], columns=['event', 's2_num'])\n",
    "    df_num_s2 = df_num_s2.append(df_s2_add, ignore_index=False)\n",
    "    \n",
    "    if (len(df_num_s1.index) == 0):\n",
    "        print(\"Missing\")\n",
    "        \n",
    "    #continue\n",
    "    \n",
    "    \n",
    "    ################################################################################################\n",
    "    # Times for S1\n",
    "    ################################################################################################\n",
    "\n",
    "    df4 = pd.DataFrame({'event': [event_num], 't_first_photon': [np.nan], 't_last_photon': [np.nan], 't_mean_photons': [np.nan]})\n",
    "    df5 = df2.loc[df2['peak_type'] == 's1'][['event', 't_first_photon', 't_last_photon', 't_mean_photons']]\n",
    "\n",
    "    if (len(df5.index) > 0):\n",
    "        \n",
    "        if (len(df5.index) == 1):\n",
    "            df4 = df5\n",
    "            \n",
    "        else:\n",
    "\n",
    "            print(\"Error: Multiple S1 times not hanled!\")\n",
    "            \n",
    "    df_t_mean_s1 = df_t_mean_s1.append(df4)\n",
    "            \n",
    "\n",
    "     \n",
    "    ################################################################################################\n",
    "    # Times for S2\n",
    "    ################################################################################################\n",
    "\n",
    "    df6 = pd.DataFrame({'event': [event_num], 't_first_electron': [np.nan], 't_last_electron': [np.nan], 't_mean_electrons': [np.nan]})\n",
    "    df7 = df2.loc[df2['peak_type'] == 's2'][['event', 't_first_electron', 't_last_electron', 't_mean_electrons']]\n",
    "\n",
    "    if (len(df7.index) > 0):\n",
    "        \n",
    "        if (len(df7.index) == 1):\n",
    "            df6 = df7\n",
    "            \n",
    "        else:\n",
    "\n",
    "            print(\"Error: Multiple S2 times not hanled!\")\n",
    "            \n",
    "    df_t_mean_s2 = df_t_mean_s2.append(df6)\n",
    "            \n",
    "    \n",
    "####################################################################################################\n",
    "####################################################################################################\n",
    "\n",
    "print(\"\")\n",
    "print(\"Events in s1 dataframe: \" + str(len(df_num_s1.index)) ) \n",
    "print(\"Events in s2 dataframe: \" + str(len(df_num_s2.index)) ) \n",
    "print(\"\")\n",
    "print(\"Missing \" + str(nEventsNestMissing) + \" of \" + str(nEventsGeant) + \" events: (\" + str(npa_missing) + \")\")\n",
    "print(\"\")\n",
    "\n"
   ]
  },
  {
   "cell_type": "code",
   "execution_count": 19,
   "metadata": {
    "collapsed": false
   },
   "outputs": [
    {
     "name": "stdout",
     "output_type": "stream",
     "text": [
      "Events in dataframe: 992\n",
      "\n"
     ]
    },
    {
     "data": {
      "text/html": [
       "<div>\n",
       "<table border=\"1\" class=\"dataframe\">\n",
       "  <thead>\n",
       "    <tr style=\"text-align: right;\">\n",
       "      <th></th>\n",
       "      <th>event</th>\n",
       "      <th>x</th>\n",
       "      <th>y</th>\n",
       "      <th>z</th>\n",
       "      <th>s1_num</th>\n",
       "      <th>s2_num</th>\n",
       "      <th>s1_photons_true</th>\n",
       "      <th>s2_electrons_true</th>\n",
       "      <th>t_first_photon</th>\n",
       "      <th>t_last_photon</th>\n",
       "      <th>t_mean_photons</th>\n",
       "      <th>t_first_electron</th>\n",
       "      <th>t_last_electron</th>\n",
       "      <th>t_mean_electrons</th>\n",
       "    </tr>\n",
       "  </thead>\n",
       "  <tbody>\n",
       "    <tr>\n",
       "      <th>0</th>\n",
       "      <td>0.0</td>\n",
       "      <td>4.628629</td>\n",
       "      <td>27.725661</td>\n",
       "      <td>24.814994</td>\n",
       "      <td>0.0</td>\n",
       "      <td>1.0</td>\n",
       "      <td>5.0</td>\n",
       "      <td>20.0</td>\n",
       "      <td>NaN</td>\n",
       "      <td>NaN</td>\n",
       "      <td>NaN</td>\n",
       "      <td>8.266386e+05</td>\n",
       "      <td>8.283244e+05</td>\n",
       "      <td>8.276418e+05</td>\n",
       "    </tr>\n",
       "    <tr>\n",
       "      <th>1</th>\n",
       "      <td>1.0</td>\n",
       "      <td>2.626434</td>\n",
       "      <td>-17.960824</td>\n",
       "      <td>57.456815</td>\n",
       "      <td>1.0</td>\n",
       "      <td>1.0</td>\n",
       "      <td>164.0</td>\n",
       "      <td>79.0</td>\n",
       "      <td>655031.128049</td>\n",
       "      <td>655150.096806</td>\n",
       "      <td>655077.777458</td>\n",
       "      <td>1.053706e+06</td>\n",
       "      <td>1.056341e+06</td>\n",
       "      <td>1.055127e+06</td>\n",
       "    </tr>\n",
       "    <tr>\n",
       "      <th>2</th>\n",
       "      <td>2.0</td>\n",
       "      <td>-32.844888</td>\n",
       "      <td>-21.247503</td>\n",
       "      <td>25.655845</td>\n",
       "      <td>1.0</td>\n",
       "      <td>1.0</td>\n",
       "      <td>11.0</td>\n",
       "      <td>22.0</td>\n",
       "      <td>655054.285890</td>\n",
       "      <td>655091.638942</td>\n",
       "      <td>655072.962416</td>\n",
       "      <td>8.324213e+05</td>\n",
       "      <td>8.343717e+05</td>\n",
       "      <td>8.333101e+05</td>\n",
       "    </tr>\n",
       "    <tr>\n",
       "      <th>3</th>\n",
       "      <td>3.0</td>\n",
       "      <td>10.907536</td>\n",
       "      <td>-6.312277</td>\n",
       "      <td>57.780505</td>\n",
       "      <td>1.0</td>\n",
       "      <td>1.0</td>\n",
       "      <td>212.0</td>\n",
       "      <td>75.0</td>\n",
       "      <td>655029.716115</td>\n",
       "      <td>655165.658037</td>\n",
       "      <td>655089.037260</td>\n",
       "      <td>1.055699e+06</td>\n",
       "      <td>1.058601e+06</td>\n",
       "      <td>1.057330e+06</td>\n",
       "    </tr>\n",
       "    <tr>\n",
       "      <th>4</th>\n",
       "      <td>4.0</td>\n",
       "      <td>12.190372</td>\n",
       "      <td>-35.645256</td>\n",
       "      <td>46.617485</td>\n",
       "      <td>0.0</td>\n",
       "      <td>1.0</td>\n",
       "      <td>16.0</td>\n",
       "      <td>29.0</td>\n",
       "      <td>NaN</td>\n",
       "      <td>NaN</td>\n",
       "      <td>NaN</td>\n",
       "      <td>9.779757e+05</td>\n",
       "      <td>9.804018e+05</td>\n",
       "      <td>9.792917e+05</td>\n",
       "    </tr>\n",
       "  </tbody>\n",
       "</table>\n",
       "</div>"
      ],
      "text/plain": [
       "   event          x          y          z  s1_num  s2_num  s1_photons_true  \\\n",
       "0    0.0   4.628629  27.725661  24.814994     0.0     1.0              5.0   \n",
       "1    1.0   2.626434 -17.960824  57.456815     1.0     1.0            164.0   \n",
       "2    2.0 -32.844888 -21.247503  25.655845     1.0     1.0             11.0   \n",
       "3    3.0  10.907536  -6.312277  57.780505     1.0     1.0            212.0   \n",
       "4    4.0  12.190372 -35.645256  46.617485     0.0     1.0             16.0   \n",
       "\n",
       "   s2_electrons_true  t_first_photon  t_last_photon  t_mean_photons  \\\n",
       "0               20.0             NaN            NaN             NaN   \n",
       "1               79.0   655031.128049  655150.096806   655077.777458   \n",
       "2               22.0   655054.285890  655091.638942   655072.962416   \n",
       "3               75.0   655029.716115  655165.658037   655089.037260   \n",
       "4               29.0             NaN            NaN             NaN   \n",
       "\n",
       "   t_first_electron  t_last_electron  t_mean_electrons  \n",
       "0      8.266386e+05     8.283244e+05      8.276418e+05  \n",
       "1      1.053706e+06     1.056341e+06      1.055127e+06  \n",
       "2      8.324213e+05     8.343717e+05      8.333101e+05  \n",
       "3      1.055699e+06     1.058601e+06      1.057330e+06  \n",
       "4      9.779757e+05     9.804018e+05      9.792917e+05  "
      ]
     },
     "metadata": {},
     "output_type": "display_data"
    },
    {
     "name": "stdout",
     "output_type": "stream",
     "text": [
      "\n"
     ]
    }
   ],
   "source": [
    "\n",
    "####################################################################################################\n",
    "####################################################################################################\n",
    "\n",
    "\n",
    "df_num_s1s2 = df_num_s1.merge  (df_num_s2   , left_on='event', right_on='event')\n",
    "df_num_s1s2 = df_num_s1s2.merge(df_t_mean_s1, left_on='event', right_on='event')\n",
    "df_num_s1s2 = df_num_s1s2.merge(df_t_mean_s2, left_on='event', right_on='event')\n",
    "df_num_s1s2 = df_num_s1s2.merge(df_xyz      , left_on='event', right_on='event')\n",
    "\n",
    "df_num_s1s2 = df_num_s1s2[['event', 'x', 'y', 'z', 's1_num', 's2_num', 's1_photons_true', 's2_electrons_true', 't_first_photon', 't_last_photon', 't_mean_photons', 't_first_electron', 't_last_electron', 't_mean_electrons']]\n",
    "\n",
    "print(\"Events in dataframe: \" + str(len(df_num_s1s2.index)) ) \n",
    "print(\"\")\n",
    "display(df_num_s1s2[:5][:])\n",
    "print(\"\")\n"
   ]
  },
  {
   "cell_type": "code",
   "execution_count": null,
   "metadata": {
    "collapsed": true
   },
   "outputs": [],
   "source": []
  },
  {
   "cell_type": "code",
   "execution_count": 20,
   "metadata": {
    "collapsed": false
   },
   "outputs": [
    {
     "name": "stdout",
     "output_type": "stream",
     "text": [
      "\n",
      "NEST  events         : 992\n",
      "Geant events         : 1000\n",
      "Combined Truth events: 992\n",
      "\n"
     ]
    },
    {
     "data": {
      "text/html": [
       "<div>\n",
       "<table border=\"1\" class=\"dataframe\">\n",
       "  <thead>\n",
       "    <tr style=\"text-align: right;\">\n",
       "      <th></th>\n",
       "      <th>event</th>\n",
       "      <th>x</th>\n",
       "      <th>y</th>\n",
       "      <th>z</th>\n",
       "      <th>s1_num</th>\n",
       "      <th>s2_num</th>\n",
       "      <th>s1_photons_true</th>\n",
       "      <th>s2_electrons_true</th>\n",
       "      <th>t_first_photon</th>\n",
       "      <th>t_last_photon</th>\n",
       "      <th>t_mean_photons</th>\n",
       "      <th>t_first_electron</th>\n",
       "      <th>t_last_electron</th>\n",
       "      <th>t_mean_electrons</th>\n",
       "      <th>dt</th>\n",
       "      <th>r</th>\n",
       "      <th>phi</th>\n",
       "    </tr>\n",
       "  </thead>\n",
       "  <tbody>\n",
       "    <tr>\n",
       "      <th>0</th>\n",
       "      <td>0.0</td>\n",
       "      <td>4.628629</td>\n",
       "      <td>27.725661</td>\n",
       "      <td>24.814994</td>\n",
       "      <td>0.0</td>\n",
       "      <td>1.0</td>\n",
       "      <td>5.0</td>\n",
       "      <td>20.0</td>\n",
       "      <td>NaN</td>\n",
       "      <td>NaN</td>\n",
       "      <td>NaN</td>\n",
       "      <td>8.266386e+05</td>\n",
       "      <td>8.283244e+05</td>\n",
       "      <td>8.276418e+05</td>\n",
       "      <td>NaN</td>\n",
       "      <td>28.109367</td>\n",
       "      <td>1.405378</td>\n",
       "    </tr>\n",
       "    <tr>\n",
       "      <th>1</th>\n",
       "      <td>1.0</td>\n",
       "      <td>2.626434</td>\n",
       "      <td>-17.960824</td>\n",
       "      <td>57.456815</td>\n",
       "      <td>1.0</td>\n",
       "      <td>1.0</td>\n",
       "      <td>164.0</td>\n",
       "      <td>79.0</td>\n",
       "      <td>655031.128049</td>\n",
       "      <td>655150.096806</td>\n",
       "      <td>655077.777458</td>\n",
       "      <td>1.053706e+06</td>\n",
       "      <td>1.056341e+06</td>\n",
       "      <td>1.055127e+06</td>\n",
       "      <td>400049.699577</td>\n",
       "      <td>18.151841</td>\n",
       "      <td>-1.425594</td>\n",
       "    </tr>\n",
       "    <tr>\n",
       "      <th>2</th>\n",
       "      <td>2.0</td>\n",
       "      <td>-32.844888</td>\n",
       "      <td>-21.247503</td>\n",
       "      <td>25.655845</td>\n",
       "      <td>1.0</td>\n",
       "      <td>1.0</td>\n",
       "      <td>11.0</td>\n",
       "      <td>22.0</td>\n",
       "      <td>655054.285890</td>\n",
       "      <td>655091.638942</td>\n",
       "      <td>655072.962416</td>\n",
       "      <td>8.324213e+05</td>\n",
       "      <td>8.343717e+05</td>\n",
       "      <td>8.333101e+05</td>\n",
       "      <td>178237.185795</td>\n",
       "      <td>39.118321</td>\n",
       "      <td>-2.567397</td>\n",
       "    </tr>\n",
       "    <tr>\n",
       "      <th>3</th>\n",
       "      <td>3.0</td>\n",
       "      <td>10.907536</td>\n",
       "      <td>-6.312277</td>\n",
       "      <td>57.780505</td>\n",
       "      <td>1.0</td>\n",
       "      <td>1.0</td>\n",
       "      <td>212.0</td>\n",
       "      <td>75.0</td>\n",
       "      <td>655029.716115</td>\n",
       "      <td>655165.658037</td>\n",
       "      <td>655089.037260</td>\n",
       "      <td>1.055699e+06</td>\n",
       "      <td>1.058601e+06</td>\n",
       "      <td>1.057330e+06</td>\n",
       "      <td>402240.825728</td>\n",
       "      <td>12.602348</td>\n",
       "      <td>-0.524616</td>\n",
       "    </tr>\n",
       "  </tbody>\n",
       "</table>\n",
       "</div>"
      ],
      "text/plain": [
       "   event          x          y          z  s1_num  s2_num  s1_photons_true  \\\n",
       "0    0.0   4.628629  27.725661  24.814994     0.0     1.0              5.0   \n",
       "1    1.0   2.626434 -17.960824  57.456815     1.0     1.0            164.0   \n",
       "2    2.0 -32.844888 -21.247503  25.655845     1.0     1.0             11.0   \n",
       "3    3.0  10.907536  -6.312277  57.780505     1.0     1.0            212.0   \n",
       "\n",
       "   s2_electrons_true  t_first_photon  t_last_photon  t_mean_photons  \\\n",
       "0               20.0             NaN            NaN             NaN   \n",
       "1               79.0   655031.128049  655150.096806   655077.777458   \n",
       "2               22.0   655054.285890  655091.638942   655072.962416   \n",
       "3               75.0   655029.716115  655165.658037   655089.037260   \n",
       "\n",
       "   t_first_electron  t_last_electron  t_mean_electrons             dt  \\\n",
       "0      8.266386e+05     8.283244e+05      8.276418e+05            NaN   \n",
       "1      1.053706e+06     1.056341e+06      1.055127e+06  400049.699577   \n",
       "2      8.324213e+05     8.343717e+05      8.333101e+05  178237.185795   \n",
       "3      1.055699e+06     1.058601e+06      1.057330e+06  402240.825728   \n",
       "\n",
       "           r       phi  \n",
       "0  28.109367  1.405378  \n",
       "1  18.151841 -1.425594  \n",
       "2  39.118321 -2.567397  \n",
       "3  12.602348 -0.524616  "
      ]
     },
     "metadata": {},
     "output_type": "display_data"
    },
    {
     "name": "stdout",
     "output_type": "stream",
     "text": [
      "\n"
     ]
    }
   ],
   "source": [
    "\n",
    "####################################################################################################\n",
    "####################################################################################################\n",
    "\n",
    "\n",
    "\n",
    "df_num_s1s2['dt']  = df_num_s1s2.t_mean_electrons - df_num_s1s2.t_mean_photons\n",
    "df_num_s1s2['r']   = np.sqrt(df_num_s1s2.x*df_num_s1s2.x + df_num_s1s2.y*df_num_s1s2.y)\n",
    "df_num_s1s2['phi'] = np.arctan2(df_num_s1s2.y, df_num_s1s2.x)\n",
    "\n",
    "print(\"\")\n",
    "print(\"NEST  events         : \" + str(len(df_num_s1s2.index)))\n",
    "print(\"Geant events         : \" + str(len(df_geant_truth.index)))\n",
    "print(\"Combined Truth events: \" + str(len(df_num_s1s2.index)))\n",
    "print(\"\")\n",
    "display(df_num_s1s2[:4][:])\n",
    "print(\"\")\n"
   ]
  },
  {
   "cell_type": "code",
   "execution_count": 23,
   "metadata": {
    "collapsed": false
   },
   "outputs": [
    {
     "name": "stdout",
     "output_type": "stream",
     "text": [
      "\n",
      "Event Statistics\n",
      "----------------------------------------------------------------------------------------------------\n",
      "\n",
      "Geant4                          :   1000\n",
      "NEST                            :   993\n",
      "NEST Missing                    :   7\n",
      "\n",
      "Single S1 AND Single S2         :   924\n",
      "Non-Single S1 OR Non-Single S2  :   68\n",
      "\n",
      "Zero S1 OR Zero S2              :   68\n",
      "   Zero S1                      :   66\n",
      "   Zero S2                      :   2\n",
      "   Zero S1 AND Zero S2          :   0\n",
      "\n",
      "Multiple S1 OR Multiple S2      :   0\n",
      "   Multiple S1                  :   0\n",
      "   Multiple S2                  :   0\n",
      "\n"
     ]
    },
    {
     "ename": "NameError",
     "evalue": "name 'df_s1s2' is not defined",
     "output_type": "error",
     "traceback": [
      "\u001b[0;31m---------------------------------------------------------------------------\u001b[0m",
      "\u001b[0;31mNameError\u001b[0m                                 Traceback (most recent call last)",
      "\u001b[0;32m<ipython-input-23-a21ab91944ae>\u001b[0m in \u001b[0;36m<module>\u001b[0;34m()\u001b[0m\n\u001b[1;32m     45\u001b[0m \u001b[0;34m\u001b[0m\u001b[0m\n\u001b[1;32m     46\u001b[0m \u001b[0mcErr0\u001b[0m \u001b[0;34m=\u001b[0m \u001b[0;34m(\u001b[0m\u001b[0mnEventsGeant\u001b[0m \u001b[0;34m-\u001b[0m \u001b[0mnEventsNestMissing\u001b[0m \u001b[0;34m!=\u001b[0m \u001b[0mnEventsNest\u001b[0m\u001b[0;34m)\u001b[0m\u001b[0;34m\u001b[0m\u001b[0m\n\u001b[0;32m---> 47\u001b[0;31m \u001b[0mcErr1\u001b[0m \u001b[0;34m=\u001b[0m \u001b[0;34m(\u001b[0m\u001b[0mnEventsNest\u001b[0m \u001b[0;34m!=\u001b[0m \u001b[0mlen\u001b[0m\u001b[0;34m(\u001b[0m\u001b[0mdf_s1s2\u001b[0m\u001b[0;34m.\u001b[0m\u001b[0mindex\u001b[0m\u001b[0;34m)\u001b[0m\u001b[0;34m)\u001b[0m\u001b[0;34m\u001b[0m\u001b[0m\n\u001b[0m\u001b[1;32m     48\u001b[0m \u001b[0mcErr2\u001b[0m \u001b[0;34m=\u001b[0m \u001b[0;34m(\u001b[0m\u001b[0mnEventsNest\u001b[0m \u001b[0;34m!=\u001b[0m \u001b[0mn_singleS1_and_singleS2\u001b[0m \u001b[0;34m+\u001b[0m \u001b[0mn_nonSingleS1_or_nonSingleS2\u001b[0m\u001b[0;34m)\u001b[0m\u001b[0;34m\u001b[0m\u001b[0m\n\u001b[1;32m     49\u001b[0m \u001b[0mcErr3\u001b[0m \u001b[0;34m=\u001b[0m \u001b[0;34m(\u001b[0m\u001b[0mn_zeroS1_or_zeroS2\u001b[0m          \u001b[0;34m!=\u001b[0m \u001b[0mn_zeroS1\u001b[0m     \u001b[0;34m+\u001b[0m \u001b[0mn_zeroS2\u001b[0m\u001b[0;34m)\u001b[0m\u001b[0;34m\u001b[0m\u001b[0m\n",
      "\u001b[0;31mNameError\u001b[0m: name 'df_s1s2' is not defined"
     ]
    }
   ],
   "source": [
    "\n",
    "####################################################################################################\n",
    "####################################################################################################\n",
    "\n",
    "n_singleS1_and_singleS2      = len(df_num_s1s2.loc[((df_num_s1s2['s1_num'] == 1) & (df_num_s1s2['s2_num'] == 1))].index)\n",
    "n_nonSingleS1_or_nonSingleS2 = len(df_num_s1s2.loc[((df_num_s1s2['s1_num'] != 1) | (df_num_s1s2['s2_num'] != 1))].index)\n",
    "n_zeroS1                     = len(df_num_s1s2.loc[( df_num_s1s2['s1_num'] == 0)].index)\n",
    "n_zeroS2                     = len(df_num_s1s2.loc[( df_num_s1s2['s2_num'] == 0)].index)\n",
    "n_zeroS1_or_zeroS2           = len(df_num_s1s2.loc[((df_num_s1s2['s1_num'] == 0) | (df_num_s1s2['s2_num'] == 0))].index)\n",
    "n_zeroS1_and_zeroS2          = len(df_num_s1s2.loc[((df_num_s1s2['s1_num'] == 0) & (df_num_s1s2['s2_num'] == 0))].index)\n",
    "n_multipleS1                 = len(df_num_s1s2.loc[( df_num_s1s2['s1_num'] >= 2)].index)\n",
    "n_multipleS2                 = len(df_num_s1s2.loc[( df_num_s1s2['s2_num'] >= 2)].index)\n",
    "n_multipleS1_or_multiple_S2  = len(df_num_s1s2.loc[( df_num_s1s2['s1_num'] >= 2) | (df_num_s1s2['s2_num'] >= 2) ].index)\n",
    "\n",
    "\n",
    "\n",
    "####################################################################################################\n",
    "####################################################################################################\n",
    "\n",
    "print(\"\")\n",
    "print(\"Event Statistics\")\n",
    "print(\"----------------------------------------------------------------------------------------------------\")\n",
    "\n",
    "print(\"\")\n",
    "print(\"Geant4                          :   \" + str(nEventsGeant))\n",
    "print(\"NEST                            :   \" + str(nEventsNest))\n",
    "print(\"NEST Missing                    :   \" + str(nEventsNestMissing))\n",
    "print(\"\")\n",
    "print(\"Single S1 AND Single S2         :   \" + str(n_singleS1_and_singleS2))\n",
    "print(\"Non-Single S1 OR Non-Single S2  :   \" + str(n_nonSingleS1_or_nonSingleS2))\n",
    "print(\"\")\n",
    "print(\"Zero S1 OR Zero S2              :   \" + str(n_zeroS1_or_zeroS2))\n",
    "print(\"   Zero S1                      :   \" + str(n_zeroS1))\n",
    "print(\"   Zero S2                      :   \" + str(n_zeroS2))\n",
    "print(\"   Zero S1 AND Zero S2          :   \" + str(n_zeroS1_and_zeroS2))\n",
    "print(\"\")     \n",
    "print(\"Multiple S1 OR Multiple S2      :   \" + str(n_multipleS1_or_multiple_S2))\n",
    "print(\"   Multiple S1                  :   \" + str(n_multipleS1))\n",
    "print(\"   Multiple S2                  :   \" + str(n_multipleS2))\n",
    "print(\"\")     \n",
    "\n",
    "\n",
    "####################################################################################################\n",
    "####################################################################################################\n",
    "\n",
    "cErr0 = (nEventsGeant - nEventsNestMissing != nEventsNest)\n",
    "cErr1 = (nEventsNest != len(df_s1s2.index))\n",
    "cErr2 = (nEventsNest != n_singleS1_and_singleS2 + n_nonSingleS1_or_nonSingleS2)\n",
    "cErr3 = (n_zeroS1_or_zeroS2          != n_zeroS1     + n_zeroS2)\n",
    "cErr4 = (n_multipleS1_or_multiple_S2 != n_multipleS1 + n_multipleS2)\n",
    "\n",
    "\n",
    "if (cErr0 | cErr1 | cErr2 | cErr3 | cErr4):\n",
    "    print(\"\")     \n",
    "    print(\"----------------------------------------------------------------------------------------------------\")\n",
    "    print(\"\")     \n",
    "    print(\"Counting Error!\")\n",
    "    print(\"cErr0: \" + str(cErr0))\n",
    "    print(\"cErr1: \" + str(cErr1))\n",
    "    print(\"cErr2: \" + str(cErr2))\n",
    "    print(\"cErr3: \" + str(cErr3))\n",
    "    print(\"cErr4: \" + str(cErr4))\n",
    "    print(\"\")     \n",
    "    "
   ]
  },
  {
   "cell_type": "code",
   "execution_count": 24,
   "metadata": {
    "collapsed": false
   },
   "outputs": [
    {
     "name": "stdout",
     "output_type": "stream",
     "text": [
      "\n",
      "Efficiency (NEST/Geant)  : 0.993\n",
      "\n"
     ]
    }
   ],
   "source": [
    "\n",
    "####################################################################################################\n",
    "# Efficiencies\n",
    "####################################################################################################\n",
    "\n",
    "eNest = (nEventsGeant - nEventsNestMissing) / nEventsGeant\n",
    "\n",
    "\n",
    "####################################################################################################\n",
    "####################################################################################################\n",
    "\n",
    "print(\"\")\n",
    "print(\"Efficiency (NEST/Geant)  : \" + str(eNest))\n",
    "print(\"\")\n"
   ]
  },
  {
   "cell_type": "code",
   "execution_count": null,
   "metadata": {
    "collapsed": true
   },
   "outputs": [],
   "source": []
  },
  {
   "cell_type": "code",
   "execution_count": 40,
   "metadata": {
    "collapsed": false
   },
   "outputs": [],
   "source": [
    "\n",
    "####################################################################################################\n",
    "# Delta T distributions\n",
    "####################################################################################################\n",
    "\n",
    "df_time = df_num_s1s2.loc[((df_num_s1s2['s1_num'] == 1) & (df_num_s1s2['s2_num'] == 1))]\n",
    "\n",
    "dt_last_electron_first_photon = (df_time.t_last_electron - df_time.t_first_photon).as_matrix()\n",
    "dt_mean_electron_mean_photon  = (df_time.t_mean_electrons - df_time.t_mean_photons).as_matrix()\n",
    "\n",
    "dt_last_photon_first_photon     = (df_time.t_last_photon   - df_time.t_first_photon).as_matrix()\n",
    "dt_last_electron_first_electron = (df_time.t_last_electron - df_time.t_first_electron).as_matrix()\n",
    "\n",
    "\n",
    "####################################################################################################\n",
    "####################################################################################################\n",
    "\n",
    "dt_last_electron_first_photon_min = np.amin(dt_last_electron_first_photon)\n",
    "dt_last_electron_first_photon_max = np.amax(dt_last_electron_first_photon)\n",
    "\n",
    "dt_last_photon_first_photon_min = np.amin(dt_last_photon_first_photon)\n",
    "dt_last_photon_first_photon_max = np.amax(dt_last_photon_first_photon)\n",
    "\n",
    "dt_last_electron_first_electron_min = np.amin(dt_last_electron_first_electron)\n",
    "dt_last_electron_first_electron_max = np.amax(dt_last_electron_first_electron)\n"
   ]
  },
  {
   "cell_type": "code",
   "execution_count": 41,
   "metadata": {
    "collapsed": false
   },
   "outputs": [
    {
     "name": "stdout",
     "output_type": "stream",
     "text": [
      "\n",
      "min( t_last_electron - t_first_photon ): 106289.269339 ns\n",
      "max( t_last_electron - t_first_photon ): 631847.15104 ns\n",
      "\n"
     ]
    },
    {
     "data": {
      "image/png": "[encoded data removed]",
      "text/plain": [
       "<matplotlib.figure.Figure at 0x7f594341f828>"
      ]
     },
     "metadata": {},
     "output_type": "display_data"
    },
    {
     "name": "stdout",
     "output_type": "stream",
     "text": [
      "\n"
     ]
    }
   ],
   "source": [
    "\n",
    "####################################################################################################\n",
    "####################################################################################################\n",
    "\n",
    "n, bins, patches = plt.hist(dt_last_electron_first_photon, bins=75, range=[0, 750000])\n",
    "\n",
    "\n",
    "####################################################################################################\n",
    "####################################################################################################\n",
    "\n",
    "plt.title(\"Distribution of t_last_electron - t_first_photon (for events with a single S1 and single S2)\")\n",
    "plt.xlabel(\"t_last_electron - t_first_photon\")\n",
    "plt.ylabel(\"Frequency\")\n",
    "\n",
    "print()\n",
    "print(\"min( t_last_electron - t_first_photon ): \" + str(dt_last_electron_first_photon_min) + \" ns\")\n",
    "print(\"max( t_last_electron - t_first_photon ): \" + str(dt_last_electron_first_photon_max) + \" ns\")\n",
    "print()\n",
    "plt.show()\n",
    "print()\n"
   ]
  },
  {
   "cell_type": "code",
   "execution_count": 42,
   "metadata": {
    "collapsed": false
   },
   "outputs": [
    {
     "name": "stdout",
     "output_type": "stream",
     "text": [
      "\n",
      "min( t_last_photon - t_first_photon ): 0.0 ns\n",
      "max( t_last_photon - t_first_photon ): 330.600475303 ns\n",
      "\n"
     ]
    },
    {
     "data": {
      "image/png": "[encoded data removed]",
      "text/plain": [
       "<matplotlib.figure.Figure at 0x7f59436f2f60>"
      ]
     },
     "metadata": {},
     "output_type": "display_data"
    },
    {
     "name": "stdout",
     "output_type": "stream",
     "text": [
      "\n"
     ]
    }
   ],
   "source": [
    "\n",
    "####################################################################################################\n",
    "####################################################################################################\n",
    "\n",
    "n, bins, patches = plt.hist(dt_last_photon_first_photon, bins=100, range=[-0, 1000])\n",
    "\n",
    "\n",
    "####################################################################################################\n",
    "####################################################################################################\n",
    "\n",
    "plt.title(\"Distribution of S1 pulse width (for events with a single S1 and single S2)\")\n",
    "plt.xlabel(\"t_last_photon - t_first_photon\")\n",
    "plt.ylabel(\"Frequency\")\n",
    "\n",
    "print()\n",
    "print(\"min( t_last_photon - t_first_photon ): \" + str(dt_last_photon_first_photon_min) + \" ns\")\n",
    "print(\"max( t_last_photon - t_first_photon ): \" + str(dt_last_photon_first_photon_max) + \" ns\")\n",
    "print()\n",
    "plt.show()\n",
    "print()"
   ]
  },
  {
   "cell_type": "code",
   "execution_count": 44,
   "metadata": {
    "collapsed": false
   },
   "outputs": [
    {
     "name": "stdout",
     "output_type": "stream",
     "text": [
      "\n",
      "min( t_last_photon - t_first_photon ): 0.0 ns\n",
      "max( t_last_photon - t_first_photon ): 7712.76431109 ns\n",
      "\n"
     ]
    },
    {
     "data": {
      "image/png": "[encoded data removed]",
      "text/plain": [
       "<matplotlib.figure.Figure at 0x7f5943914e48>"
      ]
     },
     "metadata": {},
     "output_type": "display_data"
    },
    {
     "name": "stdout",
     "output_type": "stream",
     "text": [
      "\n"
     ]
    }
   ],
   "source": [
    "\n",
    "####################################################################################################\n",
    "####################################################################################################\n",
    "\n",
    "n, bins, patches = plt.hist(dt_last_electron_first_electron, bins=100, range=[-0, 10000])\n",
    "\n",
    "\n",
    "####################################################################################################\n",
    "####################################################################################################\n",
    "\n",
    "plt.title(\"Distribution of S1 pulse width (for events with a single S1 and single S2)\")\n",
    "plt.xlabel(\"t_last_photon - t_first_photon\")\n",
    "plt.ylabel(\"Frequency\")\n",
    "\n",
    "print()\n",
    "print(\"min( t_last_photon - t_first_photon ): \" + str(dt_last_electron_first_electron_min) + \" ns\")\n",
    "print(\"max( t_last_photon - t_first_photon ): \" + str(dt_last_electron_first_electron_max) + \" ns\")\n",
    "print()\n",
    "plt.show()\n",
    "print()"
   ]
  },
  {
   "cell_type": "code",
   "execution_count": null,
   "metadata": {
    "collapsed": true
   },
   "outputs": [],
   "source": []
  }
 ],
 "metadata": {
  "anaconda-cloud": {},
  "kernelspec": {
   "display_name": "Python [conda env:pax_v6.8.2]",
   "language": "python",
   "name": "conda-env-pax_v6.8.2-py"
  },
  "language_info": {
   "codemirror_mode": {
    "name": "ipython",
    "version": 3
   },
   "file_extension": ".py",
   "mimetype": "text/x-python",
   "name": "python",
   "nbconvert_exporter": "python",
   "pygments_lexer": "ipython3",
   "version": "3.4.4"
  }
 },
 "nbformat": 4,
 "nbformat_minor": 2
}
