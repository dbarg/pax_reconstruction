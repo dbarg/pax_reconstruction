{
 "cells": [
  {
   "cell_type": "code",
   "execution_count": 1,
   "metadata": {
    "collapsed": false
   },
   "outputs": [
    {
     "name": "stderr",
     "output_type": "stream",
     "text": [
      "Using TensorFlow backend.\n"
     ]
    }
   ],
   "source": [
    "\n",
    "####################################################################################################\n",
    "####################################################################################################\n",
    "\n",
    "%matplotlib inline\n",
    "\n",
    "\n",
    "####################################################################################################\n",
    "####################################################################################################\n",
    "\n",
    "import sys\n",
    "import os.path\n",
    "\n",
    "sys.path.append(os.path.abspath(\"../\"))\n",
    "sys.path.append(os.path.abspath(\"../pax\"))\n",
    "sys.path.append(os.path.abspath(\"../python_pax_reader\"))\n",
    "\n",
    "import matplotlib.pyplot as plt\n",
    "import numpy as np\n",
    "import pandas as pd\n",
    "import seaborn as sns\n",
    "from IPython.display import display\n",
    "\n",
    "import waveformset as wfset\n",
    "\n",
    "\n",
    "\n",
    "##########################################################################################\n",
    "##########################################################################################\n",
    "\n",
    "import keras\n",
    "from keras import backend as K\n",
    "from keras import layers\n",
    "from keras.layers import Dense\n",
    "from keras.models import load_model\n",
    "from keras.models import Sequential\n",
    "import keras.utils.vis_utils\n",
    "from keras.utils import plot_model\n"
   ]
  },
  {
   "cell_type": "code",
   "execution_count": 2,
   "metadata": {
    "collapsed": true
   },
   "outputs": [],
   "source": [
    "\n",
    "####################################################################################################\n",
    "####################################################################################################\n",
    "\n",
    "file_raw   = \"../data_xenon_waveform/FakeWaveform_raw/XENON1T-0-000000000-000000999-000001000.zip\"\n",
    "file_truth = \"../data_xenon_waveform/FakeWaveform_truth.csv\"\n"
   ]
  },
  {
   "cell_type": "code",
   "execution_count": 3,
   "metadata": {
    "collapsed": false
   },
   "outputs": [
    {
     "name": "stderr",
     "output_type": "stream",
     "text": [
      "100%|██████████| 1000/1000 [00:06<00:00, 145.17it/s]\n",
      "100%|██████████| 1000/1000 [00:03<00:00, 305.62it/s]"
     ]
    },
    {
     "name": "stdout",
     "output_type": "stream",
     "text": [
      "\n",
      "Events:    2\n",
      "PMT Shape: (248,)\n"
     ]
    },
    {
     "name": "stderr",
     "output_type": "stream",
     "text": [
      "\n"
     ]
    }
   ],
   "source": [
    "\n",
    "####################################################################################################\n",
    "####################################################################################################\n",
    "\n",
    "nEventsGeant = 2\n",
    "\n",
    "wfs = wfset.WaveformSet()\n",
    "\n",
    "wfs.read_data_and_truth(file_raw, file_truth, nEventsGeant)\n",
    "\n"
   ]
  },
  {
   "cell_type": "code",
   "execution_count": 4,
   "metadata": {
    "collapsed": true
   },
   "outputs": [],
   "source": [
    "\n",
    "##########################################################################################\n",
    "##########################################################################################\n",
    "\n",
    "nEvent = 1\n"
   ]
  },
  {
   "cell_type": "code",
   "execution_count": 5,
   "metadata": {
    "collapsed": false
   },
   "outputs": [
    {
     "name": "stdout",
     "output_type": "stream",
     "text": [
      "105371\n",
      "105634\n"
     ]
    }
   ],
   "source": [
    "\n",
    "##########################################################################################\n",
    "##########################################################################################\n",
    "\n",
    "df_truth = wfs.truth()[nEvent]\n",
    "\n",
    "df_truth = df_truth.loc[df_truth['peak_type'] == 's2']\n",
    "\n",
    "t0 = df_truth.iloc[0]['t_first_electron']\n",
    "t1 = df_truth.iloc[0]['t_last_electron']\n",
    "\n",
    "s0 = int(np.round(t0 / 10))\n",
    "s1 = int(np.round(t1 / 10))\n",
    "\n",
    "eps = (s1 - s0)*2.0\n",
    "\n",
    "x0 = s0 - eps\n",
    "x1 = s1 + eps\n",
    "\n",
    "print(s0)\n",
    "print(s1)\n"
   ]
  },
  {
   "cell_type": "code",
   "execution_count": 6,
   "metadata": {
    "collapsed": false
   },
   "outputs": [
    {
     "name": "stdout",
     "output_type": "stream",
     "text": [
      "(350000,)\n"
     ]
    }
   ],
   "source": [
    "\n",
    "##########################################################################################\n",
    "##########################################################################################\n",
    "\n",
    "sum_waveforms = wfs.waveforms_in_channels[nEvent].drop(\"event_number\", axis=1).iloc[:, 0:127].sum(axis=1).as_matrix()\n",
    "\n",
    "print(sum_waveforms.shape)\n"
   ]
  },
  {
   "cell_type": "code",
   "execution_count": 27,
   "metadata": {
    "collapsed": false
   },
   "outputs": [
    {
     "name": "stdout",
     "output_type": "stream",
     "text": [
      "4207843.0\n",
      "94\n"
     ]
    },
    {
     "data": {
      "text/plain": [
       "(350000,)"
      ]
     },
     "execution_count": 27,
     "metadata": {},
     "output_type": "execute_result"
    }
   ],
   "source": [
    "\n",
    "##########################################################################################\n",
    "##########################################################################################\n",
    "\n",
    "df_pmts = wfs.get_waveforms_in_channels(1)\n",
    "\n",
    "s2_sum_max = 0\n",
    "s2_sum_idx = -1\n",
    "\n",
    "for i in range(0, 127):\n",
    "\n",
    "    col = \"channel_\" + str(i)\n",
    "    \n",
    "    arr_pmt = df_pmts[:][col].as_matrix()\n",
    "\n",
    "    s2_sum = np.sum(arr_pmt[s0:s1])\n",
    "    \n",
    "    if (s2_sum > s2_sum_max):\n",
    "        \n",
    "        s2_sum_max = s2_sum\n",
    "        s2_sum_idx = i\n",
    "        \n",
    "    #print(\"PMT \" + str(i) + \": \" + str(s2_sum) )\n",
    "    \n",
    "    continue\n",
    "    \n",
    "print(s2_sum_max)\n",
    "print(s2_sum_idx)\n",
    "\n",
    "df_pmt_max = df_pmts.iloc[:, 94]\n",
    "\n",
    "#np.sum(df_pmt_max[s0:s1][:])\n",
    "\n",
    "df_pmt_max.shape"
   ]
  },
  {
   "cell_type": "code",
   "execution_count": 83,
   "metadata": {
    "collapsed": false
   },
   "outputs": [],
   "source": [
    "\n",
    "df_pmts = wfs.get_waveforms_in_channels(1)\n",
    "\n",
    "\n",
    "##########################################################################################\n",
    "##########################################################################################\n",
    "\n",
    "\n",
    "arr_s2_sum = np.zeros(0)\n",
    "arr_s2_idx = np.zeros(0)\n",
    "\n",
    "for i in range(0, 127):\n",
    "\n",
    "    col = \"channel_\" + str(i)\n",
    "    \n",
    "    arr_pmt = df_pmts[:][col].as_matrix()\n",
    "\n",
    "    s2_sum = np.sum(arr_pmt[s0:s1])\n",
    "\n",
    "    arr_s2_sum = np.append(arr_s2_sum, s2_sum)\n",
    "    arr_s2_idx = np.append(arr_s2_idx, int(i))\n",
    "\n",
    "    continue\n",
    "    \n",
    "    \n",
    "##########################################################################################\n",
    "##########################################################################################\n",
    "\n",
    "df_s2_sum = pd.DataFrame(data={'s2_sum': arr_s2_sum, 'pmt': arr_s2_idx})\n",
    "df_s2_sum = df_s2_sum.sort_values(['s2_sum'], ascending=False)\n",
    "df_s2_sum = df_s2_sum.reset_index(drop=True)\n",
    "\n",
    "\n"
   ]
  },
  {
   "cell_type": "code",
   "execution_count": 106,
   "metadata": {
    "collapsed": false
   },
   "outputs": [
    {
     "data": {
      "text/plain": [
       "(104845.0, 106160.0)"
      ]
     },
     "execution_count": 106,
     "metadata": {},
     "output_type": "execute_result"
    },
    {
     "data": {
      "image/png": "[encoded data removed]",
      "text/plain": [
       "<matplotlib.figure.Figure at 0x1a8c066358>"
      ]
     },
     "metadata": {},
     "output_type": "display_data"
    }
   ],
   "source": [
    "\n",
    "##########################################################################################\n",
    "##########################################################################################\n",
    "\n",
    "nMax = 20\n",
    "\n",
    "arr_s2_sum_select = np.zeros(sum_waveforms.size)\n",
    "\n",
    "s2_idxs = df_s2_sum.iloc[0:nMax, 0:1].as_matrix().reshape(nMax)\n",
    "#s2_idxs = int(s2_idxs)\n",
    "\n",
    "for i in range(0, nMax):\n",
    "    \n",
    "    idx = int(s2_idxs[i])\n",
    "    \n",
    "    col = \"channel_\" + str(idx)\n",
    "    \n",
    "    #print(col)\n",
    "    \n",
    "    arr_pmt = df_pmts[:][col].as_matrix()\n",
    "\n",
    "    #print(np.max(arr_pmt))\n",
    "    \n",
    "    arr_s2_sum_select = np.add(arr_s2_sum_select, arr_pmt)\n",
    "    \n",
    "    continue\n",
    "\n",
    "    \n",
    "##########################################################################################\n",
    "##########################################################################################\n",
    "\n",
    "plt.plot(sum_waveforms    , color='b')\n",
    "plt.plot(arr_s2_sum_select, color='y')\n",
    "\n",
    "plt.xlim([x0, x1])\n"
   ]
  },
  {
   "cell_type": "code",
   "execution_count": null,
   "metadata": {
    "collapsed": true
   },
   "outputs": [],
   "source": []
  },
  {
   "cell_type": "code",
   "execution_count": null,
   "metadata": {
    "collapsed": true
   },
   "outputs": [],
   "source": []
  },
  {
   "cell_type": "code",
   "execution_count": 54,
   "metadata": {
    "collapsed": false
   },
   "outputs": [
    {
     "data": {
      "text/plain": [
       "[<matplotlib.lines.Line2D at 0x1a217c3cf8>]"
      ]
     },
     "execution_count": 54,
     "metadata": {},
     "output_type": "execute_result"
    },
    {
     "data": {
      "image/png": "[encoded data removed]",
      "text/plain": [
       "<matplotlib.figure.Figure at 0x1a218caa20>"
      ]
     },
     "metadata": {},
     "output_type": "display_data"
    }
   ],
   "source": [
    "\n",
    "##########################################################################################\n",
    "##########################################################################################\n",
    "\n",
    "sum_test = np.zeros(sum_waveforms.size)\n",
    "\n",
    "for i in range(0, 127):\n",
    "\n",
    "    col = \"channel_\" + str(i)\n",
    "    \n",
    "    arr_pmt = df_pmts[:][col].as_matrix()\n",
    "    \n",
    "    #print(arr_pmt.shape)\n",
    "    \n",
    "    sum_test = np.add(sum_test, arr_pmt)\n",
    "    \n",
    "plt.plot(sum_test)\n",
    "\n"
   ]
  },
  {
   "cell_type": "code",
   "execution_count": 26,
   "metadata": {
    "collapsed": false
   },
   "outputs": [
    {
     "data": {
      "image/png": "[encoded data removed]",
      "text/plain": [
       "<matplotlib.figure.Figure at 0x1a238062e8>"
      ]
     },
     "metadata": {},
     "output_type": "display_data"
    }
   ],
   "source": [
    "\n",
    "##########################################################################################\n",
    "##########################################################################################\n",
    "\n",
    "fig, ax = plt.subplots(nrows=2, ncols=1, figsize=(20, 10))\n",
    "plt.subplots_adjust(left=None, bottom=None, right=None, top=None, wspace=0.2, hspace=0.5)\n",
    "\n",
    "ax1 = plt.subplot(2, 1, 1)\n",
    "plt.xlim([x0, x1])\n",
    "plt.plot(sum_waveforms, color='b')\n",
    "plt.plot(sum_test     , color='y')\n",
    "\n",
    "plt.plot(df_pmt_max.as_matrix(), color='r')\n",
    "plt.axvline(x=s0, color='g')\n",
    "plt.axvline(x=s1, color='g')\n",
    "plt.xlabel('sample')\n",
    "plt.ylabel('Amplitude')\n",
    "plt.title('Summed Waveform')\n",
    "plt.grid(True)\n",
    "y0, y1 = ax1.get_ylim()\n",
    "\n",
    "plt.subplot(2, 1, 2)\n",
    "plt.xlim([x0, x1])\n",
    "#plt.ylim([y0, y1])\n",
    "plt.plot(df_pmt_max.as_matrix())\n",
    "plt.axvline(x=s0, color='g')\n",
    "plt.axvline(x=s1, color='g')\n",
    "plt.xlabel('sample')\n",
    "plt.ylabel('Amplitude')\n",
    "plt.title('Single PMT Waveform')\n",
    "plt.grid(True)\n",
    "\n"
   ]
  },
  {
   "cell_type": "code",
   "execution_count": null,
   "metadata": {
    "collapsed": true
   },
   "outputs": [],
   "source": []
  },
  {
   "cell_type": "code",
   "execution_count": null,
   "metadata": {
    "collapsed": false
   },
   "outputs": [],
   "source": [
    "\n",
    "##########################################################################################\n",
    "##########################################################################################\n",
    "\n",
    "fig, ax = plt.subplots(nrows=2, ncols=1, figsize=(10, 5))\n",
    "plt.subplots_adjust(left=None, bottom=None, right=None, top=None, wspace=0.2, hspace=0.5)\n",
    "\n",
    "plt.subplot(2, 1, 1)\n",
    "plt.plot(sum_waveforms)\n",
    "plt.axvline(x=s0, color='r')\n",
    "plt.axvline(x=s1, color='r')\n",
    "\n",
    "plt.xlabel('sample')\n",
    "plt.ylabel('Amplitude')\n",
    "plt.title('Summed Waveform')\n",
    "plt.grid(True)\n",
    "\n",
    "plt.subplot(2, 1, 2)\n",
    "#plt.plot(sum_waveforms)\n",
    "plt.axvline(x=s0, color='r')\n",
    "plt.axvline(x=s1, color='r')\n",
    "plt.xlabel('sample')\n",
    "plt.ylabel('Amplitude')\n",
    "plt.title('Single PMT Waveform')\n",
    "plt.grid(True)\n"
   ]
  },
  {
   "cell_type": "code",
   "execution_count": null,
   "metadata": {
    "collapsed": true
   },
   "outputs": [],
   "source": []
  },
  {
   "cell_type": "code",
   "execution_count": null,
   "metadata": {
    "collapsed": true
   },
   "outputs": [],
   "source": []
  },
  {
   "cell_type": "code",
   "execution_count": null,
   "metadata": {
    "collapsed": true
   },
   "outputs": [],
   "source": []
  },
  {
   "cell_type": "code",
   "execution_count": null,
   "metadata": {
    "collapsed": true
   },
   "outputs": [],
   "source": []
  },
  {
   "cell_type": "code",
   "execution_count": null,
   "metadata": {
    "collapsed": true
   },
   "outputs": [],
   "source": []
  },
  {
   "cell_type": "code",
   "execution_count": null,
   "metadata": {
    "collapsed": true
   },
   "outputs": [],
   "source": []
  },
  {
   "cell_type": "code",
   "execution_count": null,
   "metadata": {
    "collapsed": false
   },
   "outputs": [],
   "source": [
    "\n",
    "####################################################################################################\n",
    "####################################################################################################\n",
    "\n",
    "\n",
    "##########################################################################################\n",
    "# Plot light fraction as a function of PMT\n",
    "##########################################################################################\n",
    "\n",
    "print(df_train_input.shape)\n",
    "\n",
    "arr_sums = np.zeros(0)\n",
    "arr_idxs = np.zeros(0)\n",
    "\n",
    "for i in range(0, df_train_input.shape[0]):\n",
    "    \n",
    "        df = df_train_input[i:i+1][:]\n",
    "        \n",
    "        df_sum = np.sum(df.as_matrix())\n",
    "        \n",
    "        arr_sums = np.append(arr_sums, df_sum)\n",
    "        arr_idxs = np.append(arr_idxs, i)\n",
    "        \n",
    "        \n",
    "        \n",
    "arr_sums = np.sort(arr_sums)[::-1]\n",
    "\n",
    "#print(arr_sums)"
   ]
  },
  {
   "cell_type": "code",
   "execution_count": null,
   "metadata": {
    "collapsed": false
   },
   "outputs": [],
   "source": [
    "\n"
   ]
  },
  {
   "cell_type": "code",
   "execution_count": null,
   "metadata": {
    "collapsed": false
   },
   "outputs": [],
   "source": [
    "\n",
    "import numpy as np\n",
    "import pandas as pd\n",
    "import seaborn as sns\n",
    "import matplotlib.pyplot as plt\n",
    "sns.set(style=\"white\", rc={\"axes.facecolor\": (0, 0, 0, 0)})\n",
    "\n",
    "# Create the data\n",
    "rs = np.random.RandomState(1979)\n",
    "x = rs.randn(500)\n",
    "g = np.tile(list(\"ABCDEFGHIJ\"), 50)\n",
    "df = pd.DataFrame(dict(x=x, g=g))\n",
    "m = df.g.map(ord)\n",
    "df[\"x\"] += m\n",
    "\n",
    "# Initialize the FacetGrid object\n",
    "pal = sns.cubehelix_palette(10, rot=-.25, light=.7)\n",
    "g = sns.FacetGrid(df, row=\"g\", hue=\"g\", aspect=15, size=.5, palette=pal)\n",
    "\n",
    "# Draw the densities in a few steps\n",
    "g.map(sns.kdeplot, \"x\", clip_on=False, shade=True, alpha=1, lw=1.5, bw=.2)\n",
    "g.map(sns.kdeplot, \"x\", clip_on=False, color=\"w\", lw=2, bw=.2)\n",
    "g.map(plt.axhline, y=0, lw=2, clip_on=False)\n",
    "\n",
    "# Define and use a simple function to label the plot in axes coordinates\n",
    "def label(x, color, label):\n",
    "    ax = plt.gca()\n",
    "    ax.text(0, .2, label, fontweight=\"bold\", color=color, \n",
    "            ha=\"left\", va=\"center\", transform=ax.transAxes)\n",
    "\n",
    "g.map(label, \"x\")\n",
    "\n",
    "# Set the subplots to overlap\n",
    "g.fig.subplots_adjust(hspace=-.25)\n",
    "\n",
    "# Remove axes details that don't play will with overlap\n",
    "g.set_titles(\"\")\n",
    "g.set(yticks=[])\n",
    "g.despine(bottom=True, left=True)"
   ]
  },
  {
   "cell_type": "code",
   "execution_count": null,
   "metadata": {
    "collapsed": true
   },
   "outputs": [],
   "source": []
  },
  {
   "cell_type": "code",
   "execution_count": null,
   "metadata": {
    "collapsed": false
   },
   "outputs": [],
   "source": [
    "\n",
    "\n",
    "####################################################################################################\n",
    "# Create the data\n",
    "####################################################################################################\n",
    "\n",
    "x = df_train_input[0:10][:].as_matrix()\n",
    "x = y.reshape(y.size)\n",
    "\n",
    "g2 = np.tile(list(\"ABCDEFGHIJ\"), 249)\n",
    "df2 = pd.DataFrame(dict(x=x, g=g2))\n",
    "\n",
    "\n",
    "####################################################################################################\n",
    "# Initialize the FacetGrid object\n",
    "####################################################################################################\n",
    "\n",
    "pal2 = sns.cubehelix_palette(249, rot=-.25, light=.7)\n",
    "#g2 = sns.FacetGrid(df2, row=\"g\", hue=\"g\", aspect=15, size=.5, palette=pal2)\n",
    "g2 = sns.FacetGrid(df2, row=\"g\", hue=\"g\", aspect=10, palette=pal2)\n",
    "\n",
    "\n",
    "####################################################################################################\n",
    "# Draw the densities in a few steps\n",
    "####################################################################################################\n",
    "\n",
    "sns.set(style=\"white\", rc={\"axes.facecolor\": (0, 0, 0, 0)})\n",
    "\n",
    "g2.map(sns.kdeplot, \"x\", clip_on=False, shade=True, alpha=1, lw=1.5, bw=.2)\n",
    "g2.map(sns.kdeplot, \"x\", clip_on=False, color=\"w\", lw=2, bw=.2)\n",
    "g2.map(plt.axhline, y=0, lw=2, clip_on=False)\n",
    "\n",
    "\n",
    "####################################################################################################\n",
    "# Define and use a simple function to label the plot in axes coordinates\n",
    "####################################################################################################\n",
    "\n",
    "def label(x, color, label):\n",
    "    \n",
    "    ax = plt.gca()\n",
    "    ax.text(0, .2, label, fontweight=\"bold\", color=color, ha=\"left\", va=\"center\", transform=ax.transAxes)\n",
    "\n",
    "#g.map(label, \"x\")\n",
    "\n",
    "\n",
    "####################################################################################################\n",
    "####################################################################################################\n",
    "\n",
    "g2.fig.subplots_adjust(hspace=-.25) # Set the subplots to overlap\n",
    "g2.set_titles(\"\")                   # Remove axes details that don't play will with overlap\n",
    "g2.set(yticks=[])\n",
    "g2.despine(bottom=True, left=True)\n"
   ]
  },
  {
   "cell_type": "code",
   "execution_count": null,
   "metadata": {
    "collapsed": true
   },
   "outputs": [],
   "source": []
  }
 ],
 "metadata": {
  "anaconda-cloud": {},
  "kernelspec": {
   "display_name": "Python 3",
   "language": "python",
   "name": "python3"
  },
  "language_info": {
   "codemirror_mode": {
    "name": "ipython",
    "version": 3
   },
   "file_extension": ".py",
   "mimetype": "text/x-python",
   "name": "python",
   "nbconvert_exporter": "python",
   "pygments_lexer": "ipython3",
   "version": "3.5.4"
  }
 },
 "nbformat": 4,
 "nbformat_minor": 2
}
