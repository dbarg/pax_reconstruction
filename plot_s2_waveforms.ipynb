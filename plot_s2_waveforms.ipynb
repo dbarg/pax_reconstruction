{
 "cells": [
  {
   "cell_type": "code",
   "execution_count": 1,
   "metadata": {
    "collapsed": false
   },
   "outputs": [],
   "source": [
    "\n",
    "####################################################################################################\n",
    "####################################################################################################\n",
    "\n",
    "import sys\n",
    "import os\n",
    "\n",
    "import matplotlib as mpl\n",
    "import matplotlib.pyplot as plt\n",
    "import numpy as np\n",
    "import pandas as pd\n",
    "#import seaborn as sns\n",
    "\n",
    "from IPython.display import display\n",
    "\n",
    "sys.path.append(os.path.abspath(\"../python_pax_reader\"))\n",
    "import waveformset as wfset\n",
    "\n",
    "from helpers import *\n",
    "\n",
    "plt.style.use('dbarge')\n"
   ]
  },
  {
   "cell_type": "code",
   "execution_count": 2,
   "metadata": {
    "collapsed": true
   },
   "outputs": [],
   "source": [
    "\n",
    "####################################################################################################\n",
    "####################################################################################################\n",
    "\n",
    "file_raw   = \"../data_xenon_waveform/FakeWaveform_raw/XENON1T-0-000000000-000000999-000001000.zip\"\n",
    "file_truth = \"../data_xenon_waveform/FakeWaveform_truth.csv\"\n",
    "\n",
    "nEvent = 1\n"
   ]
  },
  {
   "cell_type": "code",
   "execution_count": 3,
   "metadata": {
    "collapsed": false
   },
   "outputs": [
    {
     "name": "stderr",
     "output_type": "stream",
     "text": [
      "100%|██████████| 1000/1000 [00:14<00:00, 67.02it/s]\n",
      "100%|██████████| 1000/1000 [00:03<00:00, 288.33it/s]"
     ]
    },
    {
     "name": "stdout",
     "output_type": "stream",
     "text": [
      "\n",
      "Events:    2\n",
      "PMT Shape: (248,)\n"
     ]
    },
    {
     "name": "stderr",
     "output_type": "stream",
     "text": [
      "\n"
     ]
    }
   ],
   "source": [
    "\n",
    "####################################################################################################\n",
    "####################################################################################################\n",
    "\n",
    "nEventsGeant = 2\n",
    "\n",
    "wfs = wfset.WaveformSet()\n",
    "\n",
    "wfs.read_data_and_truth(file_raw, file_truth, nEventsGeant)\n",
    "\n",
    "df_pmts = wfs.get_waveforms_in_channels(nEvent)\n"
   ]
  },
  {
   "cell_type": "code",
   "execution_count": 4,
   "metadata": {
    "collapsed": false
   },
   "outputs": [],
   "source": [
    "\n",
    "####################################################################################################\n",
    "# True Time Window of S2 Pulse\n",
    "####################################################################################################\n",
    "\n",
    "df_truth = wfs.truth()\n",
    "\n",
    "df_truth = wfs.truth()[nEvent]\n",
    "df_truth = df_truth.loc[df_truth['peak_type'] == 's2']\n",
    "\n",
    "t0 = df_truth.iloc[0]['t_first_electron']\n",
    "t1 = df_truth.iloc[0]['t_last_electron']\n",
    "\n",
    "s0 = int(np.round(t0 / 10))\n",
    "s1 = int(np.round(t1 / 10))\n",
    "\n",
    "eps = (s1 - s0)*2.0\n",
    "x0  = s0 - eps\n",
    "x1  = s1 + eps\n",
    "\n"
   ]
  },
  {
   "cell_type": "code",
   "execution_count": null,
   "metadata": {
    "collapsed": false
   },
   "outputs": [],
   "source": [
    "\n",
    "##########################################################################################\n",
    "# Plot Single PMT Waveform\n",
    "##########################################################################################\n",
    "\n",
    "df1  = df_pmts.iloc[:, 0:1].copy(deep=True)\n",
    "print(df1.shape)\n",
    "#display(df1)\n",
    "ymax = np.amax(df1.as_matrix())    \n",
    "print(ymax)\n",
    "\n",
    "#\n",
    "f = plt.figure()\n",
    "plt.plot(df1, linewidth=1)\n",
    "plt.axvline(x=s0, color='k', linestyle='dashed' , label='t_first_el (true)')\n",
    "plt.axvline(x=s1, color='k', linestyle='dashdot', label='t_last_el  (true)')\n",
    "#plt.xlim([s0-50, s1+50])\n",
    "y0, y1 = plt.ylim()\n",
    "t1 = plt.title(\"PMT #1 Waveform\", y=1.05)\n",
    "\n",
    "f.savefig(\"plots/s2_waveform_pmt001.png\")\n"
   ]
  },
  {
   "cell_type": "code",
   "execution_count": null,
   "metadata": {
    "collapsed": false
   },
   "outputs": [],
   "source": [
    "\n",
    "##########################################################################################\n",
    "# Plot Single PMT Waveforms\n",
    "##########################################################################################\n",
    "\n",
    "df_pmts = wfs.get_waveforms_in_channels(nEvent)\n",
    "df_pmts = df_pmts.iloc[:, 0:127]\n",
    "\n",
    "print(df_pmts.shape)\n",
    "\n",
    "\n",
    "for i in range(0 , 127):\n",
    "    \n",
    "    df = df_pmts.iloc[:, i:i+1]\n",
    "    \n",
    "    plt.plot(df, linewidth=1)\n",
    "    plt.axvline(x=s0, color='k', linestyle='dashed' , label='t_first_el (true)')\n",
    "    plt.axvline(x=s1, color='k', linestyle='dashdot', label='t_last_el  (true)')\n",
    "    plt.xlim([s0-50, s1+200])\n",
    "    "
   ]
  },
  {
   "cell_type": "code",
   "execution_count": null,
   "metadata": {
    "collapsed": false
   },
   "outputs": [],
   "source": [
    "\n",
    "##########################################################################################\n",
    "##########################################################################################\n",
    "\n",
    "df_pmts_s2ranked         = waveformIndexRankedByIntegral(df_pmts, s0, s1)\n",
    "nSamples                 = len(df_pmts.index)\n",
    "     \n",
    "idxs_pmts_top127         = df_pmts_s2ranked.iloc[0:127, 0:1].as_matrix().reshape(127)\n",
    "idxs_pmts_top065         = df_pmts_s2ranked.iloc[0: 65, 0:1].as_matrix().reshape(65)\n",
    "idxs_pmts_top050         = df_pmts_s2ranked.iloc[0: 50, 0:1].as_matrix().reshape(50)\n",
    "idxs_pmts_top030         = df_pmts_s2ranked.iloc[0: 30, 0:1].as_matrix().reshape(30)\n",
    "idxs_pmts_top020         = df_pmts_s2ranked.iloc[0: 20, 0:1].as_matrix().reshape(20)\n",
    "idxs_pmts_top010         = df_pmts_s2ranked.iloc[0: 10, 0:1].as_matrix().reshape(10)\n",
    "idxs_pmts_top001         = df_pmts_s2ranked.iloc[0:  1, 0:1].as_matrix().reshape(1)\n",
    "\n",
    "arr_waveform_sum127      = sumWaveformsOverPMTs(df_pmts, idxs_pmts_top127, s0, s1)\n",
    "arr_waveform_sum065      = sumWaveformsOverPMTs(df_pmts, idxs_pmts_top065, s0, s1)\n",
    "arr_waveform_sum050      = sumWaveformsOverPMTs(df_pmts, idxs_pmts_top050, s0, s1)\n",
    "arr_waveform_sum030      = sumWaveformsOverPMTs(df_pmts, idxs_pmts_top030, s0, s1)\n",
    "arr_waveform_sum020      = sumWaveformsOverPMTs(df_pmts, idxs_pmts_top020, s0, s1)\n",
    "arr_waveform_sum010      = sumWaveformsOverPMTs(df_pmts, idxs_pmts_top010, s0, s1)\n",
    "arr_waveform_sum001      = sumWaveformsOverPMTs(df_pmts, idxs_pmts_top001, s0, s1)\n",
    "\n",
    "sum_s2_top127            = np.sum(arr_waveform_sum127[s0:s1])\n",
    "sum_s2_top065            = np.sum(arr_waveform_sum065[s0:s1])\n",
    "sum_s2_top050            = np.sum(arr_waveform_sum050[s0:s1])\n",
    "sum_s2_top030            = np.sum(arr_waveform_sum030[s0:s1])\n",
    "sum_s2_top020            = np.sum(arr_waveform_sum020[s0:s1])\n",
    "sum_s2_top010            = np.sum(arr_waveform_sum010[s0:s1])\n",
    "sum_s2_top001            = np.sum(arr_waveform_sum001[s0:s1])\n",
    "\n",
    "arr_waveform_sum127_norm = np.divide(arr_waveform_sum127, sum_s2_top127*np.ones(nSamples)) \n",
    "arr_waveform_sum065_norm = np.divide(arr_waveform_sum065, sum_s2_top127*np.ones(nSamples))\n",
    "arr_waveform_sum050_norm = np.divide(arr_waveform_sum050, sum_s2_top127*np.ones(nSamples))\n",
    "arr_waveform_sum030_norm = np.divide(arr_waveform_sum030, sum_s2_top127*np.ones(nSamples))\n",
    "arr_waveform_sum020_norm = np.divide(arr_waveform_sum020, sum_s2_top127*np.ones(nSamples))\n",
    "arr_waveform_sum010_norm = np.divide(arr_waveform_sum010, sum_s2_top127*np.ones(nSamples))\n",
    "arr_waveform_sum001_norm = np.divide(arr_waveform_sum001, sum_s2_top127*np.ones(nSamples))\n",
    "\n",
    "frac_s2_top127           = np.round(100*(sum_s2_top127 / sum_s2_top127), 1)\n",
    "frac_s2_top065           = np.round(100*(sum_s2_top065 / sum_s2_top127), 1)\n",
    "frac_s2_top050           = np.round(100*(sum_s2_top050 / sum_s2_top127), 1)\n",
    "frac_s2_top030           = np.round(100*(sum_s2_top030 / sum_s2_top127), 1)\n",
    "frac_s2_top020           = np.round(100*(sum_s2_top020 / sum_s2_top127), 1)\n",
    "frac_s2_top010           = np.round(100*(sum_s2_top010 / sum_s2_top127), 1)\n",
    "frac_s2_top001           = np.round(100*(sum_s2_top001 / sum_s2_top127), 1)\n",
    "\n",
    "\n",
    "##########################################################################################\n",
    "##########################################################################################\n",
    "\n",
    "arr_s2sum_ranked  = df_pmts_s2ranked.iloc[:, 1].as_matrix().reshape(len(df_pmts_s2ranked.index), 1)\n",
    "arr_s2idx_ranked  = df_pmts_s2ranked.iloc[:, 0].as_matrix().reshape(len(df_pmts_s2ranked.index), 1)\n",
    "arr_s2frac_ranked = arr_s2sum_ranked / sum_s2_top127\n",
    "arr_s2idx_ranked  = arr_s2idx_ranked.astype(int)\n",
    "\n",
    "\n",
    "##########################################################################################\n",
    "##########################################################################################\n",
    "\n",
    "idx_pmt_rank001 = arr_s2idx_ranked[  0, 0]\n",
    "idx_pmt_rank010 = arr_s2idx_ranked[  9, 0]\n",
    "idx_pmt_rank050 = arr_s2idx_ranked[ 49, 0]\n",
    "idx_pmt_rank075 = arr_s2idx_ranked[ 75, 0]\n",
    "idx_pmt_rank100 = arr_s2idx_ranked[100, 0]\n",
    "\n",
    "arr_waveform_rank001 = df_pmts.iloc[:, idx_pmt_rank001]\n",
    "arr_waveform_rank010 = df_pmts.iloc[:, idx_pmt_rank010]\n",
    "arr_waveform_rank050 = df_pmts.iloc[:, idx_pmt_rank050]\n",
    "arr_waveform_rank075 = df_pmts.iloc[:, idx_pmt_rank075]\n",
    "arr_waveform_rank100 = df_pmts.iloc[:, idx_pmt_rank100]\n",
    "\n",
    "if (frac_s2_top127 != 100):\n",
    "    \n",
    "    print(\"Error in Normalizatoin!\")\n",
    "    \n",
    "    \n",
    "##########################################################################################\n",
    "##########################################################################################\n",
    "\n",
    "print()\n",
    "print(\"S2 Integral over 127 top PMTs:\\t\" + str(sum_s2_top127))\n",
    "print(\"S2 Integral over   1 top PMTs:\\t\" + str(sum_s2_top001))\n",
    "print(\"S2 Fraction, top PMTs:\\t\\t\" + str(frac_s2_top001) + \" %\")\n",
    "print()\n",
    "\n"
   ]
  },
  {
   "cell_type": "code",
   "execution_count": null,
   "metadata": {
    "collapsed": false
   },
   "outputs": [],
   "source": [
    "\n",
    "##########################################################################################\n",
    "##########################################################################################\n",
    "\n",
    "f, ax = plt.subplots(nrows=1, ncols=2, figsize=(20, 10))\n",
    "\n",
    "ax1 = plt.subplot(1, 2, 1)\n",
    "plt.plot(arr_waveform_sum127, label='S2 (127 PMTs)')\n",
    "#plt.plot(arr_waveform_sum065, label='S2 ( 65 PMTs)')\n",
    "#plt.plot(arr_waveform_sum050, label='S2 ( 50 PMTs)')\n",
    "#plt.plot(arr_waveform_sum030, label='S2 ( 30 PMTs)')\n",
    "#plt.plot(arr_waveform_sum020, label='S2 ( 20 PMTs)')\n",
    "plt.plot(arr_waveform_sum010, label='S2 ( 10 PMTs)')\n",
    "plt.plot(arr_waveform_sum001, label='S2 (  1 PMT )')\n",
    "\n",
    "plt.axvline(x=s0, color='k', linestyle='dashed' , label='t_first_el (true)')\n",
    "plt.axvline(x=s1, color='k', linestyle='dashdot', label='t_last_el  (true)')\n",
    "plt.title('S2 Waveform Summed Over PMTs', y=1.05)\n",
    "plt.xlabel('sample (10 ns)')\n",
    "plt.ylabel('ADC Counts')\n",
    "plt.xlim([s0-100, s1+500])\n",
    "plt.legend(fontsize=16)\n",
    "\n",
    "#\n",
    "ax2 = plt.subplot(1, 2, 2)\n",
    "plt.plot(arr_waveform_sum127_norm, label='S2 (127 PMTs)')\n",
    "#plt.plot(arr_waveform_sum065_norm, label='S2 ( 65 PMTs)')\n",
    "#plt.plot(arr_waveform_sum050_norm, label='S2 ( 50 PMTs)')\n",
    "#plt.plot(arr_waveform_sum030_norm, label='S2 ( 30 PMTs)')\n",
    "#plt.plot(arr_waveform_sum020_norm, label='S2 ( 20 PMTs)')\n",
    "plt.plot(arr_waveform_sum010_norm, label='S2 ( 10 PMTs)')\n",
    "plt.plot(arr_waveform_sum001_norm, label='S2 (  1 PMT )')\n",
    "plt.axvline(x=s0, color='k', linestyle='dashed' , label='t_first_el (true)')\n",
    "plt.axvline(x=s1, color='k', linestyle='dashdot', label='t_last_el  (true)')\n",
    "plt.title('Normalized S2 Waveform Summed over PMTs', y=1.05)\n",
    "plt.xlabel('sample (10 ns)')\n",
    "plt.xlim([s0-100, s1+500])\n",
    "plt.legend(fontsize=16)\n",
    "\n",
    "f.savefig(\"plots/s2_summed_waveforms.png\")\n",
    "plt.close()\n",
    "\n",
    "print()\n",
    "display(f)\n",
    "print()\n",
    "\n"
   ]
  },
  {
   "cell_type": "code",
   "execution_count": 25,
   "metadata": {
    "collapsed": false
   },
   "outputs": [
    {
     "name": "stdout",
     "output_type": "stream",
     "text": [
      "\n"
     ]
    },
    {
     "data": {
      "image/png": "[encoded data removed]",
      "text/plain": [
       "<matplotlib.figure.Figure at 0x1ab6f64e10>"
      ]
     },
     "metadata": {},
     "output_type": "display_data"
    },
    {
     "name": "stdout",
     "output_type": "stream",
     "text": [
      "\n"
     ]
    }
   ],
   "source": [
    "\n",
    "##########################################################################################\n",
    "# Plot the S2 contribution per PMT\n",
    "##########################################################################################\n",
    "\n",
    "f, ax = plt.subplots(nrows=2, ncols=1, figsize=(20, 10))\n",
    "plt.subplots_adjust(left=None, bottom=None, right=None, top=None, wspace=0.2, hspace=0.7)\n",
    "\n",
    "ax1 = plt.subplot(2, 1, 1)\n",
    "plt.plot(arr_s2sum_ranked)\n",
    "plt.xlim([0, 127])\n",
    "plt.xlabel('PMT index in order of descending S2 fraction')\n",
    "plt.ylabel('S2 Integral')\n",
    "plt.title('S2 Integral vs. PMT', y=1.05)\n",
    "\n",
    "ax2 = plt.subplot(2, 1, 2)\n",
    "plt.plot(arr_s2frac_ranked)\n",
    "plt.xlim([0, 127])\n",
    "plt.xlabel('PMT index in order of descending S2 fraction')\n",
    "plt.ylabel('S2 Integral Fraction')\n",
    "plt.title('S2 Integral Fraction vs. PMT', y=1.05)\n",
    "\n",
    "f.savefig(\"plots/s2_integral_vs_pmt.png\")\n",
    "plt.close()\n",
    "\n",
    "print()\n",
    "display(f)\n",
    "print()\n"
   ]
  },
  {
   "cell_type": "code",
   "execution_count": null,
   "metadata": {
    "collapsed": true
   },
   "outputs": [],
   "source": []
  },
  {
   "cell_type": "code",
   "execution_count": null,
   "metadata": {
    "collapsed": false
   },
   "outputs": [],
   "source": [
    "\n",
    "##########################################################################################\n",
    "# Facet Grid\n",
    "##########################################################################################\n",
    "\n",
    "import numpy as np\n",
    "import pandas as pd\n",
    "import seaborn as sns\n",
    "import matplotlib.pyplot as plt\n",
    "sns.set(style=\"white\", rc={\"axes.facecolor\": (0, 0, 0, 0)})\n",
    "\n",
    "# Create the data\n",
    "rs = np.random.RandomState(1979)\n",
    "x = rs.randn(500)\n",
    "g = np.tile(list(\"ABCDEFGHIJ\"), 50)\n",
    "df = pd.DataFrame(dict(x=x, g=g))\n",
    "m = df.g.map(ord)\n",
    "df[\"x\"] += m\n",
    "\n",
    "# Initialize the FacetGrid object\n",
    "pal = sns.cubehelix_palette(10, rot=-.25, light=.7)\n",
    "g = sns.FacetGrid(df, row=\"g\", hue=\"g\", aspect=15, size=.5, palette=pal)\n",
    "\n",
    "# Draw the densities in a few steps\n",
    "g.map(sns.kdeplot, \"x\", clip_on=False, shade=True, alpha=1, lw=1.5, bw=.2)\n",
    "g.map(sns.kdeplot, \"x\", clip_on=False, color=\"w\", lw=2, bw=.2)\n",
    "g.map(plt.axhline, y=0, lw=2, clip_on=False)\n",
    "\n",
    "# Define and use a simple function to label the plot in axes coordinates\n",
    "def label(x, color, label):\n",
    "    ax = plt.gca()\n",
    "    ax.text(0, .2, label, fontweight=\"bold\", color=color, \n",
    "            ha=\"left\", va=\"center\", transform=ax.transAxes)\n",
    "\n",
    "g.map(label, \"x\")\n",
    "\n",
    "# Set the subplots to overlap\n",
    "g.fig.subplots_adjust(hspace=-.25)\n",
    "\n",
    "# Remove axes details that don't play will with overlap\n",
    "g.set_titles(\"\")\n",
    "g.set(yticks=[])\n",
    "g.despine(bottom=True, left=True)"
   ]
  },
  {
   "cell_type": "code",
   "execution_count": null,
   "metadata": {
    "collapsed": true
   },
   "outputs": [],
   "source": []
  },
  {
   "cell_type": "code",
   "execution_count": null,
   "metadata": {
    "collapsed": false
   },
   "outputs": [],
   "source": [
    "\n",
    "##########################################################################################\n",
    "# Sanity\n",
    "##########################################################################################\n",
    "\n",
    "sum_waveforms = wfs.waveforms_in_channels[nEvent].drop(\"event_number\", axis=1).iloc[:, 0:127].sum(axis=1).as_matrix()\n",
    "sum_s2_all    = np.sum(sum_waveforms[s0:s1])\n",
    "\n",
    "plt.plot(sum_waveforms      , color='b')\n",
    "plt.plot(arr_waveform_sum127, color='y')\n",
    "plt.xlim([s0-100, s1+500])"
   ]
  },
  {
   "cell_type": "code",
   "execution_count": null,
   "metadata": {
    "collapsed": true
   },
   "outputs": [],
   "source": []
  },
  {
   "cell_type": "code",
   "execution_count": null,
   "metadata": {
    "collapsed": true
   },
   "outputs": [],
   "source": []
  },
  {
   "cell_type": "code",
   "execution_count": null,
   "metadata": {
    "collapsed": true
   },
   "outputs": [],
   "source": []
  },
  {
   "cell_type": "code",
   "execution_count": null,
   "metadata": {
    "collapsed": true
   },
   "outputs": [],
   "source": [
    "\n",
    "##########################################################################################\n",
    "# Debug Uncorrected Waveforms\n",
    "##########################################################################################\n",
    "\n",
    "#df_pmts = wfs.get_waveforms_in_channels(nEvent)\n",
    "#df      = df_pmts.iloc[:, 0:1].copy(deep=True)\n",
    "#    \n",
    "#fig, ax = plt.subplots(nrows=2, ncols=2, figsize=(20, 10))\n",
    "#plt.subplots_adjust(left=None, bottom=None, right=None, top=None, wspace=0.5, hspace=0.5)\n",
    "#\n",
    "##\n",
    "#plt.subplot(2, 2, 1)\n",
    "#ax1 = plt.plot(df, linewidth=1)\n",
    "#plt.axvline(x=s0, color='k', linestyle='dashed' , label='t_first_el (true)')\n",
    "#plt.axvline(x=s1, color='k', linestyle='dashdot', label='t_last_el  (true)')\n",
    "#plt.xlim([s0-50, s1+200])\n",
    "#t1 = plt.title(\"Single PMT Waveform\", y=1.05)\n",
    "#\n",
    "##\n",
    "#df.replace(0.0, 16000, inplace=True)\n",
    "#df -= 16000\n",
    "#\n",
    "#plt.subplot(2, 2, 2)\n",
    "#ax2 = plt.plot(df, linewidth=1)\n",
    "#plt.axvline(x=s0, color='k', linestyle='dashed' , label='t_first_el (true)')\n",
    "#plt.axvline(x=s1, color='k', linestyle='dashdot', label='t_last_el  (true)')\n",
    "#plt.xlim([s0-50, s1+200])\n",
    "#t2 = plt.title(\"Single PMT Waveform, Pedestal Subtracted (16000 ADC)\", y=1.05)\n",
    "#\n",
    "##\n",
    "#df *= -1\n",
    "\n",
    "#plt.subplot(2, 2, 3)\n",
    "#ax2 = plt.plot(df, linewidth=1)\n",
    "#plt.axvline(x=s0, color='k', linestyle='dashed' , label='t_first_el (true)')\n",
    "#plt.axvline(x=s1, color='k', linestyle='dashdot', label='t_last_el  (true)')\n",
    "#plt.xlim([s0-50, s1+200])\n",
    "#t3 = plt.title(\"Single PMT Waveform, Inverted, Pedestal Subtracted\", y=1.05)\n",
    "#\n",
    "##\n",
    "#plt.subplot(2, 2, 4)\n",
    "#ax2 = plt.plot(df, linewidth=1)\n",
    "#plt.axvline(x=s0, color='k', linestyle='dashed' , label='t_first_el (true)')\n",
    "#plt.axvline(x=s1, color='k', linestyle='dashdot', label='t_last_el  (true)')\n",
    "#plt.xlim([s0+75, s1-10])\n",
    "#plt.ylim([-20, 60])\n",
    "#t4 = plt.title(\"Single PMT Waveform Corrected Zoom\", y=1.05)\n",
    "\n",
    "#fig.savefig(\"plots/s2_single_pmt_waveform_bug.png\")"
   ]
  }
 ],
 "metadata": {
  "anaconda-cloud": {},
  "kernelspec": {
   "display_name": "Python 3",
   "language": "python",
   "name": "python3"
  },
  "language_info": {
   "codemirror_mode": {
    "name": "ipython",
    "version": 3
   },
   "file_extension": ".py",
   "mimetype": "text/x-python",
   "name": "python",
   "nbconvert_exporter": "python",
   "pygments_lexer": "ipython3",
   "version": "3.5.4"
  }
 },
 "nbformat": 4,
 "nbformat_minor": 2
}
