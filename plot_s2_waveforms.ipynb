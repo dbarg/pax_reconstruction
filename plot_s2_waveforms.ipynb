{
 "cells": [
  {
   "cell_type": "code",
   "execution_count": 1,
   "metadata": {
    "collapsed": false
   },
   "outputs": [
    {
     "name": "stderr",
     "output_type": "stream",
     "text": [
      "Using TensorFlow backend.\n"
     ]
    }
   ],
   "source": [
    "\n",
    "####################################################################################################\n",
    "####################################################################################################\n",
    "\n",
    "import sys\n",
    "import os\n",
    "\n",
    "import matplotlib as mpl\n",
    "import matplotlib.pyplot as plt\n",
    "import numpy as np\n",
    "import pandas as pd\n",
    "import seaborn as sns\n",
    "from IPython.display import display\n",
    "\n",
    "import keras\n",
    "from keras import backend as K\n",
    "from keras import layers\n",
    "from keras.layers import Dense\n",
    "from keras.models import load_model\n",
    "from keras.models import Sequential\n",
    "import keras.utils.vis_utils\n",
    "from keras.utils import plot_model\n",
    "\n",
    "sys.path.append(os.path.abspath(\"../python_pax_reader\"))\n",
    "import waveformset as wfset\n",
    "\n",
    "from helpers import *\n",
    "\n",
    "plt.style.use('dbarge')\n"
   ]
  },
  {
   "cell_type": "code",
   "execution_count": null,
   "metadata": {
    "collapsed": true
   },
   "outputs": [],
   "source": [
    "\n",
    "####################################################################################################\n",
    "####################################################################################################\n",
    "\n",
    "file_raw   = \"../data_xenon_waveform/FakeWaveform_raw/XENON1T-0-000000000-000000999-000001000.zip\"\n",
    "file_truth = \"../data_xenon_waveform/FakeWaveform_truth.csv\"\n",
    "\n"
   ]
  },
  {
   "cell_type": "code",
   "execution_count": null,
   "metadata": {
    "collapsed": false
   },
   "outputs": [
    {
     "name": "stderr",
     "output_type": "stream",
     "text": [
      "100%|██████████| 1000/1000 [00:07<00:00, 134.79it/s]\n",
      "100%|██████████| 1000/1000 [00:03<00:00, 306.09it/s]"
     ]
    }
   ],
   "source": [
    "\n",
    "####################################################################################################\n",
    "####################################################################################################\n",
    "\n",
    "nEventsGeant = 1000\n",
    "\n",
    "wfs = wfset.WaveformSet()\n",
    "\n",
    "wfs.read_data_and_truth(file_raw, file_truth, nEventsGeant)\n",
    "\n"
   ]
  },
  {
   "cell_type": "code",
   "execution_count": null,
   "metadata": {
    "collapsed": false
   },
   "outputs": [],
   "source": [
    "\n",
    "##########################################################################################\n",
    "##########################################################################################\n",
    "\n",
    "nEvent = 1\n",
    "\n",
    "df_pmts = wfs.get_waveforms_in_channels(nEvent)\n",
    "df_pmts = df_pmts.iloc[:, 0:127]\n",
    "\n"
   ]
  },
  {
   "cell_type": "code",
   "execution_count": null,
   "metadata": {
    "collapsed": false
   },
   "outputs": [],
   "source": [
    "\n",
    "##########################################################################################\n",
    "# True Time Window of S2 Pulse\n",
    "##########################################################################################\n",
    "\n",
    "df_truth = wfs.truth()[nEvent]\n",
    "df_truth = df_truth.loc[df_truth['peak_type'] == 's2']\n",
    "\n",
    "t0 = df_truth.iloc[0]['t_first_electron']\n",
    "t1 = df_truth.iloc[0]['t_last_electron']\n",
    "\n",
    "s0 = int(np.round(t0 / 10))\n",
    "s1 = int(np.round(t1 / 10))\n",
    "\n",
    "eps = (s1 - s0)*2.0\n",
    "x0  = s0 - eps\n",
    "x1  = s1 + eps\n",
    "\n"
   ]
  },
  {
   "cell_type": "code",
   "execution_count": null,
   "metadata": {
    "collapsed": false
   },
   "outputs": [],
   "source": [
    "\n",
    "##########################################################################################\n",
    "##########################################################################################\n",
    "\n",
    "df_pmts_s2ranked         = waveformIndexRankedByIntegral(df_pmts, s0, s1)\n",
    "nSamples                 = len(df_pmts.index)\n",
    "     \n",
    "idxs_pmts_top127         = df_pmts_s2ranked.iloc[0:127, 0:1].as_matrix().reshape(127)\n",
    "idxs_pmts_top065         = df_pmts_s2ranked.iloc[0: 65, 0:1].as_matrix().reshape(65)\n",
    "idxs_pmts_top050         = df_pmts_s2ranked.iloc[0: 50, 0:1].as_matrix().reshape(50)\n",
    "idxs_pmts_top030         = df_pmts_s2ranked.iloc[0: 30, 0:1].as_matrix().reshape(30)\n",
    "idxs_pmts_top020         = df_pmts_s2ranked.iloc[0: 20, 0:1].as_matrix().reshape(20)\n",
    "idxs_pmts_top010         = df_pmts_s2ranked.iloc[0: 10, 0:1].as_matrix().reshape(10)\n",
    "idxs_pmts_top001         = df_pmts_s2ranked.iloc[0:  1, 0:1].as_matrix().reshape(1)\n",
    "\n",
    "arr_waveform_sum127      = sumWaveformsOverPMTs(df_pmts, idxs_pmts_top127, s0, s1)\n",
    "arr_waveform_sum065      = sumWaveformsOverPMTs(df_pmts, idxs_pmts_top065, s0, s1)\n",
    "arr_waveform_sum050      = sumWaveformsOverPMTs(df_pmts, idxs_pmts_top050, s0, s1)\n",
    "arr_waveform_sum030      = sumWaveformsOverPMTs(df_pmts, idxs_pmts_top030, s0, s1)\n",
    "arr_waveform_sum020      = sumWaveformsOverPMTs(df_pmts, idxs_pmts_top020, s0, s1)\n",
    "arr_waveform_sum010      = sumWaveformsOverPMTs(df_pmts, idxs_pmts_top010, s0, s1)\n",
    "arr_waveform_sum001      = sumWaveformsOverPMTs(df_pmts, idxs_pmts_top001, s0, s1)\n",
    "\n",
    "sum_s2_top127            = np.sum(arr_waveform_sum127[s0:s1])\n",
    "sum_s2_top065            = np.sum(arr_waveform_sum065[s0:s1])\n",
    "sum_s2_top050            = np.sum(arr_waveform_sum050[s0:s1])\n",
    "sum_s2_top030            = np.sum(arr_waveform_sum030[s0:s1])\n",
    "sum_s2_top020            = np.sum(arr_waveform_sum020[s0:s1])\n",
    "sum_s2_top010            = np.sum(arr_waveform_sum010[s0:s1])\n",
    "sum_s2_top001            = np.sum(arr_waveform_sum001[s0:s1])\n",
    "\n",
    "arr_waveform_sum127_norm = np.divide(arr_waveform_sum127, sum_s2_top127*np.ones(nSamples)) \n",
    "arr_waveform_sum065_norm = np.divide(arr_waveform_sum065, sum_s2_top127*np.ones(nSamples))\n",
    "arr_waveform_sum050_norm = np.divide(arr_waveform_sum050, sum_s2_top127*np.ones(nSamples))\n",
    "arr_waveform_sum030_norm = np.divide(arr_waveform_sum030, sum_s2_top127*np.ones(nSamples))\n",
    "arr_waveform_sum020_norm = np.divide(arr_waveform_sum020, sum_s2_top127*np.ones(nSamples))\n",
    "arr_waveform_sum010_norm = np.divide(arr_waveform_sum010, sum_s2_top127*np.ones(nSamples))\n",
    "arr_waveform_sum001_norm = np.divide(arr_waveform_sum001, sum_s2_top127*np.ones(nSamples))\n",
    "\n",
    "\n",
    "\n",
    "frac_s2_top127           = np.round(100*(sum_s2_top127 / sum_s2_top127), 1)\n",
    "frac_s2_top065           = np.round(100*(sum_s2_top065 / sum_s2_top127), 1)\n",
    "frac_s2_top050           = np.round(100*(sum_s2_top050 / sum_s2_top127), 1)\n",
    "frac_s2_top030           = np.round(100*(sum_s2_top030 / sum_s2_top127), 1)\n",
    "frac_s2_top020           = np.round(100*(sum_s2_top020 / sum_s2_top127), 1)\n",
    "frac_s2_top010           = np.round(100*(sum_s2_top010 / sum_s2_top127), 1)\n",
    "frac_s2_top001           = np.round(100*(sum_s2_top001 / sum_s2_top127), 1)\n",
    "\n",
    "if (frac_s2_top127 != 100):\n",
    "    \n",
    "    print(\"Error in Normalizatoin!\")\n",
    "    \n",
    "    \n",
    "##########################################################################################\n",
    "##########################################################################################\n",
    "\n",
    "print()\n",
    "print(\"S2 Integral over 127 top PMTs:\\t\" + str(sum_s2_top127))\n",
    "print(\"S2 Integral over   1 top PMTs:\\t\" + str(sum_s2_top001))\n",
    "print(\"S2 Fraction, top PMTs:\\t\\t\" + str(frac_s2_top001) + \" %\")\n",
    "print()\n",
    "\n"
   ]
  },
  {
   "cell_type": "code",
   "execution_count": null,
   "metadata": {
    "collapsed": false
   },
   "outputs": [],
   "source": [
    "\n",
    "##########################################################################################\n",
    "##########################################################################################\n",
    "\n",
    "f, ax = plt.subplots(nrows=1, ncols=2, figsize=(20, 10))\n",
    "\n",
    "ax1 = plt.subplot(1, 2, 1)\n",
    "plt.plot(arr_waveform_sum127, label='S2 (127 PMTs)')\n",
    "plt.plot(arr_waveform_sum065, label='S2 ( 65 PMTs)')\n",
    "plt.plot(arr_waveform_sum050, label='S2 ( 50 PMTs)')\n",
    "plt.plot(arr_waveform_sum030, label='S2 ( 30 PMTs)')\n",
    "plt.plot(arr_waveform_sum020, label='S2 ( 20 PMTs)')\n",
    "plt.plot(arr_waveform_sum010, label='S2 ( 10 PMTs)')\n",
    "plt.plot(arr_waveform_sum001, label='S2 (  1 PMT )')\n",
    "\n",
    "plt.axvline(x=s0, color='k', linestyle='dashed' , label='t_first_el (true)')\n",
    "plt.axvline(x=s1, color='k', linestyle='dashdot', label='t_last_el  (true)')\n",
    "plt.title('S2 Integral over PMTs', y=1.05)\n",
    "plt.xlabel('sample (10 ns)')\n",
    "plt.ylabel('ADC Counts')\n",
    "plt.xlim([s0-100, s1+500])\n",
    "plt.legend(fontsize=16)\n",
    "\n",
    "#\n",
    "ax2 = plt.subplot(1, 2, 2)\n",
    "plt.plot(arr_waveform_sum127_norm, label='S2 (127 PMTs)')\n",
    "plt.plot(arr_waveform_sum065_norm, label='S2 ( 65 PMTs)')\n",
    "plt.plot(arr_waveform_sum050_norm, label='S2 ( 50 PMTs)')\n",
    "plt.plot(arr_waveform_sum030_norm, label='S2 ( 30 PMTs)')\n",
    "plt.plot(arr_waveform_sum020_norm, label='S2 ( 20 PMTs)')\n",
    "plt.plot(arr_waveform_sum010_norm, label='S2 ( 10 PMTs)')\n",
    "plt.plot(arr_waveform_sum001_norm, label='S2 (  1 PMT )')\n",
    "plt.axvline(x=s0, color='k', linestyle='dashed' , label='t_first_el (true)')\n",
    "plt.axvline(x=s1, color='k', linestyle='dashdot', label='t_last_el  (true)')\n",
    "plt.title('Normalized S2 Integral over PMTs', y=1.05)\n",
    "plt.xlabel('sample (10 ns)')\n",
    "plt.xlim([s0-100, s1+500])\n",
    "plt.legend(fontsize=16)\n",
    "\n",
    "f.savefig(\"plots/s2_summed_waveforms.png\")\n",
    "plt.close()\n",
    "\n",
    "print()\n",
    "display(f)\n",
    "print()\n",
    "\n"
   ]
  },
  {
   "cell_type": "code",
   "execution_count": null,
   "metadata": {
    "collapsed": false
   },
   "outputs": [],
   "source": [
    "\n",
    "##########################################################################################\n",
    "# Plot the S2 contribution per PMT\n",
    "##########################################################################################\n",
    "\n",
    "arr_s2sum_ranked  = df_pmts_s2ranked.iloc[:, 1].as_matrix().reshape(len(df_pmts_s2ranked.index), 1)\n",
    "arr_s2idx_ranked  = df_pmts_s2ranked.iloc[:, 0].as_matrix().reshape(len(df_pmts_s2ranked.index), 1)\n",
    "arr_s2frac_ranked = arr_s2sum_ranked / sum_s2_top127\n",
    "\n",
    "arr_s2idx_ranked = arr_s2idx_ranked.astype(int)\n"
   ]
  },
  {
   "cell_type": "code",
   "execution_count": null,
   "metadata": {
    "collapsed": false
   },
   "outputs": [],
   "source": [
    "\n",
    "##########################################################################################\n",
    "# Plot the S2 contribution per PMT\n",
    "##########################################################################################\n",
    "\n",
    "f, ax = plt.subplots(nrows=2, ncols=1, figsize=(20, 10))\n",
    "plt.subplots_adjust(left=None, bottom=None, right=None, top=None, wspace=0.2, hspace=0.7)\n",
    "\n",
    "ax1 = plt.subplot(2, 1, 1)\n",
    "plt.plot(arr_s2sum_ranked)\n",
    "plt.xlim([0, 127])\n",
    "plt.xlabel('PMT index in order of descending S2 fraction')\n",
    "plt.ylabel('S2 Integral')\n",
    "plt.title('S2 Integral vs. PMT', y=1.05)\n",
    "\n",
    "ax2 = plt.subplot(2, 1, 2)\n",
    "plt.plot(arr_s2frac_ranked)\n",
    "plt.xlim([0, 127])\n",
    "plt.xlabel('PMT index in order of descending S2 fraction')\n",
    "plt.ylabel('S2 Integral Fraction')\n",
    "plt.title('S2 Integral Fraction vs. PMT', y=1.05)\n",
    "\n",
    "f.savefig(\"plots/s2_integral_vs_pmt.png\")\n",
    "plt.close()\n",
    "\n",
    "print()\n",
    "display(f)\n",
    "print()\n"
   ]
  },
  {
   "cell_type": "code",
   "execution_count": null,
   "metadata": {
    "collapsed": true
   },
   "outputs": [],
   "source": []
  },
  {
   "cell_type": "code",
   "execution_count": null,
   "metadata": {
    "collapsed": true
   },
   "outputs": [],
   "source": []
  },
  {
   "cell_type": "code",
   "execution_count": null,
   "metadata": {
    "collapsed": true
   },
   "outputs": [],
   "source": []
  },
  {
   "cell_type": "code",
   "execution_count": null,
   "metadata": {
    "collapsed": false
   },
   "outputs": [],
   "source": [
    "\n",
    "##########################################################################################\n",
    "# Saturation\n",
    "##########################################################################################\n",
    "\n",
    "print(arr_s2idx_ranked.shape)\n",
    "\n",
    "idx_pmt_rank001 = arr_s2idx_ranked[  0, 0]\n",
    "idx_pmt_rank010 = arr_s2idx_ranked[  9, 0]\n",
    "idx_pmt_rank050 = arr_s2idx_ranked[ 49, 0]\n",
    "idx_pmt_rank075 = arr_s2idx_ranked[ 75, 0]\n",
    "idx_pmt_rank100 = arr_s2idx_ranked[100, 0]\n",
    "\n",
    "arr_waveform_rank001 = df_pmts.iloc[:, idx_pmt_rank001]\n",
    "arr_waveform_rank010 = df_pmts.iloc[:, idx_pmt_rank010]\n",
    "arr_waveform_rank050 = df_pmts.iloc[:, idx_pmt_rank050]\n",
    "arr_waveform_rank075 = df_pmts.iloc[:, idx_pmt_rank075]\n",
    "arr_waveform_rank100 = df_pmts.iloc[:, idx_pmt_rank100]\n",
    "\n",
    "print(idx_pmt_rank001)"
   ]
  },
  {
   "cell_type": "code",
   "execution_count": null,
   "metadata": {
    "collapsed": false
   },
   "outputs": [],
   "source": [
    "\n",
    "##########################################################################################\n",
    "# Saturation\n",
    "##########################################################################################\n",
    "\n",
    "f = plt.figure(figsize=(20, 10))\n",
    "\n",
    "plt.plot(arr_waveform_rank001, label='S2 (PMT rank   1)')\n",
    "plt.plot(arr_waveform_rank010, label='S2 (PMT rank  10)')\n",
    "plt.plot(arr_waveform_rank050, label='S2 (PMT rank  50)')\n",
    "plt.plot(arr_waveform_rank075, label='S2 (PMT rank  75)')\n",
    "plt.plot(arr_waveform_rank100, label='S2 (PMT rank 100)')\n",
    "\n",
    "plt.axvline(x=s0, color='k', linestyle='dashed' , label='t_first_el (true)')\n",
    "plt.axvline(x=s1, color='k', linestyle='dashdot', label='t_last_el  (true)')\n",
    "plt.title('Single PMT Waveforms', y=1.05)\n",
    "plt.xlabel('sample (10 ns)')\n",
    "plt.ylabel('ADC Counts')\n",
    "plt.xlim([s0-100, s1+500])\n",
    "l = plt.legend(fontsize=16)\n",
    "plt.close()\n",
    "\n",
    "print()\n",
    "display(f)\n",
    "print()\n",
    "\n"
   ]
  },
  {
   "cell_type": "code",
   "execution_count": null,
   "metadata": {
    "collapsed": false
   },
   "outputs": [],
   "source": []
  },
  {
   "cell_type": "code",
   "execution_count": null,
   "metadata": {
    "collapsed": false
   },
   "outputs": [],
   "source": [
    "\n",
    "##########################################################################################\n",
    "# Saturation\n",
    "##########################################################################################\n",
    "\n",
    "u001 = np.unique(arr_waveform_rank001[s0:s1])\n",
    "u100 = np.unique(arr_waveform_rank100[s0:s1])\n",
    "\n",
    "print(u001.shape)\n",
    "print(u100.shape)\n",
    "print()\n",
    "print(u001)\n",
    "print()\n",
    "print(u100)\n",
    "\n",
    "#n001 = np.where(arr_waveform_rank001[s0:s1] < 16000)\n",
    "#n100 = np.where(arr_waveform_rank100[s0:s1] < 16000)\n",
    "\n",
    "#print(n001)\n",
    "#print(n100)\n"
   ]
  },
  {
   "cell_type": "code",
   "execution_count": null,
   "metadata": {
    "collapsed": false
   },
   "outputs": [],
   "source": [
    "\n",
    "##########################################################################################\n",
    "##########################################################################################\n",
    "\n",
    "uni_all = np.zeros(0)\n",
    "\n",
    "global_min = 9999999999999\n",
    "global_max = 9999999999999\n",
    "\n",
    "nEvents = 10\n",
    "nPMTs   = 127\n",
    "\n",
    "counter = 0\n",
    "\n",
    "##########################################################################################\n",
    "##########################################################################################\n",
    "\n",
    "for iEvent in range(0, nEvents):\n",
    "    \n",
    "    df_pmts = wfs.get_waveforms_in_channels(iEvent)\n",
    "\n",
    "    \n",
    "    ######################################################################################\n",
    "    ######################################################################################\n",
    "\n",
    "    for iPMT in range(0, nPMTs):\n",
    "        \n",
    "        wf   = df_pmts.iloc[:, iPMT].as_matrix()\n",
    "        wf   = wf[s0-100:s1]\n",
    "        uni  = np.unique(wf)\n",
    "        minval = np.amin(uni)\n",
    "        maxval = np.amax(uni)\n",
    "\n",
    "        uni_all = np.append(uni_all, uni)\n",
    "        uni_all = np.unique(uni_all)\n",
    "        \n",
    "        if (minval < global_min and minval > 0):\n",
    "            \n",
    "            global_min = minval\n",
    "    \n",
    "        if (maxval > global_max):\n",
    "            \n",
    "            global_max = maxval\n",
    "            \n",
    "        counter += 1\n",
    "        \n",
    "        continue\n",
    "    \n",
    "##########################################################################################\n",
    "##########################################################################################\n",
    "    \n",
    "print()\n",
    "print(counter)\n",
    "print(global_min)\n",
    "print(global_max)\n",
    "print(uni_all.shape)\n",
    "print(uni_all)\n",
    "\n"
   ]
  },
  {
   "cell_type": "code",
   "execution_count": null,
   "metadata": {
    "collapsed": true
   },
   "outputs": [],
   "source": []
  },
  {
   "cell_type": "code",
   "execution_count": null,
   "metadata": {
    "collapsed": true
   },
   "outputs": [],
   "source": []
  },
  {
   "cell_type": "code",
   "execution_count": null,
   "metadata": {
    "collapsed": true
   },
   "outputs": [],
   "source": []
  },
  {
   "cell_type": "code",
   "execution_count": null,
   "metadata": {
    "collapsed": false
   },
   "outputs": [],
   "source": [
    "\n",
    "##########################################################################################\n",
    "# Facet Grid\n",
    "##########################################################################################\n",
    "\n",
    "import numpy as np\n",
    "import pandas as pd\n",
    "import seaborn as sns\n",
    "import matplotlib.pyplot as plt\n",
    "sns.set(style=\"white\", rc={\"axes.facecolor\": (0, 0, 0, 0)})\n",
    "\n",
    "# Create the data\n",
    "rs = np.random.RandomState(1979)\n",
    "x = rs.randn(500)\n",
    "g = np.tile(list(\"ABCDEFGHIJ\"), 50)\n",
    "df = pd.DataFrame(dict(x=x, g=g))\n",
    "m = df.g.map(ord)\n",
    "df[\"x\"] += m\n",
    "\n",
    "# Initialize the FacetGrid object\n",
    "pal = sns.cubehelix_palette(10, rot=-.25, light=.7)\n",
    "g = sns.FacetGrid(df, row=\"g\", hue=\"g\", aspect=15, size=.5, palette=pal)\n",
    "\n",
    "# Draw the densities in a few steps\n",
    "g.map(sns.kdeplot, \"x\", clip_on=False, shade=True, alpha=1, lw=1.5, bw=.2)\n",
    "g.map(sns.kdeplot, \"x\", clip_on=False, color=\"w\", lw=2, bw=.2)\n",
    "g.map(plt.axhline, y=0, lw=2, clip_on=False)\n",
    "\n",
    "# Define and use a simple function to label the plot in axes coordinates\n",
    "def label(x, color, label):\n",
    "    ax = plt.gca()\n",
    "    ax.text(0, .2, label, fontweight=\"bold\", color=color, \n",
    "            ha=\"left\", va=\"center\", transform=ax.transAxes)\n",
    "\n",
    "g.map(label, \"x\")\n",
    "\n",
    "# Set the subplots to overlap\n",
    "g.fig.subplots_adjust(hspace=-.25)\n",
    "\n",
    "# Remove axes details that don't play will with overlap\n",
    "g.set_titles(\"\")\n",
    "g.set(yticks=[])\n",
    "g.despine(bottom=True, left=True)"
   ]
  },
  {
   "cell_type": "code",
   "execution_count": null,
   "metadata": {
    "collapsed": true
   },
   "outputs": [],
   "source": []
  },
  {
   "cell_type": "code",
   "execution_count": null,
   "metadata": {
    "collapsed": false
   },
   "outputs": [],
   "source": [
    "\n",
    "##########################################################################################\n",
    "# Sanity\n",
    "##########################################################################################\n",
    "\n",
    "sum_waveforms = wfs.waveforms_in_channels[nEvent].drop(\"event_number\", axis=1).iloc[:, 0:127].sum(axis=1).as_matrix()\n",
    "sum_s2_all    = np.sum(sum_waveforms[s0:s1])\n",
    "\n",
    "plt.plot(sum_waveforms      , color='b')\n",
    "plt.plot(arr_waveform_sum127, color='y')\n",
    "plt.xlim([s0-100, s1+500])"
   ]
  },
  {
   "cell_type": "code",
   "execution_count": null,
   "metadata": {
    "collapsed": true
   },
   "outputs": [],
   "source": []
  }
 ],
 "metadata": {
  "anaconda-cloud": {},
  "kernelspec": {
   "display_name": "Python 3",
   "language": "python",
   "name": "python3"
  },
  "language_info": {
   "codemirror_mode": {
    "name": "ipython",
    "version": 3
   },
   "file_extension": ".py",
   "mimetype": "text/x-python",
   "name": "python",
   "nbconvert_exporter": "python",
   "pygments_lexer": "ipython3",
   "version": "3.5.4"
  }
 },
 "nbformat": 4,
 "nbformat_minor": 2
}
