{
 "cells": [
  {
   "cell_type": "code",
   "execution_count": null,
   "metadata": {},
   "outputs": [
    {
     "name": "stderr",
     "output_type": "stream",
     "text": [
      "Using TensorFlow backend.\n"
     ]
    }
   ],
   "source": [
    "\n",
    "####################################################################################################\n",
    "# https://keras.io/getting-started/sequential-model-guide/\n",
    "####################################################################################################\n",
    "\n",
    "import sys\n",
    "import glob\n",
    "import os.path\n",
    "\n",
    "import datetime\n",
    "import matplotlib.pyplot as plt\n",
    "import matplotlib.image as mpimg\n",
    "import numpy as np\n",
    "import pandas as pd\n",
    "\n",
    "from IPython.display import display\n",
    "from IPython.display import Image\n",
    "from PIL import Image\n",
    "\n",
    "import keras\n",
    "from keras import backend as K\n",
    "from keras import layers\n",
    "from keras import regularizers\n",
    "from keras.layers import Dense\n",
    "from keras.layers import Dropout\n",
    "from keras.layers import Embedding\n",
    "from keras.layers import LSTM\n",
    "from keras.layers.normalization import BatchNormalization\n",
    "from keras.models import load_model\n",
    "from keras.models import Sequential\n",
    "from keras.utils import plot_model\n",
    "\n",
    "from model_xy_s2waveforms_lstm import *\n"
   ]
  },
  {
   "cell_type": "code",
   "execution_count": null,
   "metadata": {},
   "outputs": [],
   "source": [
    "\n",
    "####################################################################################################\n",
    "####################################################################################################\n",
    "\n",
    "n_events    = 10\n",
    "n_channels  = 127\n",
    "n_outputs   = 2\n",
    "n_timesteps = 100\n",
    "\n",
    "\n",
    "####################################################################################################\n",
    "# Training Data\n",
    "####################################################################################################\n",
    "\n",
    "train_data  = np.random.random( (n_events, n_timesteps, n_channels) )\n",
    "train_truth = np.random.random( (n_events, n_outputs)               )\n",
    "\n",
    "print()\n",
    "print(\"Channels:  \" + str(n_channels))\n",
    "print(\"Timesteps: \" + str(n_timesteps))\n",
    "print(\"Outputs:   \" + str(n_outputs) )\n",
    "print()\n",
    "print(\"Input data shape: \" + str(train_data.shape ))\n",
    "print(\"Truth data shape: \" + str(train_truth.shape))\n",
    "print()\n",
    "\n"
   ]
  },
  {
   "cell_type": "code",
   "execution_count": null,
   "metadata": {},
   "outputs": [],
   "source": [
    "\n",
    "####################################################################################################\n",
    "####################################################################################################\n",
    "\n",
    "model, name = lstmModel(n_channels, n_timesteps, n_outputs)\n",
    "\n",
    "\n",
    "######################################################################################\n",
    "######################################################################################\n",
    "\n",
    "name_png = 'models/' + name + \".png\"\n",
    "\n",
    "print()\n",
    "display(Image.open(name_png))\n",
    "print()\n",
    "\n"
   ]
  },
  {
   "cell_type": "code",
   "execution_count": null,
   "metadata": {},
   "outputs": [],
   "source": [
    "\n",
    "######################################################################################\n",
    "######################################################################################\n",
    "\n",
    "model.fit(\n",
    "    train_data,\n",
    "    train_truth,\n",
    "    batch_size=64,\n",
    "    epochs=10,\n",
    "    verbose=True\n",
    ")\n",
    "\n",
    "print(\"Training Complete.\")\n"
   ]
  },
  {
   "cell_type": "code",
   "execution_count": null,
   "metadata": {},
   "outputs": [],
   "source": []
  }
 ],
 "metadata": {
  "kernelspec": {
   "display_name": "Python 3",
   "language": "python",
   "name": "python3"
  },
  "language_info": {
   "codemirror_mode": {
    "name": "ipython",
    "version": 3
   },
   "file_extension": ".py",
   "mimetype": "text/x-python",
   "name": "python",
   "nbconvert_exporter": "python",
   "pygments_lexer": "ipython3",
   "version": "3.5.4"
  }
 },
 "nbformat": 4,
 "nbformat_minor": 2
}
