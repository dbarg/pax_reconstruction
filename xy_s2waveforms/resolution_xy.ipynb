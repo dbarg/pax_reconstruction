{
 "cells": [
  {
   "cell_type": "code",
   "execution_count": 1,
   "metadata": {},
   "outputs": [
    {
     "name": "stdout",
     "output_type": "stream",
     "text": [
      "3.6.5 |Anaconda, Inc.| (default, Apr 29 2018, 16:14:56) \n",
      "[GCC 7.2.0]\n",
      "0.23.4\n"
     ]
    }
   ],
   "source": [
    "\n",
    "####################################################################################################\n",
    "####################################################################################################\n",
    "\n",
    "import sys\n",
    "import os.path\n",
    "\n",
    "import matplotlib.pyplot as plt\n",
    "from matplotlib.colors import LogNorm\n",
    "from matplotlib.colors import Normalize\n",
    "\n",
    "import numpy as np\n",
    "import pandas as pd\n",
    "\n",
    "from IPython.display import display\n",
    "\n",
    "print(sys.version)\n",
    "print(pd.__version__)\n"
   ]
  },
  {
   "cell_type": "code",
   "execution_count": 11,
   "metadata": {},
   "outputs": [
    {
     "name": "stdout",
     "output_type": "stream",
     "text": [
      "(27826, 4)\n"
     ]
    },
    {
     "data": {
      "text/html": [
       "<div>\n",
       "<style scoped>\n",
       "    .dataframe tbody tr th:only-of-type {\n",
       "        vertical-align: middle;\n",
       "    }\n",
       "\n",
       "    .dataframe tbody tr th {\n",
       "        vertical-align: top;\n",
       "    }\n",
       "\n",
       "    .dataframe thead th {\n",
       "        text-align: right;\n",
       "    }\n",
       "</style>\n",
       "<table border=\"1\" class=\"dataframe\">\n",
       "  <thead>\n",
       "    <tr style=\"text-align: right;\">\n",
       "      <th></th>\n",
       "      <th>x_pred</th>\n",
       "      <th>y_pred</th>\n",
       "      <th>x_true</th>\n",
       "      <th>y_true</th>\n",
       "    </tr>\n",
       "  </thead>\n",
       "  <tbody>\n",
       "    <tr>\n",
       "      <th>0</th>\n",
       "      <td>6.076554</td>\n",
       "      <td>-30.753592</td>\n",
       "      <td>7.332030</td>\n",
       "      <td>-30.591311</td>\n",
       "    </tr>\n",
       "    <tr>\n",
       "      <th>1</th>\n",
       "      <td>-13.167983</td>\n",
       "      <td>10.962021</td>\n",
       "      <td>-13.701462</td>\n",
       "      <td>12.687316</td>\n",
       "    </tr>\n",
       "    <tr>\n",
       "      <th>2</th>\n",
       "      <td>6.580128</td>\n",
       "      <td>4.186086</td>\n",
       "      <td>7.042967</td>\n",
       "      <td>4.772081</td>\n",
       "    </tr>\n",
       "    <tr>\n",
       "      <th>3</th>\n",
       "      <td>10.567113</td>\n",
       "      <td>31.535761</td>\n",
       "      <td>9.732044</td>\n",
       "      <td>31.983084</td>\n",
       "    </tr>\n",
       "    <tr>\n",
       "      <th>4</th>\n",
       "      <td>17.042620</td>\n",
       "      <td>31.580938</td>\n",
       "      <td>17.004166</td>\n",
       "      <td>32.997234</td>\n",
       "    </tr>\n",
       "  </tbody>\n",
       "</table>\n",
       "</div>"
      ],
      "text/plain": [
       "      x_pred     y_pred     x_true     y_true\n",
       "0   6.076554 -30.753592   7.332030 -30.591311\n",
       "1 -13.167983  10.962021 -13.701462  12.687316\n",
       "2   6.580128   4.186086   7.042967   4.772081\n",
       "3  10.567113  31.535761   9.732044  31.983084\n",
       "4  17.042620  31.580938  17.004166  32.997234"
      ]
     },
     "metadata": {},
     "output_type": "display_data"
    },
    {
     "name": "stdout",
     "output_type": "stream",
     "text": [
      "\n",
      "(27826, 6)\n"
     ]
    },
    {
     "data": {
      "text/html": [
       "<div>\n",
       "<style scoped>\n",
       "    .dataframe tbody tr th:only-of-type {\n",
       "        vertical-align: middle;\n",
       "    }\n",
       "\n",
       "    .dataframe tbody tr th {\n",
       "        vertical-align: top;\n",
       "    }\n",
       "\n",
       "    .dataframe thead th {\n",
       "        text-align: right;\n",
       "    }\n",
       "</style>\n",
       "<table border=\"1\" class=\"dataframe\">\n",
       "  <thead>\n",
       "    <tr style=\"text-align: right;\">\n",
       "      <th></th>\n",
       "      <th>x</th>\n",
       "      <th>y</th>\n",
       "      <th>intr_x</th>\n",
       "      <th>intr_y</th>\n",
       "      <th>intr_x_nn</th>\n",
       "      <th>intr_y_nn</th>\n",
       "    </tr>\n",
       "  </thead>\n",
       "  <tbody>\n",
       "    <tr>\n",
       "      <th>100000</th>\n",
       "      <td>7.332030</td>\n",
       "      <td>-30.591311</td>\n",
       "      <td>5.640515</td>\n",
       "      <td>-25.802357</td>\n",
       "      <td>5.963322</td>\n",
       "      <td>-25.627516</td>\n",
       "    </tr>\n",
       "    <tr>\n",
       "      <th>100001</th>\n",
       "      <td>-13.701462</td>\n",
       "      <td>12.687316</td>\n",
       "      <td>-11.881086</td>\n",
       "      <td>10.920998</td>\n",
       "      <td>-12.208843</td>\n",
       "      <td>10.564307</td>\n",
       "    </tr>\n",
       "    <tr>\n",
       "      <th>100002</th>\n",
       "      <td>7.042967</td>\n",
       "      <td>4.772081</td>\n",
       "      <td>6.120559</td>\n",
       "      <td>4.440406</td>\n",
       "      <td>5.657052</td>\n",
       "      <td>3.909451</td>\n",
       "    </tr>\n",
       "    <tr>\n",
       "      <th>100003</th>\n",
       "      <td>9.732044</td>\n",
       "      <td>31.983084</td>\n",
       "      <td>9.720888</td>\n",
       "      <td>28.202577</td>\n",
       "      <td>10.374315</td>\n",
       "      <td>27.733961</td>\n",
       "    </tr>\n",
       "    <tr>\n",
       "      <th>100004</th>\n",
       "      <td>17.004165</td>\n",
       "      <td>32.997236</td>\n",
       "      <td>14.761349</td>\n",
       "      <td>28.682621</td>\n",
       "      <td>15.570843</td>\n",
       "      <td>28.051881</td>\n",
       "    </tr>\n",
       "  </tbody>\n",
       "</table>\n",
       "</div>"
      ],
      "text/plain": [
       "                x          y     intr_x     intr_y  intr_x_nn  intr_y_nn\n",
       "100000   7.332030 -30.591311   5.640515 -25.802357   5.963322 -25.627516\n",
       "100001 -13.701462  12.687316 -11.881086  10.920998 -12.208843  10.564307\n",
       "100002   7.042967   4.772081   6.120559   4.440406   5.657052   3.909451\n",
       "100003   9.732044  31.983084   9.720888  28.202577  10.374315  27.733961\n",
       "100004  17.004165  32.997236  14.761349  28.682621  15.570843  28.051881"
      ]
     },
     "metadata": {},
     "output_type": "display_data"
    }
   ],
   "source": [
    "\n",
    "####################################################################################################\n",
    "####################################################################################################\n",
    "\n",
    "#dir_pred = \"sbatch/predictions/cpu/\"\n",
    "#file_hdf = dir_pred + 'dnn_s2waveforms-xy_ts0010_e50_mse_adam_ac9947_layers1270-1270-127-2.hdf5'\n",
    "\n",
    "dir_pred = '/project/lgrandi/dbarge/reconstruction/xy_s2waveforms/sbatch/predictions/cpu/'\n",
    "\n",
    "#file_hdf = 'dnn_s2waveforms-xy_ts0010_e10_mse_adam_ac9909_layers1270-1270-127-2.hdf5'\n",
    "#file_hdf = 'dnn_s2waveforms-xy_ts0019_e10_mse_adam_ac9907_layers2413-1270-127-2.hdf5'\n",
    "file_hdf = 'dnn_s2waveforms-xy_ts0025_e10_mse_adam_ac9911_layers3175-1270-127-2.hdf5'\n",
    "\n",
    "file_hdf = dir_pred + file_hdf\n",
    "df_xy    = pd.read_hdf(file_hdf)\n",
    "\n",
    "#input_file2 = '/project/lgrandi/dbarge/simulation/wimp/pax_v6.8.3/merged/merged_all_200000.pkl'\n",
    "input_file2 = '/project/lgrandi/dbarge/simulation/wimp/pax_v6.8.3/er/merged/merged_all_200000.pkl'\n",
    "df_xy2      = pd.read_pickle(input_file2)\n",
    "df_xy2      = df_xy2[df_xy2['intr_count'] == 1].reset_index(drop=True)\n",
    "df_xy2      = df_xy2[100000:][:]\n",
    "cols        = ['x', 'y', 'intr_x', 'intr_y', 'intr_x_nn', 'intr_y_nn']\n",
    "df_xy2      = df_xy2[cols]\n",
    "\n",
    "\n",
    "####################################################################################################\n",
    "####################################################################################################\n",
    "\n",
    "df_xy    = pd.read_hdf(file_hdf)\n",
    "print(df_xy.shape)\n",
    "display(df_xy[0:5][:])\n",
    "print()\n",
    "\n",
    "print(df_xy2.shape)\n",
    "display(df_xy2[0:5][:])\n"
   ]
  },
  {
   "cell_type": "code",
   "execution_count": 12,
   "metadata": {},
   "outputs": [],
   "source": [
    "\n",
    "####################################################################################################\n",
    "####################################################################################################\n",
    "\n",
    "arr_x_tpf  = df_xy2[:]['intr_x'].values\n",
    "arr_y_tpf  = df_xy2[:]['intr_y'].values\n",
    "\n",
    "arr_x_nn   = df_xy2[:]['intr_x_nn'].values\n",
    "arr_y_nn   = df_xy2[:]['intr_y_nn'].values\n",
    "\n",
    "#arr_x_true  = df_xy[:]['x_true'].values\n",
    "#arr_y_true  = df_xy[:]['y_true'].values\n",
    "\n",
    "arr_x_true  = df_xy2[:]['x'].values\n",
    "arr_y_true  = df_xy2[:]['y'].values\n",
    "\n",
    "arr_x_pred  = df_xy[:]['x_pred'].values\n",
    "arr_y_pred  = df_xy[:]['y_pred'].values\n",
    "\n",
    "arr_dx_nn  = arr_x_true - arr_x_nn\n",
    "arr_dy_nn  = arr_y_true - arr_y_nn\n",
    "\n",
    "arr_dx_tpf  = arr_x_true - arr_x_tpf\n",
    "arr_dy_tpf  = arr_y_true - arr_y_tpf\n",
    "\n",
    "arr_dx_true_pred  = arr_x_true - arr_x_pred\n",
    "arr_dy_true_pred  = arr_y_true - arr_y_pred\n",
    "\n",
    "arr_dd_nn         = np.sqrt( np.square(arr_dx_nn)        + np.square(arr_dy_nn) )\n",
    "arr_dd_tpf        = np.sqrt( np.square(arr_dx_tpf)       + np.square(arr_dy_tpf) )\n",
    "arr_dd_true_pred  = np.sqrt( np.square(arr_dx_true_pred) + np.square(arr_dy_true_pred) )\n",
    "\n"
   ]
  },
  {
   "cell_type": "code",
   "execution_count": 13,
   "metadata": {},
   "outputs": [
    {
     "name": "stdout",
     "output_type": "stream",
     "text": [
      "2.194821445205301\n"
     ]
    }
   ],
   "source": [
    "\n",
    "####################################################################################################\n",
    "####################################################################################################\n",
    "\n",
    "x_mean_true  = np.mean(arr_x_true)\n",
    "x_mean_pred  = np.mean(arr_x_pred)\n",
    "\n",
    "x_std_true   = np.std(arr_x_true)\n",
    "x_std_pred   = np.std(arr_x_pred)\n",
    "\n",
    "y_mean_true  = np.mean(arr_y_true)\n",
    "y_mean_pred  = np.mean(arr_y_pred)\n",
    "\n",
    "y_std_true   = np.std(arr_y_true)\n",
    "y_std_pred   = np.std(arr_y_pred)\n",
    "\n",
    "# STD\n",
    "dd_std_nn        = np.std (arr_dd_nn)\n",
    "dd_std_tpf       = np.std (arr_dd_tpf)\n",
    "dd_std_true_pred = np.std (arr_dd_true_pred)\n",
    "\n",
    "dx_std_nn        = np.std (arr_dx_nn)\n",
    "dx_std_tpf       = np.std (arr_dx_tpf)\n",
    "dx_std_true_pred = np.std (arr_dx_true_pred)\n",
    "\n",
    "#dy_std_true_pred = np.std (arr_dy_true_pred)\n",
    "\n",
    "# Mean\n",
    "dd_mean_nn        = np.mean(arr_dd_nn)\n",
    "dd_mean_tpf       = np.mean(arr_dd_tpf)\n",
    "dd_mean_true_pred = np.mean(arr_dd_true_pred)\n",
    "\n",
    "dx_mean_nn        = np.mean(arr_dx_nn)\n",
    "dx_mean_tpf       = np.mean(arr_dx_tpf)\n",
    "dx_mean_true_pred = np.mean(arr_dx_true_pred)\n",
    "\n",
    "\n",
    "\n",
    "####################################################################################################\n",
    "####################################################################################################\n",
    "\n",
    "print(dd_mean_nn)\n",
    "\n",
    "label_x_true = '%5s (std: %.02f, mean: %.02f)' % ( 'True', x_std_true, x_mean_true )\n",
    "label_x_pred = '%5s (std: %.02f, mean: %.02f)' % ( 'Pred', x_std_pred, x_mean_pred )\n",
    "\n",
    "label_y_true = '%5s (std: %.02f, mean: %.02f)' % ( 'True', y_std_true, y_mean_true )\n",
    "label_y_pred = '%5s (std: %.02f, mean: %.02f)' % ( 'Pred', y_std_pred, y_mean_pred )\n",
    "\n",
    "dd_label_nn        = '%18s ($\\mu$ = %.02f, $\\sigma$ = %.02f)' % ( 'Xe1T NN          ', dd_mean_nn       , dd_std_nn )\n",
    "dd_label_tpf       = '%18s ($\\mu$ = %.02f, $\\sigma$ = %.02f)' % ( 'Xe1T TPF         ', dd_mean_tpf      , dd_std_tpf )\n",
    "dd_label_true_pred = '%18s ($\\mu$ = %.02f, $\\sigma$ = %.02f)' % ( 'TD-NN (this work)', dd_mean_true_pred, dd_std_true_pred )\n",
    "\n",
    "dx_label_nn        = '%5s ($\\mu$ = %.02f, $\\sigma$ = %.02f)' % ( 'Xe1T NN $\\Delta$X ' , dx_mean_nn       , dx_std_nn )\n",
    "dx_label_tpf       = '%5s ($\\mu$ = %.02f, $\\sigma$ = %.02f)' % ( 'Xe1T TPF $\\Delta$X ', dx_mean_tpf      , dx_std_tpf )\n",
    "dx_label_true_pred = '%5s ($\\mu$ = %.02f, $\\sigma$ = %.02f)' % ( 'TD-NN $\\Delta$X '   , dx_mean_true_pred, dx_std_true_pred )\n",
    "\n",
    "#dy_label_true_pred = '%5s ($\\mu$ = %.02f, $\\sigma$ = %.02f)' % ( '$\\Delta$Y ', dy_mean_true_pred, dy_std_true_pred )\n",
    "\n",
    "\n",
    "\n",
    "####################################################################################################\n",
    "# Overflow & Underflow\n",
    "####################################################################################################\n",
    "\n",
    "dd_max   = 5.5\n",
    "\n",
    "arr_dd_nn        = np.clip(arr_dd_nn       , 0, dd_max)\n",
    "arr_dd_tpf       = np.clip(arr_dd_tpf      , 0, dd_max)\n",
    "arr_dd_true_pred = np.clip(arr_dd_true_pred, 0, dd_max)\n",
    "\n",
    "#arr_dx_true_pred = np.clip(arr_dx_true_pred, -dr_max, dr_max)\n",
    "#arr_dy_true_pred = np.clip(arr_dy_true_pred, -dr_max, dr_max)\n",
    "\n",
    "#print(arr_dd_true_pred.shape)\n",
    "#print(arr_dx_true_pred.shape)\n",
    "#print(arr_dy_true_pred.shape)\n",
    "\n"
   ]
  },
  {
   "cell_type": "code",
   "execution_count": 14,
   "metadata": {},
   "outputs": [
    {
     "name": "stdout",
     "output_type": "stream",
     "text": [
      "(27826,)\n",
      "(27826,)\n",
      "(27826,)\n"
     ]
    },
    {
     "data": {
      "image/png": "[encoded data removed]",
      "text/plain": [
       "<Figure size 864x360 with 1 Axes>"
      ]
     },
     "metadata": {},
     "output_type": "display_data"
    }
   ],
   "source": [
    "print(arr_dd_nn.shape)\n",
    "print(arr_dd_tpf.shape)\n",
    "print(arr_dd_true_pred.shape)\n",
    "\n",
    "\n",
    "####################################################################################################\n",
    "# Resolution - Prediction\n",
    "####################################################################################################\n",
    "\n",
    "w, h = 12, 5\n",
    "\n",
    "dd_nbins = 55\n",
    "dr_nbins = 6*10*2\n",
    "\n",
    "# Euclidean\n",
    "f = plt.figure(figsize=(w, h))\n",
    "\n",
    "plt.hist(arr_dd_true_pred, bins=dd_nbins, histtype='step', color='g', label=dd_label_true_pred)\n",
    "plt.hist(arr_dd_nn       , bins=dd_nbins, histtype='step', color='r', label=dd_label_tpf)\n",
    "plt.hist(arr_dd_tpf      , bins=dd_nbins, histtype='step', color='b', label=dd_label_nn)\n",
    "\n",
    "plt.xlim([0, dd_max])\n",
    "plt.ylim([0, 1.15*plt.gca().get_ylim()[1]])\n",
    "plt.title('True Position - Reconstructed Position (Euclidean Distance, $\\Delta$D)', fontsize=18)\n",
    "plt.xlabel('$\\Delta$D', fontsize=18)\n",
    "plt.legend(fontsize=16)\n",
    "plt.grid(True)\n",
    "\n",
    "\n"
   ]
  },
  {
   "cell_type": "code",
   "execution_count": null,
   "metadata": {},
   "outputs": [],
   "source": []
  },
  {
   "cell_type": "code",
   "execution_count": 8,
   "metadata": {},
   "outputs": [
    {
     "data": {
      "image/png": "[encoded data removed]",
      "text/plain": [
       "<Figure size 864x360 with 1 Axes>"
      ]
     },
     "metadata": {},
     "output_type": "display_data"
    }
   ],
   "source": [
    "\n",
    "\n",
    "# X, Y\n",
    "f = plt.figure(figsize=(w, h))\n",
    "plt.hist(arr_dx_nn       , bins=dr_nbins, histtype='step', color='b', label=dx_label_nn)\n",
    "plt.hist(arr_dx_tpf      , bins=dr_nbins, histtype='step', color='g', label=dx_label_tpf)\n",
    "plt.hist(arr_dx_true_pred, bins=dr_nbins, histtype='step', color='r', label=dx_label_true_pred)\n",
    "\n",
    "#plt.hist(arr_dy_true_pred, bins=dr_nbins, histtype='step', color='g')#, label=dy_label_true_pred)\n",
    "#plt.ylim([0, 1.15*plt.gca().get_ylim()[1]])\n",
    "plt.title('X Resolution (True - Predicted)', fontsize=18)\n",
    "plt.xlabel('Position Error (cm)', fontsize=18)\n",
    "plt.legend(fontsize=16)\n",
    "plt.grid(True)\n"
   ]
  },
  {
   "cell_type": "code",
   "execution_count": null,
   "metadata": {},
   "outputs": [],
   "source": []
  },
  {
   "cell_type": "code",
   "execution_count": 9,
   "metadata": {},
   "outputs": [
    {
     "ename": "NameError",
     "evalue": "name 'r_nbins' is not defined",
     "output_type": "error",
     "traceback": [
      "\u001b[0;31m---------------------------------------------------------------------------\u001b[0m",
      "\u001b[0;31mNameError\u001b[0m                                 Traceback (most recent call last)",
      "\u001b[0;32m<ipython-input-9-709bd1c6e727>\u001b[0m in \u001b[0;36m<module>\u001b[0;34m()\u001b[0m\n\u001b[1;32m     11\u001b[0m \u001b[0;31m# x\u001b[0m\u001b[0;34m\u001b[0m\u001b[0;34m\u001b[0m\u001b[0m\n\u001b[1;32m     12\u001b[0m \u001b[0mf\u001b[0m \u001b[0;34m=\u001b[0m \u001b[0mplt\u001b[0m\u001b[0;34m.\u001b[0m\u001b[0mfigure\u001b[0m\u001b[0;34m(\u001b[0m\u001b[0mfigsize\u001b[0m\u001b[0;34m=\u001b[0m\u001b[0;34m(\u001b[0m\u001b[0mw\u001b[0m\u001b[0;34m,\u001b[0m \u001b[0mh\u001b[0m\u001b[0;34m)\u001b[0m\u001b[0;34m)\u001b[0m\u001b[0;34m\u001b[0m\u001b[0m\n\u001b[0;32m---> 13\u001b[0;31m \u001b[0mplt\u001b[0m\u001b[0;34m.\u001b[0m\u001b[0mhist\u001b[0m\u001b[0;34m(\u001b[0m\u001b[0marr_x_true\u001b[0m\u001b[0;34m,\u001b[0m \u001b[0mbins\u001b[0m\u001b[0;34m=\u001b[0m\u001b[0mr_nbins\u001b[0m\u001b[0;34m,\u001b[0m \u001b[0mfill\u001b[0m\u001b[0;34m=\u001b[0m\u001b[0;32mFalse\u001b[0m\u001b[0;34m,\u001b[0m \u001b[0mhisttype\u001b[0m\u001b[0;34m=\u001b[0m\u001b[0;34m'step'\u001b[0m\u001b[0;34m,\u001b[0m \u001b[0mlabel\u001b[0m\u001b[0;34m=\u001b[0m\u001b[0mlabel_x_true\u001b[0m\u001b[0;34m)\u001b[0m\u001b[0;34m\u001b[0m\u001b[0m\n\u001b[0m\u001b[1;32m     14\u001b[0m \u001b[0mplt\u001b[0m\u001b[0;34m.\u001b[0m\u001b[0mhist\u001b[0m\u001b[0;34m(\u001b[0m\u001b[0marr_x_pred\u001b[0m\u001b[0;34m,\u001b[0m \u001b[0mbins\u001b[0m\u001b[0;34m=\u001b[0m\u001b[0mr_nbins\u001b[0m\u001b[0;34m,\u001b[0m \u001b[0mfill\u001b[0m\u001b[0;34m=\u001b[0m\u001b[0;32mFalse\u001b[0m\u001b[0;34m,\u001b[0m \u001b[0mhisttype\u001b[0m\u001b[0;34m=\u001b[0m\u001b[0;34m'step'\u001b[0m\u001b[0;34m,\u001b[0m \u001b[0mlabel\u001b[0m\u001b[0;34m=\u001b[0m\u001b[0mlabel_x_pred\u001b[0m\u001b[0;34m)\u001b[0m\u001b[0;34m\u001b[0m\u001b[0m\n\u001b[1;32m     15\u001b[0m \u001b[0mplt\u001b[0m\u001b[0;34m.\u001b[0m\u001b[0mxlabel\u001b[0m\u001b[0;34m(\u001b[0m\u001b[0;34m'X (cm)'\u001b[0m\u001b[0;34m,\u001b[0m \u001b[0mfontsize\u001b[0m\u001b[0;34m=\u001b[0m\u001b[0;36m18\u001b[0m\u001b[0;34m)\u001b[0m\u001b[0;34m\u001b[0m\u001b[0m\n",
      "\u001b[0;31mNameError\u001b[0m: name 'r_nbins' is not defined"
     ]
    },
    {
     "data": {
      "text/plain": [
       "<Figure size 864x360 with 0 Axes>"
      ]
     },
     "metadata": {},
     "output_type": "display_data"
    }
   ],
   "source": [
    "\n",
    "####################################################################################################\n",
    "# Position\n",
    "####################################################################################################\n",
    "\n",
    "# x, y\n",
    "#f = plt.figure(figsize=(10, 8))\n",
    "#plt.hist2d(arr_x_true, arr_y_true, bins=r_nbins, norm=Normalize(), normed=False, cmin=0.1)\n",
    "#plt.colorbar()\n",
    "\n",
    "# x\n",
    "f = plt.figure(figsize=(w, h))\n",
    "plt.hist(arr_x_true, bins=r_nbins, fill=False, histtype='step', label=label_x_true)\n",
    "plt.hist(arr_x_pred, bins=r_nbins, fill=False, histtype='step', label=label_x_pred)\n",
    "plt.xlabel('X (cm)', fontsize=18)\n",
    "plt.title('X Position', fontsize=18)\n",
    "plt.legend(loc='lower center', fontsize=16)\n",
    "plt.grid(True)\n",
    "\n",
    "# y\n",
    "f = plt.figure(figsize=(w, h))\n",
    "plt.hist(arr_y_true, bins=r_nbins, fill=False, histtype='step', label=label_y_true)\n",
    "plt.hist(arr_y_pred, bins=r_nbins, fill=False, histtype='step', label=label_y_pred)\n",
    "plt.xlabel('Y (cm)', fontsize=18)\n",
    "plt.title('Y Position', fontsize=18)\n",
    "plt.legend(loc='lower center', fontsize=16)\n",
    "plt.grid(True)\n",
    "\n"
   ]
  },
  {
   "cell_type": "code",
   "execution_count": null,
   "metadata": {},
   "outputs": [],
   "source": [
    "\n"
   ]
  },
  {
   "cell_type": "code",
   "execution_count": null,
   "metadata": {
    "collapsed": true
   },
   "outputs": [],
   "source": []
  }
 ],
 "metadata": {
  "anaconda-cloud": {},
  "kernelspec": {
   "display_name": "Python [default]",
   "language": "python",
   "name": "python3"
  },
  "language_info": {
   "codemirror_mode": {
    "name": "ipython",
    "version": 3
   },
   "file_extension": ".py",
   "mimetype": "text/x-python",
   "name": "python",
   "nbconvert_exporter": "python",
   "pygments_lexer": "ipython3",
   "version": "3.6.5"
  }
 },
 "nbformat": 4,
 "nbformat_minor": 2
}
