{
 "cells": [
  {
   "cell_type": "code",
   "execution_count": 19,
   "metadata": {},
   "outputs": [
    {
     "name": "stdout",
     "output_type": "stream",
     "text": [
      "(120967, 1270)\n",
      "(120967, 2)\n"
     ]
    }
   ],
   "source": [
    "\n",
    "####################################################################################################\n",
    "####################################################################################################\n",
    "\n",
    "import datetime\n",
    "import sys\n",
    "import glob\n",
    "import json\n",
    "import os.path\n",
    "import pprint\n",
    "\n",
    "import matplotlib.pyplot as plt\n",
    "import matplotlib.image as mpimg\n",
    "import numpy as np\n",
    "import pandas as pd\n",
    "\n",
    "chunk_size = 25000\n",
    "\n",
    "####################################################################################################\n",
    "####################################################################################################\n",
    "\n",
    "data  = np.ndarray(shape=(0, 1270))\n",
    "truth = np.ndarray(shape=(0, 2))\n",
    "\n",
    "for i in range(0, 5):\n",
    "    \n",
    "    iStart = i*chunk_size\n",
    "    iEnd   = iStart + chunk_size - 1\n",
    "    \n",
    "    file_out_input = 'train/array_train_input_events%06d-%06d_timesteps%04d' % (iStart, iEnd, 10) + '.npy'\n",
    "    file_out_truth = 'train/array_train_truth_events%06d-%06d_timesteps%04d' % (iStart, iEnd, 10) + '.npy'\n",
    "    \n",
    "    train_data  = np.load(file_out_input)\n",
    "    train_truth = np.load(file_out_truth)\n",
    "\n",
    "    data  = np.append(data , train_data , axis=0)\n",
    "    truth = np.append(truth, train_truth, axis=0)\n",
    "\n",
    "\n",
    "\n",
    "print(data.shape)\n",
    "print(truth.shape)\n",
    "\n",
    "np.save('data_all' , data )\n",
    "np.save('truth_all', truth)\n"
   ]
  },
  {
   "cell_type": "code",
   "execution_count": null,
   "metadata": {},
   "outputs": [],
   "source": []
  }
 ],
 "metadata": {
  "kernelspec": {
   "display_name": "Python 3",
   "language": "python",
   "name": "python3"
  },
  "language_info": {
   "codemirror_mode": {
    "name": "ipython",
    "version": 3
   },
   "file_extension": ".py",
   "mimetype": "text/x-python",
   "name": "python",
   "nbconvert_exporter": "python",
   "pygments_lexer": "ipython3",
   "version": "3.5.4"
  }
 },
 "nbformat": 4,
 "nbformat_minor": 2
}
