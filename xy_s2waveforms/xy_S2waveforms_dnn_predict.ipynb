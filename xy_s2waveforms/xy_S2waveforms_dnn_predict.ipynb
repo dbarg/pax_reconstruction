{
 "cells": [
  {
   "cell_type": "code",
   "execution_count": 1,
   "metadata": {},
   "outputs": [
    {
     "name": "stderr",
     "output_type": "stream",
     "text": [
      "Using TensorFlow backend.\n"
     ]
    }
   ],
   "source": [
    "\n",
    "####################################################################################################\n",
    "####################################################################################################\n",
    "\n",
    "import sys\n",
    "import os.path\n",
    "\n",
    "import matplotlib.pyplot as plt\n",
    "import numpy as np\n",
    "import pandas as pd\n",
    "from IPython.display import display\n",
    "\n",
    "import keras\n",
    "import keras.utils.vis_utils\n",
    "from keras import backend as K\n",
    "from keras import layers\n",
    "from keras.layers import Dense\n",
    "from keras.models import load_model\n",
    "from keras.models import Sequential\n",
    "from keras.utils import plot_model\n",
    "\n",
    "sys.path.append(os.path.abspath(\"../\"))\n",
    "from helpers import *\n",
    "\n",
    "sys.path.append(os.path.abspath(\"../../\"))\n",
    "from pax_utils import s1s2_utils\n",
    "\n",
    "from get_dnn_data import *\n"
   ]
  },
  {
   "cell_type": "code",
   "execution_count": 10,
   "metadata": {},
   "outputs": [
    {
     "name": "stdout",
     "output_type": "stream",
     "text": [
      "\n",
      "(5000, 1270)\n",
      "(5000, 2)\n",
      "\n"
     ]
    }
   ],
   "source": [
    "\n",
    "####################################################################################################\n",
    "####################################################################################################\n",
    "    \n",
    "nEventsFile    = 25000\n",
    "nEventsTrain   = 20000\n",
    "nEventsTest    = nEventsFile - nEventsTrain\n",
    "\n",
    "resample_factor = 229\n",
    "s2_window_max   = 229\n",
    "\n",
    "file_out_input = 'train/array_train_input_events%06d_resample%04d' % (nEventsFile, resample_factor)\n",
    "file_out_truth = 'train/array_train_truth_events%06d_resample%04d' % (nEventsFile, resample_factor)\n",
    "\n",
    "train_data  = np.load(file_out_input + '.npy')\n",
    "train_truth = np.load(file_out_truth + '.npy')\n",
    "\n",
    "train_data  = train_data [nEventsTrain:, :]\n",
    "train_truth = train_truth[nEventsTrain:, :]\n",
    "\n",
    "print()\n",
    "print(train_data.shape)\n",
    "print(train_truth.shape)\n",
    "print()\n",
    "\n",
    "\n"
   ]
  },
  {
   "cell_type": "code",
   "execution_count": 14,
   "metadata": {},
   "outputs": [
    {
     "name": "stdout",
     "output_type": "stream",
     "text": [
      "\n",
      "Loaded Model: models/model_xy_s2waveforms_dnn_elu_layers-1270-1270-635-317-2.h5\n",
      "Predicted\n",
      "\n"
     ]
    }
   ],
   "source": [
    "\n",
    "####################################################################################################\n",
    "####################################################################################################\n",
    "\n",
    "#model_name_h5 = \"models/model_xy_s2waveforms_dnn_s2integralselu.h5\"\n",
    "#model_name_h5 = \"models/model_xy_s2waveforms_dnn_elu.h5\"\n",
    "model_name_h5 = 'models/model_xy_s2waveforms_dnn_elu_layers-1270-1270-635-317-2.h5'\n",
    "\n",
    "\n",
    "####################################################################################################\n",
    "# Predict\n",
    "####################################################################################################\n",
    "\n",
    "model       = load_model(model_name_h5)\n",
    "arr_xy_pred = model.predict(train_data)\n",
    "\n",
    "print(\"\\nLoaded Model: \" + model_name_h5)\n",
    "print(\"Predicted\\n\")\n"
   ]
  },
  {
   "cell_type": "code",
   "execution_count": 15,
   "metadata": {},
   "outputs": [
    {
     "name": "stdout",
     "output_type": "stream",
     "text": [
      "(5000,)\n",
      "(5000,)\n",
      "(5000,)\n",
      "(5000,)\n"
     ]
    }
   ],
   "source": [
    "\n",
    "####################################################################################################\n",
    "####################################################################################################\n",
    "\n",
    "#arr_x_true = df_train_truth[:]['x'].as_matrix()\n",
    "#arr_y_true = df_train_truth[:]['y'].as_matrix()\n",
    "\n",
    "arr_x_true = train_truth[:, 0]\n",
    "arr_y_true = train_truth[:, 1]\n",
    "\n",
    "arr_x_pred = arr_xy_pred[:, 0]\n",
    "arr_y_pred = arr_xy_pred[:, 1]\n",
    "\n",
    "arr_dx     = arr_x_true - arr_x_pred\n",
    "arr_dy     = arr_y_true - arr_y_pred\n",
    "\n",
    "\n",
    "print(arr_x_pred.shape)\n",
    "print(arr_y_pred.shape)\n",
    "print(arr_x_true.shape)\n",
    "print(arr_y_true.shape)\n",
    "\n"
   ]
  },
  {
   "cell_type": "code",
   "execution_count": 16,
   "metadata": {},
   "outputs": [
    {
     "data": {
      "text/html": [
       "<div>\n",
       "<style scoped>\n",
       "    .dataframe tbody tr th:only-of-type {\n",
       "        vertical-align: middle;\n",
       "    }\n",
       "\n",
       "    .dataframe tbody tr th {\n",
       "        vertical-align: top;\n",
       "    }\n",
       "\n",
       "    .dataframe thead th {\n",
       "        text-align: right;\n",
       "    }\n",
       "</style>\n",
       "<table border=\"1\" class=\"dataframe\">\n",
       "  <thead>\n",
       "    <tr style=\"text-align: right;\">\n",
       "      <th></th>\n",
       "      <th>x_pred</th>\n",
       "      <th>y_pred</th>\n",
       "      <th>x_true</th>\n",
       "      <th>y_true</th>\n",
       "    </tr>\n",
       "  </thead>\n",
       "  <tbody>\n",
       "    <tr>\n",
       "      <th>0</th>\n",
       "      <td>3.859504</td>\n",
       "      <td>22.904867</td>\n",
       "      <td>4.066596</td>\n",
       "      <td>22.361100</td>\n",
       "    </tr>\n",
       "    <tr>\n",
       "      <th>1</th>\n",
       "      <td>5.385215</td>\n",
       "      <td>-19.340839</td>\n",
       "      <td>6.004575</td>\n",
       "      <td>-20.866053</td>\n",
       "    </tr>\n",
       "    <tr>\n",
       "      <th>2</th>\n",
       "      <td>-6.899255</td>\n",
       "      <td>9.300784</td>\n",
       "      <td>-7.147815</td>\n",
       "      <td>9.447408</td>\n",
       "    </tr>\n",
       "    <tr>\n",
       "      <th>3</th>\n",
       "      <td>31.166203</td>\n",
       "      <td>13.340237</td>\n",
       "      <td>30.854870</td>\n",
       "      <td>14.662323</td>\n",
       "    </tr>\n",
       "    <tr>\n",
       "      <th>4</th>\n",
       "      <td>8.841653</td>\n",
       "      <td>-3.238218</td>\n",
       "      <td>7.700189</td>\n",
       "      <td>-3.154368</td>\n",
       "    </tr>\n",
       "  </tbody>\n",
       "</table>\n",
       "</div>"
      ],
      "text/plain": [
       "      x_pred     y_pred     x_true     y_true\n",
       "0   3.859504  22.904867   4.066596  22.361100\n",
       "1   5.385215 -19.340839   6.004575 -20.866053\n",
       "2  -6.899255   9.300784  -7.147815   9.447408\n",
       "3  31.166203  13.340237  30.854870  14.662323\n",
       "4   8.841653  -3.238218   7.700189  -3.154368"
      ]
     },
     "metadata": {},
     "output_type": "display_data"
    },
    {
     "name": "stdout",
     "output_type": "stream",
     "text": [
      "\n"
     ]
    }
   ],
   "source": [
    "\n",
    "\n",
    "####################################################################################################\n",
    "####################################################################################################\n",
    "\n",
    "file_out         = \"./predictions/xy_s2waveforms_events%06d_resample%04d.pkl\" % (nEventsFile, resample_factor) \n",
    "df_out           = pd.DataFrame()\n",
    "\n",
    "df_out['x_pred'] = arr_x_pred\n",
    "df_out['y_pred'] = arr_y_pred\n",
    "\n",
    "df_out['x_true'] = arr_x_true\n",
    "df_out['y_true'] = arr_y_true\n",
    "\n",
    "\n",
    "df_out.to_pickle(file_out)\n",
    "\n",
    "\n",
    "####################################################################################################\n",
    "####################################################################################################\n",
    "\n",
    "df_test = pd.read_pickle(file_out)\n",
    "\n",
    "display(df_test[0:5][:])\n",
    "print()\n"
   ]
  },
  {
   "cell_type": "code",
   "execution_count": null,
   "metadata": {},
   "outputs": [],
   "source": []
  },
  {
   "cell_type": "code",
   "execution_count": null,
   "metadata": {},
   "outputs": [],
   "source": []
  },
  {
   "cell_type": "code",
   "execution_count": null,
   "metadata": {},
   "outputs": [],
   "source": []
  },
  {
   "cell_type": "code",
   "execution_count": null,
   "metadata": {},
   "outputs": [],
   "source": []
  },
  {
   "cell_type": "code",
   "execution_count": null,
   "metadata": {},
   "outputs": [],
   "source": []
  },
  {
   "cell_type": "code",
   "execution_count": null,
   "metadata": {},
   "outputs": [],
   "source": []
  },
  {
   "cell_type": "code",
   "execution_count": null,
   "metadata": {
    "collapsed": true
   },
   "outputs": [],
   "source": []
  }
 ],
 "metadata": {
  "anaconda-cloud": {},
  "kernelspec": {
   "display_name": "Python 3",
   "language": "python",
   "name": "python3"
  },
  "language_info": {
   "codemirror_mode": {
    "name": "ipython",
    "version": 3
   },
   "file_extension": ".py",
   "mimetype": "text/x-python",
   "name": "python",
   "nbconvert_exporter": "python",
   "pygments_lexer": "ipython3",
   "version": "3.5.4"
  }
 },
 "nbformat": 4,
 "nbformat_minor": 2
}
