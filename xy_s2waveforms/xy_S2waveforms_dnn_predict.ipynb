{
 "cells": [
  {
   "cell_type": "code",
   "execution_count": 30,
   "metadata": {},
   "outputs": [],
   "source": [
    "\n",
    "####################################################################################################\n",
    "####################################################################################################\n",
    "\n",
    "import sys\n",
    "import os.path\n",
    "\n",
    "import matplotlib.pyplot as plt\n",
    "import numpy as np\n",
    "import pandas as pd\n",
    "from IPython.display import display\n",
    "\n",
    "import keras\n",
    "import keras.utils.vis_utils\n",
    "from keras import backend as K\n",
    "from keras import layers\n",
    "from keras.layers import Dense\n",
    "from keras.models import load_model\n",
    "from keras.models import Sequential\n",
    "from keras.utils import plot_model\n",
    "\n",
    "sys.path.append(os.path.abspath(\"../\"))\n",
    "from helpers import *\n",
    "\n",
    "sys.path.append(os.path.abspath(\"../../\"))\n",
    "from pax_utils import s1s2_utils\n",
    "\n",
    "from get_dnn_data import *\n"
   ]
  },
  {
   "cell_type": "code",
   "execution_count": 31,
   "metadata": {},
   "outputs": [
    {
     "name": "stdout",
     "output_type": "stream",
     "text": [
      "(9000, 1270)\n",
      "(9000, 2)\n"
     ]
    }
   ],
   "source": [
    "\n",
    "####################################################################################################\n",
    "####################################################################################################\n",
    "    \n",
    "nEventsTrain    = 10000\n",
    "\n",
    "resample_factor = 229\n",
    "s2_window_max   = 229\n",
    "\n",
    "file_out_input = 'train/array_train_input_events%06d_resample%04d' % (nEventsTrain, resample_factor)\n",
    "file_out_truth = 'train/array_train_truth_events%06d_resample%04d' % (nEventsTrain, resample_factor)\n",
    "\n",
    "train_data  = np.load(file_out_input + '.npy')\n",
    "train_truth = np.load(file_out_truth + '.npy')\n",
    "\n",
    "train_data  = train_data [1000: , ]\n",
    "train_truth = train_truth[1000:, ]\n",
    "\n",
    "print(train_data.shape)\n",
    "print(train_truth.shape)\n",
    "\n",
    "\n"
   ]
  },
  {
   "cell_type": "code",
   "execution_count": 32,
   "metadata": {},
   "outputs": [
    {
     "name": "stdout",
     "output_type": "stream",
     "text": [
      "\n",
      "Loaded Model: models/model_xy_s2waveforms_dnn_elu.h5\n",
      "Predicted\n",
      "\n"
     ]
    }
   ],
   "source": [
    "\n",
    "\n",
    "\n",
    "####################################################################################################\n",
    "####################################################################################################\n",
    "\n",
    "#model_name_h5 = \"models/model_xy_s2waveforms_dnn_s2integralselu.h5\"\n",
    "model_name_h5 = \"models/model_xy_s2waveforms_dnn_elu.h5\"\n",
    "\n",
    "\n",
    "####################################################################################################\n",
    "# Predict\n",
    "####################################################################################################\n",
    "\n",
    "model       = load_model(model_name_h5)\n",
    "arr_xy_pred = model.predict(train_data)\n",
    "\n",
    "print(\"\\nLoaded Model: \" + model_name_h5)\n",
    "print(\"Predicted\\n\")\n"
   ]
  },
  {
   "cell_type": "code",
   "execution_count": 33,
   "metadata": {},
   "outputs": [
    {
     "name": "stdout",
     "output_type": "stream",
     "text": [
      "(9000,)\n",
      "(9000,)\n",
      "(9000,)\n",
      "(9000,)\n"
     ]
    }
   ],
   "source": [
    "\n",
    "####################################################################################################\n",
    "####################################################################################################\n",
    "\n",
    "#arr_x_true = df_train_truth[:]['x'].as_matrix()\n",
    "#arr_y_true = df_train_truth[:]['y'].as_matrix()\n",
    "\n",
    "arr_x_true = train_truth[:, 0]\n",
    "arr_y_true = train_truth[:, 1]\n",
    "\n",
    "arr_x_pred = arr_xy_pred[:, 0]\n",
    "arr_y_pred = arr_xy_pred[:, 1]\n",
    "\n",
    "arr_dx     = arr_x_true - arr_x_pred\n",
    "arr_dy     = arr_y_true - arr_y_pred\n",
    "\n",
    "\n",
    "print(arr_x_pred.shape)\n",
    "print(arr_y_pred.shape)\n",
    "print(arr_x_true.shape)\n",
    "print(arr_y_true.shape)\n",
    "\n"
   ]
  },
  {
   "cell_type": "code",
   "execution_count": 34,
   "metadata": {},
   "outputs": [
    {
     "data": {
      "text/html": [
       "<div>\n",
       "<style scoped>\n",
       "    .dataframe tbody tr th:only-of-type {\n",
       "        vertical-align: middle;\n",
       "    }\n",
       "\n",
       "    .dataframe tbody tr th {\n",
       "        vertical-align: top;\n",
       "    }\n",
       "\n",
       "    .dataframe thead th {\n",
       "        text-align: right;\n",
       "    }\n",
       "</style>\n",
       "<table border=\"1\" class=\"dataframe\">\n",
       "  <thead>\n",
       "    <tr style=\"text-align: right;\">\n",
       "      <th></th>\n",
       "      <th>x_pred</th>\n",
       "      <th>y_pred</th>\n",
       "      <th>x_true</th>\n",
       "      <th>y_true</th>\n",
       "    </tr>\n",
       "  </thead>\n",
       "  <tbody>\n",
       "    <tr>\n",
       "      <th>0</th>\n",
       "      <td>-0.152318</td>\n",
       "      <td>13.326426</td>\n",
       "      <td>1.089594</td>\n",
       "      <td>11.585751</td>\n",
       "    </tr>\n",
       "    <tr>\n",
       "      <th>1</th>\n",
       "      <td>-0.551593</td>\n",
       "      <td>38.345642</td>\n",
       "      <td>-0.464404</td>\n",
       "      <td>36.995577</td>\n",
       "    </tr>\n",
       "    <tr>\n",
       "      <th>2</th>\n",
       "      <td>-6.108047</td>\n",
       "      <td>-23.669607</td>\n",
       "      <td>-5.550666</td>\n",
       "      <td>-23.801190</td>\n",
       "    </tr>\n",
       "    <tr>\n",
       "      <th>3</th>\n",
       "      <td>-27.129759</td>\n",
       "      <td>-3.577958</td>\n",
       "      <td>-27.483288</td>\n",
       "      <td>-3.143641</td>\n",
       "    </tr>\n",
       "    <tr>\n",
       "      <th>4</th>\n",
       "      <td>-4.981176</td>\n",
       "      <td>-0.792384</td>\n",
       "      <td>-4.344175</td>\n",
       "      <td>-0.854051</td>\n",
       "    </tr>\n",
       "  </tbody>\n",
       "</table>\n",
       "</div>"
      ],
      "text/plain": [
       "      x_pred     y_pred     x_true     y_true\n",
       "0  -0.152318  13.326426   1.089594  11.585751\n",
       "1  -0.551593  38.345642  -0.464404  36.995577\n",
       "2  -6.108047 -23.669607  -5.550666 -23.801190\n",
       "3 -27.129759  -3.577958 -27.483288  -3.143641\n",
       "4  -4.981176  -0.792384  -4.344175  -0.854051"
      ]
     },
     "metadata": {},
     "output_type": "display_data"
    },
    {
     "name": "stdout",
     "output_type": "stream",
     "text": [
      "\n"
     ]
    }
   ],
   "source": [
    "\n",
    "\n",
    "####################################################################################################\n",
    "####################################################################################################\n",
    "\n",
    "file_out         = \"./predictions/xy_s2waveforms_events%06d_resample%04d.pkl\" % (nEventsTrain, resample_factor) \n",
    "df_out           = pd.DataFrame()\n",
    "\n",
    "df_out['x_pred'] = arr_x_pred\n",
    "df_out['y_pred'] = arr_y_pred\n",
    "\n",
    "df_out['x_true'] = arr_x_true\n",
    "df_out['y_true'] = arr_y_true\n",
    "\n",
    "\n",
    "df_out.to_pickle(file_out)\n",
    "\n",
    "\n",
    "####################################################################################################\n",
    "####################################################################################################\n",
    "\n",
    "df_test = pd.read_pickle(file_out)\n",
    "\n",
    "display(df_test[0:5][:])\n",
    "print()\n"
   ]
  },
  {
   "cell_type": "code",
   "execution_count": null,
   "metadata": {},
   "outputs": [],
   "source": []
  },
  {
   "cell_type": "code",
   "execution_count": null,
   "metadata": {},
   "outputs": [],
   "source": []
  },
  {
   "cell_type": "code",
   "execution_count": null,
   "metadata": {},
   "outputs": [],
   "source": []
  },
  {
   "cell_type": "code",
   "execution_count": null,
   "metadata": {},
   "outputs": [],
   "source": []
  },
  {
   "cell_type": "code",
   "execution_count": null,
   "metadata": {},
   "outputs": [],
   "source": []
  },
  {
   "cell_type": "code",
   "execution_count": null,
   "metadata": {},
   "outputs": [],
   "source": []
  },
  {
   "cell_type": "code",
   "execution_count": null,
   "metadata": {
    "collapsed": true
   },
   "outputs": [],
   "source": []
  }
 ],
 "metadata": {
  "anaconda-cloud": {},
  "kernelspec": {
   "display_name": "Python 3",
   "language": "python",
   "name": "python3"
  },
  "language_info": {
   "codemirror_mode": {
    "name": "ipython",
    "version": 3
   },
   "file_extension": ".py",
   "mimetype": "text/x-python",
   "name": "python",
   "nbconvert_exporter": "python",
   "pygments_lexer": "ipython3",
   "version": "3.5.4"
  }
 },
 "nbformat": 4,
 "nbformat_minor": 2
}
