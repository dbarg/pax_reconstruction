{
 "cells": [
  {
   "cell_type": "code",
   "execution_count": 1,
   "metadata": {},
   "outputs": [
    {
     "name": "stderr",
     "output_type": "stream",
     "text": [
      "Using TensorFlow backend.\n"
     ]
    }
   ],
   "source": [
    "\n",
    "####################################################################################################\n",
    "####################################################################################################\n",
    "\n",
    "import sys\n",
    "import os.path\n",
    "\n",
    "import matplotlib.pyplot as plt\n",
    "import numpy as np\n",
    "import pandas as pd\n",
    "from IPython.display import display\n",
    "\n",
    "import keras\n",
    "import keras.utils.vis_utils\n",
    "from keras import backend as K\n",
    "from keras import layers\n",
    "from keras.layers import Dense\n",
    "from keras.models import load_model\n",
    "from keras.models import Sequential\n",
    "from keras.utils import plot_model\n",
    "\n",
    "sys.path.append(os.path.abspath(\"../\"))\n",
    "from helpers import *\n",
    "\n",
    "sys.path.append(os.path.abspath(\"../../\"))\n",
    "from pax_utils import s1s2_utils\n",
    "\n",
    "from get_dnn_data import *\n"
   ]
  },
  {
   "cell_type": "code",
   "execution_count": 9,
   "metadata": {},
   "outputs": [
    {
     "name": "stdout",
     "output_type": "stream",
     "text": [
      "\n",
      "(20967, 1270)\n",
      "(20967, 2)\n",
      "\n",
      "./predictions/dnn_xy_s2waveforms_elu_acc9915_epochs10_layers-1270-1270-127-2.pkl\n"
     ]
    }
   ],
   "source": [
    "\n",
    "####################################################################################################\n",
    "####################################################################################################\n",
    "    \n",
    "nEventsFile     = 25000\n",
    "nEventsTrain    = 20000\n",
    "iEventStart     = 0\n",
    "iEventEnd       = iEventStart + nEventsFile\n",
    "\n",
    "s2_window_max   = 2300\n",
    "resample_factor = 46\n",
    "resample_factor = 230\n",
    "\n",
    "n_timesteps     = int(s2_window_max / resample_factor)\n",
    "\n",
    "assert(s2_window_max % resample_factor == 0)\n",
    "\n",
    "file_out_input = 'train/array_train_input_events%06d-%06d_timesteps%04d' % (iEventStart, iEventEnd - 1, n_timesteps) + '.npy'\n",
    "file_out_truth = 'train/array_train_truth_events%06d-%06d_timesteps%04d' % (iEventStart, iEventEnd - 1, n_timesteps) + '.npy'\n",
    "\n",
    "file_out_input = 'data_all.npy'\n",
    "file_out_truth = 'truth_all.npy'\n",
    "\n",
    "train_data  = np.load(file_out_input)\n",
    "train_truth = np.load(file_out_truth)\n",
    "\n",
    "#train_data  = train_data [nEventsTrain:, :]\n",
    "#train_truth = train_truth[nEventsTrain:, :]\n",
    "\n",
    "\n",
    "nEventsTrain = 100000\n",
    "\n",
    "train_data  = train_data [nEventsTrain:, :]\n",
    "train_truth = train_truth[nEventsTrain:, :]\n",
    "\n",
    "print()\n",
    "print(train_data.shape)\n",
    "print(train_truth.shape)\n",
    "print()\n",
    "\n",
    "\n",
    "####################################################################################################\n",
    "####################################################################################################\n",
    "\n",
    "model_name_h5 = 'models/'\n",
    "\n",
    "#model_name_h5 += 'model_model_xy_s2waveforms_dnn_elu_acc9902_epochs10_layers-1270-1270-127-2'\n",
    "model_name_h5 += 'dnn_xy_s2waveforms_elu_acc9915_epochs10_layers-1270-1270-127-2'\n",
    "\n",
    "model_name_h5 += '.h5'\n",
    "\n",
    "file_out = './predictions/' + os.path.basename(model_name_h5).replace('.h5', '.pkl')\n",
    "\n",
    "print(file_out)\n"
   ]
  },
  {
   "cell_type": "code",
   "execution_count": 10,
   "metadata": {},
   "outputs": [
    {
     "name": "stdout",
     "output_type": "stream",
     "text": [
      "\n",
      "Loaded Model: models/dnn_xy_s2waveforms_elu_acc9915_epochs10_layers-1270-1270-127-2.h5\n",
      "Predicted\n",
      "\n"
     ]
    }
   ],
   "source": [
    "\n",
    "####################################################################################################\n",
    "# Predict\n",
    "####################################################################################################\n",
    "\n",
    "model       = load_model(model_name_h5)\n",
    "arr_xy_pred = model.predict(train_data)\n",
    "\n",
    "print(\"\\nLoaded Model: \" + model_name_h5)\n",
    "print(\"Predicted\\n\")\n"
   ]
  },
  {
   "cell_type": "code",
   "execution_count": 11,
   "metadata": {},
   "outputs": [
    {
     "name": "stdout",
     "output_type": "stream",
     "text": [
      "(20967,)\n",
      "(20967,)\n",
      "(20967,)\n",
      "(20967,)\n"
     ]
    }
   ],
   "source": [
    "\n",
    "####################################################################################################\n",
    "####################################################################################################\n",
    "\n",
    "arr_x_true = train_truth[:, 0]\n",
    "arr_y_true = train_truth[:, 1]\n",
    "\n",
    "arr_x_pred = arr_xy_pred[:, 0]\n",
    "arr_y_pred = arr_xy_pred[:, 1]\n",
    "\n",
    "arr_dx     = arr_x_true - arr_x_pred\n",
    "arr_dy     = arr_y_true - arr_y_pred\n",
    "\n",
    "\n",
    "print(arr_x_pred.shape)\n",
    "print(arr_y_pred.shape)\n",
    "print(arr_x_true.shape)\n",
    "print(arr_y_true.shape)\n",
    "\n"
   ]
  },
  {
   "cell_type": "code",
   "execution_count": 12,
   "metadata": {},
   "outputs": [
    {
     "data": {
      "text/html": [
       "<div>\n",
       "<style scoped>\n",
       "    .dataframe tbody tr th:only-of-type {\n",
       "        vertical-align: middle;\n",
       "    }\n",
       "\n",
       "    .dataframe tbody tr th {\n",
       "        vertical-align: top;\n",
       "    }\n",
       "\n",
       "    .dataframe thead th {\n",
       "        text-align: right;\n",
       "    }\n",
       "</style>\n",
       "<table border=\"1\" class=\"dataframe\">\n",
       "  <thead>\n",
       "    <tr style=\"text-align: right;\">\n",
       "      <th></th>\n",
       "      <th>x_pred</th>\n",
       "      <th>y_pred</th>\n",
       "      <th>x_true</th>\n",
       "      <th>y_true</th>\n",
       "    </tr>\n",
       "  </thead>\n",
       "  <tbody>\n",
       "    <tr>\n",
       "      <th>0</th>\n",
       "      <td>10.528956</td>\n",
       "      <td>-5.394522</td>\n",
       "      <td>11.452923</td>\n",
       "      <td>-4.799238</td>\n",
       "    </tr>\n",
       "    <tr>\n",
       "      <th>1</th>\n",
       "      <td>17.457815</td>\n",
       "      <td>-14.849562</td>\n",
       "      <td>19.004622</td>\n",
       "      <td>-14.180182</td>\n",
       "    </tr>\n",
       "    <tr>\n",
       "      <th>2</th>\n",
       "      <td>-0.398164</td>\n",
       "      <td>-30.419701</td>\n",
       "      <td>-0.713852</td>\n",
       "      <td>-30.766731</td>\n",
       "    </tr>\n",
       "    <tr>\n",
       "      <th>3</th>\n",
       "      <td>-30.271709</td>\n",
       "      <td>-17.710238</td>\n",
       "      <td>-31.193504</td>\n",
       "      <td>-19.178736</td>\n",
       "    </tr>\n",
       "    <tr>\n",
       "      <th>4</th>\n",
       "      <td>14.097367</td>\n",
       "      <td>-12.268551</td>\n",
       "      <td>15.701762</td>\n",
       "      <td>-12.451200</td>\n",
       "    </tr>\n",
       "  </tbody>\n",
       "</table>\n",
       "</div>"
      ],
      "text/plain": [
       "      x_pred     y_pred     x_true     y_true\n",
       "0  10.528956  -5.394522  11.452923  -4.799238\n",
       "1  17.457815 -14.849562  19.004622 -14.180182\n",
       "2  -0.398164 -30.419701  -0.713852 -30.766731\n",
       "3 -30.271709 -17.710238 -31.193504 -19.178736\n",
       "4  14.097367 -12.268551  15.701762 -12.451200"
      ]
     },
     "metadata": {},
     "output_type": "display_data"
    },
    {
     "name": "stdout",
     "output_type": "stream",
     "text": [
      "\n"
     ]
    }
   ],
   "source": [
    "\n",
    "####################################################################################################\n",
    "####################################################################################################\n",
    "\n",
    "df_out = pd.DataFrame()\n",
    "\n",
    "df_out['x_pred'] = arr_x_pred\n",
    "df_out['y_pred'] = arr_y_pred\n",
    "\n",
    "df_out['x_true'] = arr_x_true\n",
    "df_out['y_true'] = arr_y_true\n",
    "\n",
    "\n",
    "df_out.to_pickle(file_out)\n",
    "\n",
    "\n",
    "####################################################################################################\n",
    "####################################################################################################\n",
    "\n",
    "df_test = pd.read_pickle(file_out)\n",
    "\n",
    "display(df_test[0:5][:])\n",
    "print()\n"
   ]
  },
  {
   "cell_type": "code",
   "execution_count": null,
   "metadata": {},
   "outputs": [],
   "source": []
  },
  {
   "cell_type": "code",
   "execution_count": null,
   "metadata": {},
   "outputs": [],
   "source": []
  },
  {
   "cell_type": "code",
   "execution_count": null,
   "metadata": {},
   "outputs": [],
   "source": []
  },
  {
   "cell_type": "code",
   "execution_count": null,
   "metadata": {},
   "outputs": [],
   "source": []
  },
  {
   "cell_type": "code",
   "execution_count": null,
   "metadata": {},
   "outputs": [],
   "source": []
  },
  {
   "cell_type": "code",
   "execution_count": null,
   "metadata": {},
   "outputs": [],
   "source": []
  },
  {
   "cell_type": "code",
   "execution_count": null,
   "metadata": {
    "collapsed": true
   },
   "outputs": [],
   "source": []
  }
 ],
 "metadata": {
  "anaconda-cloud": {},
  "kernelspec": {
   "display_name": "Python 3",
   "language": "python",
   "name": "python3"
  },
  "language_info": {
   "codemirror_mode": {
    "name": "ipython",
    "version": 3
   },
   "file_extension": ".py",
   "mimetype": "text/x-python",
   "name": "python",
   "nbconvert_exporter": "python",
   "pygments_lexer": "ipython3",
   "version": "3.5.4"
  }
 },
 "nbformat": 4,
 "nbformat_minor": 2
}
