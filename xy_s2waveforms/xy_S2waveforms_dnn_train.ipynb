{
 "cells": [
  {
   "cell_type": "code",
   "execution_count": 8,
   "metadata": {
    "collapsed": false
   },
   "outputs": [
    {
     "name": "stdout",
     "output_type": "stream",
     "text": [
      "['', '/project/rcc/ivy2/jupyterhub/anaconda3/lib/python35.zip', '/project/rcc/ivy2/jupyterhub/anaconda3/lib/python3.5', '/project/rcc/ivy2/jupyterhub/anaconda3/lib/python3.5/plat-linux', '/project/rcc/ivy2/jupyterhub/anaconda3/lib/python3.5/lib-dynload', '/project/rcc/ivy2/jupyterhub/anaconda3/lib/python3.5/site-packages', '/project/rcc/ivy2/jupyterhub/anaconda3/lib/python3.5/site-packages/Sphinx-1.4.8-py3.5.egg', '/project/rcc/ivy2/jupyterhub/batchspawner', '/project/rcc/ivy2/jupyterhub/anaconda3/lib/python3.5/site-packages/jupyterhub_ldapauthenticator-1.0.0-py3.5.egg', '/project/rcc/ivy2/jupyterhub/anaconda3/lib/python3.5/site-packages/setuptools-27.2.0-py3.5.egg', '/project/rcc/ivy2/jupyterhub/anaconda3/lib/python3.5/site-packages/IPython/extensions', '/home/dbarge/.ipython']\n"
     ]
    },
    {
     "ename": "ImportError",
     "evalue": "No module named 'keras'",
     "output_type": "error",
     "traceback": [
      "\u001b[0;31m---------------------------------------------------------------------------\u001b[0m",
      "\u001b[0;31mImportError\u001b[0m                               Traceback (most recent call last)",
      "\u001b[0;32m<ipython-input-8-02f0f536d25a>\u001b[0m in \u001b[0;36m<module>\u001b[0;34m()\u001b[0m\n\u001b[1;32m     22\u001b[0m \u001b[0;34m\u001b[0m\u001b[0m\n\u001b[1;32m     23\u001b[0m \u001b[0;31m#\u001b[0m\u001b[0;34m\u001b[0m\u001b[0;34m\u001b[0m\u001b[0m\n\u001b[0;32m---> 24\u001b[0;31m \u001b[0;32mimport\u001b[0m \u001b[0mkeras\u001b[0m\u001b[0;34m\u001b[0m\u001b[0m\n\u001b[0m\u001b[1;32m     25\u001b[0m \u001b[0;32mfrom\u001b[0m \u001b[0mkeras\u001b[0m \u001b[0;32mimport\u001b[0m \u001b[0mbackend\u001b[0m \u001b[0;32mas\u001b[0m \u001b[0mK\u001b[0m\u001b[0;34m\u001b[0m\u001b[0m\n\u001b[1;32m     26\u001b[0m \u001b[0;32mfrom\u001b[0m \u001b[0mkeras\u001b[0m \u001b[0;32mimport\u001b[0m \u001b[0mlayers\u001b[0m\u001b[0;34m\u001b[0m\u001b[0m\n",
      "\u001b[0;31mImportError\u001b[0m: No module named 'keras'"
     ]
    }
   ],
   "source": [
    "\n",
    "####################################################################################################\n",
    "####################################################################################################\n",
    "\n",
    "import datetime\n",
    "import sys\n",
    "import glob\n",
    "import json\n",
    "import os.path\n",
    "import pprint\n",
    "\n",
    "import matplotlib.pyplot as plt\n",
    "import matplotlib.image as mpimg\n",
    "import numpy as np\n",
    "import pandas as pd\n",
    "\n",
    "from IPython.display import display\n",
    "#from IPython.display import Image\n",
    "from PIL import Image\n",
    "\n",
    "print(sys.path)\n",
    "\n",
    "#\n",
    "import keras\n",
    "from keras import backend as K\n",
    "from keras import layers\n",
    "from keras import regularizers\n",
    "from keras.layers import Dense\n",
    "from keras.layers import Dropout\n",
    "from keras.layers import Embedding\n",
    "from keras.layers import LSTM\n",
    "from keras.layers.normalization import BatchNormalization\n",
    "from keras.models import load_model\n",
    "from keras.models import Sequential\n",
    "from keras.utils import plot_model\n",
    "\n",
    "sys.path.append(os.path.abspath(\"../../\"))\n",
    "sys.path.append(os.path.abspath(\"../../pax_utils\"))\n",
    "from s1s2_utils import *\n",
    "from keras_utils.config_utils import *\n",
    "\n",
    "from model_xy_s2waveforms_dnn import *\n",
    "\n"
   ]
  },
  {
   "cell_type": "code",
   "execution_count": 3,
   "metadata": {
    "collapsed": false
   },
   "outputs": [
    {
     "name": "stdout",
     "output_type": "stream",
     "text": [
      "(100000, 1270)\n",
      "(100000, 2)\n"
     ]
    }
   ],
   "source": [
    "\n",
    "####################################################################################################\n",
    "####################################################################################################\n",
    "    \n",
    "nEventsFile     = 25000\n",
    "nEventsTrain    = 20000\n",
    "#nEventsTrain    = 1\n",
    "\n",
    "iEventStart     = 0\n",
    "iEventEnd       = iEventStart + nEventsFile\n",
    "\n",
    "s2_window_max   = 2300\n",
    "resample_factor = 46\n",
    "resample_factor = 230\n",
    "\n",
    "n_timesteps     = int(s2_window_max / resample_factor)\n",
    "\n",
    "assert(s2_window_max % resample_factor == 0)\n",
    "\n",
    "\n",
    "####################################################################################################\n",
    "####################################################################################################\n",
    "\n",
    "file_out_input = 'train/array_train_input_events000000-199999_timesteps0010.npy'\n",
    "file_out_truth = 'train/array_train_truth_events000000-199999_timesteps0010.npy'\n",
    "\n",
    "#file_out_input = 'train/array_train_input_events000000-199999_timesteps0020.npy'\n",
    "#file_out_truth = 'train/array_train_truth_events000000-199999_timesteps0020.npy'\n",
    "\n",
    "#file_out_input = 'train/array_train_input_events000000-199999_timesteps0025.npy'\n",
    "#file_out_truth = 'train/array_train_truth_events000000-199999_timesteps0025.npy'\n",
    "\n",
    "#file_out_input = 'data_all.npy'\n",
    "#file_out_truth = 'truth_all.npy'\n",
    "\n",
    "nEventsTrain = 100000\n",
    "n_timesteps  = 10\n",
    "\n",
    "\n",
    "####################################################################################################\n",
    "####################################################################################################\n",
    "\n",
    "train_data  = np.load(file_out_input)\n",
    "train_truth = np.load(file_out_truth)\n",
    "\n",
    "train_data  = train_data [0:nEventsTrain, :]\n",
    "train_truth = train_truth[0:nEventsTrain, :]\n",
    "\n",
    "print(train_data.shape)\n",
    "print(train_truth.shape)\n",
    "\n"
   ]
  },
  {
   "cell_type": "code",
   "execution_count": 4,
   "metadata": {
    "collapsed": false
   },
   "outputs": [
    {
     "name": "stdout",
     "output_type": "stream",
     "text": [
      "\n",
      "Channels:         127\n",
      "Timesteps:        10\n",
      "Outputs:          2\n",
      "Input data shape: (100000, 1270)\n",
      "Truth data shape: (100000, 2)\n",
      "\n"
     ]
    }
   ],
   "source": [
    "\n",
    "####################################################################################################\n",
    "####################################################################################################\n",
    "\n",
    "n_events     = nEventsTrain\n",
    "n_channels   = 127\n",
    "n_outputs    = 2\n",
    "\n",
    "#n_timesteps  = 1\n",
    "\n",
    "go_backwards = False\n",
    "unroll       = False\n",
    "\n",
    "\n",
    "####################################################################################################\n",
    "# Training Data\n",
    "####################################################################################################\n",
    "\n",
    "print()\n",
    "print(\"Channels:         \" + str(n_channels))\n",
    "print(\"Timesteps:        \" + str(n_timesteps))\n",
    "print(\"Outputs:          \" + str(n_outputs) )\n",
    "print(\"Input data shape: \" + str(train_data.shape ))\n",
    "print(\"Truth data shape: \" + str(train_truth.shape))\n",
    "print()\n",
    "\n"
   ]
  },
  {
   "cell_type": "code",
   "execution_count": 5,
   "metadata": {
    "collapsed": false
   },
   "outputs": [
    {
     "ename": "NameError",
     "evalue": "name 'dnnModel' is not defined",
     "output_type": "error",
     "traceback": [
      "\u001b[0;31m---------------------------------------------------------------------------\u001b[0m",
      "\u001b[0;31mNameError\u001b[0m                                 Traceback (most recent call last)",
      "\u001b[0;32m<ipython-input-5-354b42a3e725>\u001b[0m in \u001b[0;36m<module>\u001b[0;34m()\u001b[0m\n\u001b[1;32m      3\u001b[0m \u001b[0;31m####################################################################################################\u001b[0m\u001b[0;34m\u001b[0m\u001b[0;34m\u001b[0m\u001b[0m\n\u001b[1;32m      4\u001b[0m \u001b[0;34m\u001b[0m\u001b[0m\n\u001b[0;32m----> 5\u001b[0;31m \u001b[0mmodel\u001b[0m\u001b[0;34m,\u001b[0m \u001b[0mmodel_name\u001b[0m \u001b[0;34m=\u001b[0m \u001b[0mdnnModel\u001b[0m\u001b[0;34m(\u001b[0m\u001b[0mn_channels\u001b[0m\u001b[0;34m,\u001b[0m \u001b[0mn_timesteps\u001b[0m\u001b[0;34m,\u001b[0m \u001b[0mn_outputs\u001b[0m\u001b[0;34m,\u001b[0m \u001b[0;34m'elu'\u001b[0m\u001b[0;34m,\u001b[0m \u001b[0;36m0.00005\u001b[0m\u001b[0;34m)\u001b[0m\u001b[0;34m\u001b[0m\u001b[0m\n\u001b[0m\u001b[1;32m      6\u001b[0m \u001b[0;34m\u001b[0m\u001b[0m\n\u001b[1;32m      7\u001b[0m \u001b[0;34m\u001b[0m\u001b[0m\n",
      "\u001b[0;31mNameError\u001b[0m: name 'dnnModel' is not defined"
     ]
    }
   ],
   "source": [
    "\n",
    "####################################################################################################\n",
    "####################################################################################################\n",
    "\n",
    "model, model_name = dnnModel(n_channels, n_timesteps, n_outputs, 'elu', 0.00005)\n",
    "\n",
    "\n",
    "######################################################################################\n",
    "######################################################################################\n",
    "\n",
    "\n",
    "print()\n",
    "print(\"Model Summary:\")\n",
    "model.summary()\n",
    "print()\n",
    "\n",
    "\n"
   ]
  },
  {
   "cell_type": "code",
   "execution_count": null,
   "metadata": {
    "collapsed": false
   },
   "outputs": [
    {
     "name": "stdout",
     "output_type": "stream",
     "text": [
      "Epoch 1/10\n",
      "100000/100000 [==============================] - 3094s 31ms/step - loss: 3.6428 - acc: 0.9860\n",
      "Epoch 2/10\n",
      "100000/100000 [==============================] - 3129s 31ms/step - loss: 1.1182 - acc: 0.9891\n",
      "Epoch 3/10\n",
      "100000/100000 [==============================] - 2179s 22ms/step - loss: 1.1290 - acc: 0.9883\n",
      "Epoch 4/10\n",
      "100000/100000 [==============================] - 2263s 23ms/step - loss: 1.1418 - acc: 0.9885\n",
      "Epoch 5/10\n",
      "100000/100000 [==============================] - 2217s 22ms/step - loss: 1.0887 - acc: 0.9882\n",
      "Epoch 6/10\n",
      "100000/100000 [==============================] - 2328s 23ms/step - loss: 0.9666 - acc: 0.9893\n",
      "Epoch 7/10\n",
      " 32512/100000 [========>.....................] - ETA: 26:26 - loss: 0.9273 - acc: 0.9895"
     ]
    }
   ],
   "source": [
    "\n",
    "######################################################################################\n",
    "######################################################################################\n",
    "\n",
    "# to do: reset model \n",
    "\n",
    "epochs = 10\n",
    "#epochs = 1\n",
    "\n",
    "history = model.fit(\n",
    "    train_data,\n",
    "    train_truth,\n",
    "    batch_size=64,\n",
    "    epochs=epochs,\n",
    "    verbose=True\n",
    ")\n",
    "\n",
    "\n",
    "######################################################################################\n",
    "######################################################################################\n",
    "\n",
    "dct_history = history.history\n",
    "\n",
    "loss = dct_history['loss'][epochs-1]\n",
    "loss = int(round(loss*100, 0))\n",
    "loss = 'loss' + str(loss)\n",
    "\n",
    "acc  = dct_history['acc'][epochs-1]\n",
    "acc  = int(round(acc*1e4, 0))\n",
    "acc  = 'acc%04d' % acc\n",
    "\n",
    "\n",
    "print(\"Training Complete.\")\n"
   ]
  },
  {
   "cell_type": "code",
   "execution_count": null,
   "metadata": {
    "collapsed": true
   },
   "outputs": [],
   "source": [
    "\n",
    "######################################################################################\n",
    "######################################################################################\n",
    "\n",
    "config     = model.get_config()\n",
    "str_layers = layer_desc = getModelDescription(config)   \n",
    "\n",
    "\n",
    "######################################################################################\n",
    "# Save Model\n",
    "######################################################################################\n",
    "\n",
    "folder   = \"models/\"    \n",
    "desc     = model_name + '_' + acc + '_epochs' + str(epochs) + '_' + layer_desc \n",
    "name_h5  = folder + desc + '.h5'\n",
    "name_png = name_h5.replace('.h5', '.png')\n",
    "name_cfg = name_h5.replace('.h5', '.json')\n",
    "\n",
    "\n",
    "######################################################################################\n",
    "# Save\n",
    "######################################################################################\n",
    "\n",
    "model.save(name_h5, overwrite=True)\n",
    "\n",
    "plot_model(model, to_file=name_png, show_layer_names=True, show_shapes=True)\n",
    "\n",
    "with open(name_cfg, 'w') as fp: json.dump(config, fp)\n",
    "with open(name_cfg, 'r') as fp: config_test = json.load(fp)\n",
    "    \n",
    "\n",
    "print(\"\\n\" + name_h5 + \"\\n\")\n",
    "\n",
    "#print()\n",
    "#display(Image.open(name_png))\n",
    "#print()\n",
    "\n"
   ]
  },
  {
   "cell_type": "code",
   "execution_count": null,
   "metadata": {
    "collapsed": true
   },
   "outputs": [],
   "source": []
  },
  {
   "cell_type": "code",
   "execution_count": null,
   "metadata": {
    "collapsed": true
   },
   "outputs": [],
   "source": []
  },
  {
   "cell_type": "code",
   "execution_count": null,
   "metadata": {
    "collapsed": true
   },
   "outputs": [],
   "source": []
  },
  {
   "cell_type": "code",
   "execution_count": null,
   "metadata": {
    "collapsed": true
   },
   "outputs": [],
   "source": []
  }
 ],
 "metadata": {
  "anaconda-cloud": {},
  "kernelspec": {
   "display_name": "Python 3",
   "language": "python",
   "name": "python3"
  },
  "language_info": {
   "codemirror_mode": {
    "name": "ipython",
    "version": 3
   },
   "file_extension": ".py",
   "mimetype": "text/x-python",
   "name": "python",
   "nbconvert_exporter": "python",
   "pygments_lexer": "ipython3",
   "version": "3.5.2"
  }
 },
 "nbformat": 4,
 "nbformat_minor": 2
}
