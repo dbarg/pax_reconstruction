{
 "cells": [
  {
   "cell_type": "code",
   "execution_count": 1,
   "metadata": {},
   "outputs": [
    {
     "name": "stderr",
     "output_type": "stream",
     "text": [
      "Using TensorFlow backend.\n"
     ]
    }
   ],
   "source": [
    "\n",
    "####################################################################################################\n",
    "####################################################################################################\n",
    "\n",
    "import sys\n",
    "import glob\n",
    "import os.path\n",
    "\n",
    "import datetime\n",
    "import matplotlib.pyplot as plt\n",
    "import matplotlib.image as mpimg\n",
    "import numpy as np\n",
    "import pandas as pd\n",
    "\n",
    "from IPython.display import display\n",
    "from IPython.display import Image\n",
    "from PIL import Image\n",
    "\n",
    "import keras\n",
    "from keras import backend as K\n",
    "from keras import layers\n",
    "from keras import regularizers\n",
    "from keras.layers import Dense\n",
    "from keras.layers import Dropout\n",
    "from keras.layers import Embedding\n",
    "from keras.layers import LSTM\n",
    "from keras.layers.normalization import BatchNormalization\n",
    "from keras.models import load_model\n",
    "from keras.models import Sequential\n",
    "from keras.utils import plot_model\n",
    "\n",
    "sys.path.append(os.path.abspath(\"../../\"))\n",
    "sys.path.append(os.path.abspath(\"../../pax_utils\"))\n",
    "from s1s2_utils import *\n",
    "\n",
    "from model_xy_s2waveforms_lstm import *\n",
    "from get_dnn_data import *\n",
    "\n"
   ]
  },
  {
   "cell_type": "code",
   "execution_count": 4,
   "metadata": {},
   "outputs": [
    {
     "name": "stdout",
     "output_type": "stream",
     "text": [
      "(1, 14)\n"
     ]
    },
    {
     "data": {
      "text/html": [
       "<div>\n",
       "<style scoped>\n",
       "    .dataframe tbody tr th:only-of-type {\n",
       "        vertical-align: middle;\n",
       "    }\n",
       "\n",
       "    .dataframe tbody tr th {\n",
       "        vertical-align: top;\n",
       "    }\n",
       "\n",
       "    .dataframe thead th {\n",
       "        text-align: right;\n",
       "    }\n",
       "</style>\n",
       "<table border=\"1\" class=\"dataframe\">\n",
       "  <thead>\n",
       "    <tr style=\"text-align: right;\">\n",
       "      <th></th>\n",
       "      <th>event_number</th>\n",
       "      <th>event_s2_count</th>\n",
       "      <th>event_s2_length</th>\n",
       "      <th>event_s2_left</th>\n",
       "      <th>event_s2_right</th>\n",
       "      <th>intr_count</th>\n",
       "      <th>intr_corrected_s2_area</th>\n",
       "      <th>intr_s2_electrons</th>\n",
       "      <th>x</th>\n",
       "      <th>y</th>\n",
       "      <th>s2_area_000</th>\n",
       "      <th>s2_area_001</th>\n",
       "      <th>s2_area_002</th>\n",
       "      <th>s2_area_003</th>\n",
       "    </tr>\n",
       "  </thead>\n",
       "  <tbody>\n",
       "    <tr>\n",
       "      <th>1</th>\n",
       "      <td>1</td>\n",
       "      <td>6</td>\n",
       "      <td>463</td>\n",
       "      <td>105426</td>\n",
       "      <td>105888</td>\n",
       "      <td>1</td>\n",
       "      <td>2102.227029</td>\n",
       "      <td>98.696105</td>\n",
       "      <td>2.626434</td>\n",
       "      <td>-17.960824</td>\n",
       "      <td>1.715228</td>\n",
       "      <td>0.0</td>\n",
       "      <td>0.0</td>\n",
       "      <td>0.0</td>\n",
       "    </tr>\n",
       "  </tbody>\n",
       "</table>\n",
       "</div>"
      ],
      "text/plain": [
       "   event_number  event_s2_count  event_s2_length  event_s2_left  \\\n",
       "1             1               6              463         105426   \n",
       "\n",
       "   event_s2_right  intr_count  intr_corrected_s2_area  intr_s2_electrons  \\\n",
       "1          105888           1             2102.227029          98.696105   \n",
       "\n",
       "          x          y  s2_area_000  s2_area_001  s2_area_002  s2_area_003  \n",
       "1  2.626434 -17.960824     1.715228          0.0          0.0          0.0  "
      ]
     },
     "metadata": {},
     "output_type": "display_data"
    },
    {
     "name": "stdout",
     "output_type": "stream",
     "text": [
      "\n",
      "Event Max S2 Window size: 1448\n",
      "\n"
     ]
    }
   ],
   "source": [
    "\n",
    "####################################################################################################\n",
    "# Training Data\n",
    "####################################################################################################\n",
    "\n",
    "nEventsTrain = 1000\n",
    "nEventsTrain = 1\n",
    "\n",
    "input_dir  = \"../../pax_merge/merged/\"\n",
    "input_file = 'merged_all_0k_test.pkl'\n",
    "input_path = input_dir + input_file\n",
    "\n",
    "s2cols = getS2integralsDataFrameColumns()\n",
    "#print(s2cols)\n",
    "\n",
    "cols = [\n",
    "    'event_number',\n",
    "    'event_s2_count',\n",
    "    'event_s2_length', \n",
    "    'event_s2_left',\n",
    "    'event_s2_right', \n",
    "    'intr_count',\n",
    "    'intr_corrected_s2_area',\n",
    "    'intr_s2_electrons',\n",
    "    'x',\n",
    "    'y',\n",
    "    's2_area_000',\n",
    "    's2_area_001',\n",
    "    's2_area_002',\n",
    "    's2_area_003',\n",
    "    \n",
    "]\n",
    "\n",
    "df_events, s2_window_max = getEventsDataFrame(input_path)\n",
    "df_events                = df_events[0:nEventsTrain][:].copy(deep=True)\n",
    "df_s2integrals           = df_events[s2cols]\n",
    "\n",
    "df_events                = df_events[cols]\n",
    "#df_events                = df_events[0:10][:]\n",
    "\n",
    "\n",
    "print(df_events.shape)\n",
    "display(df_events[0:5][:])\n",
    "\n",
    "print()\n",
    "print(\"Event Max S2 Window size: \" + str(s2_window_max))\n",
    "print()\n",
    "        \n"
   ]
  },
  {
   "cell_type": "code",
   "execution_count": 5,
   "metadata": {},
   "outputs": [
    {
     "name": "stdout",
     "output_type": "stream",
     "text": [
      "0 empty events\n",
      "\n",
      "Input data shape:       (1, 183896)\n",
      "Truth data shape:       (1, 2)\n",
      "\n"
     ]
    }
   ],
   "source": [
    "\n",
    "####################################################################################################\n",
    "# Training Data\n",
    "####################################################################################################\n",
    "\n",
    "train_data, train_truth  = get_data(df_events, s2_window_max)\n",
    "\n",
    "print()\n",
    "print(\"Input data shape:       \" + str(train_data.shape ))\n",
    "print(\"Truth data shape:       \" + str(train_truth.shape))\n",
    "print()\n"
   ]
  },
  {
   "cell_type": "code",
   "execution_count": null,
   "metadata": {},
   "outputs": [],
   "source": []
  },
  {
   "cell_type": "code",
   "execution_count": 6,
   "metadata": {},
   "outputs": [
    {
     "name": "stdout",
     "output_type": "stream",
     "text": [
      "\n",
      "Channels:         127\n",
      "Timesteps:        1448\n",
      "Outputs:          2\n",
      "Input data shape: (1, 183896)\n",
      "Truth data shape: (1, 2)\n",
      "\n"
     ]
    }
   ],
   "source": [
    "\n",
    "####################################################################################################\n",
    "####################################################################################################\n",
    "\n",
    "n_events     = nEventsTrain\n",
    "n_channels   = 127\n",
    "n_outputs    = 2\n",
    "n_timesteps  = s2_window_max\n",
    "go_backwards = False\n",
    "unroll       = False\n",
    "\n",
    "\n",
    "####################################################################################################\n",
    "# Training Data\n",
    "####################################################################################################\n",
    "\n",
    "#train_data  = np.random.random( (n_events, n_timesteps, n_channels) )\n",
    "#train_truth = np.random.random( (n_events, n_outputs)               )\n",
    "\n",
    "print()\n",
    "print(\"Channels:         \" + str(n_channels))\n",
    "print(\"Timesteps:        \" + str(n_timesteps))\n",
    "print(\"Outputs:          \" + str(n_outputs) )\n",
    "print(\"Input data shape: \" + str(train_data.shape ))\n",
    "print(\"Truth data shape: \" + str(train_truth.shape))\n",
    "print()\n",
    "\n"
   ]
  },
  {
   "cell_type": "code",
   "execution_count": null,
   "metadata": {},
   "outputs": [],
   "source": [
    "\n",
    "####################################################################################################\n",
    "# To Do: understand stateful, return_state\n",
    "####################################################################################################\n",
    "\n",
    "model, name = dnnModel(n_channels, n_timesteps, n_outputs, 'elu', 0.00005, go_backwards, unroll)\n",
    "\n",
    "\n",
    "######################################################################################\n",
    "######################################################################################\n",
    "\n",
    "name_png = 'models/' + name + \".png\"\n",
    "\n",
    "print()\n",
    "display(Image.open(name_png))\n",
    "print()\n",
    "\n"
   ]
  },
  {
   "cell_type": "code",
   "execution_count": null,
   "metadata": {},
   "outputs": [],
   "source": []
  },
  {
   "cell_type": "code",
   "execution_count": 7,
   "metadata": {},
   "outputs": [
    {
     "name": "stdout",
     "output_type": "stream",
     "text": [
      "Epoch 1/1\n",
      "1000/1000 [==============================] - 392s 392ms/step - loss: 390.2798\n",
      "Training Complete.\n"
     ]
    }
   ],
   "source": [
    "\n",
    "######################################################################################\n",
    "######################################################################################\n",
    "\n",
    "model.fit(\n",
    "    train_data,\n",
    "    train_truth,\n",
    "    batch_size=64,\n",
    "    epochs=1,\n",
    "    verbose=True\n",
    ")\n",
    "\n",
    "print(\"Training Complete.\")\n"
   ]
  },
  {
   "cell_type": "code",
   "execution_count": null,
   "metadata": {},
   "outputs": [],
   "source": []
  },
  {
   "cell_type": "code",
   "execution_count": 8,
   "metadata": {},
   "outputs": [
    {
     "name": "stdout",
     "output_type": "stream",
     "text": [
      "models/model_xy_s2waveforms_lstm_elu.h5\n"
     ]
    }
   ],
   "source": [
    "\n",
    "######################################################################################\n",
    "# Save Model\n",
    "######################################################################################\n",
    "\n",
    "folder  = \"models/\"    \n",
    "name_h5 = folder + name + \".h5\"\n",
    "\n",
    "model.save(name_h5, overwrite=True)\n",
    "\n",
    "print(name_h5)\n"
   ]
  },
  {
   "cell_type": "code",
   "execution_count": null,
   "metadata": {},
   "outputs": [],
   "source": []
  }
 ],
 "metadata": {
  "kernelspec": {
   "display_name": "Python 3",
   "language": "python",
   "name": "python3"
  },
  "language_info": {
   "codemirror_mode": {
    "name": "ipython",
    "version": 3
   },
   "file_extension": ".py",
   "mimetype": "text/x-python",
   "name": "python",
   "nbconvert_exporter": "python",
   "pygments_lexer": "ipython3",
   "version": "3.5.4"
  }
 },
 "nbformat": 4,
 "nbformat_minor": 2
}
