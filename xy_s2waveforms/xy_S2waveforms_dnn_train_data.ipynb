{
 "cells": [
  {
   "cell_type": "code",
   "execution_count": 1,
   "metadata": {},
   "outputs": [],
   "source": [
    "\n",
    "####################################################################################################\n",
    "####################################################################################################\n",
    "\n",
    "import datetime\n",
    "import sys\n",
    "import glob\n",
    "import psutil\n",
    "import os.path\n",
    "\n",
    "import matplotlib.pyplot as plt\n",
    "import matplotlib.image as mpimg\n",
    "import numpy as np\n",
    "import pandas as pd\n",
    "\n",
    "from IPython.display import display\n",
    "\n",
    "sys.path.append(os.path.abspath(\"../../\"))\n",
    "sys.path.append(os.path.abspath(\"../../pax_utils\"))\n",
    "from s1s2_utils import *\n",
    "\n",
    "#from model_xy_s2waveforms_dnn import *\n",
    "from get_dnn_data import *\n",
    "\n"
   ]
  },
  {
   "cell_type": "code",
   "execution_count": 6,
   "metadata": {},
   "outputs": [
    {
     "name": "stdout",
     "output_type": "stream",
     "text": [
      "(1, 155)\n"
     ]
    },
    {
     "data": {
      "text/html": [
       "<div>\n",
       "<style scoped>\n",
       "    .dataframe tbody tr th:only-of-type {\n",
       "        vertical-align: middle;\n",
       "    }\n",
       "\n",
       "    .dataframe tbody tr th {\n",
       "        vertical-align: top;\n",
       "    }\n",
       "\n",
       "    .dataframe thead th {\n",
       "        text-align: right;\n",
       "    }\n",
       "</style>\n",
       "<table border=\"1\" class=\"dataframe\">\n",
       "  <thead>\n",
       "    <tr style=\"text-align: right;\">\n",
       "      <th></th>\n",
       "      <th>event_number</th>\n",
       "      <th>recoil_type</th>\n",
       "      <th>x</th>\n",
       "      <th>y</th>\n",
       "      <th>depth</th>\n",
       "      <th>s1_photons</th>\n",
       "      <th>s2_electrons</th>\n",
       "      <th>t</th>\n",
       "      <th>event_n_pulses</th>\n",
       "      <th>event_pulses_count</th>\n",
       "      <th>...</th>\n",
       "      <th>s2_area_117</th>\n",
       "      <th>s2_area_118</th>\n",
       "      <th>s2_area_119</th>\n",
       "      <th>s2_area_120</th>\n",
       "      <th>s2_area_121</th>\n",
       "      <th>s2_area_122</th>\n",
       "      <th>s2_area_123</th>\n",
       "      <th>s2_area_124</th>\n",
       "      <th>s2_area_125</th>\n",
       "      <th>s2_area_126</th>\n",
       "    </tr>\n",
       "  </thead>\n",
       "  <tbody>\n",
       "    <tr>\n",
       "      <th>27014</th>\n",
       "      <td>44978</td>\n",
       "      <td>ER</td>\n",
       "      <td>-15.256264</td>\n",
       "      <td>25.244418</td>\n",
       "      <td>68.105371</td>\n",
       "      <td>41</td>\n",
       "      <td>43</td>\n",
       "      <td>650000.0</td>\n",
       "      <td>188</td>\n",
       "      <td>188</td>\n",
       "      <td>...</td>\n",
       "      <td>0.0</td>\n",
       "      <td>0.0</td>\n",
       "      <td>10.58368</td>\n",
       "      <td>1.69671</td>\n",
       "      <td>0.0</td>\n",
       "      <td>0.781895</td>\n",
       "      <td>0.0</td>\n",
       "      <td>1.113924</td>\n",
       "      <td>0.662867</td>\n",
       "      <td>1.374703</td>\n",
       "    </tr>\n",
       "  </tbody>\n",
       "</table>\n",
       "<p>1 rows × 155 columns</p>\n",
       "</div>"
      ],
      "text/plain": [
       "       event_number recoil_type          x          y      depth  s1_photons  \\\n",
       "27014         44978          ER -15.256264  25.244418  68.105371          41   \n",
       "\n",
       "       s2_electrons         t  event_n_pulses  event_pulses_count     ...      \\\n",
       "27014            43  650000.0             188                 188     ...       \n",
       "\n",
       "       s2_area_117  s2_area_118  s2_area_119  s2_area_120  s2_area_121  \\\n",
       "27014          0.0          0.0     10.58368      1.69671          0.0   \n",
       "\n",
       "       s2_area_122  s2_area_123  s2_area_124  s2_area_125 s2_area_126  \n",
       "27014     0.781895          0.0     1.113924     0.662867    1.374703  \n",
       "\n",
       "[1 rows x 155 columns]"
      ]
     },
     "metadata": {},
     "output_type": "display_data"
    },
    {
     "name": "stdout",
     "output_type": "stream",
     "text": [
      "\n",
      "Event Max S2 Window size: 2290\n",
      "\n"
     ]
    }
   ],
   "source": [
    "\n",
    "####################################################################################################\n",
    "####################################################################################################\n",
    "\n",
    "#nEventsTrain = 200000\n",
    "#nEventsTrain = 100000\n",
    "#nEventsTrain = 10000\n",
    "nEventsTrain = 50000\n",
    "#nEventsTrain = 100\n",
    "\n",
    "input_dir  = \"../../pax_merge/merged/apr30/\"\n",
    "input_file = 'merged_all_200000.pkl'\n",
    "input_path = input_dir + input_file\n",
    "\n",
    "\n",
    "####################################################################################################\n",
    "####################################################################################################\n",
    "\n",
    "cols = [\n",
    "    'event_number',\n",
    "    'event_s2_count',\n",
    "    'event_s2_length',\n",
    "    'event_s2_left',\n",
    "    'event_s2_right',\n",
    "    'intr_count',\n",
    "    'x',\n",
    "    'y',\n",
    "    'intr_x',\n",
    "    'intr_y']\n",
    "\n",
    "df_events, s2_window_max = getEventsDataFrame(input_path)\n",
    "df_events                = df_events[df_events['intr_count'] == 1].reset_index(drop=True)\n",
    "df_events                = df_events[0:nEventsTrain][:]\n",
    "#df_events                = df_events[:][cols]\n",
    "\n",
    "\n",
    "\n",
    "\n",
    "####################################################################################################\n",
    "####################################################################################################\n",
    "\n",
    "print(df_events.shape)\n",
    "display(df_events[0:5][:])\n",
    "\n",
    "print()\n",
    "print(\"Event Max S2 Window size: \" + str(s2_window_max))\n",
    "print()\n",
    "        \n"
   ]
  },
  {
   "cell_type": "code",
   "execution_count": 7,
   "metadata": {},
   "outputs": [],
   "source": [
    "\n",
    "####################################################################################################\n",
    "# Training Data\n",
    "####################################################################################################\n",
    "\n",
    "dir_in = '../../pax_merge/merged/apr30/waveforms_s2waveforms_test_v2/new'\n",
    "\n",
    "#resample_factor = 2290\n",
    "#resample_factor = 229\n",
    "resample_factor = 10\n",
    "\n",
    "assert(s2_window_max % resample_factor == 0)\n",
    "\n",
    "\n"
   ]
  },
  {
   "cell_type": "code",
   "execution_count": 8,
   "metadata": {},
   "outputs": [
    {
     "name": "stdout",
     "output_type": "stream",
     "text": [
      " -> Events Processed: 0, Event Number: 44978, Time: 0.11, Memory Usage: 52.4%\n",
      "\n",
      "0 empty events\n",
      "\n",
      "Input shape:     (1, 290830)\n",
      "Resampled shape: (1, 29083)\n",
      "\n",
      "Input data shape:       (1, 29083)\n",
      "Truth data shape:       (1, 2)\n",
      "\n"
     ]
    }
   ],
   "source": [
    "\n",
    "####################################################################################################\n",
    "####################################################################################################\n",
    " \n",
    "train_data, train_truth  = get_data(dir_in, df_events, s2_window_max, resample_factor)\n",
    "\n",
    "if (resample_factor > 1):\n",
    "    \n",
    "    s2_window_max = int(s2_window_max / resample_factor)\n",
    "    \n",
    "    \n",
    "print()\n",
    "print(\"Input data shape:       \" + str(train_data.shape ))\n",
    "print(\"Truth data shape:       \" + str(train_truth.shape))\n",
    "print()\n"
   ]
  },
  {
   "cell_type": "code",
   "execution_count": 5,
   "metadata": {},
   "outputs": [
    {
     "name": "stdout",
     "output_type": "stream",
     "text": [
      "(25000, 29083)\n",
      "(25000, 2)\n"
     ]
    }
   ],
   "source": [
    "\n",
    "\n",
    "####################################################################################################\n",
    "####################################################################################################\n",
    "    \n",
    "file_out_input = 'train/array_train_input_events%06d_resample%04d' % (nEventsTrain, resample_factor)\n",
    "file_out_truth = 'train/array_train_truth_events%06d_resample%04d' % (nEventsTrain, resample_factor)\n",
    "    \n",
    "np.save(file_out_input, train_data)\n",
    "np.save(file_out_truth, train_truth)\n",
    "\n",
    "test_train_data  = np.load(file_out_input + '.npy')\n",
    "test_train_truth = np.load(file_out_truth + '.npy')\n",
    "\n",
    "print(test_train_data.shape)\n",
    "print(test_train_truth.shape)\n",
    "\n"
   ]
  },
  {
   "cell_type": "code",
   "execution_count": null,
   "metadata": {},
   "outputs": [],
   "source": []
  },
  {
   "cell_type": "code",
   "execution_count": null,
   "metadata": {},
   "outputs": [],
   "source": []
  }
 ],
 "metadata": {
  "kernelspec": {
   "display_name": "Python 3",
   "language": "python",
   "name": "python3"
  },
  "language_info": {
   "codemirror_mode": {
    "name": "ipython",
    "version": 3
   },
   "file_extension": ".py",
   "mimetype": "text/x-python",
   "name": "python",
   "nbconvert_exporter": "python",
   "pygments_lexer": "ipython3",
   "version": "3.5.4"
  }
 },
 "nbformat": 4,
 "nbformat_minor": 2
}
