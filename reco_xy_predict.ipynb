{
 "cells": [
  {
   "cell_type": "code",
   "execution_count": 12,
   "metadata": {
    "collapsed": false
   },
   "outputs": [],
   "source": [
    "\n",
    "####################################################################################################\n",
    "####################################################################################################\n",
    "\n",
    "import sys\n",
    "import os.path\n",
    "\n",
    "import matplotlib.pyplot as plt\n",
    "import numpy as np\n",
    "import pandas as pd\n",
    "import seaborn as sns\n",
    "from IPython.display import display\n",
    "\n",
    "import keras\n",
    "import keras.utils.vis_utils\n",
    "from keras import backend as K\n",
    "from keras import layers\n",
    "from keras.layers import Dense\n",
    "from keras.models import load_model\n",
    "from keras.models import Sequential\n",
    "from keras.utils import plot_model\n",
    "\n",
    "\n"
   ]
  },
  {
   "cell_type": "code",
   "execution_count": 13,
   "metadata": {
    "collapsed": true
   },
   "outputs": [],
   "source": [
    "\n",
    "####################################################################################################\n",
    "####################################################################################################\n",
    "\n",
    "folder   = \"models\" + \"/\"    \n",
    "name     = \"model_posreco\"\n",
    "name_h5  = folder + name + \".h5\"\n",
    "name_png = folder + name + \".png\"\n",
    "\n"
   ]
  },
  {
   "cell_type": "code",
   "execution_count": 14,
   "metadata": {
    "collapsed": false
   },
   "outputs": [],
   "source": [
    "\n",
    "####################################################################################################\n",
    "####################################################################################################\n",
    "\n",
    "model = load_model(name_h5)\n"
   ]
  },
  {
   "cell_type": "code",
   "execution_count": 15,
   "metadata": {
    "collapsed": false
   },
   "outputs": [],
   "source": [
    "\n",
    "####################################################################################################\n",
    "####################################################################################################\n",
    "\n",
    "df_train_truth = pd.DataFrame.from_csv(\"../python_pax_reader/data/train_truth.csv\")\n",
    "df_train_input = pd.DataFrame.from_csv(\"../python_pax_reader/data/train_input.csv\")\n",
    "\n"
   ]
  },
  {
   "cell_type": "code",
   "execution_count": 16,
   "metadata": {
    "collapsed": false
   },
   "outputs": [
    {
     "data": {
      "text/plain": [
       "(924, 127)"
      ]
     },
     "execution_count": 16,
     "metadata": {},
     "output_type": "execute_result"
    }
   ],
   "source": [
    "\n",
    "####################################################################################################\n",
    "# First 127 are S2\n",
    "####################################################################################################\n",
    "\n",
    "df_train_input = df_train_input.iloc[:, 0:127]\n",
    "df_train_input.shape\n"
   ]
  },
  {
   "cell_type": "code",
   "execution_count": 17,
   "metadata": {
    "collapsed": false
   },
   "outputs": [
    {
     "name": "stdout",
     "output_type": "stream",
     "text": [
      "<class 'numpy.ndarray'>\n",
      "(924, 2)\n"
     ]
    }
   ],
   "source": [
    "\n",
    "####################################################################################################\n",
    "####################################################################################################\n",
    "\n",
    "arr_predictions = model.predict(df_train_input)\n",
    "arr_train_truth = df_train_truth.as_matrix()\n",
    "\n",
    "print(type(arr_predictions))\n",
    "print(arr_predictions.shape)\n"
   ]
  },
  {
   "cell_type": "code",
   "execution_count": 18,
   "metadata": {
    "collapsed": false
   },
   "outputs": [
    {
     "name": "stdout",
     "output_type": "stream",
     "text": [
      "Done\n"
     ]
    }
   ],
   "source": [
    "\n",
    "####################################################################################################\n",
    "####################################################################################################\n",
    "\n",
    "arr_x_true = np.zeros(0)\n",
    "arr_y_true = np.zeros(0)\n",
    "\n",
    "arr_x_pred = np.zeros(0)\n",
    "arr_y_pred = np.zeros(0)\n",
    "\n",
    "arr_dx = np.zeros(0)\n",
    "arr_dy = np.zeros(0)\n",
    "\n",
    "arr_dx_pct = np.zeros(0)\n",
    "arr_dy_pct = np.zeros(0)\n",
    "\n",
    "for i in range(0, arr_train_truth.shape[0]):\n",
    "    \n",
    "    xy_true = arr_train_truth[i]\n",
    "        \n",
    "    x_true     = xy_true[0]\n",
    "    y_true     = xy_true[1]\n",
    "\n",
    "    x_pred     = arr_predictions[i][0]\n",
    "    y_pred     = arr_predictions[i][1]\n",
    "    \n",
    "    dx         = x_true - x_pred\n",
    "    dy         = y_true - y_pred\n",
    "\n",
    "    dx_pct     = dx/x_true\n",
    "    dy_pct     = dy/y_true\n",
    "\n",
    "    arr_x_true = np.append(arr_x_true, x_true)\n",
    "    arr_y_true = np.append(arr_y_true, y_true)\n",
    "    \n",
    "    arr_x_pred = np.append(arr_x_pred, x_pred)\n",
    "    arr_y_pred = np.append(arr_y_pred, y_pred)\n",
    "    \n",
    "    arr_dx     = np.append(arr_dx, dx)\n",
    "    arr_dy     = np.append(arr_dy, dy)\n",
    "    \n",
    "    arr_dx_pct = np.append(arr_dx_pct, dx_pct)\n",
    "    arr_dy_pct = np.append(arr_dy_pct, dy_pct)\n",
    "    \n",
    "    continue\n",
    "\n",
    "print(\"Done\")\n"
   ]
  },
  {
   "cell_type": "code",
   "execution_count": 19,
   "metadata": {
    "collapsed": false
   },
   "outputs": [
    {
     "data": {
      "image/png": "[encoded data removed]",
      "text/plain": [
       "<matplotlib.figure.Figure at 0x1a145e2a58>"
      ]
     },
     "metadata": {},
     "output_type": "display_data"
    }
   ],
   "source": [
    "\n",
    "####################################################################################################\n",
    "####################################################################################################\n",
    "\n",
    "fig, ax = plt.subplots(nrows=2, ncols=2, figsize=(20, 10))\n",
    "plt.subplots_adjust(left=None, bottom=None, right=None, top=None, wspace=0.1, hspace=0.3)\n",
    "\n",
    "plt.subplot(2, 2, 1)\n",
    "plt.hist(arr_x_true)\n",
    "plt.xlim([-45, 45])\n",
    "plt.xlabel('x true (cm)', fontsize=18)\n",
    "plt.title('x true', fontsize=18)\n",
    "plt.grid(True)\n",
    "\n",
    "plt.subplot(2, 2, 2)\n",
    "plt.hist(arr_x_pred)\n",
    "plt.xlim([-45, 45])\n",
    "plt.xlabel('x predicted (cm)', fontsize=18)\n",
    "plt.title('x predicted', fontsize=18)\n",
    "plt.grid(True)\n",
    "\n",
    "plt.subplot(2, 2, 3)\n",
    "plt.hist(arr_dx)\n",
    "plt.xlabel('(x true - x predicted) (cm)', fontsize=18)\n",
    "plt.title('Absolute Error', fontsize=18)\n",
    "plt.grid(True)\n",
    "\n",
    "plt.subplot(2, 2, 4)\n",
    "plt.hist(np.absolute(arr_dx))\n",
    "plt.xlabel('(x true - x predicted) (cm)', fontsize=18)\n",
    "plt.title('Absolute Value Error', fontsize=18)\n",
    "plt.grid(True)\n",
    "\n",
    "plt.savefig(\"plots/xy_errors.png\")\n"
   ]
  },
  {
   "cell_type": "code",
   "execution_count": 20,
   "metadata": {
    "collapsed": false
   },
   "outputs": [
    {
     "name": "stdout",
     "output_type": "stream",
     "text": [
      "\n",
      "X Error STD (cm): 16.852367302192643\n",
      "Y Error STD (cm): 17.90118093816939\n",
      "\n",
      "X Error Max (cm): 39.417285653220276\n",
      "Y Error Max (cm): 42.104777317406324\n",
      "\n",
      "X Error Mean (cm): 0.07967506711135615\n",
      "Y Error Mean (cm): 0.5374025102624704\n",
      "\n"
     ]
    }
   ],
   "source": [
    "\n",
    "####################################################################################################\n",
    "# 1) 1k events linear 127-100-100-40-40-20-20-2   STD ~ 19 cm\n",
    "####################################################################################################\n",
    "\n",
    "x_err_abs_mean = np.mean(arr_dx)\n",
    "x_err_abs_max  = np.amax(arr_dx)\n",
    "x_err_abs_std  = np.std(arr_dx)\n",
    "\n",
    "y_err_abs_mean = np.mean(arr_dy)\n",
    "y_err_abs_max  = np.amax(arr_dy)\n",
    "y_err_abs_std  = np.std(arr_dy)\n",
    "\n",
    "print()\n",
    "print(\"X Error STD (cm): \" + str(x_err_abs_std))\n",
    "print(\"Y Error STD (cm): \" + str(y_err_abs_std))\n",
    "print()\n",
    "print(\"X Error Max (cm): \" + str(x_err_abs_max))\n",
    "print(\"Y Error Max (cm): \" + str(y_err_abs_max))\n",
    "print()\n",
    "print(\"X Error Mean (cm): \" + str(x_err_abs_mean) )\n",
    "print(\"Y Error Mean (cm): \" + str(y_err_abs_mean))\n",
    "print()\n",
    "\n"
   ]
  },
  {
   "cell_type": "code",
   "execution_count": 11,
   "metadata": {
    "collapsed": true
   },
   "outputs": [],
   "source": [
    "\n",
    "####################################################################################################\n",
    "# Results\n",
    "#\n",
    "# linear 127-100-100-40-40-20-20-2\n",
    "#\n",
    "####################################################################################################\n"
   ]
  },
  {
   "cell_type": "code",
   "execution_count": null,
   "metadata": {
    "collapsed": true
   },
   "outputs": [],
   "source": []
  }
 ],
 "metadata": {
  "anaconda-cloud": {},
  "kernelspec": {
   "display_name": "Python 3",
   "language": "python",
   "name": "python3"
  },
  "language_info": {
   "codemirror_mode": {
    "name": "ipython",
    "version": 3
   },
   "file_extension": ".py",
   "mimetype": "text/x-python",
   "name": "python",
   "nbconvert_exporter": "python",
   "pygments_lexer": "ipython3",
   "version": "3.5.4"
  }
 },
 "nbformat": 4,
 "nbformat_minor": 2
}
