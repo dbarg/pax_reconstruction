{
 "cells": [
  {
   "cell_type": "code",
   "execution_count": 1,
   "metadata": {},
   "outputs": [
    {
     "name": "stdout",
     "output_type": "stream",
     "text": [
      "1.4.1\n"
     ]
    },
    {
     "name": "stderr",
     "output_type": "stream",
     "text": [
      "Using TensorFlow backend.\n"
     ]
    }
   ],
   "source": [
    "\n",
    "####################################################################################################\n",
    "####################################################################################################\n",
    "\n",
    "import sys\n",
    "import os.path\n",
    "\n",
    "import datetime\n",
    "import matplotlib.pyplot as plt\n",
    "import matplotlib.image as mpimg\n",
    "import numpy as np\n",
    "import pandas as pd\n",
    "#import seaborn as sns\n",
    "\n",
    "from IPython.display import display\n",
    "from IPython.display import Image\n",
    "\n",
    "import tensorflow as tf\n",
    "\n",
    "print (tf.__version__)\n",
    "\n",
    "import keras\n",
    "import keras.utils.vis_utils\n",
    "from keras import backend as K\n",
    "from keras import layers\n",
    "from keras import regularizers\n",
    "from keras.layers import Dense\n",
    "from keras.layers import Dropout\n",
    "from keras.layers.normalization import BatchNormalization\n",
    "from keras.models import load_model\n",
    "from keras.models import Sequential\n",
    "from keras.utils import plot_model\n",
    "\n",
    "sys.path.append(os.path.abspath(\"../\"))\n",
    "from z_DeltaT_models import *\n",
    "from helpers import *\n",
    "\n",
    "sys.path.append(os.path.abspath(\"../../\"))\n",
    "from pax_utils import s1s2_utils\n",
    "\n",
    "v_drift = 1.44e-4\n"
   ]
  },
  {
   "cell_type": "code",
   "execution_count": 2,
   "metadata": {},
   "outputs": [
    {
     "name": "stdout",
     "output_type": "stream",
     "text": [
      "\n",
      "Input shape: (100000,)\n",
      "Truth shape: (100000, 1)\n",
      "\n",
      "Input DataFrame: \n"
     ]
    },
    {
     "data": {
      "text/plain": [
       "0    400890.0\n",
       "1    402780.0\n",
       "2    239350.0\n",
       "3    449210.0\n",
       "4    359760.0\n",
       "Name: intr_drift_time, dtype: float64"
      ]
     },
     "metadata": {},
     "output_type": "display_data"
    },
    {
     "name": "stdout",
     "output_type": "stream",
     "text": [
      "\n",
      "Truth DataFrame:\n"
     ]
    },
    {
     "data": {
      "text/html": [
       "<div>\n",
       "<style scoped>\n",
       "    .dataframe tbody tr th:only-of-type {\n",
       "        vertical-align: middle;\n",
       "    }\n",
       "\n",
       "    .dataframe tbody tr th {\n",
       "        vertical-align: top;\n",
       "    }\n",
       "\n",
       "    .dataframe thead th {\n",
       "        text-align: right;\n",
       "    }\n",
       "</style>\n",
       "<table border=\"1\" class=\"dataframe\">\n",
       "  <thead>\n",
       "    <tr style=\"text-align: right;\">\n",
       "      <th></th>\n",
       "      <th>depth</th>\n",
       "    </tr>\n",
       "  </thead>\n",
       "  <tbody>\n",
       "    <tr>\n",
       "      <th>0</th>\n",
       "      <td>-57.456815</td>\n",
       "    </tr>\n",
       "    <tr>\n",
       "      <th>1</th>\n",
       "      <td>-57.780505</td>\n",
       "    </tr>\n",
       "    <tr>\n",
       "      <th>2</th>\n",
       "      <td>-34.074937</td>\n",
       "    </tr>\n",
       "    <tr>\n",
       "      <th>3</th>\n",
       "      <td>-64.494053</td>\n",
       "    </tr>\n",
       "    <tr>\n",
       "      <th>4</th>\n",
       "      <td>-51.510242</td>\n",
       "    </tr>\n",
       "  </tbody>\n",
       "</table>\n",
       "</div>"
      ],
      "text/plain": [
       "       depth\n",
       "0 -57.456815\n",
       "1 -57.780505\n",
       "2 -34.074937\n",
       "3 -64.494053\n",
       "4 -51.510242"
      ]
     },
     "metadata": {},
     "output_type": "display_data"
    },
    {
     "name": "stdout",
     "output_type": "stream",
     "text": [
      "\n"
     ]
    }
   ],
   "source": [
    "\n",
    "####################################################################################################\n",
    "####################################################################################################\n",
    "\n",
    "nEventsTrain = 100000\n",
    "file_all     = \"../data_lfs/merged_all_200k_1803261941.pkl\"\n",
    "\n",
    "df_all   = pd.read_pickle(file_all)\n",
    "df_all   = df_all[df_all['intr_count'] == 1].reset_index(drop=True)\n",
    "df_all   = df_all[0:nEventsTrain][:]\n",
    "\n",
    "#df_all['intr_depth'] = -1*v_drift*df_all['intr_drift_time'] \n",
    "df_all['depth']      *= -1\n",
    "\n",
    "\n",
    "####################################################################################################\n",
    "####################################################################################################\n",
    "\n",
    "df_train_truth = df_all[:][['depth']]\n",
    "#df_train_input = df_all[:]['intr_depth']\n",
    "df_train_input = df_all[:]['intr_drift_time']\n",
    "\n",
    "\n",
    "####################################################################################################\n",
    "####################################################################################################\n",
    "\n",
    "checkTrainingData(df_train_input, df_train_truth)\n",
    "\n"
   ]
  },
  {
   "cell_type": "code",
   "execution_count": 3,
   "metadata": {},
   "outputs": [],
   "source": [
    "\n",
    "##########################################################################################\n",
    "##########################################################################################\n",
    "\n",
    "lst_models = [\n",
    "    bargeModel_z()\n",
    "]\n",
    "\n"
   ]
  },
  {
   "cell_type": "code",
   "execution_count": 4,
   "metadata": {},
   "outputs": [
    {
     "name": "stdout",
     "output_type": "stream",
     "text": [
      "\n",
      "Model Summary:\n",
      "_________________________________________________________________\n",
      "Layer (type)                 Output Shape              Param #   \n",
      "=================================================================\n",
      "dense_1 (Dense)              (None, 1)                 2         \n",
      "_________________________________________________________________\n",
      "dense_2 (Dense)              (None, 100)               200       \n",
      "_________________________________________________________________\n",
      "dropout_1 (Dropout)          (None, 100)               0         \n",
      "_________________________________________________________________\n",
      "dense_3 (Dense)              (None, 80)                8080      \n",
      "_________________________________________________________________\n",
      "dropout_2 (Dropout)          (None, 80)                0         \n",
      "_________________________________________________________________\n",
      "dense_4 (Dense)              (None, 40)                3240      \n",
      "_________________________________________________________________\n",
      "dropout_3 (Dropout)          (None, 40)                0         \n",
      "_________________________________________________________________\n",
      "dense_5 (Dense)              (None, 20)                820       \n",
      "_________________________________________________________________\n",
      "dropout_4 (Dropout)          (None, 20)                0         \n",
      "_________________________________________________________________\n",
      "dense_6 (Dense)              (None, 1)                 21        \n",
      "=================================================================\n",
      "Total params: 12,363\n",
      "Trainable params: 12,363\n",
      "Non-trainable params: 0\n",
      "_________________________________________________________________\n",
      "\n",
      "Epoch 1/10\n",
      "100000/100000 [==============================] - 10s 99us/step - loss: 173381301.7263\n",
      "Epoch 2/10\n",
      "100000/100000 [==============================] - 8s 81us/step - loss: 4742101.2253\n",
      "Epoch 3/10\n",
      "100000/100000 [==============================] - 8s 82us/step - loss: 3838645.1259\n",
      "Epoch 4/10\n",
      "100000/100000 [==============================] - 8s 81us/step - loss: 2423972.1022\n",
      "Epoch 5/10\n",
      "100000/100000 [==============================] - 8s 81us/step - loss: 775429.3166\n",
      "Epoch 6/10\n",
      "100000/100000 [==============================] - 8s 82us/step - loss: 398256.4333\n",
      "Epoch 7/10\n",
      "100000/100000 [==============================] - 8s 82us/step - loss: 365072.7991\n",
      "Epoch 8/10\n",
      "100000/100000 [==============================] - 8s 83us/step - loss: 85775.1721\n",
      "Epoch 9/10\n",
      "100000/100000 [==============================] - 8s 82us/step - loss: 161366.0818\n",
      "Epoch 10/10\n",
      "100000/100000 [==============================] - 8s 80us/step - loss: 98810.8830\n",
      "Training Complete!\n"
     ]
    }
   ],
   "source": [
    "\n",
    "##########################################################################################\n",
    "##########################################################################################\n",
    "\n",
    "for iModel in range(0, len(lst_models)):\n",
    "    \n",
    "    ######################################################################################\n",
    "    ######################################################################################\n",
    "\n",
    "    model, model_name = lst_models[iModel]\n",
    "    \n",
    "    \n",
    "    ######################################################################################\n",
    "    ######################################################################################\n",
    "\n",
    "    epochs     = 10\n",
    "    batch_size = 64\n",
    "    verbose    = 1\n",
    "    \n",
    "    \n",
    "    ######################################################################################\n",
    "    # Fit Model\n",
    "    ######################################################################################\n",
    "    \n",
    "    print()\n",
    "    print(\"Model Summary:\")\n",
    "    model.summary()\n",
    "    print()\n",
    "    model.fit(df_train_input, df_train_truth, epochs=epochs, batch_size=batch_size, verbose=verbose)\n",
    "    print(\"Training Complete!\")\n",
    "\n",
    "        \n",
    "    ######################################################################################\n",
    "    # Save Model\n",
    "    ######################################################################################\n",
    "\n",
    "    folder   = \"models\" + \"/\"    \n",
    "    name     = 'model' + '_' + model_name + '_' + 'elu' #model.activation\n",
    "    name_h5  = folder + name + \".h5\"\n",
    "    name_png = folder + name + \".png\"\n",
    "\n",
    "    model.save(name_h5, overwrite=True)\n",
    "        \n",
    "   \n",
    "    ######################################################################################\n",
    "    ######################################################################################\n",
    "\n",
    "    plot_model(model, to_file=name_png, show_layer_names=True, show_shapes=True)\n",
    "    \n",
    "    Image(filename=name_png) \n",
    "    \n",
    "\n",
    "    ######################################################################################\n",
    "    ######################################################################################\n",
    "    \n",
    "    continue\n",
    "    \n",
    "    "
   ]
  },
  {
   "cell_type": "code",
   "execution_count": null,
   "metadata": {},
   "outputs": [],
   "source": []
  },
  {
   "cell_type": "code",
   "execution_count": null,
   "metadata": {},
   "outputs": [],
   "source": []
  },
  {
   "cell_type": "code",
   "execution_count": null,
   "metadata": {},
   "outputs": [],
   "source": []
  }
 ],
 "metadata": {
  "anaconda-cloud": {},
  "kernelspec": {
   "display_name": "Python 3",
   "language": "python",
   "name": "python3"
  },
  "language_info": {
   "codemirror_mode": {
    "name": "ipython",
    "version": 3
   },
   "file_extension": ".py",
   "mimetype": "text/x-python",
   "name": "python",
   "nbconvert_exporter": "python",
   "pygments_lexer": "ipython3",
   "version": "3.5.4"
  }
 },
 "nbformat": 4,
 "nbformat_minor": 2
}
