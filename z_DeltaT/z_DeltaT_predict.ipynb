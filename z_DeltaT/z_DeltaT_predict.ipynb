{
 "cells": [
  {
   "cell_type": "code",
   "execution_count": 14,
   "metadata": {},
   "outputs": [],
   "source": [
    "\n",
    "####################################################################################################\n",
    "####################################################################################################\n",
    "\n",
    "import sys\n",
    "import os.path\n",
    "\n",
    "import matplotlib.pyplot as plt\n",
    "import numpy as np\n",
    "import pandas as pd\n",
    "from IPython.display import display\n",
    "\n",
    "import keras\n",
    "import keras.utils.vis_utils\n",
    "from keras import backend as K\n",
    "from keras import layers\n",
    "from keras.layers import Dense\n",
    "from keras.models import load_model\n",
    "from keras.models import Sequential\n",
    "from keras.utils import plot_model\n",
    "\n",
    "from helpers import *\n",
    "\n",
    "sys.path.append(os.path.abspath(\"../\"))\n",
    "from pax_utils import s1s2_utils\n",
    "\n",
    "v_drift = 1.44e-4\n"
   ]
  },
  {
   "cell_type": "code",
   "execution_count": 15,
   "metadata": {},
   "outputs": [
    {
     "name": "stdout",
     "output_type": "stream",
     "text": [
      "\n",
      "Input shape: (20967,)\n",
      "Truth shape: (20967, 1)\n",
      "\n",
      "Input DataFrame: \n"
     ]
    },
    {
     "data": {
      "text/plain": [
       "100000    518770.0\n",
       "100001    317870.0\n",
       "100002    470950.0\n",
       "100003    574080.0\n",
       "100004    530950.0\n",
       "Name: intr_drift_time, dtype: float64"
      ]
     },
     "metadata": {},
     "output_type": "display_data"
    },
    {
     "name": "stdout",
     "output_type": "stream",
     "text": [
      "\n",
      "Truth DataFrame:\n"
     ]
    },
    {
     "data": {
      "text/html": [
       "<div>\n",
       "<style scoped>\n",
       "    .dataframe tbody tr th:only-of-type {\n",
       "        vertical-align: middle;\n",
       "    }\n",
       "\n",
       "    .dataframe tbody tr th {\n",
       "        vertical-align: top;\n",
       "    }\n",
       "\n",
       "    .dataframe thead th {\n",
       "        text-align: right;\n",
       "    }\n",
       "</style>\n",
       "<table border=\"1\" class=\"dataframe\">\n",
       "  <thead>\n",
       "    <tr style=\"text-align: right;\">\n",
       "      <th></th>\n",
       "      <th>depth</th>\n",
       "    </tr>\n",
       "  </thead>\n",
       "  <tbody>\n",
       "    <tr>\n",
       "      <th>100000</th>\n",
       "      <td>-74.424872</td>\n",
       "    </tr>\n",
       "    <tr>\n",
       "      <th>100001</th>\n",
       "      <td>-45.412076</td>\n",
       "    </tr>\n",
       "    <tr>\n",
       "      <th>100002</th>\n",
       "      <td>-67.404493</td>\n",
       "    </tr>\n",
       "    <tr>\n",
       "      <th>100003</th>\n",
       "      <td>-82.343068</td>\n",
       "    </tr>\n",
       "    <tr>\n",
       "      <th>100004</th>\n",
       "      <td>-76.135639</td>\n",
       "    </tr>\n",
       "  </tbody>\n",
       "</table>\n",
       "</div>"
      ],
      "text/plain": [
       "            depth\n",
       "100000 -74.424872\n",
       "100001 -45.412076\n",
       "100002 -67.404493\n",
       "100003 -82.343068\n",
       "100004 -76.135639"
      ]
     },
     "metadata": {},
     "output_type": "display_data"
    },
    {
     "name": "stdout",
     "output_type": "stream",
     "text": [
      "\n"
     ]
    }
   ],
   "source": [
    "\n",
    "####################################################################################################\n",
    "####################################################################################################\n",
    "\n",
    "nEventsTrain = 100000\n",
    "file_all     = \"../data_lfs/merged_all_200k_1803261941.pkl\"\n",
    "\n",
    "df_all = pd.read_pickle(file_all)\n",
    "df_all = df_all[df_all['intr_count'] == 1].reset_index(drop=True)\n",
    "df_all = df_all[nEventsTrain:][:]\n",
    "\n",
    "#df_all['intr_depth'] = v_drift*df_all['intr_drift_time'] \n",
    "#df_all['intr_depth'] = -1*v_drift*df_all['intr_drift_time'] \n",
    "df_all['depth']      *= -1\n",
    "\n",
    "\n",
    "####################################################################################################\n",
    "####################################################################################################\n",
    "\n",
    "df_train_truth = df_all[:][['depth']]\n",
    "#df_train_input = df_all[:][s1s2_utils.getS2integralsDataFrameColumns()]\n",
    "df_train_input = df_all[:]['intr_drift_time']\n",
    "#df_train_input = df_all[:][['intr_depth'] + s1s2_utils.getS2integralsDataFrameColumns()]\n",
    "\n",
    "\n",
    "####################################################################################################\n",
    "####################################################################################################\n",
    "\n",
    "checkTrainingData(df_train_input, df_train_truth)\n",
    "\n"
   ]
  },
  {
   "cell_type": "code",
   "execution_count": 16,
   "metadata": {},
   "outputs": [],
   "source": [
    "\n",
    "####################################################################################################\n",
    "####################################################################################################\n",
    "\n",
    "model_name     = \"model_barge_z_elu\"\n",
    "folder         = \"models\" + \"/\"    \n",
    "model_name_h5  = folder + model_name + \".h5\"\n",
    "model_name_png = folder + model_name + \".png\"\n",
    "\n"
   ]
  },
  {
   "cell_type": "code",
   "execution_count": 17,
   "metadata": {},
   "outputs": [
    {
     "name": "stdout",
     "output_type": "stream",
     "text": [
      "\n",
      "Loaded Model: models/model_barge_z_elu.h5\n",
      "Predicted\n",
      "\n"
     ]
    }
   ],
   "source": [
    "\n",
    "####################################################################################################\n",
    "####################################################################################################\n",
    "\n",
    "model       = load_model(model_name_h5)\n",
    "arr_xy_pred = model.predict(df_train_input)\n",
    "\n",
    "print(\"\\nLoaded Model: \" + model_name_h5)\n",
    "print(\"Predicted\\n\")\n",
    "\n"
   ]
  },
  {
   "cell_type": "code",
   "execution_count": 18,
   "metadata": {},
   "outputs": [],
   "source": [
    "\n",
    "####################################################################################################\n",
    "####################################################################################################\n",
    "\n",
    "arr_z_true = df_train_truth[:]['depth'].as_matrix()\n",
    "arr_z_pred = arr_xy_pred[:, 0]\n",
    "arr_dz     = arr_z_true - arr_z_pred\n",
    "\n"
   ]
  },
  {
   "cell_type": "code",
   "execution_count": 19,
   "metadata": {},
   "outputs": [
    {
     "data": {
      "text/html": [
       "<div>\n",
       "<style scoped>\n",
       "    .dataframe tbody tr th:only-of-type {\n",
       "        vertical-align: middle;\n",
       "    }\n",
       "\n",
       "    .dataframe tbody tr th {\n",
       "        vertical-align: top;\n",
       "    }\n",
       "\n",
       "    .dataframe thead th {\n",
       "        text-align: right;\n",
       "    }\n",
       "</style>\n",
       "<table border=\"1\" class=\"dataframe\">\n",
       "  <thead>\n",
       "    <tr style=\"text-align: right;\">\n",
       "      <th></th>\n",
       "      <th>event_number</th>\n",
       "      <th>depth</th>\n",
       "      <th>intr_z</th>\n",
       "      <th>z_pred</th>\n",
       "    </tr>\n",
       "  </thead>\n",
       "  <tbody>\n",
       "    <tr>\n",
       "      <th>100000</th>\n",
       "      <td>165461</td>\n",
       "      <td>-74.424872</td>\n",
       "      <td>-74.45808</td>\n",
       "      <td>-36.792614</td>\n",
       "    </tr>\n",
       "    <tr>\n",
       "      <th>100001</th>\n",
       "      <td>165462</td>\n",
       "      <td>-45.412076</td>\n",
       "      <td>-45.52848</td>\n",
       "      <td>-22.554335</td>\n",
       "    </tr>\n",
       "    <tr>\n",
       "      <th>100002</th>\n",
       "      <td>165463</td>\n",
       "      <td>-67.404493</td>\n",
       "      <td>-67.57200</td>\n",
       "      <td>-33.409801</td>\n",
       "    </tr>\n",
       "    <tr>\n",
       "      <th>100003</th>\n",
       "      <td>165468</td>\n",
       "      <td>-82.343068</td>\n",
       "      <td>-82.42272</td>\n",
       "      <td>-40.723278</td>\n",
       "    </tr>\n",
       "    <tr>\n",
       "      <th>100004</th>\n",
       "      <td>165469</td>\n",
       "      <td>-76.135639</td>\n",
       "      <td>-76.21200</td>\n",
       "      <td>-37.657848</td>\n",
       "    </tr>\n",
       "  </tbody>\n",
       "</table>\n",
       "</div>"
      ],
      "text/plain": [
       "        event_number      depth    intr_z     z_pred\n",
       "100000        165461 -74.424872 -74.45808 -36.792614\n",
       "100001        165462 -45.412076 -45.52848 -22.554335\n",
       "100002        165463 -67.404493 -67.57200 -33.409801\n",
       "100003        165468 -82.343068 -82.42272 -40.723278\n",
       "100004        165469 -76.135639 -76.21200 -37.657848"
      ]
     },
     "metadata": {},
     "output_type": "display_data"
    },
    {
     "name": "stdout",
     "output_type": "stream",
     "text": [
      "\n"
     ]
    }
   ],
   "source": [
    "\n",
    "####################################################################################################\n",
    "####################################################################################################\n",
    "\n",
    "file_out         = \"./predictions/z_DeltaT.pkl\"\n",
    "\n",
    "cols_out         = ['event_number', 'depth', 'intr_z']\n",
    "\n",
    "df_out           = df_all[:][cols_out]\n",
    "df_out['z_pred'] = arr_z_pred\n",
    "\n",
    "\n",
    "df_out.to_pickle(file_out)\n",
    "\n",
    "\n",
    "####################################################################################################\n",
    "####################################################################################################\n",
    "\n",
    "df_test = pd.read_pickle(file_out)\n",
    "\n",
    "display(df_test[0:5][:])\n",
    "print()\n",
    "\n"
   ]
  },
  {
   "cell_type": "code",
   "execution_count": null,
   "metadata": {},
   "outputs": [],
   "source": []
  }
 ],
 "metadata": {
  "anaconda-cloud": {},
  "kernelspec": {
   "display_name": "Python 3",
   "language": "python",
   "name": "python3"
  },
  "language_info": {
   "codemirror_mode": {
    "name": "ipython",
    "version": 3
   },
   "file_extension": ".py",
   "mimetype": "text/x-python",
   "name": "python",
   "nbconvert_exporter": "python",
   "pygments_lexer": "ipython3",
   "version": "3.5.4"
  }
 },
 "nbformat": 4,
 "nbformat_minor": 2
}
