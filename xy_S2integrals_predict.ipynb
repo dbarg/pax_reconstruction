{
 "cells": [
  {
   "cell_type": "code",
   "execution_count": 1,
   "metadata": {},
   "outputs": [
    {
     "name": "stderr",
     "output_type": "stream",
     "text": [
      "Using TensorFlow backend.\n"
     ]
    }
   ],
   "source": [
    "\n",
    "####################################################################################################\n",
    "####################################################################################################\n",
    "\n",
    "import sys\n",
    "import os.path\n",
    "\n",
    "import matplotlib.pyplot as plt\n",
    "import numpy as np\n",
    "import pandas as pd\n",
    "from IPython.display import display\n",
    "\n",
    "import keras\n",
    "import keras.utils.vis_utils\n",
    "from keras import backend as K\n",
    "from keras import layers\n",
    "from keras.layers import Dense\n",
    "from keras.models import load_model\n",
    "from keras.models import Sequential\n",
    "from keras.utils import plot_model\n",
    "\n",
    "from helpers import *\n",
    "\n",
    "sys.path.append(os.path.abspath(\"../\"))\n",
    "from pax_utils import s1s2_utils\n",
    "\n"
   ]
  },
  {
   "cell_type": "code",
   "execution_count": 2,
   "metadata": {},
   "outputs": [],
   "source": [
    "\n",
    "####################################################################################################\n",
    "####################################################################################################\n",
    "\n",
    "file_all       = \"../pax_merge/merged/merged_all_1803031449.pkl\"\n",
    "\n",
    "df_all         = pd.read_pickle(file_all)\n",
    "df_all         = df_all[df_all['intr_count'] == 1].reset_index(drop=True)\n",
    "df_train_truth = df_all[:][['x', 'y']]\n",
    "df_train_input = df_all[:][s1s2_utils.getS2integralsDataFrameColumns()]\n",
    "\n",
    "\n",
    "####################################################################################################\n",
    "####################################################################################################\n",
    "\n",
    "#checkTrainingData(df_train_input, df_train_truth)\n",
    "\n"
   ]
  },
  {
   "cell_type": "code",
   "execution_count": 3,
   "metadata": {},
   "outputs": [],
   "source": [
    "\n",
    "####################################################################################################\n",
    "####################################################################################################\n",
    "\n",
    "folder         = \"models\" + \"/\"    \n",
    "model_name     = \"model_barge_elu\"\n",
    "model_name     = \"model_xenon1t_elu\"\n",
    "model_name_h5  = folder + model_name + \".h5\"\n",
    "model_name_png = folder + model_name + \".png\"\n",
    "\n"
   ]
  },
  {
   "cell_type": "code",
   "execution_count": 4,
   "metadata": {},
   "outputs": [
    {
     "name": "stdout",
     "output_type": "stream",
     "text": [
      "\n",
      "Loaded Model: models/model_xenon1t_elu.h5\n",
      "Predicted\n",
      "\n"
     ]
    }
   ],
   "source": [
    "\n",
    "####################################################################################################\n",
    "####################################################################################################\n",
    "\n",
    "model       = load_model(model_name_h5)\n",
    "arr_xy_pred = model.predict(df_train_input)\n",
    "\n",
    "print(\"\\nLoaded Model: \" + model_name_h5)\n",
    "print(\"Predicted\\n\")\n",
    "\n"
   ]
  },
  {
   "cell_type": "code",
   "execution_count": 5,
   "metadata": {},
   "outputs": [],
   "source": [
    "\n",
    "####################################################################################################\n",
    "####################################################################################################\n",
    "\n",
    "arr_x_true = df_train_truth[:]['x'].as_matrix()\n",
    "arr_y_true = df_train_truth[:]['y'].as_matrix()\n",
    "\n",
    "arr_x_pred = arr_xy_pred[:, 0]\n",
    "arr_y_pred = arr_xy_pred[:, 1]\n",
    "\n",
    "arr_dx     = arr_x_true - arr_x_pred\n",
    "arr_dy     = arr_y_true - arr_y_pred\n",
    "\n"
   ]
  },
  {
   "cell_type": "code",
   "execution_count": 6,
   "metadata": {},
   "outputs": [
    {
     "data": {
      "text/html": [
       "<div>\n",
       "<style scoped>\n",
       "    .dataframe tbody tr th:only-of-type {\n",
       "        vertical-align: middle;\n",
       "    }\n",
       "\n",
       "    .dataframe tbody tr th {\n",
       "        vertical-align: top;\n",
       "    }\n",
       "\n",
       "    .dataframe thead th {\n",
       "        text-align: right;\n",
       "    }\n",
       "</style>\n",
       "<table border=\"1\" class=\"dataframe\">\n",
       "  <thead>\n",
       "    <tr style=\"text-align: right;\">\n",
       "      <th></th>\n",
       "      <th>event_number</th>\n",
       "      <th>x</th>\n",
       "      <th>y</th>\n",
       "      <th>intr_x</th>\n",
       "      <th>intr_y</th>\n",
       "      <th>intr_x_nn</th>\n",
       "      <th>intr_y_nn</th>\n",
       "      <th>x_pred</th>\n",
       "      <th>y_pred</th>\n",
       "    </tr>\n",
       "  </thead>\n",
       "  <tbody>\n",
       "    <tr>\n",
       "      <th>0</th>\n",
       "      <td>1</td>\n",
       "      <td>2.626434</td>\n",
       "      <td>-17.960824</td>\n",
       "      <td>3.117168</td>\n",
       "      <td>-16.583333</td>\n",
       "      <td>3.270800</td>\n",
       "      <td>-16.607226</td>\n",
       "      <td>3.858828</td>\n",
       "      <td>-18.150707</td>\n",
       "    </tr>\n",
       "    <tr>\n",
       "      <th>1</th>\n",
       "      <td>3</td>\n",
       "      <td>10.907536</td>\n",
       "      <td>-6.312277</td>\n",
       "      <td>9.850251</td>\n",
       "      <td>-5.610902</td>\n",
       "      <td>9.921544</td>\n",
       "      <td>-5.569570</td>\n",
       "      <td>10.961799</td>\n",
       "      <td>-6.187883</td>\n",
       "    </tr>\n",
       "    <tr>\n",
       "      <th>2</th>\n",
       "      <td>5</td>\n",
       "      <td>24.631697</td>\n",
       "      <td>-12.763601</td>\n",
       "      <td>24.563283</td>\n",
       "      <td>-12.343985</td>\n",
       "      <td>24.643193</td>\n",
       "      <td>-12.371619</td>\n",
       "      <td>25.968349</td>\n",
       "      <td>-13.918870</td>\n",
       "    </tr>\n",
       "    <tr>\n",
       "      <th>3</th>\n",
       "      <td>6</td>\n",
       "      <td>2.726006</td>\n",
       "      <td>37.749081</td>\n",
       "      <td>2.119674</td>\n",
       "      <td>34.039474</td>\n",
       "      <td>2.042468</td>\n",
       "      <td>33.434272</td>\n",
       "      <td>1.612665</td>\n",
       "      <td>36.465977</td>\n",
       "    </tr>\n",
       "    <tr>\n",
       "      <th>4</th>\n",
       "      <td>8</td>\n",
       "      <td>-18.078293</td>\n",
       "      <td>-23.212466</td>\n",
       "      <td>-16.583333</td>\n",
       "      <td>-20.822682</td>\n",
       "      <td>-16.423884</td>\n",
       "      <td>-21.070236</td>\n",
       "      <td>-17.852966</td>\n",
       "      <td>-21.908081</td>\n",
       "    </tr>\n",
       "  </tbody>\n",
       "</table>\n",
       "</div>"
      ],
      "text/plain": [
       "   event_number          x          y     intr_x     intr_y  intr_x_nn  \\\n",
       "0             1   2.626434 -17.960824   3.117168 -16.583333   3.270800   \n",
       "1             3  10.907536  -6.312277   9.850251  -5.610902   9.921544   \n",
       "2             5  24.631697 -12.763601  24.563283 -12.343985  24.643193   \n",
       "3             6   2.726006  37.749081   2.119674  34.039474   2.042468   \n",
       "4             8 -18.078293 -23.212466 -16.583333 -20.822682 -16.423884   \n",
       "\n",
       "   intr_y_nn     x_pred     y_pred  \n",
       "0 -16.607226   3.858828 -18.150707  \n",
       "1  -5.569570  10.961799  -6.187883  \n",
       "2 -12.371619  25.968349 -13.918870  \n",
       "3  33.434272   1.612665  36.465977  \n",
       "4 -21.070236 -17.852966 -21.908081  "
      ]
     },
     "metadata": {},
     "output_type": "display_data"
    },
    {
     "name": "stdout",
     "output_type": "stream",
     "text": [
      "\n"
     ]
    }
   ],
   "source": [
    "\n",
    "####################################################################################################\n",
    "####################################################################################################\n",
    "\n",
    "file_out         = \"./predictions/xy_S2integrals.pkl\"\n",
    "\n",
    "cols_out         = ['event_number', 'x', 'y', 'intr_x', 'intr_y', 'intr_x_nn', 'intr_y_nn']\n",
    "\n",
    "df_out           = df_all[:][cols_out]\n",
    "df_out['x_pred'] = arr_x_pred\n",
    "df_out['y_pred'] = arr_y_pred\n",
    "\n",
    "\n",
    "df_out.to_pickle(file_out)\n",
    "\n",
    "\n",
    "####################################################################################################\n",
    "####################################################################################################\n",
    "\n",
    "df_test = pd.read_pickle(file_out)\n",
    "\n",
    "display(df_test[0:5][:])\n",
    "print()\n",
    "\n"
   ]
  },
  {
   "cell_type": "code",
   "execution_count": null,
   "metadata": {
    "collapsed": true
   },
   "outputs": [],
   "source": []
  }
 ],
 "metadata": {
  "anaconda-cloud": {},
  "kernelspec": {
   "display_name": "Python 3",
   "language": "python",
   "name": "python3"
  },
  "language_info": {
   "codemirror_mode": {
    "name": "ipython",
    "version": 3
   },
   "file_extension": ".py",
   "mimetype": "text/x-python",
   "name": "python",
   "nbconvert_exporter": "python",
   "pygments_lexer": "ipython3",
   "version": "3.5.4"
  }
 },
 "nbformat": 4,
 "nbformat_minor": 2
}
