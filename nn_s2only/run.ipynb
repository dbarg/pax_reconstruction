{
 "cells": [
  {
   "cell_type": "code",
   "execution_count": 1,
   "metadata": {
    "collapsed": false
   },
   "outputs": [],
   "source": [
    "\n",
    "#------------------------------------------------------------------------------\n",
    "#------------------------------------------------------------------------------\n",
    "\n",
    "%load_ext autoreload\n",
    "%autoreload 2\n"
   ]
  },
  {
   "cell_type": "code",
   "execution_count": 12,
   "metadata": {
    "collapsed": false,
    "scrolled": true
   },
   "outputs": [
    {
     "name": "stdout",
     "output_type": "stream",
     "text": [
      "nn_s2_train.py -directory ../../xe1t-processing/pax_merge/temp_s2/ -max_dirs 10 -events_per_batch 100 -samples 1000 -downsample 1000\n",
      "nn_waveforms.__init__()\n",
      "Input Directory:  ../../xe1t-processing/pax_merge/temp_s2/\n",
      "Events:           9000\n",
      "Files Train:      9\n",
      "Files Test:       1\n",
      "Train files:\n",
      "   ../../xe1t-processing/pax_merge/temp_s2/strArr0.npz\n",
      "   ../../xe1t-processing/pax_merge/temp_s2/strArr1.npz\n",
      "   ../../xe1t-processing/pax_merge/temp_s2/strArr2.npz\n",
      "   ../../xe1t-processing/pax_merge/temp_s2/strArr3.npz\n",
      "   ../../xe1t-processing/pax_merge/temp_s2/strArr4.npz\n",
      "   ../../xe1t-processing/pax_merge/temp_s2/strArr5.npz\n",
      "   ../../xe1t-processing/pax_merge/temp_s2/strArr6.npz\n",
      "   ../../xe1t-processing/pax_merge/temp_s2/strArr7.npz\n",
      "   ../../xe1t-processing/pax_merge/temp_s2/strArr8.npz\n",
      "Test files:\n",
      "   ../../xe1t-processing/pax_merge/temp_s2/strArr9.npz\n",
      "Batches:          90\n",
      "Events per batch: 100\n",
      "Events:           9000\n",
      "\n",
      "9 Input files:\n",
      "   ../../xe1t-processing/pax_merge/temp_s2/strArr0.npz\n",
      "   ../../xe1t-processing/pax_merge/temp_s2/strArr1.npz\n",
      "   ../../xe1t-processing/pax_merge/temp_s2/strArr2.npz\n",
      "   ../../xe1t-processing/pax_merge/temp_s2/strArr3.npz\n",
      "   ../../xe1t-processing/pax_merge/temp_s2/strArr4.npz\n",
      "   ../../xe1t-processing/pax_merge/temp_s2/strArr5.npz\n",
      "   ../../xe1t-processing/pax_merge/temp_s2/strArr6.npz\n",
      "   ../../xe1t-processing/pax_merge/temp_s2/strArr7.npz\n",
      "   ../../xe1t-processing/pax_merge/temp_s2/strArr8.npz\n",
      "Batches:          10\n",
      "Events per batch: 100\n",
      "Events:           1000\n",
      "\n",
      "1 Input files:\n",
      "   ../../xe1t-processing/pax_merge/temp_s2/strArr9.npz\n",
      "Epoch 1/1\n",
      "Batch: 0/90, iFile 0, i0=000, i1=100, j0=000, j1=100, Memory: 0.514 GB, File: strArr0.npz\n",
      "Batch: 1/90, iFile 0, i0=100, i1=200, j0=100, j1=200, Memory: 0.514 GB, File: strArr0.npz\n",
      "dataGenerator_waveforms.on_epoch_end()\n",
      "\n",
      "Batch: 0/10, iFile 0, i0=000, i1=100, j0=000, j1=100, Memory: 0.519 GB, File: strArr9.npz\n",
      "Batch: 1/10, iFile 0, i0=100, i1=200, j0=100, j1=200, Memory: 0.523 GB, File: strArr9.npz\n",
      " - 5s - loss: 348.9197 - acc: 0.4300 - val_loss: 315.1496 - val_acc: 0.5450\n",
      "_________________________________________________________________\n",
      "Layer (type)                 Output Shape              Param #   \n",
      "=================================================================\n",
      "dense_1 (Dense)              (None, 127)               16256     \n",
      "_________________________________________________________________\n",
      "dense_2 (Dense)              (None, 127)               16256     \n",
      "_________________________________________________________________\n",
      "dropout_1 (Dropout)          (None, 127)               0         \n",
      "_________________________________________________________________\n",
      "dense_3 (Dense)              (None, 2)                 256       \n",
      "=================================================================\n",
      "Total params: 32,768\n",
      "Trainable params: 32,768\n",
      "Non-trainable params: 0\n",
      "_________________________________________________________________\n",
      "None\n",
      "Saving 'nn_modl_acc43_evts09000_127-127-2.h5'...\n",
      "Saving 'nn_pred_acc43_evts09000_127-127-2.npy'...\n",
      "\n",
      "Done in 0.1 min\n"
     ]
    }
   ],
   "source": [
    "\n",
    "#------------------------------------------------------------------------------\n",
    "#------------------------------------------------------------------------------\n",
    "\n",
    "filename = \"nn_s2_train.py\"\n",
    "lst_args = [\n",
    "    '-directory'       , '../../xe1t-processing/pax_merge/temp_s2/',\n",
    "    '-max_dirs'        , '10',\n",
    "    '-events_per_batch', '100',\n",
    "    '-samples'         , '1000',\n",
    "    '-downsample'      , '1000'\n",
    "]\n",
    "str_args = \" \".join(lst_args)\n",
    "\n",
    "print(\"{0} {1}\".format(filename, str_args))\n",
    "\n",
    "%run $filename $str_args\n"
   ]
  },
  {
   "cell_type": "code",
   "execution_count": null,
   "metadata": {
    "collapsed": true
   },
   "outputs": [],
   "source": []
  },
  {
   "cell_type": "code",
   "execution_count": null,
   "metadata": {
    "collapsed": true
   },
   "outputs": [],
   "source": []
  },
  {
   "cell_type": "code",
   "execution_count": null,
   "metadata": {
    "collapsed": true
   },
   "outputs": [],
   "source": []
  },
  {
   "cell_type": "code",
   "execution_count": null,
   "metadata": {
    "collapsed": true
   },
   "outputs": [],
   "source": []
  },
  {
   "cell_type": "code",
   "execution_count": 3,
   "metadata": {
    "collapsed": false
   },
   "outputs": [
    {
     "name": "stderr",
     "output_type": "stream",
     "text": [
      "No traceback available to show.\n"
     ]
    }
   ],
   "source": [
    "%tb"
   ]
  },
  {
   "cell_type": "code",
   "execution_count": null,
   "metadata": {
    "collapsed": true
   },
   "outputs": [],
   "source": []
  }
 ],
 "metadata": {
  "kernelspec": {
   "display_name": "Python 3",
   "language": "python",
   "name": "python3"
  },
  "language_info": {
   "codemirror_mode": {
    "name": "ipython",
    "version": 3
   },
   "file_extension": ".py",
   "mimetype": "text/x-python",
   "name": "python",
   "nbconvert_exporter": "python",
   "pygments_lexer": "ipython3",
   "version": "3.4.4"
  }
 },
 "nbformat": 4,
 "nbformat_minor": 2
}
