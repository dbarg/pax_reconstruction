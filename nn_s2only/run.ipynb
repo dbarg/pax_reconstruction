{
 "cells": [
  {
   "cell_type": "code",
   "execution_count": 1,
   "metadata": {
    "collapsed": false
   },
   "outputs": [],
   "source": [
    "\n",
    "#------------------------------------------------------------------------------\n",
    "#------------------------------------------------------------------------------\n",
    "\n",
    "%load_ext autoreload\n",
    "%autoreload 2\n"
   ]
  },
  {
   "cell_type": "code",
   "execution_count": null,
   "metadata": {
    "collapsed": false,
    "scrolled": true
   },
   "outputs": [
    {
     "name": "stdout",
     "output_type": "stream",
     "text": [
      "nn_s2_train.py -directory ../../xe1t-processing/pax_merge/temp_s2/ -max_dirs 10 -events_per_batch 100 -samples 1000 -downsample 1000\n",
      "\n",
      "Starting...\n",
      "\n",
      "Input Directory:  ../../xe1t-processing/pax_merge/temp_s2/\n",
      "Events:           9000\n",
      "Files Train:      9\n",
      "Files Test:       1\n",
      "Train files:\n",
      "   ../../xe1t-processing/pax_merge/temp_s2/strArr0.npz\n",
      "   ../../xe1t-processing/pax_merge/temp_s2/strArr1.npz\n",
      "   ../../xe1t-processing/pax_merge/temp_s2/strArr2.npz\n",
      "   ../../xe1t-processing/pax_merge/temp_s2/strArr3.npz\n",
      "   ../../xe1t-processing/pax_merge/temp_s2/strArr4.npz\n",
      "   ../../xe1t-processing/pax_merge/temp_s2/strArr5.npz\n",
      "   ../../xe1t-processing/pax_merge/temp_s2/strArr6.npz\n",
      "   ../../xe1t-processing/pax_merge/temp_s2/strArr7.npz\n",
      "   ../../xe1t-processing/pax_merge/temp_s2/strArr8.npz\n",
      "Test files:\n",
      "   ../../xe1t-processing/pax_merge/temp_s2/strArr9.npz\n",
      "Batches:          90\n",
      "Events per batch: 100\n",
      "Events:           9000\n",
      "\n",
      "9 Input files:\n",
      "   ../../xe1t-processing/pax_merge/temp_s2/strArr0.npz\n",
      "   ../../xe1t-processing/pax_merge/temp_s2/strArr1.npz\n",
      "   ../../xe1t-processing/pax_merge/temp_s2/strArr2.npz\n",
      "   ../../xe1t-processing/pax_merge/temp_s2/strArr3.npz\n",
      "   ../../xe1t-processing/pax_merge/temp_s2/strArr4.npz\n",
      "   ../../xe1t-processing/pax_merge/temp_s2/strArr5.npz\n",
      "   ../../xe1t-processing/pax_merge/temp_s2/strArr6.npz\n",
      "   ../../xe1t-processing/pax_merge/temp_s2/strArr7.npz\n",
      "   ../../xe1t-processing/pax_merge/temp_s2/strArr8.npz\n",
      "Batches:          10\n",
      "Events per batch: 100\n",
      "Events:           1000\n",
      "\n",
      "1 Input files:\n",
      "   ../../xe1t-processing/pax_merge/temp_s2/strArr9.npz\n",
      "Epoch 1/1\n",
      "Batch: 0/90, iFile 0, i0=000, i1=100, j0=000, j1=100, Memory: 0.477, File: strArr0.npz\n",
      "Batch: 1/90, iFile 0, i0=100, i1=200, j0=100, j1=200, Memory: 0.477, File: strArr0.npz\n",
      "Batch: 2/90, iFile 0, i0=200, i1=300, j0=200, j1=300, Memory: 0.477, File: strArr0.npz\n",
      "Batch: 3/90, iFile 0, i0=300, i1=400, j0=300, j1=400, Memory: 0.477, File: strArr0.npz\n",
      "Batch: 4/90, iFile 0, i0=400, i1=500, j0=400, j1=500, Memory: 0.477, File: strArr0.npz\n",
      "Batch: 5/90, iFile 0, i0=500, i1=600, j0=500, j1=600, Memory: 0.477, File: strArr0.npz\n",
      "Batch: 6/90, iFile 0, i0=600, i1=700, j0=600, j1=700, Memory: 0.477, File: strArr0.npz\n",
      "Batch: 7/90, iFile 0, i0=700, i1=800, j0=700, j1=800, Memory: 0.477, File: strArr0.npz\n",
      "Batch: 8/90, iFile 0, i0=800, i1=900, j0=800, j1=900, Memory: 0.477, File: strArr0.npz\n",
      "Batch: 9/90, iFile 0, i0=900, i1=1000, j0=900, j1=1000, Memory: 0.477, File: strArr0.npz\n",
      "Batch: 10/90, iFile 1, i0=000, i1=100, j0=1000, j1=1100, Memory: 0.477, File: strArr1.npz\n",
      "Batch: 11/90, iFile 1, i0=100, i1=200, j0=1100, j1=1200, Memory: 0.477, File: strArr1.npz\n",
      "Batch: 12/90, iFile 1, i0=200, i1=300, j0=1200, j1=1300, Memory: 0.477, File: strArr1.npz\n",
      "Batch: 13/90, iFile 1, i0=300, i1=400, j0=1300, j1=1400, Memory: 0.477, File: strArr1.npz\n",
      "Batch: 14/90, iFile 1, i0=400, i1=500, j0=1400, j1=1500, Memory: 0.477, File: strArr1.npz\n",
      "Batch: 15/90, iFile 1, i0=500, i1=600, j0=1500, j1=1600, Memory: 0.477, File: strArr1.npz\n",
      "Batch: 16/90, iFile 1, i0=600, i1=700, j0=1600, j1=1700, Memory: 0.477, File: strArr1.npz\n",
      "Batch: 17/90, iFile 1, i0=700, i1=800, j0=1700, j1=1800, Memory: 0.477, File: strArr1.npz\n",
      "Batch: 18/90, iFile 1, i0=800, i1=900, j0=1800, j1=1900, Memory: 0.477, File: strArr1.npz\n",
      "Batch: 19/90, iFile 1, i0=900, i1=1000, j0=1900, j1=2000, Memory: 0.477, File: strArr1.npz\n",
      "Batch: 20/90, iFile 2, i0=000, i1=100, j0=2000, j1=2100, Memory: 0.477, File: strArr2.npz\n",
      "Batch: 21/90, iFile 2, i0=100, i1=200, j0=2100, j1=2200, Memory: 0.477, File: strArr2.npz\n",
      "Batch: 22/90, iFile 2, i0=200, i1=300, j0=2200, j1=2300, Memory: 0.477, File: strArr2.npz\n",
      "Batch: 23/90, iFile 2, i0=300, i1=400, j0=2300, j1=2400, Memory: 0.477, File: strArr2.npz\n",
      "Batch: 24/90, iFile 2, i0=400, i1=500, j0=2400, j1=2500, Memory: 0.477, File: strArr2.npz\n",
      "Batch: 25/90, iFile 2, i0=500, i1=600, j0=2500, j1=2600, Memory: 0.477, File: strArr2.npz\n",
      "Batch: 26/90, iFile 2, i0=600, i1=700, j0=2600, j1=2700, Memory: 0.477, File: strArr2.npz\n",
      "Batch: 27/90, iFile 2, i0=700, i1=800, j0=2700, j1=2800, Memory: 0.477, File: strArr2.npz\n",
      "Batch: 28/90, iFile 2, i0=800, i1=900, j0=2800, j1=2900, Memory: 0.477, File: strArr2.npz\n",
      "Batch: 29/90, iFile 2, i0=900, i1=1000, j0=2900, j1=3000, Memory: 0.477, File: strArr2.npz\n",
      "Batch: 30/90, iFile 3, i0=000, i1=100, j0=3000, j1=3100, Memory: 0.477, File: strArr3.npz\n",
      "Batch: 31/90, iFile 3, i0=100, i1=200, j0=3100, j1=3200, Memory: 0.477, File: strArr3.npz\n",
      "Batch: 32/90, iFile 3, i0=200, i1=300, j0=3200, j1=3300, Memory: 0.477, File: strArr3.npz\n",
      "Batch: 33/90, iFile 3, i0=300, i1=400, j0=3300, j1=3400, Memory: 0.477, File: strArr3.npz\n",
      "Batch: 34/90, iFile 3, i0=400, i1=500, j0=3400, j1=3500, Memory: 0.477, File: strArr3.npz\n"
     ]
    }
   ],
   "source": [
    "\n",
    "#------------------------------------------------------------------------------\n",
    "#------------------------------------------------------------------------------\n",
    "\n",
    "filename = \"nn_s2_train.py\"\n",
    "lst_args = [\n",
    "    '-directory',\n",
    "    '../../xe1t-processing/pax_merge/temp_s2/',\n",
    "    '-max_dirs',\n",
    "    '10',\n",
    "    '-events_per_batch',\n",
    "    '100',\n",
    "    '-samples',\n",
    "    '1000',\n",
    "    '-downsample',\n",
    "    '1000'\n",
    "]\n",
    "str_args = \" \".join(lst_args)\n",
    "\n",
    "print(\"{0} {1}\".format(filename, str_args))\n",
    "\n",
    "%run $filename $str_args\n"
   ]
  },
  {
   "cell_type": "code",
   "execution_count": null,
   "metadata": {
    "collapsed": true
   },
   "outputs": [],
   "source": []
  },
  {
   "cell_type": "code",
   "execution_count": null,
   "metadata": {
    "collapsed": true
   },
   "outputs": [],
   "source": []
  },
  {
   "cell_type": "code",
   "execution_count": null,
   "metadata": {
    "collapsed": true
   },
   "outputs": [],
   "source": []
  },
  {
   "cell_type": "code",
   "execution_count": null,
   "metadata": {
    "collapsed": true
   },
   "outputs": [],
   "source": []
  },
  {
   "cell_type": "code",
   "execution_count": 3,
   "metadata": {
    "collapsed": false
   },
   "outputs": [
    {
     "name": "stderr",
     "output_type": "stream",
     "text": [
      "No traceback available to show.\n"
     ]
    }
   ],
   "source": [
    "%tb"
   ]
  },
  {
   "cell_type": "code",
   "execution_count": null,
   "metadata": {
    "collapsed": true
   },
   "outputs": [],
   "source": []
  }
 ],
 "metadata": {
  "kernelspec": {
   "display_name": "Python 3",
   "language": "python",
   "name": "python3"
  },
  "language_info": {
   "codemirror_mode": {
    "name": "ipython",
    "version": 3
   },
   "file_extension": ".py",
   "mimetype": "text/x-python",
   "name": "python",
   "nbconvert_exporter": "python",
   "pygments_lexer": "ipython3",
   "version": "3.4.4"
  }
 },
 "nbformat": 4,
 "nbformat_minor": 2
}
