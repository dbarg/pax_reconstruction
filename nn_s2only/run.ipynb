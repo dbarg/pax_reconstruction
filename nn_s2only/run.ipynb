{
 "cells": [
  {
   "cell_type": "code",
   "execution_count": 1,
   "metadata": {
    "collapsed": false
   },
   "outputs": [],
   "source": [
    "\n",
    "#------------------------------------------------------------------------------\n",
    "#------------------------------------------------------------------------------\n",
    "\n",
    "%load_ext autoreload\n",
    "%autoreload 2\n"
   ]
  },
  {
   "cell_type": "code",
   "execution_count": 11,
   "metadata": {
    "collapsed": false,
    "scrolled": true
   },
   "outputs": [
    {
     "name": "stdout",
     "output_type": "stream",
     "text": [
      "nn_s2_train.py -directory ../../xe1t-processing/pax_merge/temp_s2/ -max_dirs 10 -events_per_batch 100 -samples 1000 -downsample 1000\n",
      "\n",
      "Starting...\n",
      "\n",
      "Input Directory:  ../../xe1t-processing/pax_merge/temp_s2/\n",
      "Downsample:       1000\n",
      "Input dimension:  127\n",
      "Batches:          10\n",
      "Events per batch: 100\n",
      "Events:           9000\n",
      "Files Train:      9\n",
      "Files Test:       1\n",
      "\n",
      "Train files:\n",
      "   ../../xe1t-processing/pax_merge/temp_s2/strArr0.npz\n",
      "   ../../xe1t-processing/pax_merge/temp_s2/strArr1.npz\n",
      "   ../../xe1t-processing/pax_merge/temp_s2/strArr2.npz\n",
      "   ../../xe1t-processing/pax_merge/temp_s2/strArr3.npz\n",
      "   ../../xe1t-processing/pax_merge/temp_s2/strArr4.npz\n",
      "   ../../xe1t-processing/pax_merge/temp_s2/strArr5.npz\n",
      "   ../../xe1t-processing/pax_merge/temp_s2/strArr6.npz\n",
      "   ../../xe1t-processing/pax_merge/temp_s2/strArr7.npz\n",
      "   ../../xe1t-processing/pax_merge/temp_s2/strArr8.npz\n",
      "\n",
      "Test files:\n",
      "   ../../xe1t-processing/pax_merge/temp_s2/strArr9.npz\n",
      "\n",
      "--- Train ---\n",
      "Epoch 1/1\n",
      "__getitem__\n",
      "1/1 [==============================] - 0s 197ms/step - loss: 0.0000e+00 - acc: 1.0000\n",
      "\n",
      "Done in 0.0 min\n"
     ]
    }
   ],
   "source": [
    "\n",
    "#------------------------------------------------------------------------------\n",
    "#------------------------------------------------------------------------------\n",
    "\n",
    "filename = \"nn_s2_train.py\"\n",
    "lst_args = [\n",
    "    '-directory',\n",
    "    '../../xe1t-processing/pax_merge/temp_s2/',\n",
    "    '-max_dirs',\n",
    "    '10',\n",
    "    '-events_per_batch',\n",
    "    '100',\n",
    "    '-samples',\n",
    "    '1000',\n",
    "    '-downsample',\n",
    "    '1000'\n",
    "]\n",
    "str_args = \" \".join(lst_args)\n",
    "\n",
    "print(\"{0} {1}\".format(filename, str_args))\n",
    "\n",
    "%run $filename $str_args\n"
   ]
  },
  {
   "cell_type": "code",
   "execution_count": null,
   "metadata": {
    "collapsed": true
   },
   "outputs": [],
   "source": []
  },
  {
   "cell_type": "code",
   "execution_count": null,
   "metadata": {
    "collapsed": true
   },
   "outputs": [],
   "source": []
  },
  {
   "cell_type": "code",
   "execution_count": null,
   "metadata": {
    "collapsed": true
   },
   "outputs": [],
   "source": []
  },
  {
   "cell_type": "code",
   "execution_count": null,
   "metadata": {
    "collapsed": true
   },
   "outputs": [],
   "source": []
  },
  {
   "cell_type": "code",
   "execution_count": 3,
   "metadata": {
    "collapsed": false
   },
   "outputs": [
    {
     "name": "stderr",
     "output_type": "stream",
     "text": [
      "No traceback available to show.\n"
     ]
    }
   ],
   "source": [
    "%tb"
   ]
  },
  {
   "cell_type": "code",
   "execution_count": null,
   "metadata": {
    "collapsed": true
   },
   "outputs": [],
   "source": []
  }
 ],
 "metadata": {
  "kernelspec": {
   "display_name": "Python 3",
   "language": "python",
   "name": "python3"
  },
  "language_info": {
   "codemirror_mode": {
    "name": "ipython",
    "version": 3
   },
   "file_extension": ".py",
   "mimetype": "text/x-python",
   "name": "python",
   "nbconvert_exporter": "python",
   "pygments_lexer": "ipython3",
   "version": "3.4.4"
  }
 },
 "nbformat": 4,
 "nbformat_minor": 2
}
