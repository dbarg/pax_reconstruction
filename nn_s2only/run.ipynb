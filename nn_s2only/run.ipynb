{
 "cells": [
  {
   "cell_type": "code",
   "execution_count": 1,
   "metadata": {
    "collapsed": false
   },
   "outputs": [],
   "source": [
    "\n",
    "#------------------------------------------------------------------------------\n",
    "#------------------------------------------------------------------------------\n",
    "\n",
    "%load_ext autoreload\n",
    "%autoreload 2\n"
   ]
  },
  {
   "cell_type": "code",
   "execution_count": 2,
   "metadata": {
    "collapsed": false,
    "scrolled": true
   },
   "outputs": [
    {
     "name": "stdout",
     "output_type": "stream",
     "text": [
      "nn_s2_train.py -directory ../../xe1t-processing/pax_merge/temp_s2/ -max_dirs 2 -events_per_batch 100 -downsample 10\n"
     ]
    },
    {
     "name": "stderr",
     "output_type": "stream",
     "text": [
      "Using TensorFlow backend.\n"
     ]
    },
    {
     "name": "stdout",
     "output_type": "stream",
     "text": [
      "nn_waveforms.__init__()\n",
      "Input Directory:  ../../xe1t-processing/pax_merge/temp_s2/\n",
      "Events:           1000\n",
      "Files Train:      1\n",
      "Files Test:       1\n",
      "Train files:\n",
      "   ../../xe1t-processing/pax_merge/temp_s2/strArr0.npz\n",
      "Test files:\n",
      "   ../../xe1t-processing/pax_merge/temp_s2/strArr1.npz\n",
      "Batches:          10\n",
      "Events per batch: 100\n",
      "Events:           1000\n",
      "\n",
      "1 Input files:\n",
      "   ../../xe1t-processing/pax_merge/temp_s2/strArr0.npz\n",
      "Batches:          10\n",
      "Events per batch: 100\n",
      "Events:           1000\n",
      "\n",
      "1 Input files:\n",
      "   ../../xe1t-processing/pax_merge/temp_s2/strArr1.npz\n",
      "Start\n",
      "Epoch 1/1\n",
      "-> Data Generator Batch: 0/10, iFile 0, i0=000, i1=100, j0=000, j1=100, Memory: 0.430 GB, File: strArr0.npz\n",
      "-> Data Generator Batch: 1/10, iFile 0, i0=100, i1=200, j0=100, j1=200, Memory: 1.290 GB, File: strArr0.npz\n",
      "-> Data Generator Batch: 2/10, iFile 0, i0=200, i1=300, j0=200, j1=300, Memory: 0.873 GB, File: strArr0.npz\n",
      "-> Data Generator Batch: 3/10, iFile 0, i0=300, i1=400, j0=300, j1=400, Memory: 1.352 GB, File: strArr0.npz\n",
      "-> Data Generator Batch: 4/10, iFile 0, i0=400, i1=500, j0=400, j1=500, Memory: 1.670 GB, File: strArr0.npz\n",
      "-> Data Generator Batch: 5/10, iFile 0, i0=500, i1=600, j0=500, j1=600, Memory: 2.177 GB, File: strArr0.npz\n",
      "-> Data Generator Batch: 6/10, iFile 0, i0=600, i1=700, j0=600, j1=700, Memory: 3.034 GB, File: strArr0.npz\n",
      "-> Data Generator Batch: 7/10, iFile 0, i0=700, i1=800, j0=700, j1=800, Memory: 3.695 GB, File: strArr0.npz\n",
      "-> Data Generator Batch: 8/10, iFile 0, i0=800, i1=900, j0=800, j1=900, Memory: 4.012 GB, File: strArr0.npz\n",
      "-> Data Generator Batch: 9/10, iFile 0, i0=900, i1=1000, j0=900, j1=1000, Memory: 4.417 GB, File: strArr0.npz\n",
      "dataGenerator_waveforms.on_epoch_end()\n",
      "\n",
      "\n",
      "\n",
      "-> Data Generator Batch: 0/10, iFile 0, i0=000, i1=100, j0=000, j1=100, Memory: 3.753 GB, File: strArr0.npz\n",
      " - 71s - loss: 192.3538 - acc: 0.8330\n",
      "-> Data Generator Batch: 1/10, iFile 0, i0=100, i1=200, j0=100, j1=200, Memory: 3.089 GB, File: strArr0.npz\n",
      "-> Data Generator Batch: 2/10, iFile 0, i0=200, i1=300, j0=200, j1=300, Memory: 3.091 GB, File: strArr0.npz\n",
      "-> Data Generator Batch: 3/10, iFile 0, i0=300, i1=400, j0=300, j1=400, Memory: 3.091 GB, File: strArr0.npz\n",
      "-> Data Generator Batch: 4/10, iFile 0, i0=400, i1=500, j0=400, j1=500, Memory: 3.091 GB, File: strArr0.npz\n",
      "-> Data Generator Batch: 5/10, iFile 0, i0=500, i1=600, j0=500, j1=600, Memory: 3.092 GB, File: strArr0.npz\n",
      "-> Data Generator Batch: 6/10, iFile 0, i0=600, i1=700, j0=600, j1=700, Memory: 3.092 GB, File: strArr0.npz\n",
      "-> Data Generator Batch: 7/10, iFile 0, i0=700, i1=800, j0=700, j1=800, Memory: 3.092 GB, File: strArr0.npz\n",
      "-> Data Generator Batch: 8/10, iFile 0, i0=800, i1=900, j0=800, j1=900, Memory: 3.092 GB, File: strArr0.npz\n",
      "-> Data Generator Batch: 9/10, iFile 0, i0=900, i1=1000, j0=900, j1=1000, Memory: 3.092 GB, File: strArr0.npz\n",
      "Done\n",
      "_________________________________________________________________\n",
      "Layer (type)                 Output Shape              Param #   \n",
      "=================================================================\n",
      "dense_1 (Dense)              (None, 12700)             161302700 \n",
      "_________________________________________________________________\n",
      "dense_2 (Dense)              (None, 127)               1613027   \n",
      "_________________________________________________________________\n",
      "dropout_1 (Dropout)          (None, 127)               0         \n",
      "_________________________________________________________________\n",
      "dense_3 (Dense)              (None, 2)                 256       \n",
      "=================================================================\n",
      "Total params: 162,915,983\n",
      "Trainable params: 162,915,983\n",
      "Non-trainable params: 0\n",
      "_________________________________________________________________\n",
      "None\n",
      "\n",
      "\n",
      "----- Validate -----\n",
      "\n",
      "\n",
      "-> Data Generator Batch: 0/10, iFile 0, i0=000, i1=100, j0=000, j1=100, Memory: 3.067 GB, File: strArr1.npz\n",
      "-> Data Generator Batch: 1/10, iFile 0, i0=100, i1=200, j0=100, j1=200, Memory: 3.071 GB, File: strArr1.npz\n",
      "-> Data Generator Batch: 2/10, iFile 0, i0=200, i1=300, j0=200, j1=300, Memory: 3.071 GB, File: strArr1.npz\n",
      "-> Data Generator Batch: 3/10, iFile 0, i0=300, i1=400, j0=300, j1=400, Memory: 3.071 GB, File: strArr1.npz\n",
      "-> Data Generator Batch: 4/10, iFile 0, i0=400, i1=500, j0=400, j1=500, Memory: 3.071 GB, File: strArr1.npz\n",
      "-> Data Generator Batch: 5/10, iFile 0, i0=500, i1=600, j0=500, j1=600, Memory: 3.071 GB, File: strArr1.npz\n",
      "-> Data Generator Batch: 6/10, iFile 0, i0=600, i1=700, j0=600, j1=700, Memory: 3.071 GB, File: strArr1.npz\n",
      "-> Data Generator Batch: 7/10, iFile 0, i0=700, i1=800, j0=700, j1=800, Memory: 3.071 GB, File: strArr1.npz\n",
      "-> Data Generator Batch: 8/10, iFile 0, i0=800, i1=900, j0=800, j1=900, Memory: 3.071 GB, File: strArr1.npz\n",
      "-> Data Generator Batch: 9/10, iFile 0, i0=900, i1=1000, j0=900, j1=1000, Memory: 3.071 GB, File: strArr1.npz\n",
      "Batches: 10\n",
      "\n",
      "Saving 'nn_modl_acc83_evts01000_12700-127-2.h5'...\n",
      "Saving 'nn_pred_acc83_evts01000_12700-127-2.npy'...\n",
      "\n",
      "\n",
      "Done in 2.1 min\n"
     ]
    }
   ],
   "source": [
    "\n",
    "#------------------------------------------------------------------------------\n",
    "#------------------------------------------------------------------------------\n",
    "\n",
    "filename = \"nn_s2_train.py\"\n",
    "lst_args = [\n",
    "    '-directory'       , '../../xe1t-processing/pax_merge/temp_s2/',\n",
    "    '-max_dirs'        , '2',\n",
    "    '-events_per_batch', '100',\n",
    "    '-downsample'      , '10'\n",
    "]\n",
    "str_args = \" \".join(lst_args)\n",
    "\n",
    "print(\"{0} {1}\".format(filename, str_args))\n",
    "\n",
    "%run $filename $str_args\n"
   ]
  },
  {
   "cell_type": "code",
   "execution_count": null,
   "metadata": {
    "collapsed": true
   },
   "outputs": [],
   "source": []
  },
  {
   "cell_type": "code",
   "execution_count": null,
   "metadata": {
    "collapsed": true
   },
   "outputs": [],
   "source": []
  },
  {
   "cell_type": "code",
   "execution_count": null,
   "metadata": {
    "collapsed": true
   },
   "outputs": [],
   "source": []
  },
  {
   "cell_type": "code",
   "execution_count": null,
   "metadata": {
    "collapsed": true
   },
   "outputs": [],
   "source": []
  },
  {
   "cell_type": "code",
   "execution_count": 3,
   "metadata": {
    "collapsed": false
   },
   "outputs": [
    {
     "name": "stderr",
     "output_type": "stream",
     "text": [
      "No traceback available to show.\n"
     ]
    }
   ],
   "source": [
    "%tb"
   ]
  },
  {
   "cell_type": "code",
   "execution_count": null,
   "metadata": {
    "collapsed": true
   },
   "outputs": [],
   "source": []
  }
 ],
 "metadata": {
  "kernelspec": {
   "display_name": "Python 3",
   "language": "python",
   "name": "python3"
  },
  "language_info": {
   "codemirror_mode": {
    "name": "ipython",
    "version": 3
   },
   "file_extension": ".py",
   "mimetype": "text/x-python",
   "name": "python",
   "nbconvert_exporter": "python",
   "pygments_lexer": "ipython3",
   "version": "3.4.4"
  }
 },
 "nbformat": 4,
 "nbformat_minor": 2
}
