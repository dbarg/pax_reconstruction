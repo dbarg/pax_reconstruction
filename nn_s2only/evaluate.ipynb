{
 "cells": [
  {
   "cell_type": "code",
   "execution_count": 4,
   "metadata": {
    "collapsed": false
   },
   "outputs": [],
   "source": [
    "\n",
    "#------------------------------------------------------------------------------\n",
    "#------------------------------------------------------------------------------\n",
    "\n",
    "import matplotlib.pyplot as plt\n",
    "import numpy as np\n",
    "\n",
    "\n"
   ]
  },
  {
   "cell_type": "code",
   "execution_count": 6,
   "metadata": {
    "collapsed": false
   },
   "outputs": [
    {
     "name": "stdout",
     "output_type": "stream",
     "text": [
      "(1000, 6)\n"
     ]
    }
   ],
   "source": [
    "\n",
    "#------------------------------------------------------------------------------\n",
    "#------------------------------------------------------------------------------\n",
    "\n",
    "f   = 'nn_pred_acc49_evts02000_12700-127-2.npy'\n",
    "arr = np.load(f)\n",
    "\n",
    "x_true = arr[:,0] \n",
    "x_reco = \n",
    "x_pred = \n",
    "\n",
    "\n"
   ]
  },
  {
   "cell_type": "code",
   "execution_count": null,
   "metadata": {
    "collapsed": true
   },
   "outputs": [],
   "source": []
  },
  {
   "cell_type": "code",
   "execution_count": null,
   "metadata": {
    "collapsed": true
   },
   "outputs": [],
   "source": []
  },
  {
   "cell_type": "code",
   "execution_count": null,
   "metadata": {
    "collapsed": true
   },
   "outputs": [],
   "source": [
    "\n",
    "#------------------------------------------------------------------------------\n",
    "#------------------------------------------------------------------------------\n",
    "\n",
    "#f = 'sbatch_nn/10k/nn_pred.npy'\n",
    "#f = 'sbatch_nn/50k/nn_pred.npy'\n",
    "f = 'sbatch_nn/old/60k/nn_pred.npy'\n",
    "\n",
    "arr    = np.load(f)\n",
    "\n",
    "xmean = np.mean(arr)\n",
    "xmin  = np.amin(arr)\n",
    "xmax  = np.amax(arr)\n",
    "nz    = np.count_nonzero(arr)\n",
    "\n",
    "#print(arr.shape)\n",
    "#print(arr[0:3,:])\n",
    "#print(nz)\n",
    "#print(\"xmin: {0}\".format(xmin))\n",
    "#print(\"xmax: {0}\".format(xmax))\n",
    "\n",
    "\n",
    "#------------------------------------------------------------------------------\n",
    "#------------------------------------------------------------------------------\n",
    "\n",
    "x_true  = arr[:,0]\n",
    "y_true  = arr[:,1]\n",
    "x_s2    = arr[:,2]\n",
    "y_s2    = arr[:,3]\n",
    "x_pred  = arr[:,4]\n",
    "y_pred  = arr[:,5]\n",
    "dx_s2   = x_true - x_s2\n",
    "dy_s2   = y_true - y_s2\n",
    "dx_pred = x_true - x_pred\n",
    "dy_pred = y_true - y_pred\n",
    "\n",
    "dr2_s2        = np.sqrt(dx_s2**2   + dy_s2**2) \n",
    "dr2_pred      = np.sqrt(dx_pred**2 + dy_pred**2) \n",
    "dr2_s2_mean   = np.mean(dr2_s2)\n",
    "dr2_pred_mean = np.mean(dr2_pred)\n",
    "\n",
    "\n",
    "#------------------------------------------------------------------------------\n",
    "#------------------------------------------------------------------------------\n",
    "\n",
    "xmax=5\n",
    "\n",
    "lbl_s2   = \"PAX (mean: {0:.2f} cm)\".format(dr2_s2_mean)\n",
    "lbl_pred = \"NN  (mean: {0:.2f} cm)\".format(dr2_pred_mean)\n",
    "\n",
    "plt.hist(np.clip(dr2_s2  , 0, xmax), bins=50, range=[0, xmax], histtype='step', label=lbl_s2)\n",
    "plt.hist(np.clip(dr2_pred, 0, xmax), bins=50, range=[0, xmax], histtype='step', label=lbl_pred)\n",
    "#plt.hist(np.clip(dr2_s2, 0, xmax), bins=50, histtype='step', label=lbl_pred)\n",
    "\n",
    "plt.xlabel(\"Euclidean Error\")\n",
    "plt.ylabel(\"counts\")\n",
    "plt.title(\"Train Events: {0}\\nTest Events: {1}\".format(0, arr.shape[0]))\n",
    "plt.ylim([0, plt.gca().get_ylim()[1]*1.2])\n",
    "plt.legend()\n",
    "plt.grid()"
   ]
  },
  {
   "cell_type": "code",
   "execution_count": null,
   "metadata": {
    "collapsed": true
   },
   "outputs": [],
   "source": []
  },
  {
   "cell_type": "code",
   "execution_count": 2,
   "metadata": {
    "collapsed": false
   },
   "outputs": [
    {
     "ename": "FileNotFoundError",
     "evalue": "[Errno 2] No such file or directory: 'nn_hist_acc49_evts10000_1270-127-2.h5.npy'",
     "output_type": "error",
     "traceback": [
      "\u001b[0;31m---------------------------------------------------------------------------\u001b[0m",
      "\u001b[0;31mFileNotFoundError\u001b[0m                         Traceback (most recent call last)",
      "\u001b[0;32m<ipython-input-2-8afcbec624cb>\u001b[0m in \u001b[0;36m<module>\u001b[0;34m()\u001b[0m\n\u001b[1;32m      7\u001b[0m \u001b[0;34m\u001b[0m\u001b[0m\n\u001b[1;32m      8\u001b[0m \u001b[0mf\u001b[0m   \u001b[0;34m=\u001b[0m \u001b[0;34m'nn_hist_acc49_evts10000_1270-127-2.h5.npy'\u001b[0m\u001b[0;34m\u001b[0m\u001b[0m\n\u001b[0;32m----> 9\u001b[0;31m \u001b[0marr\u001b[0m \u001b[0;34m=\u001b[0m \u001b[0mnp\u001b[0m\u001b[0;34m.\u001b[0m\u001b[0mload\u001b[0m\u001b[0;34m(\u001b[0m\u001b[0mf\u001b[0m\u001b[0;34m)\u001b[0m\u001b[0;34m\u001b[0m\u001b[0m\n\u001b[0m\u001b[1;32m     10\u001b[0m \u001b[0;34m\u001b[0m\u001b[0m\n\u001b[1;32m     11\u001b[0m \u001b[0;31m#------------------------------------------------------------------------------\u001b[0m\u001b[0;34m\u001b[0m\u001b[0;34m\u001b[0m\u001b[0m\n",
      "\u001b[0;32m/cvmfs/xenon.opensciencegrid.org/releases/anaconda/2.4/envs/pax_v6.10.0/lib/python3.4/site-packages/numpy/lib/npyio.py\u001b[0m in \u001b[0;36mload\u001b[0;34m(file, mmap_mode, allow_pickle, fix_imports, encoding)\u001b[0m\n\u001b[1;32m    360\u001b[0m     \u001b[0mown_fid\u001b[0m \u001b[0;34m=\u001b[0m \u001b[0;32mFalse\u001b[0m\u001b[0;34m\u001b[0m\u001b[0m\n\u001b[1;32m    361\u001b[0m     \u001b[0;32mif\u001b[0m \u001b[0misinstance\u001b[0m\u001b[0;34m(\u001b[0m\u001b[0mfile\u001b[0m\u001b[0;34m,\u001b[0m \u001b[0mbasestring\u001b[0m\u001b[0;34m)\u001b[0m\u001b[0;34m:\u001b[0m\u001b[0;34m\u001b[0m\u001b[0m\n\u001b[0;32m--> 362\u001b[0;31m         \u001b[0mfid\u001b[0m \u001b[0;34m=\u001b[0m \u001b[0mopen\u001b[0m\u001b[0;34m(\u001b[0m\u001b[0mfile\u001b[0m\u001b[0;34m,\u001b[0m \u001b[0;34m\"rb\"\u001b[0m\u001b[0;34m)\u001b[0m\u001b[0;34m\u001b[0m\u001b[0m\n\u001b[0m\u001b[1;32m    363\u001b[0m         \u001b[0mown_fid\u001b[0m \u001b[0;34m=\u001b[0m \u001b[0;32mTrue\u001b[0m\u001b[0;34m\u001b[0m\u001b[0m\n\u001b[1;32m    364\u001b[0m     \u001b[0;32melse\u001b[0m\u001b[0;34m:\u001b[0m\u001b[0;34m\u001b[0m\u001b[0m\n",
      "\u001b[0;31mFileNotFoundError\u001b[0m: [Errno 2] No such file or directory: 'nn_hist_acc49_evts10000_1270-127-2.h5.npy'"
     ]
    }
   ],
   "source": [
    "\n",
    "#------------------------------------------------------------------------------\n",
    "#------------------------------------------------------------------------------\n",
    "\n",
    "import matplotlib.pyplot as plt\n",
    "import numpy as np\n",
    "\n",
    "f   = 'nn_hist_acc49_evts10000_1270-127-2.h5.npy'\n",
    "arr = np.load(f)\n",
    "\n",
    "#------------------------------------------------------------------------------\n",
    "#------------------------------------------------------------------------------\n",
    "\n",
    "plt.figure()\n",
    "plt.plot(arr[:,0], label='loss')\n",
    "plt.xlabel('Loss')\n",
    "plt.legend()\n",
    "\n",
    "\n",
    "#------------------------------------------------------------------------------\n",
    "#------------------------------------------------------------------------------\n",
    "\n",
    "plt.figure()\n",
    "plt.plot(arr[:,2], label='time')\n",
    "plt.xlabel('Time')\n",
    "plt.legend()\n",
    "\n",
    "\n",
    "#------------------------------------------------------------------------------\n",
    "#------------------------------------------------------------------------------\n",
    "\n",
    "plt.figure()\n",
    "plt.plot(arr[:,1], label='acc')\n",
    "plt.xlabel('Accuracy')\n",
    "plt.ylim([0, 1])\n",
    "plt.legend()\n",
    "\n",
    "\n"
   ]
  },
  {
   "cell_type": "code",
   "execution_count": null,
   "metadata": {
    "collapsed": true
   },
   "outputs": [],
   "source": []
  },
  {
   "cell_type": "code",
   "execution_count": null,
   "metadata": {
    "collapsed": true
   },
   "outputs": [],
   "source": []
  }
 ],
 "metadata": {
  "kernelspec": {
   "display_name": "Python 3",
   "language": "python",
   "name": "python3"
  },
  "language_info": {
   "codemirror_mode": {
    "name": "ipython",
    "version": 3
   },
   "file_extension": ".py",
   "mimetype": "text/x-python",
   "name": "python",
   "nbconvert_exporter": "python",
   "pygments_lexer": "ipython3",
   "version": "3.4.4"
  }
 },
 "nbformat": 4,
 "nbformat_minor": 2
}
