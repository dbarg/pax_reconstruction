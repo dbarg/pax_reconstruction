{
 "cells": [
  {
   "cell_type": "code",
   "execution_count": 1,
   "metadata": {
    "collapsed": false
   },
   "outputs": [
    {
     "name": "stderr",
     "output_type": "stream",
     "text": [
      "Using TensorFlow backend.\n"
     ]
    }
   ],
   "source": [
    "\n",
    "#------------------------------------------------------------------------------\n",
    "#------------------------------------------------------------------------------\n",
    "\n",
    "import argparse\n",
    "import glob\n",
    "import keras\n",
    "import numpy as np\n",
    "import os\n",
    "import psutil\n",
    "import time\n",
    "\n",
    "import keras as k\n",
    "\n",
    "import nn_s2_models as nnm\n"
   ]
  },
  {
   "cell_type": "code",
   "execution_count": 8,
   "metadata": {
    "collapsed": false
   },
   "outputs": [
    {
     "name": "stdout",
     "output_type": "stream",
     "text": [
      "[127  24  29   2]\n",
      "(3802,)\n",
      "(55,)\n",
      "Connections per layer [3048, 696, 58]\n",
      "3802\n"
     ]
    }
   ],
   "source": [
    "\n",
    "#------------------------------------------------------------------------------\n",
    "#------------------------------------------------------------------------------\n",
    "\n",
    "from pax import utils\n",
    "\n",
    "f1 = 'XENON1T_NN_v8_mc_v030_SR1_n15.npz'\n",
    "f2 = 'XENON1T_NN_v8_mc_v241_20180922_postSR1.npz'\n",
    "f3 = 'XENON1T_NN_v8_mc_v241_SR2_Mar2019.npz'\n",
    "\n",
    "d1 = utils.data_file_name(f1)\n",
    "x1 = np.load(d1, allow_pickle=True)\n",
    "\n",
    "print(x1['structure'])\n",
    "print(x1['weights'].shape)\n",
    "print(x1['biases'].shape)\n",
    "\n",
    "structure = np.array(x1['structure'])\n",
    "n_layers = len(structure)\n",
    "\n",
    "n_connections_per_layer = [structure[i] * structure[i+1] for i in range(n_layers - 1)]\n",
    "\n",
    "print(\"Connections per layer {0}\".format(n_connections_per_layer))\n",
    "\n",
    "print(127*24 + 24*29 + 29*2)\n"
   ]
  },
  {
   "cell_type": "code",
   "execution_count": null,
   "metadata": {
    "collapsed": true
   },
   "outputs": [],
   "source": []
  }
 ],
 "metadata": {
  "kernelspec": {
   "display_name": "Python 3",
   "language": "python",
   "name": "python3"
  },
  "language_info": {
   "codemirror_mode": {
    "name": "ipython",
    "version": 3
   },
   "file_extension": ".py",
   "mimetype": "text/x-python",
   "name": "python",
   "nbconvert_exporter": "python",
   "pygments_lexer": "ipython3",
   "version": "3.4.4"
  }
 },
 "nbformat": 4,
 "nbformat_minor": 2
}
