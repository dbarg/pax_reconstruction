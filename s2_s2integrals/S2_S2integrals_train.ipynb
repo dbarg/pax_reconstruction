{
 "cells": [
  {
   "cell_type": "code",
   "execution_count": 2,
   "metadata": {},
   "outputs": [
    {
     "name": "stdout",
     "output_type": "stream",
     "text": [
      "1.3.0\n"
     ]
    },
    {
     "name": "stderr",
     "output_type": "stream",
     "text": [
      "Using TensorFlow backend.\n"
     ]
    },
    {
     "ename": "ImportError",
     "evalue": "No module named 's2_s2integrals_models'",
     "output_type": "error",
     "traceback": [
      "\u001b[1;31m---------------------------------------------------------------------------\u001b[0m",
      "\u001b[1;31mImportError\u001b[0m                               Traceback (most recent call last)",
      "\u001b[1;32m<ipython-input-2-1798cd2d7c12>\u001b[0m in \u001b[0;36m<module>\u001b[1;34m()\u001b[0m\n\u001b[0;32m     31\u001b[0m \u001b[1;32mfrom\u001b[0m \u001b[0mkeras\u001b[0m\u001b[1;33m.\u001b[0m\u001b[0mutils\u001b[0m \u001b[1;32mimport\u001b[0m \u001b[0mplot_model\u001b[0m\u001b[1;33m\u001b[0m\u001b[0m\n\u001b[0;32m     32\u001b[0m \u001b[1;33m\u001b[0m\u001b[0m\n\u001b[1;32m---> 33\u001b[1;33m \u001b[1;32mfrom\u001b[0m \u001b[0ms2_s2integrals_models\u001b[0m \u001b[1;32mimport\u001b[0m \u001b[1;33m*\u001b[0m\u001b[1;33m\u001b[0m\u001b[0m\n\u001b[0m\u001b[0;32m     34\u001b[0m \u001b[1;32mfrom\u001b[0m \u001b[0mhelpers\u001b[0m \u001b[1;32mimport\u001b[0m \u001b[1;33m*\u001b[0m\u001b[1;33m\u001b[0m\u001b[0m\n\u001b[0;32m     35\u001b[0m \u001b[1;33m\u001b[0m\u001b[0m\n",
      "\u001b[1;31mImportError\u001b[0m: No module named 's2_s2integrals_models'"
     ]
    }
   ],
   "source": [
    "\n",
    "####################################################################################################\n",
    "####################################################################################################\n",
    "\n",
    "import sys\n",
    "import os.path\n",
    "\n",
    "import datetime\n",
    "import matplotlib.pyplot as plt\n",
    "import matplotlib.image as mpimg\n",
    "import numpy as np\n",
    "import pandas as pd\n",
    "\n",
    "from IPython.display import display\n",
    "from IPython.display import Image\n",
    "\n",
    "import tensorflow as tf\n",
    "\n",
    "print (tf.__version__)\n",
    "\n",
    "import keras\n",
    "import keras.utils.vis_utils\n",
    "from keras import backend as K\n",
    "from keras import layers\n",
    "from keras import regularizers\n",
    "from keras.layers import Dense\n",
    "from keras.layers import Dropout\n",
    "from keras.layers.normalization import BatchNormalization\n",
    "from keras.models import load_model\n",
    "from keras.models import Sequential\n",
    "from keras.utils import plot_model\n",
    "\n",
    "from s2_s2integrals_models import *\n",
    "from helpers import *\n",
    "\n",
    "sys.path.append(os.path.abspath(\"../\"))\n",
    "from pax_utils import s1s2_utils\n",
    "\n"
   ]
  },
  {
   "cell_type": "code",
   "execution_count": null,
   "metadata": {},
   "outputs": [],
   "source": [
    "\n",
    "####################################################################################################\n",
    "####################################################################################################\n",
    "\n",
    "file_all = \"../pax_merge/merged/merged_all_1803031449.pkl\"\n",
    "\n",
    "df_all   = pd.read_pickle(file_all)\n",
    "df_all   = df_all[df_all['intr_count'] == 1].reset_index(drop=True)\n",
    "\n",
    "\n",
    "####################################################################################################\n",
    "####################################################################################################\n",
    "\n",
    "df_train_truth = df_all[:][:]\n",
    "df_train_truth = df_all[:][['s2_electrons']]\n",
    "\n",
    "df_train_input = df_all[:][s1s2_utils.getS2integralsDataFrameColumns()]\n",
    "\n",
    "# add depth\n",
    "df_depth                = df_all[:][['depth']]\n",
    "df_train_input['depth'] = df_depth.as_matrix()\n",
    "\n",
    "\n",
    "\n",
    "####################################################################################################\n",
    "####################################################################################################\n",
    "\n",
    "checkTrainingData(df_train_input, df_train_truth)\n",
    "\n"
   ]
  },
  {
   "cell_type": "code",
   "execution_count": null,
   "metadata": {
    "collapsed": true
   },
   "outputs": [],
   "source": [
    "\n",
    "##########################################################################################\n",
    "##########################################################################################\n",
    "\n",
    "lst_models = [bargeModel_S2()]\n",
    "\n"
   ]
  },
  {
   "cell_type": "code",
   "execution_count": null,
   "metadata": {},
   "outputs": [],
   "source": [
    "\n",
    "##########################################################################################\n",
    "##########################################################################################\n",
    "\n",
    "for iModel in range(0, len(lst_models)):\n",
    "    \n",
    "    ######################################################################################\n",
    "    ######################################################################################\n",
    "\n",
    "    model, model_name = lst_models[iModel]\n",
    "    \n",
    "    \n",
    "    ######################################################################################\n",
    "    ######################################################################################\n",
    "\n",
    "    epochs     = 10\n",
    "    batch_size = 64\n",
    "    verbose    = 1\n",
    "    \n",
    "    \n",
    "    ######################################################################################\n",
    "    # Fit Model\n",
    "    ######################################################################################\n",
    "    \n",
    "    print()\n",
    "    print(\"Model Summary:\")\n",
    "    model.summary()\n",
    "    print()\n",
    "    model.fit(df_train_input, df_train_truth, epochs=epochs, batch_size=batch_size, verbose=verbose)\n",
    "    print(\"Training Complete!\")\n",
    "\n",
    "        \n",
    "    ######################################################################################\n",
    "    # Save Model\n",
    "    ######################################################################################\n",
    "\n",
    "    folder   = \"models\" + \"/\"    \n",
    "    name     = 'model' + '_' + model_name + '_' + 'elu' #model.activation\n",
    "    name_h5  = folder + name + \".h5\"\n",
    "    name_png = folder + name + \".png\"\n",
    "\n",
    "    model.save(name_h5, overwrite=True)\n",
    "        \n",
    "   \n",
    "    ######################################################################################\n",
    "    ######################################################################################\n",
    "\n",
    "    plot_model(model, to_file=name_png, show_layer_names=True, show_shapes=True)\n",
    "    \n",
    "    Image(filename=name_png) \n",
    "    \n",
    "\n",
    "    ######################################################################################\n",
    "    ######################################################################################\n",
    "    \n",
    "    continue\n",
    "    \n",
    "    "
   ]
  },
  {
   "cell_type": "code",
   "execution_count": null,
   "metadata": {
    "collapsed": true
   },
   "outputs": [],
   "source": []
  },
  {
   "cell_type": "code",
   "execution_count": null,
   "metadata": {
    "collapsed": true
   },
   "outputs": [],
   "source": []
  }
 ],
 "metadata": {
  "anaconda-cloud": {},
  "kernelspec": {
   "display_name": "Python [default]",
   "language": "python",
   "name": "python3"
  },
  "language_info": {
   "codemirror_mode": {
    "name": "ipython",
    "version": 3
   },
   "file_extension": ".py",
   "mimetype": "text/x-python",
   "name": "python",
   "nbconvert_exporter": "python",
   "pygments_lexer": "ipython3",
   "version": "3.6.5"
  }
 },
 "nbformat": 4,
 "nbformat_minor": 2
}
