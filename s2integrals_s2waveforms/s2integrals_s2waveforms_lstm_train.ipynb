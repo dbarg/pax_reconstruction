{
 "cells": [
  {
   "cell_type": "code",
   "execution_count": 1,
   "metadata": {},
   "outputs": [
    {
     "name": "stderr",
     "output_type": "stream",
     "text": [
      "Using TensorFlow backend.\n"
     ]
    }
   ],
   "source": [
    "\n",
    "####################################################################################################\n",
    "####################################################################################################\n",
    "\n",
    "import sys\n",
    "import glob\n",
    "import os.path\n",
    "\n",
    "import datetime\n",
    "import matplotlib.pyplot as plt\n",
    "import matplotlib.image as mpimg\n",
    "import numpy as np\n",
    "import pandas as pd\n",
    "\n",
    "from IPython.display import display\n",
    "from IPython.display import Image\n",
    "from PIL import Image\n",
    "\n",
    "import keras\n",
    "from keras import backend as K\n",
    "from keras import layers\n",
    "from keras import regularizers\n",
    "from keras.layers import Dense\n",
    "from keras.layers import Dropout\n",
    "from keras.layers import Embedding\n",
    "from keras.layers import LSTM\n",
    "from keras.layers.normalization import BatchNormalization\n",
    "from keras.models import load_model\n",
    "from keras.models import Sequential\n",
    "from keras.utils import plot_model\n",
    "\n",
    "sys.path.append(os.path.abspath(\"../../\"))\n",
    "sys.path.append(os.path.abspath(\"../../pax_utils\"))\n",
    "from s1s2_utils import *\n",
    "\n",
    "from model_s2integrals_s2waveforms_lstm import *\n",
    "from get_lstm_data import *\n",
    "\n"
   ]
  },
  {
   "cell_type": "code",
   "execution_count": 11,
   "metadata": {},
   "outputs": [
    {
     "name": "stdout",
     "output_type": "stream",
     "text": [
      "(1000, 14)\n"
     ]
    },
    {
     "data": {
      "text/html": [
       "<div>\n",
       "<style scoped>\n",
       "    .dataframe tbody tr th:only-of-type {\n",
       "        vertical-align: middle;\n",
       "    }\n",
       "\n",
       "    .dataframe tbody tr th {\n",
       "        vertical-align: top;\n",
       "    }\n",
       "\n",
       "    .dataframe thead th {\n",
       "        text-align: right;\n",
       "    }\n",
       "</style>\n",
       "<table border=\"1\" class=\"dataframe\">\n",
       "  <thead>\n",
       "    <tr style=\"text-align: right;\">\n",
       "      <th></th>\n",
       "      <th>event_number</th>\n",
       "      <th>event_s2_count</th>\n",
       "      <th>event_s2_length</th>\n",
       "      <th>event_s2_left</th>\n",
       "      <th>event_s2_right</th>\n",
       "      <th>intr_count</th>\n",
       "      <th>intr_corrected_s2_area</th>\n",
       "      <th>intr_s2_electrons</th>\n",
       "      <th>x</th>\n",
       "      <th>y</th>\n",
       "      <th>s2_area_000</th>\n",
       "      <th>s2_area_001</th>\n",
       "      <th>s2_area_002</th>\n",
       "      <th>s2_area_003</th>\n",
       "    </tr>\n",
       "  </thead>\n",
       "  <tbody>\n",
       "    <tr>\n",
       "      <th>1</th>\n",
       "      <td>1</td>\n",
       "      <td>6</td>\n",
       "      <td>463</td>\n",
       "      <td>105426</td>\n",
       "      <td>105888</td>\n",
       "      <td>1</td>\n",
       "      <td>2102.227029</td>\n",
       "      <td>98.696105</td>\n",
       "      <td>2.626434</td>\n",
       "      <td>-17.960824</td>\n",
       "      <td>1.715228</td>\n",
       "      <td>0.0</td>\n",
       "      <td>0.0</td>\n",
       "      <td>0.000000</td>\n",
       "    </tr>\n",
       "    <tr>\n",
       "      <th>3</th>\n",
       "      <td>3</td>\n",
       "      <td>11</td>\n",
       "      <td>613</td>\n",
       "      <td>105663</td>\n",
       "      <td>106275</td>\n",
       "      <td>1</td>\n",
       "      <td>1998.884861</td>\n",
       "      <td>93.844360</td>\n",
       "      <td>10.907536</td>\n",
       "      <td>-6.312277</td>\n",
       "      <td>0.912039</td>\n",
       "      <td>0.0</td>\n",
       "      <td>0.0</td>\n",
       "      <td>1.545933</td>\n",
       "    </tr>\n",
       "    <tr>\n",
       "      <th>5</th>\n",
       "      <td>5</td>\n",
       "      <td>8</td>\n",
       "      <td>549</td>\n",
       "      <td>89174</td>\n",
       "      <td>89722</td>\n",
       "      <td>1</td>\n",
       "      <td>1849.278980</td>\n",
       "      <td>86.820609</td>\n",
       "      <td>24.631697</td>\n",
       "      <td>-12.763601</td>\n",
       "      <td>0.000000</td>\n",
       "      <td>0.0</td>\n",
       "      <td>0.0</td>\n",
       "      <td>0.000000</td>\n",
       "    </tr>\n",
       "    <tr>\n",
       "      <th>6</th>\n",
       "      <td>6</td>\n",
       "      <td>9</td>\n",
       "      <td>834</td>\n",
       "      <td>110207</td>\n",
       "      <td>111040</td>\n",
       "      <td>1</td>\n",
       "      <td>2118.673278</td>\n",
       "      <td>99.468229</td>\n",
       "      <td>2.726006</td>\n",
       "      <td>37.749081</td>\n",
       "      <td>6.140486</td>\n",
       "      <td>0.0</td>\n",
       "      <td>0.0</td>\n",
       "      <td>9.062252</td>\n",
       "    </tr>\n",
       "    <tr>\n",
       "      <th>7</th>\n",
       "      <td>7</td>\n",
       "      <td>17</td>\n",
       "      <td>704</td>\n",
       "      <td>77830</td>\n",
       "      <td>78533</td>\n",
       "      <td>2</td>\n",
       "      <td>4666.111210</td>\n",
       "      <td>219.066254</td>\n",
       "      <td>-21.259064</td>\n",
       "      <td>-4.445240</td>\n",
       "      <td>2.638062</td>\n",
       "      <td>0.0</td>\n",
       "      <td>0.0</td>\n",
       "      <td>3.401293</td>\n",
       "    </tr>\n",
       "  </tbody>\n",
       "</table>\n",
       "</div>"
      ],
      "text/plain": [
       "   event_number  event_s2_count  event_s2_length  event_s2_left  \\\n",
       "1             1               6              463         105426   \n",
       "3             3              11              613         105663   \n",
       "5             5               8              549          89174   \n",
       "6             6               9              834         110207   \n",
       "7             7              17              704          77830   \n",
       "\n",
       "   event_s2_right  intr_count  intr_corrected_s2_area  intr_s2_electrons  \\\n",
       "1          105888           1             2102.227029          98.696105   \n",
       "3          106275           1             1998.884861          93.844360   \n",
       "5           89722           1             1849.278980          86.820609   \n",
       "6          111040           1             2118.673278          99.468229   \n",
       "7           78533           2             4666.111210         219.066254   \n",
       "\n",
       "           x          y  s2_area_000  s2_area_001  s2_area_002  s2_area_003  \n",
       "1   2.626434 -17.960824     1.715228          0.0          0.0     0.000000  \n",
       "3  10.907536  -6.312277     0.912039          0.0          0.0     1.545933  \n",
       "5  24.631697 -12.763601     0.000000          0.0          0.0     0.000000  \n",
       "6   2.726006  37.749081     6.140486          0.0          0.0     9.062252  \n",
       "7 -21.259064  -4.445240     2.638062          0.0          0.0     3.401293  "
      ]
     },
     "metadata": {},
     "output_type": "display_data"
    },
    {
     "name": "stdout",
     "output_type": "stream",
     "text": [
      "\n",
      "Event Max S2 Window size: 1448\n",
      "\n"
     ]
    }
   ],
   "source": [
    "\n",
    "####################################################################################################\n",
    "# Training Data\n",
    "####################################################################################################\n",
    "\n",
    "nEventsTrain = 1000\n",
    "#nEventsTrain = 3\n",
    "\n",
    "input_dir  = \"../../pax_merge/merged/\"\n",
    "input_file = 'merged_all_0k_test.pkl'\n",
    "input_path = input_dir + input_file\n",
    "\n",
    "s2cols = getS2integralsDataFrameColumns()\n",
    "#print(s2cols)\n",
    "\n",
    "cols = [\n",
    "    'event_number',\n",
    "    'event_s2_count',\n",
    "    'event_s2_length', \n",
    "    'event_s2_left',\n",
    "    'event_s2_right', \n",
    "    'intr_count',\n",
    "    'intr_corrected_s2_area',\n",
    "    'intr_s2_electrons',\n",
    "    'x',\n",
    "    'y',\n",
    "    's2_area_000',\n",
    "    's2_area_001',\n",
    "    's2_area_002',\n",
    "    's2_area_003',\n",
    "    \n",
    "]\n",
    "\n",
    "df_events, s2_window_max = getEventsDataFrame(input_path)\n",
    "df_events                = df_events[0:nEventsTrain][:].copy(deep=True)\n",
    "df_s2integrals           = df_events[s2cols]\n",
    "\n",
    "df_events                = df_events[cols]\n",
    "#df_events                = df_events[0:10][:]\n",
    "\n",
    "\n",
    "print(df_events.shape)\n",
    "display(df_events[0:5][:])\n",
    "\n",
    "print()\n",
    "print(\"Event Max S2 Window size: \" + str(s2_window_max))\n",
    "print()\n",
    "        \n"
   ]
  },
  {
   "cell_type": "code",
   "execution_count": 12,
   "metadata": {},
   "outputs": [
    {
     "name": "stdout",
     "output_type": "stream",
     "text": [
      "0 empty events\n",
      "\n",
      "Input data shape:       (127000, 1448)\n",
      "Truth data shape:       (127000, 1)\n",
      "\n"
     ]
    }
   ],
   "source": [
    "\n",
    "####################################################################################################\n",
    "# Training Data\n",
    "####################################################################################################\n",
    "\n",
    "train_data, train_truth  = get_data(df_events, s2_window_max)\n",
    "\n",
    "print()\n",
    "print(\"Input data shape:       \" + str(train_data.shape ))\n",
    "print(\"Truth data shape:       \" + str(train_truth.shape))\n",
    "print()\n",
    "\n",
    "nRows = train_data.shape[0]\n",
    "nRows = 3\n",
    "\n",
    "#for i in range(0, nRows):\n",
    "#    \n",
    "#    s2_waveforms    = train_data[i, :, :]\n",
    "#    s2_integrals    = np.sum(s2_waveforms, axis=0)\n",
    "#    s2_integrals_df = df_s2integrals[i:i+1][:].as_matrix()\n",
    "#    \n",
    "#    sum1 = np.sum(s2_integrals).astype('float32')\n",
    "#    sum2 = np.sum(s2_integrals_df).astype('float32')\n",
    "#\n",
    "#    eq = sum1 == sum2\n",
    "#    eq = abs(sum1 - sum2) / sum2 < 0.10\n",
    "#    \n",
    "#    if (not eq):\n",
    "#        \n",
    "#        print()\n",
    "#        print(i)\n",
    "#        print(\"Sum from training data: \" + str(sum1))\n",
    "#        print(\"Sum from integrals:     \" + str(sum2))\n",
    "#        print()\n",
    "#        #print(s2_integrals[:][:])\n",
    "#        #print()\n",
    "#        #print(s2_integrals_df[:][:])\n",
    "#    \n",
    "#    #assert(eq)\n",
    "#    \n",
    "#    continue\n",
    "    \n",
    "#print()\n",
    "#test1 = train_data[1,:,:]\n",
    "#print(test1.shape)\n",
    "#test2 = np.sum(test1, axis=0)\n",
    "#print(test2.shape)\n",
    "#print(\"S2 integrals: \" + str(test2[0:10]))\n",
    "#test3 = np.sum(test2)\n",
    "#print(\"Sum of S2 integrals: \" + str(test3))\n",
    "#\n",
    "#\n",
    "##np.sum(, axis=1)\n",
    "#\n",
    "##print(test1)\n",
    "#\n",
    "##print()\n",
    "##print(test2.shape)\n",
    "##print(test2)\n"
   ]
  },
  {
   "cell_type": "code",
   "execution_count": 13,
   "metadata": {},
   "outputs": [
    {
     "name": "stdout",
     "output_type": "stream",
     "text": [
      "[[ 1.71522784]\n",
      " [ 0.        ]\n",
      " [ 0.        ]]\n"
     ]
    }
   ],
   "source": [
    "\n",
    "print(train_truth[0:3][:])\n"
   ]
  },
  {
   "cell_type": "code",
   "execution_count": null,
   "metadata": {},
   "outputs": [],
   "source": [
    "\n",
    "####################################################################################################\n",
    "####################################################################################################\n",
    "\n",
    "n_events     = nEventsTrain\n",
    "n_channels   = 127\n",
    "n_outputs    = 1\n",
    "n_timesteps  = s2_window_max\n",
    "go_backwards = False\n",
    "unroll       = False\n",
    "\n",
    "\n",
    "####################################################################################################\n",
    "# Training Data\n",
    "####################################################################################################\n",
    "\n",
    "#train_data  = np.random.random( (n_events, n_timesteps, n_channels) )\n",
    "#train_truth = np.random.random( (n_events, n_outputs)               )\n",
    "\n",
    "#train_data = train_data.reshape((n_events*n_channels, 1448, 1))\n",
    "\n",
    "\n",
    "#train_data  = train_data [ix, :, :]\n",
    "#train_truth = train_truth[ix, :]\n",
    "\n",
    "print()\n",
    "print(\"Channels:         \" + str(n_channels))\n",
    "print(\"Timesteps:        \" + str(n_timesteps))\n",
    "print(\"Outputs:          \" + str(n_outputs) )\n",
    "print(\"Input data shape: \" + str(train_data.shape ))\n",
    "print(\"Truth data shape: \" + str(train_truth.shape))\n",
    "print()\n",
    "\n"
   ]
  },
  {
   "cell_type": "code",
   "execution_count": null,
   "metadata": {},
   "outputs": [],
   "source": []
  },
  {
   "cell_type": "code",
   "execution_count": null,
   "metadata": {},
   "outputs": [
    {
     "name": "stdout",
     "output_type": "stream",
     "text": [
      "\n"
     ]
    },
    {
     "data": {
      "image/png": "[encoded data removed]",
      "text/plain": [
       "<PIL.PngImagePlugin.PngImageFile image mode=RGBA size=429x503 at 0x106654F60>"
      ]
     },
     "metadata": {},
     "output_type": "display_data"
    },
    {
     "name": "stdout",
     "output_type": "stream",
     "text": [
      "\n"
     ]
    }
   ],
   "source": [
    "\n",
    "####################################################################################################\n",
    "# To Do: understand stateful, return_state\n",
    "####################################################################################################\n",
    "\n",
    "#model, name = lstmModel(1, n_timesteps, n_outputs, 'elu', 0.00005, go_backwards, unroll)\n",
    "model, name = dnnModel(n_timesteps, n_outputs, 'elu', 0.00005)\n",
    "\n",
    "\n",
    "######################################################################################\n",
    "######################################################################################\n",
    "\n",
    "name_png = 'models/' + name + \".png\"\n",
    "\n",
    "print()\n",
    "display(Image.open(name_png))\n",
    "print()\n",
    "\n"
   ]
  },
  {
   "cell_type": "code",
   "execution_count": null,
   "metadata": {},
   "outputs": [],
   "source": []
  },
  {
   "cell_type": "code",
   "execution_count": null,
   "metadata": {},
   "outputs": [
    {
     "name": "stdout",
     "output_type": "stream",
     "text": [
      "Epoch 1/5\n",
      "127000/127000 [==============================] - 897s 7ms/step - loss: 9.5866\n",
      "Epoch 2/5\n",
      "127000/127000 [==============================] - 881s 7ms/step - loss: 4.1605\n",
      "Epoch 3/5\n",
      " 66240/127000 [==============>...............] - ETA: 16:14 - loss: 1.4256"
     ]
    }
   ],
   "source": [
    "\n",
    "######################################################################################\n",
    "######################################################################################\n",
    "\n",
    "model.fit(\n",
    "    train_data,\n",
    "    train_truth,\n",
    "    batch_size=64,\n",
    "    epochs=5,\n",
    "    verbose=True\n",
    ")\n",
    "\n",
    "print(\"Training Complete.\")\n"
   ]
  },
  {
   "cell_type": "code",
   "execution_count": null,
   "metadata": {},
   "outputs": [],
   "source": []
  },
  {
   "cell_type": "code",
   "execution_count": 10,
   "metadata": {},
   "outputs": [
    {
     "name": "stdout",
     "output_type": "stream",
     "text": [
      "models/model_s2integrals_s2waveforms_dnn_elu.h5\n"
     ]
    }
   ],
   "source": [
    "\n",
    "######################################################################################\n",
    "# Save Model\n",
    "######################################################################################\n",
    "\n",
    "folder  = \"models/\"    \n",
    "name_h5 = folder + name + \".h5\"\n",
    "\n",
    "model.save(name_h5, overwrite=True)\n",
    "\n",
    "print(name_h5)\n"
   ]
  },
  {
   "cell_type": "code",
   "execution_count": null,
   "metadata": {},
   "outputs": [],
   "source": []
  }
 ],
 "metadata": {
  "kernelspec": {
   "display_name": "Python [default]",
   "language": "python",
   "name": "python3"
  },
  "language_info": {
   "codemirror_mode": {
    "name": "ipython",
    "version": 3
   },
   "file_extension": ".py",
   "mimetype": "text/x-python",
   "name": "python",
   "nbconvert_exporter": "python",
   "pygments_lexer": "ipython3",
   "version": "3.6.5"
  }
 },
 "nbformat": 4,
 "nbformat_minor": 2
}
