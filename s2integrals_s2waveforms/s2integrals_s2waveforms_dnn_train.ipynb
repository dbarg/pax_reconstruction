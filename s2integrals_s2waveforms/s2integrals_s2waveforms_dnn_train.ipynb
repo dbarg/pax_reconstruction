{
 "cells": [
  {
   "cell_type": "code",
   "execution_count": 1,
   "metadata": {},
   "outputs": [
    {
     "name": "stderr",
     "output_type": "stream",
     "text": [
      "Using TensorFlow backend.\n"
     ]
    }
   ],
   "source": [
    "\n",
    "####################################################################################################\n",
    "####################################################################################################\n",
    "\n",
    "import sys\n",
    "import glob\n",
    "import os.path\n",
    "\n",
    "import datetime\n",
    "import matplotlib.pyplot as plt\n",
    "import matplotlib.image as mpimg\n",
    "import numpy as np\n",
    "import pandas as pd\n",
    "\n",
    "from IPython.display import display\n",
    "from IPython.display import Image\n",
    "from PIL import Image\n",
    "\n",
    "import keras\n",
    "from keras import backend as K\n",
    "from keras import layers\n",
    "from keras import regularizers\n",
    "from keras.layers import Dense\n",
    "from keras.layers import Dropout\n",
    "from keras.layers import Embedding\n",
    "from keras.layers import LSTM\n",
    "from keras.layers.normalization import BatchNormalization\n",
    "from keras.models import load_model\n",
    "from keras.models import Sequential\n",
    "from keras.utils import plot_model\n",
    "\n",
    "sys.path.append(os.path.abspath(\"../../\"))\n",
    "sys.path.append(os.path.abspath(\"../../pax_utils\"))\n",
    "from s1s2_utils import *\n",
    "\n",
    "from model_s2integrals_s2waveforms_dnn import *\n",
    "from get_lstm_data import *\n",
    "\n"
   ]
  },
  {
   "cell_type": "code",
   "execution_count": 10,
   "metadata": {},
   "outputs": [
    {
     "name": "stdout",
     "output_type": "stream",
     "text": [
      "(1000, 14)\n",
      "\n",
      "Event Max S2 Window size: 1448\n",
      "\n"
     ]
    }
   ],
   "source": [
    "\n",
    "####################################################################################################\n",
    "# Training Data\n",
    "####################################################################################################\n",
    "\n",
    "nEventsTrain = 1000\n",
    "#nEventsTrain = 2\n",
    "\n",
    "input_dir  = \"../../pax_merge/merged/\"\n",
    "input_file = 'merged_all_0k_test.pkl'\n",
    "input_path = input_dir + input_file\n",
    "\n",
    "s2cols = getS2integralsDataFrameColumns()\n",
    "#print(s2cols)\n",
    "\n",
    "cols = [\n",
    "    'event_number',\n",
    "    'event_s2_count',\n",
    "    'event_s2_length', \n",
    "    'event_s2_left',\n",
    "    'event_s2_right', \n",
    "    'intr_count',\n",
    "    'intr_corrected_s2_area',\n",
    "    'intr_s2_electrons',\n",
    "    'x',\n",
    "    'y',\n",
    "    's2_area_000',\n",
    "    's2_area_001',\n",
    "    's2_area_002',\n",
    "    's2_area_003',\n",
    "    \n",
    "]\n",
    "\n",
    "df_events, s2_window_max = getEventsDataFrame(input_path)\n",
    "df_events                = df_events[0:nEventsTrain][:].copy(deep=True)\n",
    "df_s2integrals           = df_events[s2cols]\n",
    "\n",
    "df_events                = df_events[cols]\n",
    "#df_events                = df_events[0:10][:]\n",
    "\n",
    "\n",
    "print(df_events.shape)\n",
    "#display(df_events[0:5][:])\n",
    "\n",
    "print()\n",
    "print(\"Event Max S2 Window size: \" + str(s2_window_max))\n",
    "print()\n",
    "        \n"
   ]
  },
  {
   "cell_type": "code",
   "execution_count": 11,
   "metadata": {},
   "outputs": [
    {
     "name": "stdout",
     "output_type": "stream",
     "text": [
      "0 empty events\n",
      "\n",
      "Input data shape:       (127000, 1448)\n",
      "Truth data shape:       (127000, 1)\n",
      "\n"
     ]
    }
   ],
   "source": [
    "\n",
    "####################################################################################################\n",
    "# Training Data\n",
    "####################################################################################################\n",
    "\n",
    "train_data, train_truth  = get_data(df_events, s2_window_max)\n",
    "\n",
    "print()\n",
    "print(\"Input data shape:       \" + str(train_data.shape ))\n",
    "print(\"Truth data shape:       \" + str(train_truth.shape))\n",
    "print()\n",
    "\n",
    "nRows = train_data.shape[0]\n",
    "nRows = 3\n",
    "\n"
   ]
  },
  {
   "cell_type": "code",
   "execution_count": 12,
   "metadata": {},
   "outputs": [
    {
     "name": "stdout",
     "output_type": "stream",
     "text": [
      "[[ 1.71522784]\n",
      " [ 0.        ]\n",
      " [ 0.        ]]\n"
     ]
    }
   ],
   "source": [
    "\n",
    "print(train_truth[0:3][:])\n"
   ]
  },
  {
   "cell_type": "code",
   "execution_count": 13,
   "metadata": {},
   "outputs": [
    {
     "name": "stdout",
     "output_type": "stream",
     "text": [
      "\n",
      "Channels:         127\n",
      "Timesteps:        1448\n",
      "Outputs:          1\n",
      "Input data shape: (127000, 1448)\n",
      "Truth data shape: (127000, 1)\n",
      "\n"
     ]
    }
   ],
   "source": [
    "\n",
    "####################################################################################################\n",
    "####################################################################################################\n",
    "\n",
    "n_events     = nEventsTrain\n",
    "n_channels   = 127\n",
    "n_outputs    = 1\n",
    "n_timesteps  = s2_window_max\n",
    "go_backwards = False\n",
    "unroll       = False\n",
    "\n",
    "\n",
    "####################################################################################################\n",
    "# Training Data\n",
    "####################################################################################################\n",
    "\n",
    "#train_data  = np.random.random( (n_events, n_timesteps, n_channels) )\n",
    "#train_truth = np.random.random( (n_events, n_outputs)               )\n",
    "\n",
    "#train_data = train_data.reshape((n_events*n_channels, 1448, 1))\n",
    "\n",
    "\n",
    "#train_data  = train_data [ix, :, :]\n",
    "#train_truth = train_truth[ix, :]\n",
    "\n",
    "print()\n",
    "print(\"Channels:         \" + str(n_channels))\n",
    "print(\"Timesteps:        \" + str(n_timesteps))\n",
    "print(\"Outputs:          \" + str(n_outputs) )\n",
    "print(\"Input data shape: \" + str(train_data.shape ))\n",
    "print(\"Truth data shape: \" + str(train_truth.shape))\n",
    "print()\n",
    "\n"
   ]
  },
  {
   "cell_type": "code",
   "execution_count": null,
   "metadata": {},
   "outputs": [],
   "source": []
  },
  {
   "cell_type": "code",
   "execution_count": 14,
   "metadata": {},
   "outputs": [
    {
     "name": "stdout",
     "output_type": "stream",
     "text": [
      "\n"
     ]
    },
    {
     "data": {
      "image/png": "[encoded data removed]",
      "text/plain": [
       "<PIL.PngImagePlugin.PngImageFile image mode=RGBA size=429x503 at 0x1A1873AEF0>"
      ]
     },
     "metadata": {},
     "output_type": "display_data"
    },
    {
     "name": "stdout",
     "output_type": "stream",
     "text": [
      "\n"
     ]
    }
   ],
   "source": [
    "\n",
    "####################################################################################################\n",
    "# To Do: understand stateful, return_state\n",
    "####################################################################################################\n",
    "\n",
    "model, name = dnnModel(n_timesteps, n_outputs, 'elu', 0.00005)\n",
    "\n",
    "\n",
    "######################################################################################\n",
    "######################################################################################\n",
    "\n",
    "name_png = 'models/' + name + \".png\"\n",
    "\n",
    "print()\n",
    "display(Image.open(name_png))\n",
    "print()\n",
    "\n"
   ]
  },
  {
   "cell_type": "code",
   "execution_count": null,
   "metadata": {},
   "outputs": [],
   "source": []
  },
  {
   "cell_type": "code",
   "execution_count": 15,
   "metadata": {},
   "outputs": [
    {
     "name": "stdout",
     "output_type": "stream",
     "text": [
      "Epoch 1/5\n",
      "127000/127000 [==============================] - 579s 5ms/step - loss: 9.3161\n",
      "Epoch 2/5\n",
      "127000/127000 [==============================] - 553s 4ms/step - loss: 5.0761\n",
      "Epoch 3/5\n",
      "127000/127000 [==============================] - 571s 4ms/step - loss: 2.8045\n",
      "Epoch 4/5\n",
      "127000/127000 [==============================] - 566s 4ms/step - loss: 4.7755\n",
      "Epoch 5/5\n",
      "127000/127000 [==============================] - 555s 4ms/step - loss: 2.5335\n",
      "Training Complete.\n"
     ]
    }
   ],
   "source": [
    "\n",
    "######################################################################################\n",
    "######################################################################################\n",
    "\n",
    "model.fit(\n",
    "    train_data,\n",
    "    train_truth,\n",
    "    batch_size=64,\n",
    "    epochs=5,\n",
    "    verbose=True\n",
    ")\n",
    "\n",
    "print(\"Training Complete.\")\n"
   ]
  },
  {
   "cell_type": "code",
   "execution_count": null,
   "metadata": {},
   "outputs": [],
   "source": []
  },
  {
   "cell_type": "code",
   "execution_count": 17,
   "metadata": {},
   "outputs": [
    {
     "name": "stdout",
     "output_type": "stream",
     "text": [
      "models/model_s2integrals_s2waveforms_dnn_elu.h5\n"
     ]
    }
   ],
   "source": [
    "\n",
    "######################################################################################\n",
    "# Save Model\n",
    "######################################################################################\n",
    "\n",
    "folder  = \"models/\"    \n",
    "name_h5 = folder + name + \".h5\"\n",
    "\n",
    "model.save(name_h5, overwrite=True)\n",
    "\n",
    "print(name_h5)\n"
   ]
  },
  {
   "cell_type": "code",
   "execution_count": null,
   "metadata": {},
   "outputs": [],
   "source": []
  }
 ],
 "metadata": {
  "kernelspec": {
   "display_name": "Python 3",
   "language": "python",
   "name": "python3"
  },
  "language_info": {
   "codemirror_mode": {
    "name": "ipython",
    "version": 3
   },
   "file_extension": ".py",
   "mimetype": "text/x-python",
   "name": "python",
   "nbconvert_exporter": "python",
   "pygments_lexer": "ipython3",
   "version": "3.5.4"
  }
 },
 "nbformat": 4,
 "nbformat_minor": 2
}
