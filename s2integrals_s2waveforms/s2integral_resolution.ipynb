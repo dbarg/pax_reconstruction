{
 "cells": [
  {
   "cell_type": "code",
   "execution_count": 1,
   "metadata": {},
   "outputs": [],
   "source": [
    "\n",
    "####################################################################################################\n",
    "####################################################################################################\n",
    "\n",
    "import sys\n",
    "import os.path\n",
    "\n",
    "import matplotlib.pyplot as plt\n",
    "import numpy as np\n",
    "import pandas as pd\n",
    "\n",
    "from IPython.display import display\n",
    "\n"
   ]
  },
  {
   "cell_type": "code",
   "execution_count": 34,
   "metadata": {},
   "outputs": [],
   "source": [
    "\n",
    "####################################################################################################\n",
    "####################################################################################################\n",
    "\n",
    "file_in = \"./predictions/s2integrals_S2waveforms_dnn.pkl\"\n",
    "df      = pd.read_pickle(file_in)\n",
    "df      = df[df['s2_true'] != 0]\n",
    "\n",
    "#print(df.shape)\n",
    "#display(df[0:5][:])\n",
    "#print()\n"
   ]
  },
  {
   "cell_type": "code",
   "execution_count": 40,
   "metadata": {},
   "outputs": [
    {
     "name": "stdout",
     "output_type": "stream",
     "text": [
      "Min Error: -7.29672145844\n",
      "Max Error: 17.8131713867\n"
     ]
    }
   ],
   "source": [
    "\n",
    "####################################################################################################\n",
    "####################################################################################################\n",
    "\n",
    "arr_true = df[:]['s2_true'].as_matrix()\n",
    "arr_pred = df[:]['s2_pred'].as_matrix()\n",
    "arr_err  = arr_true - arr_pred\n",
    "\n",
    "\n",
    "####################################################################################################\n",
    "####################################################################################################\n",
    "\n",
    "err_min = np.amin(arr_err)\n",
    "err_max = np.amax(arr_err)\n",
    "\n",
    "print(\"Min Error: \" + str(err_min))\n",
    "print(\"Max Error: \" + str(err_max))\n",
    "\n",
    "err_min = -5\n",
    "err_max = 5\n",
    "bins    = 200\n",
    "\n",
    "eps = 0.1\n",
    "arr_err[arr_err < err_min] = err_min + eps\n",
    "arr_err[arr_err > err_max] = err_max - eps\n",
    "\n",
    "err_mean  = np.mean(arr_err)\n",
    "err_std   = np.std(arr_err)\n",
    "err_label = '%5s (std: %.02f, mean: %.02f)' % ( 'S2 Integral Error', err_std  , err_mean   )\n",
    "\n"
   ]
  },
  {
   "cell_type": "code",
   "execution_count": 41,
   "metadata": {},
   "outputs": [
    {
     "data": {
      "image/png": "[encoded data removed]",
      "text/plain": [
       "<matplotlib.figure.Figure at 0x1093fe048>"
      ]
     },
     "metadata": {},
     "output_type": "display_data"
    }
   ],
   "source": [
    "\n",
    "w, h = 12, 5\n",
    "\n",
    "####################################################################################################\n",
    "# Resolution - Prediction\n",
    "####################################################################################################\n",
    "\n",
    "f = plt.figure(figsize=(w, h))\n",
    "plt.hist(arr_err, bins=bins, label=err_label, color='r')\n",
    "plt.xlim([err_min, err_max])\n",
    "#plt.ylim([0, 1.15*plt.gca().get_ylim()[1]])\n",
    "#plt.title('X True - X Predicted (Barge NN)', fontsize=18)\n",
    "plt.xlabel('(True - DNN Predicted) S2 Integral, Per Top PMT Channel', fontsize=18)\n",
    "plt.legend(fontsize=16)\n",
    "plt.grid(True)\n",
    "plt.yscale('log')\n",
    "\n"
   ]
  },
  {
   "cell_type": "code",
   "execution_count": null,
   "metadata": {},
   "outputs": [],
   "source": []
  }
 ],
 "metadata": {
  "anaconda-cloud": {},
  "kernelspec": {
   "display_name": "Python 3",
   "language": "python",
   "name": "python3"
  },
  "language_info": {
   "codemirror_mode": {
    "name": "ipython",
    "version": 3
   },
   "file_extension": ".py",
   "mimetype": "text/x-python",
   "name": "python",
   "nbconvert_exporter": "python",
   "pygments_lexer": "ipython3",
   "version": "3.5.4"
  }
 },
 "nbformat": 4,
 "nbformat_minor": 2
}
