{
 "cells": [
  {
   "cell_type": "code",
   "execution_count": 1,
   "metadata": {},
   "outputs": [
    {
     "name": "stderr",
     "output_type": "stream",
     "text": [
      "Using TensorFlow backend.\n"
     ]
    }
   ],
   "source": [
    "\n",
    "####################################################################################################\n",
    "####################################################################################################\n",
    "\n",
    "import sys\n",
    "import os.path\n",
    "\n",
    "import matplotlib.pyplot as plt\n",
    "import numpy as np\n",
    "import pandas as pd\n",
    "from IPython.display import display\n",
    "\n",
    "import keras\n",
    "import keras.utils.vis_utils\n",
    "from keras import backend as K\n",
    "from keras import layers\n",
    "from keras.layers import Dense\n",
    "from keras.models import load_model\n",
    "from keras.models import Sequential\n",
    "from keras.utils import plot_model\n",
    "\n",
    "sys.path.append(os.path.abspath(\"../\"))\n",
    "from helpers import *\n",
    "\n",
    "sys.path.append(os.path.abspath(\"../../\"))\n",
    "from pax_utils import s1s2_utils\n",
    "\n",
    "from get_lstm_data import *\n"
   ]
  },
  {
   "cell_type": "code",
   "execution_count": 2,
   "metadata": {},
   "outputs": [
    {
     "name": "stdout",
     "output_type": "stream",
     "text": [
      "(250, 155)\n",
      "\n",
      "Event Max S2 Window size: 1448\n",
      "\n",
      "\n"
     ]
    }
   ],
   "source": [
    "\n",
    "####################################################################################################\n",
    "####################################################################################################\n",
    "\n",
    "nEventsTrain = 1000\n",
    "\n",
    "input_dir  = \"../../pax_merge/merged/\"\n",
    "input_file = 'merged_all_0k_test.pkl'\n",
    "input_path = input_dir + input_file\n",
    "\n",
    "df_events, s2_window_max = getEventsDataFrame(input_path)\n",
    "\n",
    "df_events = df_events[nEventsTrain:][:].copy(deep=True)\n",
    "\n",
    "print(df_events.shape)\n",
    "#display(df_events)\n",
    "\n",
    "#train_data, train_truth  = get_data(df_events, s2_window_max)\n",
    "\n",
    "print()\n",
    "print(\"Event Max S2 Window size: \" + str(s2_window_max))\n",
    "print()\n",
    "#print(\"Event Input data shape: \" + str(event_train_data.shape ))\n",
    "#print(\"Event Truth data shape: \" + str(event_train_truth.shape))\n",
    "#print(\"Input data shape:       \" + str(train_data.shape ))\n",
    "#print(\"Truth data shape:       \" + str(train_truth.shape))\n",
    "print()\n",
    "        \n"
   ]
  },
  {
   "cell_type": "code",
   "execution_count": 3,
   "metadata": {},
   "outputs": [
    {
     "name": "stdout",
     "output_type": "stream",
     "text": [
      "0 empty events\n",
      "\n",
      "Input data shape:       (31750, 1448)\n",
      "Truth data shape:       (31750, 1)\n",
      "\n"
     ]
    }
   ],
   "source": [
    "\n",
    "####################################################################################################\n",
    "# Test Data\n",
    "####################################################################################################\n",
    "\n",
    "train_data, train_truth  = get_data(df_events, s2_window_max)\n",
    "\n",
    "\n",
    "print()\n",
    "#print(\"Event Input data shape: \" + str(event_train_data.shape ))\n",
    "#print(\"Event Truth data shape: \" + str(event_train_truth.shape))\n",
    "print(\"Input data shape:       \" + str(train_data.shape ))\n",
    "print(\"Truth data shape:       \" + str(train_truth.shape))\n",
    "print()"
   ]
  },
  {
   "cell_type": "code",
   "execution_count": 6,
   "metadata": {},
   "outputs": [],
   "source": [
    "\n",
    "####################################################################################################\n",
    "####################################################################################################\n",
    "\n",
    "#model_name_h5     = \"models/model_xy_s2waveforms_lstm_elu.h5\"\n",
    "model_name_h5     = \"models/model_s2integrals_s2waveforms_dnn_elu.h5\"\n",
    "\n"
   ]
  },
  {
   "cell_type": "code",
   "execution_count": 13,
   "metadata": {},
   "outputs": [
    {
     "name": "stdout",
     "output_type": "stream",
     "text": [
      "(31750,)\n",
      "\n",
      "Loaded Model: models/model_s2integrals_s2waveforms_dnn_elu.h5\n",
      "Predicted\n",
      "\n"
     ]
    }
   ],
   "source": [
    "\n",
    "####################################################################################################\n",
    "# Predict\n",
    "####################################################################################################\n",
    "\n",
    "model       = load_model(model_name_h5)\n",
    "arr_s2_pred = model.predict(train_data)\n",
    "arr_s2_pred = arr_s2_pred.reshape(arr_s2_pred.shape[0])\n",
    "print(arr_s2_pred.shape)\n",
    "\n",
    "print(\"\\nLoaded Model: \" + model_name_h5)\n",
    "print(\"Predicted\\n\")\n",
    "\n"
   ]
  },
  {
   "cell_type": "code",
   "execution_count": 14,
   "metadata": {},
   "outputs": [],
   "source": [
    "\n",
    "####################################################################################################\n",
    "####################################################################################################\n",
    "\n",
    "arr_s2_true = train_truth[:, 0]\n",
    "arr_s2_err  = arr_s2_true - arr_s2_pred\n",
    "\n"
   ]
  },
  {
   "cell_type": "code",
   "execution_count": 16,
   "metadata": {},
   "outputs": [
    {
     "data": {
      "text/html": [
       "<div>\n",
       "<style scoped>\n",
       "    .dataframe tbody tr th:only-of-type {\n",
       "        vertical-align: middle;\n",
       "    }\n",
       "\n",
       "    .dataframe tbody tr th {\n",
       "        vertical-align: top;\n",
       "    }\n",
       "\n",
       "    .dataframe thead th {\n",
       "        text-align: right;\n",
       "    }\n",
       "</style>\n",
       "<table border=\"1\" class=\"dataframe\">\n",
       "  <thead>\n",
       "    <tr style=\"text-align: right;\">\n",
       "      <th></th>\n",
       "      <th>s2_pred</th>\n",
       "      <th>s2_true</th>\n",
       "    </tr>\n",
       "  </thead>\n",
       "  <tbody>\n",
       "    <tr>\n",
       "      <th>0</th>\n",
       "      <td>0.042553</td>\n",
       "      <td>0.000000</td>\n",
       "    </tr>\n",
       "    <tr>\n",
       "      <th>1</th>\n",
       "      <td>0.042553</td>\n",
       "      <td>0.000000</td>\n",
       "    </tr>\n",
       "    <tr>\n",
       "      <th>2</th>\n",
       "      <td>0.042553</td>\n",
       "      <td>0.000000</td>\n",
       "    </tr>\n",
       "    <tr>\n",
       "      <th>3</th>\n",
       "      <td>0.042553</td>\n",
       "      <td>0.000000</td>\n",
       "    </tr>\n",
       "    <tr>\n",
       "      <th>4</th>\n",
       "      <td>2.888285</td>\n",
       "      <td>2.853301</td>\n",
       "    </tr>\n",
       "  </tbody>\n",
       "</table>\n",
       "</div>"
      ],
      "text/plain": [
       "    s2_pred   s2_true\n",
       "0  0.042553  0.000000\n",
       "1  0.042553  0.000000\n",
       "2  0.042553  0.000000\n",
       "3  0.042553  0.000000\n",
       "4  2.888285  2.853301"
      ]
     },
     "metadata": {},
     "output_type": "display_data"
    },
    {
     "name": "stdout",
     "output_type": "stream",
     "text": [
      "\n"
     ]
    }
   ],
   "source": [
    "\n",
    "####################################################################################################\n",
    "####################################################################################################\n",
    "\n",
    "file_out          = \"./predictions/s2integrals_s2waveforms_dnn.pkl\"\n",
    "df_out            = pd.DataFrame()\n",
    "df_out['s2_pred'] = arr_s2_pred\n",
    "df_out['s2_true'] = arr_s2_true\n",
    "\n",
    "df_out.to_pickle(file_out)\n",
    "\n",
    "\n",
    "####################################################################################################\n",
    "####################################################################################################\n",
    "\n",
    "df_test = pd.read_pickle(file_out)\n",
    "\n",
    "display(df_test[0:5][:])\n",
    "print()\n"
   ]
  },
  {
   "cell_type": "code",
   "execution_count": null,
   "metadata": {},
   "outputs": [],
   "source": []
  }
 ],
 "metadata": {
  "anaconda-cloud": {},
  "kernelspec": {
   "display_name": "Python 3",
   "language": "python",
   "name": "python3"
  },
  "language_info": {
   "codemirror_mode": {
    "name": "ipython",
    "version": 3
   },
   "file_extension": ".py",
   "mimetype": "text/x-python",
   "name": "python",
   "nbconvert_exporter": "python",
   "pygments_lexer": "ipython3",
   "version": "3.5.4"
  }
 },
 "nbformat": 4,
 "nbformat_minor": 2
}
