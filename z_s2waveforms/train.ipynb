{
 "cells": [
  {
   "cell_type": "code",
   "execution_count": 8,
   "metadata": {},
   "outputs": [
    {
     "name": "stdout",
     "output_type": "stream",
     "text": [
      "\n",
      "-> Python Executable (sys.executable):   /project/lgrandi/dbarge/anaconda3/envs/ml_py365/bin/python\n",
      "-> Python Path (sys.path):\n",
      "   \n",
      "   /project/lgrandi/dbarge/pax_v6.5.1\n",
      "   /home/dbarge/reconstruction/z_s2waveforms\n",
      "   /project/lgrandi/dbarge/anaconda3/envs/ml_py365/lib/python36.zip\n",
      "   /project/lgrandi/dbarge/anaconda3/envs/ml_py365/lib/python3.6\n",
      "   /project/lgrandi/dbarge/anaconda3/envs/ml_py365/lib/python3.6/lib-dynload\n",
      "   /project/lgrandi/dbarge/anaconda3/envs/ml_py365/lib/python3.6/site-packages\n",
      "   /project/lgrandi/dbarge/anaconda3/envs/ml_py365/lib/python3.6/site-packages/Mako-1.0.7-py3.6.egg\n",
      "   /project/lgrandi/dbarge/anaconda3/envs/ml_py365/lib/python3.6/site-packages/IPython/extensions\n",
      "   /home/dbarge/.ipython\n",
      "   /project/lgrandi/dbarge/\n",
      "   /project/lgrandi/dbarge/\n",
      "\n",
      "-> Pax version: 6.5.1\n",
      "-> Tensorflow version:   1.10.0\n",
      "\n",
      "Ready\n"
     ]
    }
   ],
   "source": [
    "\n",
    "####################################################################################################\n",
    "####################################################################################################\n",
    "\n",
    "import sys\n",
    "import os.path\n",
    "\n",
    "import datetime\n",
    "import matplotlib.pyplot as plt\n",
    "import matplotlib.image as mpimg\n",
    "from matplotlib.colors import BoundaryNorm, LogNorm, Normalize\n",
    "import numpy as np\n",
    "import pandas as pd\n",
    "\n",
    "from IPython.display import display\n",
    "from IPython.display import Image\n",
    "\n",
    "sys.path.append('/project/lgrandi/dbarge/')\n",
    "\n",
    "print()\n",
    "print(\"-> Python Executable (sys.executable):   \" + sys.executable)\n",
    "print(\"-> Python Path (sys.path):\")\n",
    "for x in sys.path: print(\"   \" + x)\n",
    "print()\n",
    "\n",
    "\n",
    "####################################################################################################\n",
    "####################################################################################################\n",
    "\n",
    "import pax\n",
    "print(\"-> Pax version: \" + pax.__version__)\n",
    "\n",
    "\n",
    "####################################################################################################\n",
    "####################################################################################################\n",
    "\n",
    "\n",
    "from pax_utils import s1s2_utils\n",
    "from pax_utils.helpers import *\n",
    "\n",
    "\n",
    "####################################################################################################\n",
    "####################################################################################################\n",
    "\n",
    "import tensorflow as tf\n",
    "\n",
    "print (\"-> Tensorflow version:   \" + tf.__version__ + \"\\n\")\n",
    "\n",
    "import keras\n",
    "import keras.utils.vis_utils\n",
    "from keras import backend as K\n",
    "from keras import layers\n",
    "from keras import regularizers\n",
    "from keras.layers import Dense\n",
    "from keras.layers import Dropout\n",
    "from keras.layers.normalization import BatchNormalization\n",
    "from keras.models import load_model\n",
    "from keras.models import Sequential\n",
    "from keras.utils import plot_model\n",
    "\n",
    "\n",
    "####################################################################################################\n",
    "####################################################################################################\n",
    "\n",
    "from models import *\n",
    "\n",
    "\n",
    "####################################################################################################\n",
    "####################################################################################################\n",
    "\n",
    "v_drift = 1.44e-4\n",
    "\n",
    "print(\"Ready\")\n"
   ]
  },
  {
   "cell_type": "code",
   "execution_count": 2,
   "metadata": {},
   "outputs": [
    {
     "name": "stdout",
     "output_type": "stream",
     "text": [
      "\n",
      "Input shape: (100000, 1)\n",
      "Truth shape: (100000, 1)\n",
      "\n",
      "Input DataFrame: \n"
     ]
    },
    {
     "data": {
      "text/html": [
       "<div>\n",
       "<style scoped>\n",
       "    .dataframe tbody tr th:only-of-type {\n",
       "        vertical-align: middle;\n",
       "    }\n",
       "\n",
       "    .dataframe tbody tr th {\n",
       "        vertical-align: top;\n",
       "    }\n",
       "\n",
       "    .dataframe thead th {\n",
       "        text-align: right;\n",
       "    }\n",
       "</style>\n",
       "<table border=\"1\" class=\"dataframe\">\n",
       "  <thead>\n",
       "    <tr style=\"text-align: right;\">\n",
       "      <th></th>\n",
       "      <th>intr_depth</th>\n",
       "    </tr>\n",
       "  </thead>\n",
       "  <tbody>\n",
       "    <tr>\n",
       "      <th>0</th>\n",
       "      <td>57.83616</td>\n",
       "    </tr>\n",
       "    <tr>\n",
       "      <th>1</th>\n",
       "      <td>58.27248</td>\n",
       "    </tr>\n",
       "    <tr>\n",
       "      <th>2</th>\n",
       "      <td>34.41168</td>\n",
       "    </tr>\n",
       "    <tr>\n",
       "      <th>3</th>\n",
       "      <td>64.75680</td>\n",
       "    </tr>\n",
       "    <tr>\n",
       "      <th>4</th>\n",
       "      <td>51.72192</td>\n",
       "    </tr>\n",
       "  </tbody>\n",
       "</table>\n",
       "</div>"
      ],
      "text/plain": [
       "   intr_depth\n",
       "0    57.83616\n",
       "1    58.27248\n",
       "2    34.41168\n",
       "3    64.75680\n",
       "4    51.72192"
      ]
     },
     "metadata": {},
     "output_type": "display_data"
    },
    {
     "name": "stdout",
     "output_type": "stream",
     "text": [
      "\n",
      "Truth DataFrame:\n"
     ]
    },
    {
     "data": {
      "text/html": [
       "<div>\n",
       "<style scoped>\n",
       "    .dataframe tbody tr th:only-of-type {\n",
       "        vertical-align: middle;\n",
       "    }\n",
       "\n",
       "    .dataframe tbody tr th {\n",
       "        vertical-align: top;\n",
       "    }\n",
       "\n",
       "    .dataframe thead th {\n",
       "        text-align: right;\n",
       "    }\n",
       "</style>\n",
       "<table border=\"1\" class=\"dataframe\">\n",
       "  <thead>\n",
       "    <tr style=\"text-align: right;\">\n",
       "      <th></th>\n",
       "      <th>depth</th>\n",
       "    </tr>\n",
       "  </thead>\n",
       "  <tbody>\n",
       "    <tr>\n",
       "      <th>0</th>\n",
       "      <td>57.456815</td>\n",
       "    </tr>\n",
       "    <tr>\n",
       "      <th>1</th>\n",
       "      <td>57.780505</td>\n",
       "    </tr>\n",
       "    <tr>\n",
       "      <th>2</th>\n",
       "      <td>34.074937</td>\n",
       "    </tr>\n",
       "    <tr>\n",
       "      <th>3</th>\n",
       "      <td>64.494053</td>\n",
       "    </tr>\n",
       "    <tr>\n",
       "      <th>4</th>\n",
       "      <td>51.510242</td>\n",
       "    </tr>\n",
       "  </tbody>\n",
       "</table>\n",
       "</div>"
      ],
      "text/plain": [
       "       depth\n",
       "0  57.456815\n",
       "1  57.780505\n",
       "2  34.074937\n",
       "3  64.494053\n",
       "4  51.510242"
      ]
     },
     "metadata": {},
     "output_type": "display_data"
    },
    {
     "name": "stdout",
     "output_type": "stream",
     "text": [
      "\n"
     ]
    }
   ],
   "source": [
    "\n",
    "####################################################################################################\n",
    "####################################################################################################\n",
    "\n",
    "nEventsTrain = 100000\n",
    "file_all     = '/project/lgrandi/dbarge/simulation/wimp/pax_v6.8.3/merged/merged_all_200000.pkl'\n",
    "\n",
    "df_all   = pd.read_pickle(file_all)\n",
    "df_all   = df_all[df_all['intr_count'] == 1].reset_index(drop=True)\n",
    "df_all   = df_all[0:nEventsTrain][:]\n",
    "\n",
    "df_all['intr_depth'] = v_drift*df_all['intr_drift_time'] \n",
    "\n",
    "\n",
    "####################################################################################################\n",
    "####################################################################################################\n",
    "\n",
    "df_train_truth = df_all[:][['depth']]\n",
    "df_train_input = df_all[:][['intr_depth']]\n",
    "\n",
    "\n",
    "####################################################################################################\n",
    "####################################################################################################\n",
    "\n",
    "checkTrainingData(df_train_input, df_train_truth)\n",
    "\n"
   ]
  },
  {
   "cell_type": "code",
   "execution_count": 60,
   "metadata": {},
   "outputs": [
    {
     "name": "stdout",
     "output_type": "stream",
     "text": [
      "(100000, 156)\n"
     ]
    },
    {
     "name": "stderr",
     "output_type": "stream",
     "text": [
      "/project/lgrandi/dbarge/anaconda3/envs/ml_py365/lib/python3.6/site-packages/ipykernel/__main__.py:4: FutureWarning: Method .as_matrix will be removed in a future version. Use .values instead.\n",
      "/project/lgrandi/dbarge/anaconda3/envs/ml_py365/lib/python3.6/site-packages/ipykernel/__main__.py:5: FutureWarning: Method .as_matrix will be removed in a future version. Use .values instead.\n"
     ]
    },
    {
     "data": {
      "image/png": "[encoded data removed]",
      "text/plain": [
       "<Figure size 792x619.2 with 2 Axes>"
      ]
     },
     "metadata": {},
     "output_type": "display_data"
    },
    {
     "name": "stderr",
     "output_type": "stream",
     "text": [
      "/project/lgrandi/dbarge/anaconda3/envs/ml_py365/lib/python3.6/site-packages/scipy/stats/stats.py:1713: FutureWarning: Using a non-tuple sequence for multidimensional indexing is deprecated; use `arr[tuple(seq)]` instead of `arr[seq]`. In the future this will be interpreted as an array index, `arr[np.array(seq)]`, which will result either in an error or a different result.\n",
      "  return np.add.reduce(sorted[indexer] * weights, axis=axis) / sumval\n"
     ]
    },
    {
     "data": {
      "text/plain": [
       "<matplotlib.axes._subplots.AxesSubplot at 0x7fe114345860>"
      ]
     },
     "execution_count": 60,
     "metadata": {},
     "output_type": "execute_result"
    },
    {
     "data": {
      "image/png": "[encoded data removed]",
      "text/plain": [
       "<Figure size 792x619.2 with 1 Axes>"
      ]
     },
     "metadata": {},
     "output_type": "display_data"
    }
   ],
   "source": [
    "\n",
    "print(df_all.shape)\n",
    "\n",
    "arr_s2_width = df_all['event_s2_length'].as_matrix()\n",
    "arr_s2_z     = df_all['depth'].as_matrix()\n",
    "\n",
    "plt.figure(figsize=(11, 8.6))\n",
    "h = plt.hist2d(arr_s2_z, arr_s2_width, bins=90, norm=LogNorm(10, 2*10e2))\n",
    "#plt.colorbar()\n",
    "plt.xlabel('True Depth (cm)')\n",
    "plt.ylabel('Reco S2 Width (samples)')\n",
    "plt.colorbar(h[3])\n",
    "\n",
    "##import plt.colormaps as cmaps\n",
    "#plt.register_cmap(name='viridis', cmap=cmaps.viridis)\n",
    "#plt.set_cmap(cmaps.viridis)\n",
    "\n",
    "plt.show()\n",
    "\n",
    "\n",
    "import seaborn as sns\n",
    "\n",
    "plt.figure(figsize=(11, 8.6))\n",
    "sns.regplot(x=arr_s2_z, y=arr_s2_width, x_bins=90, fit_reg=None)"
   ]
  },
  {
   "cell_type": "code",
   "execution_count": null,
   "metadata": {},
   "outputs": [],
   "source": []
  },
  {
   "cell_type": "code",
   "execution_count": 15,
   "metadata": {},
   "outputs": [],
   "source": [
    "\n",
    "##########################################################################################\n",
    "##########################################################################################\n",
    "\n",
    "lst_models = [\n",
    "    bargeModel_z()\n",
    "]\n",
    "\n"
   ]
  },
  {
   "cell_type": "code",
   "execution_count": 3,
   "metadata": {
    "scrolled": true
   },
   "outputs": [
    {
     "ename": "NameError",
     "evalue": "name 'lst_models' is not defined",
     "output_type": "error",
     "traceback": [
      "\u001b[0;31m---------------------------------------------------------------------------\u001b[0m",
      "\u001b[0;31mNameError\u001b[0m                                 Traceback (most recent call last)",
      "\u001b[0;32m<ipython-input-3-0d6f04e077c1>\u001b[0m in \u001b[0;36m<module>\u001b[0;34m()\u001b[0m\n\u001b[1;32m      3\u001b[0m \u001b[0;31m##########################################################################################\u001b[0m\u001b[0;34m\u001b[0m\u001b[0;34m\u001b[0m\u001b[0m\n\u001b[1;32m      4\u001b[0m \u001b[0;34m\u001b[0m\u001b[0m\n\u001b[0;32m----> 5\u001b[0;31m \u001b[0;32mfor\u001b[0m \u001b[0miModel\u001b[0m \u001b[0;32min\u001b[0m \u001b[0mrange\u001b[0m\u001b[0;34m(\u001b[0m\u001b[0;36m0\u001b[0m\u001b[0;34m,\u001b[0m \u001b[0mlen\u001b[0m\u001b[0;34m(\u001b[0m\u001b[0mlst_models\u001b[0m\u001b[0;34m)\u001b[0m\u001b[0;34m)\u001b[0m\u001b[0;34m:\u001b[0m\u001b[0;34m\u001b[0m\u001b[0m\n\u001b[0m\u001b[1;32m      6\u001b[0m \u001b[0;34m\u001b[0m\u001b[0m\n\u001b[1;32m      7\u001b[0m     \u001b[0;31m######################################################################################\u001b[0m\u001b[0;34m\u001b[0m\u001b[0;34m\u001b[0m\u001b[0m\n",
      "\u001b[0;31mNameError\u001b[0m: name 'lst_models' is not defined"
     ]
    }
   ],
   "source": [
    "\n",
    "##########################################################################################\n",
    "##########################################################################################\n",
    "\n",
    "for iModel in range(0, len(lst_models)):\n",
    "    \n",
    "    ######################################################################################\n",
    "    ######################################################################################\n",
    "\n",
    "    model, model_name = lst_models[iModel]\n",
    "    \n",
    "    \n",
    "    ######################################################################################\n",
    "    ######################################################################################\n",
    "\n",
    "    epochs     = 10\n",
    "    batch_size = 64\n",
    "    verbose    = 1\n",
    "    \n",
    "    \n",
    "    ######################################################################################\n",
    "    # Fit Model\n",
    "    ######################################################################################\n",
    "    \n",
    "    print()\n",
    "    #print(\"Model Summary:\")\n",
    "    #model.summary()\n",
    "    print()\n",
    "    model.fit(df_train_input, df_train_truth, epochs=epochs, batch_size=batch_size, verbose=verbose)\n",
    "    print(\"Training Complete!\")\n",
    "\n",
    "        \n",
    "    ######################################################################################\n",
    "    # Save Model\n",
    "    ######################################################################################\n",
    "\n",
    "    folder   = \"models\" + \"/\"    \n",
    "    name     = 'model' + '_' + model_name + '_' + 'elu' #model.activation\n",
    "    name_h5  = folder + name + \".h5\"\n",
    "    name_png = folder + name + \".png\"\n",
    "\n",
    "    model.save(name_h5, overwrite=True)\n",
    "        \n",
    "   \n",
    "    ######################################################################################\n",
    "    ######################################################################################\n",
    "\n",
    "    plot_model(model, to_file=name_png, show_layer_names=True, show_shapes=True)\n",
    "    \n",
    "    Image(filename=name_png) \n",
    "    \n",
    "\n",
    "    ######################################################################################\n",
    "    ######################################################################################\n",
    "    \n",
    "    continue\n",
    "    \n",
    "    "
   ]
  },
  {
   "cell_type": "code",
   "execution_count": null,
   "metadata": {},
   "outputs": [],
   "source": []
  },
  {
   "cell_type": "code",
   "execution_count": null,
   "metadata": {},
   "outputs": [],
   "source": []
  },
  {
   "cell_type": "code",
   "execution_count": null,
   "metadata": {},
   "outputs": [],
   "source": []
  }
 ],
 "metadata": {
  "anaconda-cloud": {},
  "kernelspec": {
   "display_name": "Python [default]",
   "language": "python",
   "name": "python3"
  },
  "language_info": {
   "codemirror_mode": {
    "name": "ipython",
    "version": 3
   },
   "file_extension": ".py",
   "mimetype": "text/x-python",
   "name": "python",
   "nbconvert_exporter": "python",
   "pygments_lexer": "ipython3",
   "version": "3.6.5"
  }
 },
 "nbformat": 4,
 "nbformat_minor": 2
}
