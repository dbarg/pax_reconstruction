{
 "cells": [
  {
   "cell_type": "code",
   "execution_count": 1,
   "metadata": {},
   "outputs": [
    {
     "name": "stdout",
     "output_type": "stream",
     "text": [
      "\n",
      "-> Python Executable (sys.executable):   /project/lgrandi/dbarge/anaconda3/envs/ml_py365/bin/python\n",
      "-> Python Path (sys.path):\n",
      "   \n",
      "   /project/lgrandi/dbarge/pax_v6.5.1\n",
      "   /home/dbarge/reconstruction/z_s2waveforms\n",
      "   /project/lgrandi/dbarge/anaconda3/envs/ml_py365/lib/python36.zip\n",
      "   /project/lgrandi/dbarge/anaconda3/envs/ml_py365/lib/python3.6\n",
      "   /project/lgrandi/dbarge/anaconda3/envs/ml_py365/lib/python3.6/lib-dynload\n",
      "   /project/lgrandi/dbarge/anaconda3/envs/ml_py365/lib/python3.6/site-packages\n",
      "   /project/lgrandi/dbarge/anaconda3/envs/ml_py365/lib/python3.6/site-packages/Mako-1.0.7-py3.6.egg\n",
      "   /project/lgrandi/dbarge/anaconda3/envs/ml_py365/lib/python3.6/site-packages/IPython/extensions\n",
      "   /home/dbarge/.ipython\n",
      "   /project/lgrandi/dbarge/\n",
      "\n",
      "-> Pax version: 6.5.1\n",
      "-> Tensorflow version:   1.10.0\n",
      "\n"
     ]
    },
    {
     "name": "stderr",
     "output_type": "stream",
     "text": [
      "Using TensorFlow backend.\n"
     ]
    },
    {
     "name": "stdout",
     "output_type": "stream",
     "text": [
      "Ready\n"
     ]
    }
   ],
   "source": [
    "\n",
    "####################################################################################################\n",
    "####################################################################################################\n",
    "\n",
    "import sys\n",
    "import os.path\n",
    "\n",
    "import datetime\n",
    "import matplotlib.pyplot as plt\n",
    "import matplotlib.image as mpimg\n",
    "import numpy as np\n",
    "import pandas as pd\n",
    "\n",
    "from IPython.display import display\n",
    "from IPython.display import Image\n",
    "\n",
    "sys.path.append('/project/lgrandi/dbarge/')\n",
    "\n",
    "print()\n",
    "print(\"-> Python Executable (sys.executable):   \" + sys.executable)\n",
    "print(\"-> Python Path (sys.path):\")\n",
    "for x in sys.path: print(\"   \" + x)\n",
    "print()\n",
    "\n",
    "\n",
    "####################################################################################################\n",
    "####################################################################################################\n",
    "\n",
    "import pax\n",
    "print(\"-> Pax version: \" + pax.__version__)\n",
    "\n",
    "\n",
    "####################################################################################################\n",
    "####################################################################################################\n",
    "\n",
    "\n",
    "from pax_utils import s1s2_utils\n",
    "from pax_utils.helpers import *\n",
    "\n",
    "\n",
    "####################################################################################################\n",
    "####################################################################################################\n",
    "\n",
    "import tensorflow as tf\n",
    "\n",
    "print (\"-> Tensorflow version:   \" + tf.__version__ + \"\\n\")\n",
    "\n",
    "import keras\n",
    "import keras.utils.vis_utils\n",
    "from keras import backend as K\n",
    "from keras import layers\n",
    "from keras import regularizers\n",
    "from keras.layers import Dense\n",
    "from keras.layers import Dropout\n",
    "from keras.layers.normalization import BatchNormalization\n",
    "from keras.models import load_model\n",
    "from keras.models import Sequential\n",
    "from keras.utils import plot_model\n",
    "\n",
    "\n",
    "####################################################################################################\n",
    "####################################################################################################\n",
    "\n",
    "from models import *\n",
    "\n",
    "\n",
    "####################################################################################################\n",
    "####################################################################################################\n",
    "\n",
    "v_drift = 1.44e-4\n",
    "\n",
    "print(\"Ready\")\n"
   ]
  },
  {
   "cell_type": "code",
   "execution_count": 6,
   "metadata": {},
   "outputs": [
    {
     "name": "stdout",
     "output_type": "stream",
     "text": [
      "\n",
      "Input shape: (27826, 1)\n",
      "Truth shape: (27826, 1)\n",
      "\n",
      "Input DataFrame: \n"
     ]
    },
    {
     "data": {
      "text/html": [
       "<div>\n",
       "<style scoped>\n",
       "    .dataframe tbody tr th:only-of-type {\n",
       "        vertical-align: middle;\n",
       "    }\n",
       "\n",
       "    .dataframe tbody tr th {\n",
       "        vertical-align: top;\n",
       "    }\n",
       "\n",
       "    .dataframe thead th {\n",
       "        text-align: right;\n",
       "    }\n",
       "</style>\n",
       "<table border=\"1\" class=\"dataframe\">\n",
       "  <thead>\n",
       "    <tr style=\"text-align: right;\">\n",
       "      <th></th>\n",
       "      <th>intr_depth</th>\n",
       "    </tr>\n",
       "  </thead>\n",
       "  <tbody>\n",
       "    <tr>\n",
       "      <th>100000</th>\n",
       "      <td>89.66448</td>\n",
       "    </tr>\n",
       "    <tr>\n",
       "      <th>100001</th>\n",
       "      <td>77.97456</td>\n",
       "    </tr>\n",
       "    <tr>\n",
       "      <th>100002</th>\n",
       "      <td>63.97920</td>\n",
       "    </tr>\n",
       "    <tr>\n",
       "      <th>100003</th>\n",
       "      <td>79.48512</td>\n",
       "    </tr>\n",
       "    <tr>\n",
       "      <th>100004</th>\n",
       "      <td>87.67728</td>\n",
       "    </tr>\n",
       "  </tbody>\n",
       "</table>\n",
       "</div>"
      ],
      "text/plain": [
       "        intr_depth\n",
       "100000    89.66448\n",
       "100001    77.97456\n",
       "100002    63.97920\n",
       "100003    79.48512\n",
       "100004    87.67728"
      ]
     },
     "metadata": {},
     "output_type": "display_data"
    },
    {
     "name": "stdout",
     "output_type": "stream",
     "text": [
      "\n",
      "Truth DataFrame:\n"
     ]
    },
    {
     "data": {
      "text/html": [
       "<div>\n",
       "<style scoped>\n",
       "    .dataframe tbody tr th:only-of-type {\n",
       "        vertical-align: middle;\n",
       "    }\n",
       "\n",
       "    .dataframe tbody tr th {\n",
       "        vertical-align: top;\n",
       "    }\n",
       "\n",
       "    .dataframe thead th {\n",
       "        text-align: right;\n",
       "    }\n",
       "</style>\n",
       "<table border=\"1\" class=\"dataframe\">\n",
       "  <thead>\n",
       "    <tr style=\"text-align: right;\">\n",
       "      <th></th>\n",
       "      <th>depth</th>\n",
       "    </tr>\n",
       "  </thead>\n",
       "  <tbody>\n",
       "    <tr>\n",
       "      <th>100000</th>\n",
       "      <td>89.428794</td>\n",
       "    </tr>\n",
       "    <tr>\n",
       "      <th>100001</th>\n",
       "      <td>77.495845</td>\n",
       "    </tr>\n",
       "    <tr>\n",
       "      <th>100002</th>\n",
       "      <td>63.686664</td>\n",
       "    </tr>\n",
       "    <tr>\n",
       "      <th>100003</th>\n",
       "      <td>79.201652</td>\n",
       "    </tr>\n",
       "    <tr>\n",
       "      <th>100004</th>\n",
       "      <td>87.226589</td>\n",
       "    </tr>\n",
       "  </tbody>\n",
       "</table>\n",
       "</div>"
      ],
      "text/plain": [
       "            depth\n",
       "100000  89.428794\n",
       "100001  77.495845\n",
       "100002  63.686664\n",
       "100003  79.201652\n",
       "100004  87.226589"
      ]
     },
     "metadata": {},
     "output_type": "display_data"
    },
    {
     "name": "stdout",
     "output_type": "stream",
     "text": [
      "\n"
     ]
    }
   ],
   "source": [
    "\n",
    "####################################################################################################\n",
    "####################################################################################################\n",
    "\n",
    "nEventsTrain = 100000\n",
    "file_all     = '/project/lgrandi/dbarge/simulation/wimp/pax_v6.8.3/merged/merged_all_200000.pkl'\n",
    "\n",
    "df_all = pd.read_pickle(file_all)\n",
    "df_all = df_all[df_all['intr_count'] == 1].reset_index(drop=True)\n",
    "df_all = df_all[nEventsTrain:][:]\n",
    "\n",
    "df_all['intr_depth'] = v_drift*df_all['intr_drift_time'] \n",
    "\n",
    "\n",
    "####################################################################################################\n",
    "####################################################################################################\n",
    "\n",
    "df_train_truth = df_all[:][['depth']]\n",
    "df_train_input = df_all[:][['intr_depth']]\n",
    "\n",
    "\n",
    "####################################################################################################\n",
    "####################################################################################################\n",
    "\n",
    "checkTrainingData(df_train_input, df_train_truth)\n",
    "\n"
   ]
  },
  {
   "cell_type": "code",
   "execution_count": 7,
   "metadata": {},
   "outputs": [],
   "source": [
    "\n",
    "####################################################################################################\n",
    "####################################################################################################\n",
    "\n",
    "model_name     = \"model_barge_z_elu\"\n",
    "folder         = \"models\" + \"/\"    \n",
    "model_name_h5  = folder + model_name + \".h5\"\n",
    "model_name_png = folder + model_name + \".png\"\n",
    "\n"
   ]
  },
  {
   "cell_type": "code",
   "execution_count": 8,
   "metadata": {},
   "outputs": [
    {
     "name": "stdout",
     "output_type": "stream",
     "text": [
      "\n",
      "Loaded Model: models/model_barge_z_elu.h5\n",
      "Predicted\n",
      "\n"
     ]
    }
   ],
   "source": [
    "\n",
    "####################################################################################################\n",
    "####################################################################################################\n",
    "\n",
    "model       = load_model(model_name_h5)\n",
    "arr_xy_pred = model.predict(df_train_input)\n",
    "\n",
    "print(\"\\nLoaded Model: \" + model_name_h5)\n",
    "print(\"Predicted\\n\")\n",
    "\n"
   ]
  },
  {
   "cell_type": "code",
   "execution_count": 9,
   "metadata": {},
   "outputs": [
    {
     "name": "stderr",
     "output_type": "stream",
     "text": [
      "/project/lgrandi/dbarge/anaconda3/envs/ml_py365/lib/python3.6/site-packages/ipykernel/__main__.py:5: FutureWarning: Method .as_matrix will be removed in a future version. Use .values instead.\n"
     ]
    }
   ],
   "source": [
    "\n",
    "####################################################################################################\n",
    "####################################################################################################\n",
    "\n",
    "arr_z_true = df_train_truth[:]['depth'].as_matrix()\n",
    "arr_z_pred = arr_xy_pred[:, 0]\n",
    "arr_dz     = arr_z_true - arr_z_pred\n",
    "\n"
   ]
  },
  {
   "cell_type": "code",
   "execution_count": 14,
   "metadata": {},
   "outputs": [
    {
     "data": {
      "text/html": [
       "<div>\n",
       "<style scoped>\n",
       "    .dataframe tbody tr th:only-of-type {\n",
       "        vertical-align: middle;\n",
       "    }\n",
       "\n",
       "    .dataframe tbody tr th {\n",
       "        vertical-align: top;\n",
       "    }\n",
       "\n",
       "    .dataframe thead th {\n",
       "        text-align: right;\n",
       "    }\n",
       "</style>\n",
       "<table border=\"1\" class=\"dataframe\">\n",
       "  <thead>\n",
       "    <tr style=\"text-align: right;\">\n",
       "      <th></th>\n",
       "      <th>event_number</th>\n",
       "      <th>depth</th>\n",
       "      <th>intr_depth</th>\n",
       "      <th>intr_z</th>\n",
       "      <th>z_pred</th>\n",
       "    </tr>\n",
       "  </thead>\n",
       "  <tbody>\n",
       "    <tr>\n",
       "      <th>100000</th>\n",
       "      <td>156467</td>\n",
       "      <td>89.428794</td>\n",
       "      <td>89.66448</td>\n",
       "      <td>-89.41968</td>\n",
       "      <td>89.281265</td>\n",
       "    </tr>\n",
       "    <tr>\n",
       "      <th>100001</th>\n",
       "      <td>156468</td>\n",
       "      <td>77.495845</td>\n",
       "      <td>77.97456</td>\n",
       "      <td>-77.72976</td>\n",
       "      <td>77.599518</td>\n",
       "    </tr>\n",
       "    <tr>\n",
       "      <th>100002</th>\n",
       "      <td>156469</td>\n",
       "      <td>63.686664</td>\n",
       "      <td>63.97920</td>\n",
       "      <td>-63.73440</td>\n",
       "      <td>63.613926</td>\n",
       "    </tr>\n",
       "    <tr>\n",
       "      <th>100003</th>\n",
       "      <td>156470</td>\n",
       "      <td>79.201652</td>\n",
       "      <td>79.48512</td>\n",
       "      <td>-79.24032</td>\n",
       "      <td>79.109024</td>\n",
       "    </tr>\n",
       "    <tr>\n",
       "      <th>100004</th>\n",
       "      <td>156474</td>\n",
       "      <td>87.226589</td>\n",
       "      <td>87.67728</td>\n",
       "      <td>-87.43248</td>\n",
       "      <td>87.295448</td>\n",
       "    </tr>\n",
       "  </tbody>\n",
       "</table>\n",
       "</div>"
      ],
      "text/plain": [
       "        event_number      depth  intr_depth    intr_z     z_pred\n",
       "100000        156467  89.428794    89.66448 -89.41968  89.281265\n",
       "100001        156468  77.495845    77.97456 -77.72976  77.599518\n",
       "100002        156469  63.686664    63.97920 -63.73440  63.613926\n",
       "100003        156470  79.201652    79.48512 -79.24032  79.109024\n",
       "100004        156474  87.226589    87.67728 -87.43248  87.295448"
      ]
     },
     "metadata": {},
     "output_type": "display_data"
    },
    {
     "name": "stdout",
     "output_type": "stream",
     "text": [
      "\n"
     ]
    }
   ],
   "source": [
    "\n",
    "####################################################################################################\n",
    "####################################################################################################\n",
    "\n",
    "file_out         = \"./predictions/z_DeltaT.pkl\"\n",
    "\n",
    "cols_out         = ['event_number', 'depth', 'intr_depth', 'intr_z']\n",
    "\n",
    "df_out           = df_all[:][cols_out]\n",
    "df_out['z_pred'] = arr_z_pred\n",
    "\n",
    "\n",
    "df_out.to_pickle(file_out)\n",
    "\n",
    "\n",
    "####################################################################################################\n",
    "####################################################################################################\n",
    "\n",
    "df_test = pd.read_pickle(file_out)\n",
    "\n",
    "display(df_test[0:5][:])\n",
    "print()\n",
    "\n"
   ]
  },
  {
   "cell_type": "code",
   "execution_count": null,
   "metadata": {},
   "outputs": [],
   "source": []
  }
 ],
 "metadata": {
  "anaconda-cloud": {},
  "kernelspec": {
   "display_name": "Python [default]",
   "language": "python",
   "name": "python3"
  },
  "language_info": {
   "codemirror_mode": {
    "name": "ipython",
    "version": 3
   },
   "file_extension": ".py",
   "mimetype": "text/x-python",
   "name": "python",
   "nbconvert_exporter": "python",
   "pygments_lexer": "ipython3",
   "version": "3.6.5"
  }
 },
 "nbformat": 4,
 "nbformat_minor": 2
}
