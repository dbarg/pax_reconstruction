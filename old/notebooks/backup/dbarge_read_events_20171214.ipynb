{
 "cells": [
  {
   "cell_type": "code",
   "execution_count": 1,
   "metadata": {
    "collapsed": false
   },
   "outputs": [],
   "source": [
    "%load_ext autoreload\n",
    "%autoreload 2\n",
    "\n",
    "%matplotlib inline\n",
    "import sys\n",
    "import os.path\n",
    "import matplotlib.pyplot as plt\n",
    "import seaborn as sbn\n",
    "from IPython.display import display\n",
    "\n",
    "sys.path.append(os.path.dirname(\"../\"))\n",
    "\n",
    "from plugins.FaxDistiller import Distill"
   ]
  },
  {
   "cell_type": "code",
   "execution_count": 2,
   "metadata": {
    "collapsed": true
   },
   "outputs": [],
   "source": [
    "raw_file   = \"../data/FakeWaveform_raw/XENON1T-0-000000000-000000999-000001000.zip\"\n",
    "truth_file = \"../data/FakeWaveform_truth.csv\""
   ]
  },
  {
   "cell_type": "markdown",
   "metadata": {},
   "source": [
    "### Load FAX raw data and distill down into useful parts"
   ]
  },
  {
   "cell_type": "code",
   "execution_count": 3,
   "metadata": {
    "collapsed": false
   },
   "outputs": [
    {
     "name": "stderr",
     "output_type": "stream",
     "text": [
      "100%|██████████| 1000/1000 [00:03<00:00, 260.77it/s]\n",
      "100%|██████████| 1000/1000 [00:01<00:00, 569.79it/s]\n"
     ]
    }
   ],
   "source": [
    "distiller = Distill(raw_file, truth_file)\n",
    "distiller.load()"
   ]
  },
  {
   "cell_type": "markdown",
   "metadata": {},
   "source": [
    "### The way to retrieve distilled data"
   ]
  },
  {
   "cell_type": "code",
   "execution_count": 4,
   "metadata": {
    "collapsed": false
   },
   "outputs": [
    {
     "data": {
      "text/html": [
       "<div>\n",
       "<table border=\"1\" class=\"dataframe\">\n",
       "  <thead>\n",
       "    <tr style=\"text-align: right;\">\n",
       "      <th></th>\n",
       "      <th>baseline</th>\n",
       "      <th>channel</th>\n",
       "      <th>event_number</th>\n",
       "      <th>left</th>\n",
       "      <th>length</th>\n",
       "      <th>max_waveform_length</th>\n",
       "      <th>right</th>\n",
       "      <th>waveform</th>\n",
       "    </tr>\n",
       "  </thead>\n",
       "  <tbody>\n",
       "    <tr>\n",
       "      <th>0</th>\n",
       "      <td>NaN</td>\n",
       "      <td>0</td>\n",
       "      <td>0</td>\n",
       "      <td>82764</td>\n",
       "      <td>158</td>\n",
       "      <td>158</td>\n",
       "      <td>82921</td>\n",
       "      <td>[16002, 16006, 15998, 16006, 16000, 16003, 159...</td>\n",
       "    </tr>\n",
       "    <tr>\n",
       "      <th>1</th>\n",
       "      <td>NaN</td>\n",
       "      <td>2</td>\n",
       "      <td>0</td>\n",
       "      <td>82646</td>\n",
       "      <td>284</td>\n",
       "      <td>284</td>\n",
       "      <td>82929</td>\n",
       "      <td>[15999, 16001, 16003, 16003, 16004, 16005, 160...</td>\n",
       "    </tr>\n",
       "    <tr>\n",
       "      <th>2</th>\n",
       "      <td>NaN</td>\n",
       "      <td>3</td>\n",
       "      <td>0</td>\n",
       "      <td>82738</td>\n",
       "      <td>130</td>\n",
       "      <td>130</td>\n",
       "      <td>82867</td>\n",
       "      <td>[16001, 15999, 16002, 15999, 16001, 16000, 160...</td>\n",
       "    </tr>\n",
       "    <tr>\n",
       "      <th>3</th>\n",
       "      <td>NaN</td>\n",
       "      <td>4</td>\n",
       "      <td>0</td>\n",
       "      <td>82698</td>\n",
       "      <td>198</td>\n",
       "      <td>198</td>\n",
       "      <td>82895</td>\n",
       "      <td>[16006, 16002, 16008, 16003, 16008, 16004, 160...</td>\n",
       "    </tr>\n",
       "    <tr>\n",
       "      <th>4</th>\n",
       "      <td>NaN</td>\n",
       "      <td>5</td>\n",
       "      <td>0</td>\n",
       "      <td>72794</td>\n",
       "      <td>100</td>\n",
       "      <td>100</td>\n",
       "      <td>72893</td>\n",
       "      <td>[16002, 16002, 16005, 16007, 16004, 16006, 160...</td>\n",
       "    </tr>\n",
       "  </tbody>\n",
       "</table>\n",
       "</div>"
      ],
      "text/plain": [
       "   baseline  channel  event_number   left  length  max_waveform_length  right  \\\n",
       "0       NaN        0             0  82764     158                  158  82921   \n",
       "1       NaN        2             0  82646     284                  284  82929   \n",
       "2       NaN        3             0  82738     130                  130  82867   \n",
       "3       NaN        4             0  82698     198                  198  82895   \n",
       "4       NaN        5             0  72794     100                  100  72893   \n",
       "\n",
       "                                            waveform  \n",
       "0  [16002, 16006, 15998, 16006, 16000, 16003, 159...  \n",
       "1  [15999, 16001, 16003, 16003, 16004, 16005, 160...  \n",
       "2  [16001, 15999, 16002, 15999, 16001, 16000, 160...  \n",
       "3  [16006, 16002, 16008, 16003, 16008, 16004, 160...  \n",
       "4  [16002, 16002, 16005, 16007, 16004, 16006, 160...  "
      ]
     },
     "execution_count": 4,
     "metadata": {},
     "output_type": "execute_result"
    }
   ],
   "source": [
    "### Distill.get() returns iterator of distilled data for the event (objects of the Condensate() class)\n",
    "event = distiller.get(1).__next__()\n",
    "event.get_event().head()"
   ]
  },
  {
   "cell_type": "code",
   "execution_count": 5,
   "metadata": {
    "collapsed": false
   },
   "outputs": [
    {
     "name": "stdout",
     "output_type": "stream",
     "text": [
      "<class 'pandas.core.frame.DataFrame'>\n"
     ]
    },
    {
     "data": {
      "text/plain": [
       "array(['baseline', 'channel', 'event_number', 'left', 'length',\n",
       "       'max_waveform_length', 'right', 'waveform'], dtype=object)"
      ]
     },
     "execution_count": 5,
     "metadata": {},
     "output_type": "execute_result"
    }
   ],
   "source": [
    "print(type(event.get_event()))\n",
    "      \n",
    "event.get_event().columns.values"
   ]
  },
  {
   "cell_type": "code",
   "execution_count": 6,
   "metadata": {
    "collapsed": false
   },
   "outputs": [
    {
     "name": "stdout",
     "output_type": "stream",
     "text": [
      "\n",
      "        Class of distilled FAX events.\n",
      "        \n",
      "        Methods:\n",
      "            : get_events() : Returns pandas.DataFrame with core information on pulses in the event.\n",
      "            : get_waveforms_in_channel() : Returns pandas.DataFrame with reconstructed waveforms per\n",
      "                                           channel (pmt) for the event.\n",
      "            : get_event_truth() : Returns pandas.DataFrame with FAX truth information on the event\n",
      "    \n"
     ]
    }
   ],
   "source": [
    "print(event.__doc__)"
   ]
  },
  {
   "cell_type": "markdown",
   "metadata": {},
   "source": [
    "### Loop over events and store distilled data for each event"
   ]
  },
  {
   "cell_type": "code",
   "execution_count": 7,
   "metadata": {
    "collapsed": false
   },
   "outputs": [],
   "source": [
    "events = []\n",
    "waveforms_in_channels = []\n",
    "event_truths = []\n",
    "\n",
    "nEventsGeant = 1000\n",
    "\n",
    "for distilled_events in distiller.get(nEventsGeant):\n",
    "    \n",
    "    events.append(distilled_events.get_event())                                 # Retrieve pandas.DataFrame of event information\n",
    "    waveforms_in_channels.append(distilled_events.get_waveforms_in_channels())  # Retrieve pandas.DataFrame of per channel reconstructed waveforms in the event\n",
    "    event_truths.append(distilled_events.get_event_truth())                     # Retrieve pandas.DataFrame of PAX truth information for event\n",
    "    \n",
    "    "
   ]
  },
  {
   "cell_type": "code",
   "execution_count": 8,
   "metadata": {
    "collapsed": false
   },
   "outputs": [
    {
     "data": {
      "image/png": "[encoded data removed]",
      "text/plain": [
       "<matplotlib.figure.Figure at 0x7feb3bd96080>"
      ]
     },
     "metadata": {},
     "output_type": "display_data"
    }
   ],
   "source": [
    "### Plot of waveforms for each pmt summed up\n",
    "\n",
    "sum_waveforms = waveforms_in_channels[0].drop(\"event_number\", axis=1).sum(axis=1)\n",
    "\n",
    "fig = plt.figure(figsize=(14,6))\n",
    "ax = plt.subplot(111)\n",
    "fig = ax.plot(sum_waveforms.index, sum_waveforms)"
   ]
  },
  {
   "cell_type": "code",
   "execution_count": null,
   "metadata": {
    "collapsed": true
   },
   "outputs": [],
   "source": []
  },
  {
   "cell_type": "code",
   "execution_count": 66,
   "metadata": {
    "collapsed": false
   },
   "outputs": [
    {
     "data": {
      "text/html": [
       "<div>\n",
       "<table border=\"1\" class=\"dataframe\">\n",
       "  <thead>\n",
       "    <tr style=\"text-align: right;\">\n",
       "      <th></th>\n",
       "      <th>fax_truth_peak_id</th>\n",
       "      <th>event</th>\n",
       "      <th>g4_id</th>\n",
       "      <th>instruction</th>\n",
       "      <th>n_electrons</th>\n",
       "      <th>n_photons</th>\n",
       "      <th>peak_type</th>\n",
       "      <th>repetition</th>\n",
       "      <th>t_first_electron</th>\n",
       "      <th>t_first_photon</th>\n",
       "      <th>...</th>\n",
       "      <th>t_last_electron</th>\n",
       "      <th>t_last_photon</th>\n",
       "      <th>t_mean_electrons</th>\n",
       "      <th>t_mean_photons</th>\n",
       "      <th>t_sigma_electrons</th>\n",
       "      <th>t_sigma_photons</th>\n",
       "      <th>top_fraction</th>\n",
       "      <th>x</th>\n",
       "      <th>y</th>\n",
       "      <th>z</th>\n",
       "    </tr>\n",
       "  </thead>\n",
       "  <tbody>\n",
       "    <tr>\n",
       "      <th>0</th>\n",
       "      <td>0</td>\n",
       "      <td>0</td>\n",
       "      <td>-1</td>\n",
       "      <td>0</td>\n",
       "      <td>16.0</td>\n",
       "      <td>379</td>\n",
       "      <td>s2</td>\n",
       "      <td>0</td>\n",
       "      <td>826638.620366</td>\n",
       "      <td>8.267593e+05</td>\n",
       "      <td>...</td>\n",
       "      <td>828324.404529</td>\n",
       "      <td>8.290946e+05</td>\n",
       "      <td>827641.784142</td>\n",
       "      <td>8.279530e+05</td>\n",
       "      <td>404.286682</td>\n",
       "      <td>410.426691</td>\n",
       "      <td>0.675462</td>\n",
       "      <td>4.517730</td>\n",
       "      <td>27.061374</td>\n",
       "      <td>-24.814994</td>\n",
       "    </tr>\n",
       "    <tr>\n",
       "      <th>1</th>\n",
       "      <td>1</td>\n",
       "      <td>0</td>\n",
       "      <td>-1</td>\n",
       "      <td>0</td>\n",
       "      <td>NaN</td>\n",
       "      <td>16</td>\n",
       "      <td>photoionization_afterpulse</td>\n",
       "      <td>0</td>\n",
       "      <td>NaN</td>\n",
       "      <td>1.390559e+06</td>\n",
       "      <td>...</td>\n",
       "      <td>NaN</td>\n",
       "      <td>1.391185e+06</td>\n",
       "      <td>NaN</td>\n",
       "      <td>1.390809e+06</td>\n",
       "      <td>NaN</td>\n",
       "      <td>165.495422</td>\n",
       "      <td>0.625000</td>\n",
       "      <td>-46.204034</td>\n",
       "      <td>2.173650</td>\n",
       "      <td>-0.500000</td>\n",
       "    </tr>\n",
       "    <tr>\n",
       "      <th>2</th>\n",
       "      <td>2</td>\n",
       "      <td>0</td>\n",
       "      <td>-1</td>\n",
       "      <td>0</td>\n",
       "      <td>NaN</td>\n",
       "      <td>25</td>\n",
       "      <td>photoionization_afterpulse</td>\n",
       "      <td>0</td>\n",
       "      <td>NaN</td>\n",
       "      <td>1.036173e+06</td>\n",
       "      <td>...</td>\n",
       "      <td>NaN</td>\n",
       "      <td>1.036733e+06</td>\n",
       "      <td>NaN</td>\n",
       "      <td>1.036475e+06</td>\n",
       "      <td>NaN</td>\n",
       "      <td>146.108306</td>\n",
       "      <td>0.760000</td>\n",
       "      <td>-28.172135</td>\n",
       "      <td>23.369638</td>\n",
       "      <td>-0.500000</td>\n",
       "    </tr>\n",
       "    <tr>\n",
       "      <th>3</th>\n",
       "      <td>3</td>\n",
       "      <td>0</td>\n",
       "      <td>-1</td>\n",
       "      <td>0</td>\n",
       "      <td>NaN</td>\n",
       "      <td>15</td>\n",
       "      <td>photoionization_afterpulse</td>\n",
       "      <td>0</td>\n",
       "      <td>NaN</td>\n",
       "      <td>8.490969e+05</td>\n",
       "      <td>...</td>\n",
       "      <td>NaN</td>\n",
       "      <td>8.494908e+05</td>\n",
       "      <td>NaN</td>\n",
       "      <td>8.492659e+05</td>\n",
       "      <td>NaN</td>\n",
       "      <td>113.777219</td>\n",
       "      <td>0.466667</td>\n",
       "      <td>-4.167860</td>\n",
       "      <td>27.947109</td>\n",
       "      <td>-0.500000</td>\n",
       "    </tr>\n",
       "    <tr>\n",
       "      <th>4</th>\n",
       "      <td>4</td>\n",
       "      <td>0</td>\n",
       "      <td>-1</td>\n",
       "      <td>0</td>\n",
       "      <td>NaN</td>\n",
       "      <td>26</td>\n",
       "      <td>photoionization_afterpulse</td>\n",
       "      <td>0</td>\n",
       "      <td>NaN</td>\n",
       "      <td>8.420800e+05</td>\n",
       "      <td>...</td>\n",
       "      <td>NaN</td>\n",
       "      <td>8.428152e+05</td>\n",
       "      <td>NaN</td>\n",
       "      <td>8.423495e+05</td>\n",
       "      <td>NaN</td>\n",
       "      <td>167.032715</td>\n",
       "      <td>0.846154</td>\n",
       "      <td>44.117512</td>\n",
       "      <td>15.064367</td>\n",
       "      <td>-0.500000</td>\n",
       "    </tr>\n",
       "  </tbody>\n",
       "</table>\n",
       "<p>5 rows × 21 columns</p>\n",
       "</div>"
      ],
      "text/plain": [
       "   fax_truth_peak_id  event  g4_id  instruction  n_electrons  n_photons  \\\n",
       "0                  0      0     -1            0         16.0        379   \n",
       "1                  1      0     -1            0          NaN         16   \n",
       "2                  2      0     -1            0          NaN         25   \n",
       "3                  3      0     -1            0          NaN         15   \n",
       "4                  4      0     -1            0          NaN         26   \n",
       "\n",
       "                    peak_type  repetition  t_first_electron  t_first_photon  \\\n",
       "0                          s2           0     826638.620366    8.267593e+05   \n",
       "1  photoionization_afterpulse           0               NaN    1.390559e+06   \n",
       "2  photoionization_afterpulse           0               NaN    1.036173e+06   \n",
       "3  photoionization_afterpulse           0               NaN    8.490969e+05   \n",
       "4  photoionization_afterpulse           0               NaN    8.420800e+05   \n",
       "\n",
       "     ...      t_last_electron  t_last_photon  t_mean_electrons  \\\n",
       "0    ...        828324.404529   8.290946e+05     827641.784142   \n",
       "1    ...                  NaN   1.391185e+06               NaN   \n",
       "2    ...                  NaN   1.036733e+06               NaN   \n",
       "3    ...                  NaN   8.494908e+05               NaN   \n",
       "4    ...                  NaN   8.428152e+05               NaN   \n",
       "\n",
       "   t_mean_photons  t_sigma_electrons  t_sigma_photons  top_fraction  \\\n",
       "0    8.279530e+05         404.286682       410.426691      0.675462   \n",
       "1    1.390809e+06                NaN       165.495422      0.625000   \n",
       "2    1.036475e+06                NaN       146.108306      0.760000   \n",
       "3    8.492659e+05                NaN       113.777219      0.466667   \n",
       "4    8.423495e+05                NaN       167.032715      0.846154   \n",
       "\n",
       "           x          y          z  \n",
       "0   4.517730  27.061374 -24.814994  \n",
       "1 -46.204034   2.173650  -0.500000  \n",
       "2 -28.172135  23.369638  -0.500000  \n",
       "3  -4.167860  27.947109  -0.500000  \n",
       "4  44.117512  15.064367  -0.500000  \n",
       "\n",
       "[5 rows x 21 columns]"
      ]
     },
     "execution_count": 66,
     "metadata": {},
     "output_type": "execute_result"
    }
   ],
   "source": [
    "event_truths[0]"
   ]
  },
  {
   "cell_type": "code",
   "execution_count": null,
   "metadata": {
    "collapsed": true
   },
   "outputs": [],
   "source": []
  },
  {
   "cell_type": "code",
   "execution_count": null,
   "metadata": {
    "collapsed": true
   },
   "outputs": [],
   "source": []
  },
  {
   "cell_type": "code",
   "execution_count": 72,
   "metadata": {
    "collapsed": false
   },
   "outputs": [
    {
     "name": "stdout",
     "output_type": "stream",
     "text": [
      "\n",
      "Geant4 events: 1000\n",
      "\n"
     ]
    },
    {
     "data": {
      "text/html": [
       "<div>\n",
       "<table border=\"1\" class=\"dataframe\">\n",
       "  <thead>\n",
       "    <tr style=\"text-align: right;\">\n",
       "      <th></th>\n",
       "      <th>event</th>\n",
       "      <th>type</th>\n",
       "      <th>x</th>\n",
       "      <th>y</th>\n",
       "      <th>z</th>\n",
       "      <th>s1_photons_true</th>\n",
       "      <th>s2_electrons_true</th>\n",
       "      <th>t</th>\n",
       "    </tr>\n",
       "  </thead>\n",
       "  <tbody>\n",
       "    <tr>\n",
       "      <th>1</th>\n",
       "      <td>0</td>\n",
       "      <td>ER</td>\n",
       "      <td>4.628629</td>\n",
       "      <td>27.725661</td>\n",
       "      <td>24.814994</td>\n",
       "      <td>5</td>\n",
       "      <td>20</td>\n",
       "      <td>650000.0</td>\n",
       "    </tr>\n",
       "    <tr>\n",
       "      <th>2</th>\n",
       "      <td>1</td>\n",
       "      <td>ER</td>\n",
       "      <td>2.626434</td>\n",
       "      <td>-17.960824</td>\n",
       "      <td>57.456815</td>\n",
       "      <td>164</td>\n",
       "      <td>79</td>\n",
       "      <td>650000.0</td>\n",
       "    </tr>\n",
       "    <tr>\n",
       "      <th>3</th>\n",
       "      <td>2</td>\n",
       "      <td>ER</td>\n",
       "      <td>-32.844888</td>\n",
       "      <td>-21.247503</td>\n",
       "      <td>25.655845</td>\n",
       "      <td>11</td>\n",
       "      <td>22</td>\n",
       "      <td>650000.0</td>\n",
       "    </tr>\n",
       "    <tr>\n",
       "      <th>4</th>\n",
       "      <td>3</td>\n",
       "      <td>ER</td>\n",
       "      <td>10.907536</td>\n",
       "      <td>-6.312277</td>\n",
       "      <td>57.780505</td>\n",
       "      <td>212</td>\n",
       "      <td>75</td>\n",
       "      <td>650000.0</td>\n",
       "    </tr>\n",
       "    <tr>\n",
       "      <th>5</th>\n",
       "      <td>4</td>\n",
       "      <td>ER</td>\n",
       "      <td>12.190372</td>\n",
       "      <td>-35.645256</td>\n",
       "      <td>46.617485</td>\n",
       "      <td>16</td>\n",
       "      <td>29</td>\n",
       "      <td>650000.0</td>\n",
       "    </tr>\n",
       "  </tbody>\n",
       "</table>\n",
       "</div>"
      ],
      "text/plain": [
       "   event type          x          y          z  s1_photons_true  \\\n",
       "1      0   ER   4.628629  27.725661  24.814994                5   \n",
       "2      1   ER   2.626434 -17.960824  57.456815              164   \n",
       "3      2   ER -32.844888 -21.247503  25.655845               11   \n",
       "4      3   ER  10.907536  -6.312277  57.780505              212   \n",
       "5      4   ER  12.190372 -35.645256  46.617485               16   \n",
       "\n",
       "   s2_electrons_true         t  \n",
       "1                 20  650000.0  \n",
       "2                 79  650000.0  \n",
       "3                 22  650000.0  \n",
       "4                 75  650000.0  \n",
       "5                 29  650000.0  "
      ]
     },
     "metadata": {},
     "output_type": "display_data"
    },
    {
     "name": "stdout",
     "output_type": "stream",
     "text": [
      "\n"
     ]
    }
   ],
   "source": [
    "\n",
    "####################################################################################################\n",
    "# NEST Truth\n",
    "####################################################################################################\n",
    "\n",
    "#geant_cols = ['event', 'type', 'x', 'y', 'z', 's1_photons_true', 's2_electrons_true', 't']\n",
    "geant_cols = ['event', 'type', 'x', 'y', 'z', 's1_photons_true', 's2_electrons_true']\n",
    "\n",
    "geant_truth_file       = \"../data/FakeWaveform.csv\"\n",
    "df_geant_truth         = pd.read_csv(geant_truth_file)\n",
    "df_geant_truth.columns = ['event', 'type', 'x', 'y', 'z', 's1_photons_true', 's2_electrons_true', 't'] \n",
    "df_geant_truth         = df_geant_truth[geant_cols]\n",
    "lgth                  = len(df_geant_truth.index)\n",
    "df_geant_truth.index   = np.arange(1, len(df_geant_truth) + 1)\n",
    "\n",
    "\n",
    "####################################################################################################\n",
    "####################################################################################################\n",
    "\n",
    "print(\"\")\n",
    "print(\"Geant4 events: \" + str(len(df_geant_truth.index)))\n",
    "print(\"\")\n",
    "display(df_geant_truth[:5][:])\n",
    "print(\"\")\n",
    "\n"
   ]
  },
  {
   "cell_type": "code",
   "execution_count": null,
   "metadata": {
    "collapsed": true
   },
   "outputs": [],
   "source": []
  },
  {
   "cell_type": "code",
   "execution_count": 82,
   "metadata": {
    "collapsed": true
   },
   "outputs": [],
   "source": [
    "\n",
    "####################################################################################################\n",
    "# Number of S1's \n",
    "####################################################################################################\n",
    "\n",
    "cols = ['event', 'peak_type', 't_mean_photons', 't_mean_electrons']\n",
    "\n",
    "\n"
   ]
  },
  {
   "cell_type": "code",
   "execution_count": null,
   "metadata": {
    "collapsed": true
   },
   "outputs": [],
   "source": []
  },
  {
   "cell_type": "code",
   "execution_count": 83,
   "metadata": {
    "collapsed": false
   },
   "outputs": [
    {
     "name": "stdout",
     "output_type": "stream",
     "text": [
      "\n",
      "Event Statistics\n",
      "----------------------------------------------------------------------------------------------------\n",
      "\n",
      "Geant4                          :   1000\n",
      "NEST                            :   993   (7 missing )\n",
      "\n"
     ]
    }
   ],
   "source": [
    "\n",
    "####################################################################################################\n",
    "####################################################################################################\n",
    "\n",
    "nEventsNest        = len(event_truths)\n",
    "nEventsNestMissing = nEventsGeant - nEventsNest\n",
    "\n",
    "\n",
    "####################################################################################################\n",
    "####################################################################################################\n",
    "\n",
    "print(\"\")\n",
    "print(\"Event Statistics\")\n",
    "print(\"----------------------------------------------------------------------------------------------------\")\n",
    "print(\"\")\n",
    "print(\"Geant4                          :   \" + str(nEventsGeant))\n",
    "print(\"NEST                            :   \" + str(nEventsNest) + \"   (\" + str(nEventsNestMissing) + \" missing )\" )\n",
    "print(\"\")\n"
   ]
  },
  {
   "cell_type": "code",
   "execution_count": null,
   "metadata": {
    "collapsed": true
   },
   "outputs": [],
   "source": []
  },
  {
   "cell_type": "code",
   "execution_count": 112,
   "metadata": {
    "collapsed": false,
    "scrolled": true
   },
   "outputs": [
    {
     "name": "stdout",
     "output_type": "stream",
     "text": [
      "\n",
      "Event: 138, i: 138 is missing\n",
      "Event: 350, i: 349 is missing\n",
      "Event: 372, i: 370 is missing\n",
      "Event: 554, i: 551 is missing\n",
      "Event: 628, i: 624 is missing\n",
      "Event: 674, i: 669 is missing\n",
      "Exception reading event data (df2.iloc[0]['event']): single positional indexer is out-of-bounds\n",
      "   i=842, index=848, (last) event_num=847\n",
      "\n",
      "Events in s1 dataframe: 992\n",
      "Events in s2 dataframe: 992\n",
      "\n",
      "Missing 7 of 1000 events: ([ 138.  350.  372.  554.  628.  674.  848.])\n",
      "\n"
     ]
    }
   ],
   "source": [
    "\n",
    "####################################################################################################\n",
    "####################################################################################################\n",
    "\n",
    "print(\"\")\n",
    "\n",
    "df_num_s1 = pd.DataFrame(columns=['event', 's1_num']) \n",
    "df_num_s2 = pd.DataFrame(columns=['event', 's2_num']) \n",
    "\n",
    "df_t_mean_s1 = pd.DataFrame(columns=['event', 't_mean_photons']) \n",
    "df_t_mean_s2 = pd.DataFrame(columns=['event', 't_mean_electrons']) \n",
    "\n",
    "npa_missing = np.array([])\n",
    "\n",
    "i_start = 0\n",
    "i_end   = nEventsNest\n",
    "\n",
    "index     = start\n",
    "event_num = 0\n",
    "\n",
    "for i in range(i_start, i_end):\n",
    "    \n",
    "    #print(\"i: \" + str(i))\n",
    "    \n",
    "    \n",
    "    ################################################################################################\n",
    "    ################################################################################################\n",
    "\n",
    "    try:\n",
    "        \n",
    "        df1 = event_truths[i]\n",
    "        df2 = df1[:][cols]\n",
    "    \n",
    "    except Exception as e:\n",
    "        \n",
    "        print(\"Exception reading truth for event \" + str(i) + \": \" + str(e))\n",
    "        \n",
    "        break\n",
    "    \n",
    "\n",
    "    ################################################################################################\n",
    "    ################################################################################################\n",
    "    \n",
    "    try:\n",
    "        \n",
    "        event_num = df2.iloc[0]['event']\n",
    "        \n",
    "    except Exception as e:\n",
    "        \n",
    "        print(\"Exception reading event data (df2.iloc[0]['event']): \" + str(e))\n",
    "        print(\"   i=\" + str(i) + \", index=\" + str(index) + \", (last) event_num=\" + str(event_num))\n",
    "        \n",
    "        npa_missing = np.append(npa_missing, [index])\n",
    "        \n",
    "        index += 1\n",
    "        \n",
    "        continue\n",
    "    \n",
    "    \n",
    "    ################################################################################################\n",
    "    ################################################################################################\n",
    "    \n",
    "    if (event_num != index):\n",
    "        \n",
    "        print(\"Event: \" + str(index) + \", i: \" + str(i) + \" is missing\")\n",
    "        \n",
    "        npa_missing = np.append(npa_missing, [index])\n",
    "        \n",
    "        index += 1\n",
    "        \n",
    "    index += 1\n",
    "    \n",
    "    \n",
    "    \n",
    "    ################################################################################################\n",
    "    # Number of S1 & S2\n",
    "    ################################################################################################\n",
    "    \n",
    "    df3       = df2.loc[df2['peak_type'] == 's1']\n",
    "    n_s1      = (df3['peak_type'] == 's1').count()\n",
    "    df_s1_add = pd.DataFrame([[event_num, n_s1]], columns=['event', 's1_num'])\n",
    "    df_num_s1 = df_num_s1.append(df_s1_add, ignore_index=False)\n",
    "    \n",
    "    df_s2     = df2.loc[df2['peak_type'] == 's2']\n",
    "    n_s2      = (df_s2['peak_type'] == 's2').count()\n",
    "    df_s2_add = pd.DataFrame([[event_num, n_s2]], columns=['event', 's2_num'])\n",
    "    df_num_s2 = df_num_s2.append(df_s2_add, ignore_index=False)\n",
    "    \n",
    "    \n",
    "    ################################################################################################\n",
    "    # Times for S1\n",
    "    ################################################################################################\n",
    "\n",
    "    df4 = pd.DataFrame({'event': [event_num], 't_mean_photons': [np.nan]})\n",
    "    df5 = df2.loc[df2['peak_type'] == 's1'][['event', 't_mean_photons']]\n",
    "\n",
    "    if (len(df5.index) > 0):\n",
    "        \n",
    "        if (len(df5.index) == 1):\n",
    "            df4 = df5\n",
    "            \n",
    "        else:\n",
    "\n",
    "            print(\"Error: Multiple S1 times not hanled!\")\n",
    "            \n",
    "    df_t_mean_s1 = df_t_mean_s1.append(df4)\n",
    "            \n",
    "\n",
    "     \n",
    "    ################################################################################################\n",
    "    # Times for S2\n",
    "    ################################################################################################\n",
    "\n",
    "    df6 = pd.DataFrame({'event': [event_num], 't_mean_electrons': [np.nan]})\n",
    "    df7 = df2.loc[df2['peak_type'] == 's2'][['event', 't_mean_electrons']]\n",
    "\n",
    "    if (len(df7.index) > 0):\n",
    "        \n",
    "        if (len(df7.index) == 1):\n",
    "            df6 = df7\n",
    "            \n",
    "        else:\n",
    "\n",
    "            print(\"Error: Multiple S2 times not hanled!\")\n",
    "            \n",
    "    df_t_mean_s2 = df_t_mean_s2.append(df6)\n",
    "            \n",
    "    \n",
    "####################################################################################################\n",
    "####################################################################################################\n",
    "\n",
    "print(\"\")\n",
    "print(\"Events in s1 dataframe: \" + str(len(df_num_s1.index)) ) \n",
    "print(\"Events in s2 dataframe: \" + str(len(df_num_s2.index)) ) \n",
    "print(\"\")\n",
    "print(\"Missing \" + str(nEventsNestMissing) + \" of \" + str(nEventsGeant) + \" events: (\" + str(npa_missing) + \")\")\n",
    "print(\"\")\n",
    "\n"
   ]
  },
  {
   "cell_type": "code",
   "execution_count": 113,
   "metadata": {
    "collapsed": true
   },
   "outputs": [],
   "source": [
    "#display(df_num_s1[:3][:])\n",
    "#display(df_num_s2[:3][:])"
   ]
  },
  {
   "cell_type": "code",
   "execution_count": null,
   "metadata": {
    "collapsed": true
   },
   "outputs": [],
   "source": []
  },
  {
   "cell_type": "code",
   "execution_count": null,
   "metadata": {
    "collapsed": true
   },
   "outputs": [],
   "source": []
  },
  {
   "cell_type": "code",
   "execution_count": 118,
   "metadata": {
    "collapsed": false
   },
   "outputs": [
    {
     "name": "stdout",
     "output_type": "stream",
     "text": [
      "Events in dataframe: 992\n",
      "\n"
     ]
    },
    {
     "data": {
      "text/html": [
       "<div>\n",
       "<table border=\"1\" class=\"dataframe\">\n",
       "  <thead>\n",
       "    <tr style=\"text-align: right;\">\n",
       "      <th></th>\n",
       "      <th>event</th>\n",
       "      <th>s1_num</th>\n",
       "      <th>s2_num</th>\n",
       "      <th>t_mean_photons</th>\n",
       "      <th>t_mean_electrons</th>\n",
       "    </tr>\n",
       "  </thead>\n",
       "  <tbody>\n",
       "    <tr>\n",
       "      <th>0</th>\n",
       "      <td>0.0</td>\n",
       "      <td>0.0</td>\n",
       "      <td>1.0</td>\n",
       "      <td>NaN</td>\n",
       "      <td>8.276418e+05</td>\n",
       "    </tr>\n",
       "    <tr>\n",
       "      <th>1</th>\n",
       "      <td>1.0</td>\n",
       "      <td>1.0</td>\n",
       "      <td>1.0</td>\n",
       "      <td>655077.777458</td>\n",
       "      <td>1.055127e+06</td>\n",
       "    </tr>\n",
       "    <tr>\n",
       "      <th>2</th>\n",
       "      <td>2.0</td>\n",
       "      <td>1.0</td>\n",
       "      <td>1.0</td>\n",
       "      <td>655072.962416</td>\n",
       "      <td>8.333101e+05</td>\n",
       "    </tr>\n",
       "  </tbody>\n",
       "</table>\n",
       "</div>"
      ],
      "text/plain": [
       "   event  s1_num  s2_num  t_mean_photons  t_mean_electrons\n",
       "0    0.0     0.0     1.0             NaN      8.276418e+05\n",
       "1    1.0     1.0     1.0   655077.777458      1.055127e+06\n",
       "2    2.0     1.0     1.0   655072.962416      8.333101e+05"
      ]
     },
     "metadata": {},
     "output_type": "display_data"
    },
    {
     "name": "stdout",
     "output_type": "stream",
     "text": [
      "\n"
     ]
    }
   ],
   "source": [
    "\n",
    "####################################################################################################\n",
    "####################################################################################################\n",
    "\n",
    "df_num_s1s2 = df_num_s1.merge(df_num_s2, left_on='event', right_on='event')\n",
    "df_num_s1s2 = df_num_s1s2.merge(df_t_mean_s1, left_on='event', right_on='event')\n",
    "df_num_s1s2 = df_num_s1s2.merge(df_t_mean_s2, left_on='event', right_on='event')\n",
    "\n",
    "print(\"Events in dataframe: \" + str(len(df_num_s1s2.index)) ) \n",
    "print(\"\")\n",
    "display(df_num_s1s2[:3][:])\n",
    "print(\"\")\n"
   ]
  },
  {
   "cell_type": "code",
   "execution_count": null,
   "metadata": {
    "collapsed": true
   },
   "outputs": [],
   "source": []
  },
  {
   "cell_type": "code",
   "execution_count": null,
   "metadata": {
    "collapsed": true
   },
   "outputs": [],
   "source": []
  },
  {
   "cell_type": "code",
   "execution_count": 125,
   "metadata": {
    "collapsed": false
   },
   "outputs": [
    {
     "name": "stdout",
     "output_type": "stream",
     "text": [
      "\n",
      "NEST  events         : 992\n",
      "Geant events         : 1000\n",
      "Combined Truth events: 992\n",
      "\n"
     ]
    },
    {
     "data": {
      "text/html": [
       "<div>\n",
       "<table border=\"1\" class=\"dataframe\">\n",
       "  <thead>\n",
       "    <tr style=\"text-align: right;\">\n",
       "      <th></th>\n",
       "      <th>event</th>\n",
       "      <th>type</th>\n",
       "      <th>x</th>\n",
       "      <th>y</th>\n",
       "      <th>z</th>\n",
       "      <th>s1_photons_true</th>\n",
       "      <th>s2_electrons_true</th>\n",
       "      <th>t</th>\n",
       "      <th>s1_num</th>\n",
       "      <th>s2_num</th>\n",
       "      <th>t_mean_photons</th>\n",
       "      <th>t_mean_electrons</th>\n",
       "      <th>dt</th>\n",
       "      <th>r</th>\n",
       "      <th>phi</th>\n",
       "    </tr>\n",
       "  </thead>\n",
       "  <tbody>\n",
       "    <tr>\n",
       "      <th>0</th>\n",
       "      <td>0</td>\n",
       "      <td>ER</td>\n",
       "      <td>4.628629</td>\n",
       "      <td>27.725661</td>\n",
       "      <td>24.814994</td>\n",
       "      <td>5</td>\n",
       "      <td>20</td>\n",
       "      <td>650000.0</td>\n",
       "      <td>0.0</td>\n",
       "      <td>1.0</td>\n",
       "      <td>NaN</td>\n",
       "      <td>8.276418e+05</td>\n",
       "      <td>NaN</td>\n",
       "      <td>28.109367</td>\n",
       "      <td>1.405378</td>\n",
       "    </tr>\n",
       "    <tr>\n",
       "      <th>1</th>\n",
       "      <td>1</td>\n",
       "      <td>ER</td>\n",
       "      <td>2.626434</td>\n",
       "      <td>-17.960824</td>\n",
       "      <td>57.456815</td>\n",
       "      <td>164</td>\n",
       "      <td>79</td>\n",
       "      <td>650000.0</td>\n",
       "      <td>1.0</td>\n",
       "      <td>1.0</td>\n",
       "      <td>655077.777458</td>\n",
       "      <td>1.055127e+06</td>\n",
       "      <td>400049.699577</td>\n",
       "      <td>18.151841</td>\n",
       "      <td>-1.425594</td>\n",
       "    </tr>\n",
       "    <tr>\n",
       "      <th>2</th>\n",
       "      <td>2</td>\n",
       "      <td>ER</td>\n",
       "      <td>-32.844888</td>\n",
       "      <td>-21.247503</td>\n",
       "      <td>25.655845</td>\n",
       "      <td>11</td>\n",
       "      <td>22</td>\n",
       "      <td>650000.0</td>\n",
       "      <td>1.0</td>\n",
       "      <td>1.0</td>\n",
       "      <td>655072.962416</td>\n",
       "      <td>8.333101e+05</td>\n",
       "      <td>178237.185795</td>\n",
       "      <td>39.118321</td>\n",
       "      <td>-2.567397</td>\n",
       "    </tr>\n",
       "    <tr>\n",
       "      <th>3</th>\n",
       "      <td>3</td>\n",
       "      <td>ER</td>\n",
       "      <td>10.907536</td>\n",
       "      <td>-6.312277</td>\n",
       "      <td>57.780505</td>\n",
       "      <td>212</td>\n",
       "      <td>75</td>\n",
       "      <td>650000.0</td>\n",
       "      <td>1.0</td>\n",
       "      <td>1.0</td>\n",
       "      <td>655089.037260</td>\n",
       "      <td>1.057330e+06</td>\n",
       "      <td>402240.825728</td>\n",
       "      <td>12.602348</td>\n",
       "      <td>-0.524616</td>\n",
       "    </tr>\n",
       "  </tbody>\n",
       "</table>\n",
       "</div>"
      ],
      "text/plain": [
       "   event type          x          y          z  s1_photons_true  \\\n",
       "0      0   ER   4.628629  27.725661  24.814994                5   \n",
       "1      1   ER   2.626434 -17.960824  57.456815              164   \n",
       "2      2   ER -32.844888 -21.247503  25.655845               11   \n",
       "3      3   ER  10.907536  -6.312277  57.780505              212   \n",
       "\n",
       "   s2_electrons_true         t  s1_num  s2_num  t_mean_photons  \\\n",
       "0                 20  650000.0     0.0     1.0             NaN   \n",
       "1                 79  650000.0     1.0     1.0   655077.777458   \n",
       "2                 22  650000.0     1.0     1.0   655072.962416   \n",
       "3                 75  650000.0     1.0     1.0   655089.037260   \n",
       "\n",
       "   t_mean_electrons             dt          r       phi  \n",
       "0      8.276418e+05            NaN  28.109367  1.405378  \n",
       "1      1.055127e+06  400049.699577  18.151841 -1.425594  \n",
       "2      8.333101e+05  178237.185795  39.118321 -2.567397  \n",
       "3      1.057330e+06  402240.825728  12.602348 -0.524616  "
      ]
     },
     "metadata": {},
     "output_type": "display_data"
    },
    {
     "name": "stdout",
     "output_type": "stream",
     "text": [
      "\n"
     ]
    }
   ],
   "source": [
    "\n",
    "####################################################################################################\n",
    "####################################################################################################\n",
    "\n",
    "print(\"\")\n",
    "print(\"NEST  events         : \" + str(len(df_num_s1s2.index)))\n",
    "print(\"Geant events         : \" + str(len(df_geant_truth.index)))\n",
    "\n",
    "#df_s1s2 = pd.concat([df_geant_truth, df_num_s1s2], axis=1, join=\"inner\")\n",
    "\n",
    "df_s1s2 = df_geant_truth.merge(df_num_s1s2, left_on='event', right_on='event')\n",
    "\n",
    "print(\"Combined Truth events: \" + str(len(df_s1s2.index)))\n",
    "\n",
    "df_s1s2['dt']  = df_s1s2.t_mean_electrons - df_s1s2.t_mean_photons\n",
    "df_s1s2['r']   = np.sqrt(df_s1s2.x*df_s1s2.x + df_s1s2.y*df_s1s2.y)\n",
    "df_s1s2['phi'] = np.arctan2(df_s1s2.y, df_s1s2.x)\n",
    "\n",
    "\n",
    "print(\"\")\n",
    "display(df_s1s2[:4][:])\n",
    "print(\"\")\n"
   ]
  },
  {
   "cell_type": "code",
   "execution_count": null,
   "metadata": {
    "collapsed": false
   },
   "outputs": [],
   "source": []
  },
  {
   "cell_type": "code",
   "execution_count": 12,
   "metadata": {
    "collapsed": false
   },
   "outputs": [
    {
     "name": "stdout",
     "output_type": "stream",
     "text": [
      "\n",
      "Event Statistics\n",
      "----------------------------------------------------------------------------------------------------\n",
      "\n",
      "Geant4                          :   999\n",
      "NEST                            :   992\n",
      "NEST Missing                    :   7\n",
      "\n",
      "Single S1 AND Single S2         :   924\n",
      "Non-Single S1 OR Non-Single S2  :   67\n",
      "\n",
      "Zero S1 OR Zero S2              :   67\n",
      "   Zero S1                      :   65\n",
      "   Zero S2                      :   2\n",
      "   Zero S1 AND Zero S2          :   0\n",
      "\n",
      "Multiple S1 OR Multiple S2      :   0\n",
      "   Multiple S1                  :   0\n",
      "   Multiple S2                  :   0\n",
      "\n",
      "\n",
      "----------------------------------------------------------------------------------------------------\n",
      "\n",
      "Counting Error!\n",
      "cErr0: False\n",
      "cErr1: True\n",
      "cErr2: True\n",
      "cErr3: False\n",
      "cErr4: False\n",
      "\n"
     ]
    }
   ],
   "source": [
    "\n",
    "####################################################################################################\n",
    "####################################################################################################\n",
    "\n",
    "n_singleS1_and_singleS2      = len(df_s1s2.loc[((df_s1s2['s1_num'] == 1) & (df_s1s2['s2_num'] == 1))].index)\n",
    "n_nonSingleS1_or_nonSingleS2 = len(df_s1s2.loc[((df_s1s2['s1_num'] != 1) | (df_s1s2['s2_num'] != 1))].index)\n",
    "\n",
    "n_zeroS1                     = len(df_s1s2.loc[(df_s1s2['s1_num'] == 0)].index)\n",
    "n_zeroS2                     = len(df_s1s2.loc[(df_s1s2['s2_num'] == 0)].index)\n",
    "n_zeroS1_or_zeroS2           = len(df_s1s2.loc[((df_s1s2['s1_num'] == 0) | (df_s1s2['s2_num'] == 0))].index)\n",
    "n_zeroS1_and_zeroS2          = len(df_s1s2.loc[((df_s1s2['s1_num'] == 0) & (df_s1s2['s2_num'] == 0))].index)\n",
    "\n",
    "n_multipleS1                 = len(df_s1s2.loc[(df_s1s2['s1_num'] >= 2)].index)\n",
    "n_multipleS2                 = len(df_s1s2.loc[(df_s1s2['s2_num'] >= 2)].index)\n",
    "n_multipleS1_or_multiple_S2  = len(df_s1s2.loc[ (df_s1s2['s1_num'] >= 2) | (df_s1s2['s2_num'] >= 2) ].index)\n",
    "\n",
    "\n",
    "\n",
    "####################################################################################################\n",
    "####################################################################################################\n",
    "\n",
    "print(\"\")\n",
    "print(\"Event Statistics\")\n",
    "print(\"----------------------------------------------------------------------------------------------------\")\n",
    "\n",
    "print(\"\")\n",
    "print(\"Geant4                          :   \" + str(nEventsGeant))\n",
    "print(\"NEST                            :   \" + str(nEventsNest))\n",
    "print(\"NEST Missing                    :   \" + str(nEventsNestMissing))\n",
    "print(\"\")\n",
    "print(\"Single S1 AND Single S2         :   \" + str(n_singleS1_and_singleS2))\n",
    "print(\"Non-Single S1 OR Non-Single S2  :   \" + str(n_nonSingleS1_or_nonSingleS2))\n",
    "print(\"\")\n",
    "print(\"Zero S1 OR Zero S2              :   \" + str(n_zeroS1_or_zeroS2))\n",
    "print(\"   Zero S1                      :   \" + str(n_zeroS1))\n",
    "print(\"   Zero S2                      :   \" + str(n_zeroS2))\n",
    "print(\"   Zero S1 AND Zero S2          :   \" + str(n_zeroS1_and_zeroS2))\n",
    "print(\"\")     \n",
    "print(\"Multiple S1 OR Multiple S2      :   \" + str(n_multipleS1_or_multiple_S2))\n",
    "print(\"   Multiple S1                  :   \" + str(n_multipleS1))\n",
    "print(\"   Multiple S2                  :   \" + str(n_multipleS2))\n",
    "print(\"\")     \n",
    "\n",
    "\n",
    "####################################################################################################\n",
    "####################################################################################################\n",
    "\n",
    "cErr0 = (nEventsGeant - nEventsNestMissing != nEventsNest)\n",
    "cErr1 = (nEventsNest != len(df_s1s2.index))\n",
    "cErr2 = (nEventsNest != n_singleS1_and_singleS2 + n_nonSingleS1_or_nonSingleS2)\n",
    "cErr3 = (n_zeroS1_or_zeroS2          != n_zeroS1     + n_zeroS2)\n",
    "cErr4 = (n_multipleS1_or_multiple_S2 != n_multipleS1 + n_multipleS2)\n",
    "\n",
    "\n",
    "if (cErr0 | cErr1 | cErr2 | cErr3 | cErr4):\n",
    "    print(\"\")     \n",
    "    print(\"----------------------------------------------------------------------------------------------------\")\n",
    "    print(\"\")     \n",
    "    print(\"Counting Error!\")\n",
    "    print(\"cErr0: \" + str(cErr0))\n",
    "    print(\"cErr1: \" + str(cErr1))\n",
    "    print(\"cErr2: \" + str(cErr2))\n",
    "    print(\"cErr3: \" + str(cErr3))\n",
    "    print(\"cErr4: \" + str(cErr4))\n",
    "    print(\"\")     \n",
    "    "
   ]
  },
  {
   "cell_type": "code",
   "execution_count": 13,
   "metadata": {
    "collapsed": false
   },
   "outputs": [
    {
     "name": "stdout",
     "output_type": "stream",
     "text": [
      "\n",
      "Efficiency (NEST/Geant)  : 0.992992992992993\n",
      "\n"
     ]
    }
   ],
   "source": [
    "\n",
    "####################################################################################################\n",
    "# Efficiencies\n",
    "####################################################################################################\n",
    "\n",
    "eNest = (nEventsGeant - nEventsNestMissing) / nEventsGeant\n",
    "\n",
    "\n",
    "####################################################################################################\n",
    "####################################################################################################\n",
    "\n",
    "print(\"\")\n",
    "print(\"Efficiency (NEST/Geant)  : \" + str(eNest))\n",
    "print(\"\")\n"
   ]
  },
  {
   "cell_type": "code",
   "execution_count": null,
   "metadata": {
    "collapsed": true
   },
   "outputs": [],
   "source": []
  },
  {
   "cell_type": "code",
   "execution_count": null,
   "metadata": {
    "collapsed": true
   },
   "outputs": [],
   "source": []
  },
  {
   "cell_type": "code",
   "execution_count": null,
   "metadata": {
    "collapsed": true
   },
   "outputs": [],
   "source": []
  },
  {
   "cell_type": "code",
   "execution_count": 11,
   "metadata": {
    "collapsed": false
   },
   "outputs": [
    {
     "data": {
      "text/plain": [
       "list"
      ]
     },
     "execution_count": 11,
     "metadata": {},
     "output_type": "execute_result"
    }
   ],
   "source": [
    "type(event_truths)"
   ]
  },
  {
   "cell_type": "code",
   "execution_count": 12,
   "metadata": {
    "collapsed": false
   },
   "outputs": [
    {
     "data": {
      "text/plain": [
       "pandas.core.frame.DataFrame"
      ]
     },
     "execution_count": 12,
     "metadata": {},
     "output_type": "execute_result"
    }
   ],
   "source": [
    "type(event_truths[0])"
   ]
  },
  {
   "cell_type": "code",
   "execution_count": null,
   "metadata": {
    "collapsed": true
   },
   "outputs": [],
   "source": []
  },
  {
   "cell_type": "code",
   "execution_count": null,
   "metadata": {
    "collapsed": true
   },
   "outputs": [],
   "source": []
  },
  {
   "cell_type": "code",
   "execution_count": 13,
   "metadata": {
    "collapsed": false
   },
   "outputs": [
    {
     "data": {
      "text/html": [
       "<div>\n",
       "<table border=\"1\" class=\"dataframe\">\n",
       "  <thead>\n",
       "    <tr style=\"text-align: right;\">\n",
       "      <th></th>\n",
       "      <th>fax_truth_peak_id</th>\n",
       "      <th>event</th>\n",
       "      <th>g4_id</th>\n",
       "      <th>instruction</th>\n",
       "      <th>n_electrons</th>\n",
       "      <th>n_photons</th>\n",
       "      <th>peak_type</th>\n",
       "      <th>repetition</th>\n",
       "      <th>t_first_electron</th>\n",
       "      <th>t_first_photon</th>\n",
       "      <th>...</th>\n",
       "      <th>t_last_electron</th>\n",
       "      <th>t_last_photon</th>\n",
       "      <th>t_mean_electrons</th>\n",
       "      <th>t_mean_photons</th>\n",
       "      <th>t_sigma_electrons</th>\n",
       "      <th>t_sigma_photons</th>\n",
       "      <th>top_fraction</th>\n",
       "      <th>x</th>\n",
       "      <th>y</th>\n",
       "      <th>z</th>\n",
       "    </tr>\n",
       "  </thead>\n",
       "  <tbody>\n",
       "    <tr>\n",
       "      <th>21</th>\n",
       "      <td>21</td>\n",
       "      <td>4</td>\n",
       "      <td>-1</td>\n",
       "      <td>4</td>\n",
       "      <td>16.0</td>\n",
       "      <td>325</td>\n",
       "      <td>s2</td>\n",
       "      <td>0</td>\n",
       "      <td>977975.654754</td>\n",
       "      <td>978075.090505</td>\n",
       "      <td>...</td>\n",
       "      <td>980401.837409</td>\n",
       "      <td>981103.962199</td>\n",
       "      <td>979291.742446</td>\n",
       "      <td>979662.714087</td>\n",
       "      <td>635.786755</td>\n",
       "      <td>658.507885</td>\n",
       "      <td>0.667692</td>\n",
       "      <td>11.533362</td>\n",
       "      <td>-33.724126</td>\n",
       "      <td>-46.617485</td>\n",
       "    </tr>\n",
       "  </tbody>\n",
       "</table>\n",
       "<p>1 rows × 21 columns</p>\n",
       "</div>"
      ],
      "text/plain": [
       "    fax_truth_peak_id  event  g4_id  instruction  n_electrons  n_photons  \\\n",
       "21                 21      4     -1            4         16.0        325   \n",
       "\n",
       "   peak_type  repetition  t_first_electron  t_first_photon    ...      \\\n",
       "21        s2           0     977975.654754   978075.090505    ...       \n",
       "\n",
       "    t_last_electron  t_last_photon  t_mean_electrons  t_mean_photons  \\\n",
       "21    980401.837409  981103.962199     979291.742446   979662.714087   \n",
       "\n",
       "    t_sigma_electrons  t_sigma_photons  top_fraction          x          y  \\\n",
       "21         635.786755       658.507885      0.667692  11.533362 -33.724126   \n",
       "\n",
       "            z  \n",
       "21 -46.617485  \n",
       "\n",
       "[1 rows x 21 columns]"
      ]
     },
     "execution_count": 13,
     "metadata": {},
     "output_type": "execute_result"
    }
   ],
   "source": [
    "event_truths[3]"
   ]
  },
  {
   "cell_type": "code",
   "execution_count": 14,
   "metadata": {
    "collapsed": false
   },
   "outputs": [
    {
     "ename": "NameError",
     "evalue": "name 'df_test2' is not defined",
     "output_type": "error",
     "traceback": [
      "\u001b[0;31m---------------------------------------------------------------------------\u001b[0m",
      "\u001b[0;31mNameError\u001b[0m                                 Traceback (most recent call last)",
      "\u001b[0;32m<ipython-input-14-c8fc51b2cdda>\u001b[0m in \u001b[0;36m<module>\u001b[0;34m()\u001b[0m\n\u001b[1;32m      3\u001b[0m \u001b[0;31m####################################################################################################\u001b[0m\u001b[0;34m\u001b[0m\u001b[0;34m\u001b[0m\u001b[0m\n\u001b[1;32m      4\u001b[0m \u001b[0;34m\u001b[0m\u001b[0m\n\u001b[0;32m----> 5\u001b[0;31m \u001b[0msel_s1\u001b[0m   \u001b[0;34m=\u001b[0m \u001b[0;34m(\u001b[0m\u001b[0mdf_test2\u001b[0m\u001b[0;34m[\u001b[0m\u001b[0;34m'peak_type'\u001b[0m\u001b[0;34m]\u001b[0m \u001b[0;34m==\u001b[0m \u001b[0;34m's1'\u001b[0m\u001b[0;34m)\u001b[0m\u001b[0;34m\u001b[0m\u001b[0m\n\u001b[0m\u001b[1;32m      6\u001b[0m \u001b[0msel_s2\u001b[0m   \u001b[0;34m=\u001b[0m \u001b[0;34m(\u001b[0m\u001b[0mdf_test2\u001b[0m\u001b[0;34m[\u001b[0m\u001b[0;34m'peak_type'\u001b[0m\u001b[0;34m]\u001b[0m \u001b[0;34m==\u001b[0m \u001b[0;34m's2'\u001b[0m\u001b[0;34m)\u001b[0m\u001b[0;34m\u001b[0m\u001b[0m\n\u001b[1;32m      7\u001b[0m \u001b[0msel_s1s2\u001b[0m \u001b[0;34m=\u001b[0m \u001b[0;34m(\u001b[0m\u001b[0msel_s1\u001b[0m \u001b[0;34m|\u001b[0m \u001b[0msel_s2\u001b[0m\u001b[0;34m)\u001b[0m\u001b[0;34m\u001b[0m\u001b[0m\n",
      "\u001b[0;31mNameError\u001b[0m: name 'df_test2' is not defined"
     ]
    }
   ],
   "source": [
    "\n",
    "####################################################################################################\n",
    "####################################################################################################\n",
    "\n",
    "sel_s1   = (df_test2['peak_type'] == 's1')\n",
    "sel_s2   = (df_test2['peak_type'] == 's2')\n",
    "sel_s1s2 = (sel_s1 | sel_s2)\n",
    "\n",
    "\n",
    "####################################################################################################\n",
    "####################################################################################################\n",
    "\n",
    "def get_df(df_in):\n",
    "\n",
    "    df1 = df_in\n",
    "    df2 = df1[['event', 'peak_type']]\n",
    "    \n",
    "    df3 = df_test2['peak_type'] == 's2'\n",
    "    \n",
    "    \n",
    "    #df1 = df_in[i][:].loc[df_in['event'] == i+1]\n",
    "        \n",
    "    #df2 = df1.loc[df1['event'] == i+1]\n",
    "    #df3 = df2.loc[df2['peak_type'] == 's2']\n",
    "\n",
    "    display(df3)\n",
    "    \n",
    "    return df1\n",
    "\n",
    "\n",
    "####################################################################################################\n",
    "# Panel\n",
    "# 1st index is event number\n",
    "# 2nd index is...\n",
    "# 3rd index is...\n",
    "####################################################################################################\n",
    "\n",
    "d = { }\n",
    "\n",
    "for i in range(1, 3):\n",
    "    \n",
    "    get_df(event_truths[i])\n",
    "\n",
    "\n",
    "pan = pd.Panel(d)\n",
    "\n",
    "pan[0]\n",
    "\n",
    "####################################################################################################\n",
    "####################################################################################################\n",
    "\n",
    "#print(pan.shape)\n",
    "\n",
    "#pan[0]\n"
   ]
  },
  {
   "cell_type": "code",
   "execution_count": null,
   "metadata": {
    "collapsed": true
   },
   "outputs": [],
   "source": []
  },
  {
   "cell_type": "code",
   "execution_count": null,
   "metadata": {
    "collapsed": true
   },
   "outputs": [],
   "source": []
  },
  {
   "cell_type": "code",
   "execution_count": null,
   "metadata": {
    "collapsed": true
   },
   "outputs": [],
   "source": []
  },
  {
   "cell_type": "code",
   "execution_count": null,
   "metadata": {
    "collapsed": true
   },
   "outputs": [],
   "source": []
  },
  {
   "cell_type": "code",
   "execution_count": 15,
   "metadata": {
    "collapsed": false
   },
   "outputs": [
    {
     "ename": "NameError",
     "evalue": "name 'df_test2' is not defined",
     "output_type": "error",
     "traceback": [
      "\u001b[0;31m---------------------------------------------------------------------------\u001b[0m",
      "\u001b[0;31mNameError\u001b[0m                                 Traceback (most recent call last)",
      "\u001b[0;32m<ipython-input-15-caef2557db27>\u001b[0m in \u001b[0;36m<module>\u001b[0;34m()\u001b[0m\n\u001b[1;32m     12\u001b[0m \u001b[0;34m\u001b[0m\u001b[0m\n\u001b[1;32m     13\u001b[0m \u001b[0;34m\u001b[0m\u001b[0m\n\u001b[0;32m---> 14\u001b[0;31m \u001b[0msel_s1\u001b[0m   \u001b[0;34m=\u001b[0m \u001b[0;34m(\u001b[0m\u001b[0mdf_test2\u001b[0m\u001b[0;34m[\u001b[0m\u001b[0;34m'peak_type'\u001b[0m\u001b[0;34m]\u001b[0m \u001b[0;34m==\u001b[0m \u001b[0;34m's1'\u001b[0m\u001b[0;34m)\u001b[0m\u001b[0;34m\u001b[0m\u001b[0m\n\u001b[0m\u001b[1;32m     15\u001b[0m \u001b[0msel_s2\u001b[0m   \u001b[0;34m=\u001b[0m \u001b[0;34m(\u001b[0m\u001b[0mdf_test2\u001b[0m\u001b[0;34m[\u001b[0m\u001b[0;34m'peak_type'\u001b[0m\u001b[0;34m]\u001b[0m \u001b[0;34m==\u001b[0m \u001b[0;34m's2'\u001b[0m\u001b[0;34m)\u001b[0m\u001b[0;34m\u001b[0m\u001b[0m\n\u001b[1;32m     16\u001b[0m \u001b[0msel_s1s2\u001b[0m \u001b[0;34m=\u001b[0m \u001b[0;34m(\u001b[0m\u001b[0msel_s1\u001b[0m \u001b[0;34m|\u001b[0m \u001b[0msel_s2\u001b[0m\u001b[0;34m)\u001b[0m\u001b[0;34m\u001b[0m\u001b[0m\n",
      "\u001b[0;31mNameError\u001b[0m: name 'df_test2' is not defined"
     ]
    }
   ],
   "source": [
    "\n",
    "####################################################################################################\n",
    "####################################################################################################\n",
    "\n",
    "df_test = event_truths[0]\n",
    "\n",
    "#print(\"\")\n",
    "#display(df_test)\n",
    "\n",
    "####################################################################################################\n",
    "####################################################################################################\n",
    "\n",
    "\n",
    "sel_s1   = (df_test2['peak_type'] == 's1')\n",
    "sel_s2   = (df_test2['peak_type'] == 's2')\n",
    "sel_s1s2 = (sel_s1 | sel_s2)\n",
    "\n",
    "\n",
    "####################################################################################################\n",
    "####################################################################################################\n",
    "\n",
    "cols = ['event', 'x', 'y', 'z', 'peak_type', 'n_electrons', 'n_photons', 't_first_photon', 't_mean_photons', 't_last_photon', 't_first_electron', 't_mean_electrons', 't_last_electron']\n",
    "\n",
    "df_test2 = df_test[:][cols]\n",
    "\n",
    "df_test2 = df_test2[sel_s1s2][:]\n",
    "\n",
    "\n",
    "\n",
    "print(\"\")\n",
    "display(df_test2)\n",
    "print(\"\")"
   ]
  },
  {
   "cell_type": "code",
   "execution_count": null,
   "metadata": {
    "collapsed": true
   },
   "outputs": [],
   "source": []
  },
  {
   "cell_type": "code",
   "execution_count": null,
   "metadata": {
    "collapsed": true
   },
   "outputs": [],
   "source": []
  },
  {
   "cell_type": "code",
   "execution_count": null,
   "metadata": {
    "collapsed": true
   },
   "outputs": [],
   "source": []
  },
  {
   "cell_type": "code",
   "execution_count": null,
   "metadata": {
    "collapsed": false
   },
   "outputs": [],
   "source": [
    "\n",
    "####################################################################################################\n",
    "####################################################################################################\n",
    "\n",
    "cols = ['x', 'y', 'z', 'n_photons', 't_first_photon', 't_last_photon', 't_mean_photons', 'peak_type']\n",
    "\n",
    "df_xyz_true = df_test2.loc[df_test2['peak_type'] == 's1']\n",
    "df_xyz_true = df_xyz_true[:][cols]\n",
    "\n",
    "print(\"\")\n",
    "display(df_xyz_true)\n",
    "print(\"\")\n",
    "df_xyz_true = df_xyz_true.reset_index()[cols]\n",
    "display(df_xyz_true)\n",
    "print(\"\")\n"
   ]
  },
  {
   "cell_type": "code",
   "execution_count": null,
   "metadata": {
    "collapsed": true
   },
   "outputs": [],
   "source": []
  },
  {
   "cell_type": "code",
   "execution_count": null,
   "metadata": {
    "collapsed": true
   },
   "outputs": [],
   "source": []
  },
  {
   "cell_type": "code",
   "execution_count": null,
   "metadata": {
    "collapsed": true
   },
   "outputs": [],
   "source": []
  },
  {
   "cell_type": "code",
   "execution_count": null,
   "metadata": {
    "collapsed": false
   },
   "outputs": [],
   "source": [
    "\n",
    "####################################################################################################\n",
    "####################################################################################################\n",
    "\n",
    "print(\"\")\n",
    "display(df_test2[:][['x', 'y', 'z', 'peak_type', 'n_photons', 'n_electrons', 't_first_electron', 't_first_photon']])\n",
    "print(\"\")\n",
    "\n"
   ]
  },
  {
   "cell_type": "code",
   "execution_count": null,
   "metadata": {
    "collapsed": true
   },
   "outputs": [],
   "source": []
  },
  {
   "cell_type": "code",
   "execution_count": null,
   "metadata": {
    "collapsed": true
   },
   "outputs": [],
   "source": []
  },
  {
   "cell_type": "code",
   "execution_count": 119,
   "metadata": {
    "collapsed": false
   },
   "outputs": [],
   "source": [
    "\n"
   ]
  },
  {
   "cell_type": "code",
   "execution_count": 122,
   "metadata": {
    "collapsed": false
   },
   "outputs": [
    {
     "ename": "KeyError",
     "evalue": "0",
     "output_type": "error",
     "traceback": [
      "\u001b[0;31m---------------------------------------------------------------------------\u001b[0m",
      "\u001b[0;31mKeyError\u001b[0m                                  Traceback (most recent call last)",
      "\u001b[0;32m/cfs/klemming/nobackup/b/bobau/ToolBox/TestEnv/Anaconda3/envs/pax_v6.8.2/lib/python3.4/site-packages/pandas/indexes/base.py\u001b[0m in \u001b[0;36mget_loc\u001b[0;34m(self, key, method, tolerance)\u001b[0m\n\u001b[1;32m   2133\u001b[0m             \u001b[0;32mtry\u001b[0m\u001b[0;34m:\u001b[0m\u001b[0;34m\u001b[0m\u001b[0m\n\u001b[0;32m-> 2134\u001b[0;31m                 \u001b[0;32mreturn\u001b[0m \u001b[0mself\u001b[0m\u001b[0;34m.\u001b[0m\u001b[0m_engine\u001b[0m\u001b[0;34m.\u001b[0m\u001b[0mget_loc\u001b[0m\u001b[0;34m(\u001b[0m\u001b[0mkey\u001b[0m\u001b[0;34m)\u001b[0m\u001b[0;34m\u001b[0m\u001b[0m\n\u001b[0m\u001b[1;32m   2135\u001b[0m             \u001b[0;32mexcept\u001b[0m \u001b[0mKeyError\u001b[0m\u001b[0;34m:\u001b[0m\u001b[0;34m\u001b[0m\u001b[0m\n",
      "\u001b[0;32mpandas/index.pyx\u001b[0m in \u001b[0;36mpandas.index.IndexEngine.get_loc (pandas/index.c:4433)\u001b[0;34m()\u001b[0m\n",
      "\u001b[0;32mpandas/index.pyx\u001b[0m in \u001b[0;36mpandas.index.IndexEngine.get_loc (pandas/index.c:4279)\u001b[0;34m()\u001b[0m\n",
      "\u001b[0;32mpandas/src/hashtable_class_helper.pxi\u001b[0m in \u001b[0;36mpandas.hashtable.PyObjectHashTable.get_item (pandas/hashtable.c:13742)\u001b[0;34m()\u001b[0m\n",
      "\u001b[0;32mpandas/src/hashtable_class_helper.pxi\u001b[0m in \u001b[0;36mpandas.hashtable.PyObjectHashTable.get_item (pandas/hashtable.c:13696)\u001b[0;34m()\u001b[0m\n",
      "\u001b[0;31mKeyError\u001b[0m: 0",
      "\nDuring handling of the above exception, another exception occurred:\n",
      "\u001b[0;31mKeyError\u001b[0m                                  Traceback (most recent call last)",
      "\u001b[0;32m<ipython-input-122-9d8a2fd38aae>\u001b[0m in \u001b[0;36m<module>\u001b[0;34m()\u001b[0m\n\u001b[1;32m     18\u001b[0m \u001b[0mpan\u001b[0m \u001b[0;34m=\u001b[0m \u001b[0mpd\u001b[0m\u001b[0;34m.\u001b[0m\u001b[0mPanel\u001b[0m\u001b[0;34m(\u001b[0m\u001b[0md\u001b[0m\u001b[0;34m)\u001b[0m\u001b[0;34m\u001b[0m\u001b[0m\n\u001b[1;32m     19\u001b[0m \u001b[0;34m\u001b[0m\u001b[0m\n\u001b[0;32m---> 20\u001b[0;31m \u001b[0mpan\u001b[0m\u001b[0;34m[\u001b[0m\u001b[0;36m0\u001b[0m\u001b[0;34m]\u001b[0m\u001b[0;34m\u001b[0m\u001b[0m\n\u001b[0m\u001b[1;32m     21\u001b[0m \u001b[0;34m\u001b[0m\u001b[0m\n\u001b[1;32m     22\u001b[0m \u001b[0;31m####################################################################################################\u001b[0m\u001b[0;34m\u001b[0m\u001b[0;34m\u001b[0m\u001b[0m\n",
      "\u001b[0;32m/cfs/klemming/nobackup/b/bobau/ToolBox/TestEnv/Anaconda3/envs/pax_v6.8.2/lib/python3.4/site-packages/pandas/core/panel.py\u001b[0m in \u001b[0;36m__getitem__\u001b[0;34m(self, key)\u001b[0m\n\u001b[1;32m    272\u001b[0m             \u001b[0;32mreturn\u001b[0m \u001b[0mself\u001b[0m\u001b[0;34m.\u001b[0m\u001b[0m_getitem_multilevel\u001b[0m\u001b[0;34m(\u001b[0m\u001b[0mkey\u001b[0m\u001b[0;34m)\u001b[0m\u001b[0;34m\u001b[0m\u001b[0m\n\u001b[1;32m    273\u001b[0m         \u001b[0;32mif\u001b[0m \u001b[0;32mnot\u001b[0m \u001b[0;34m(\u001b[0m\u001b[0mis_list_like\u001b[0m\u001b[0;34m(\u001b[0m\u001b[0mkey\u001b[0m\u001b[0;34m)\u001b[0m \u001b[0;32mor\u001b[0m \u001b[0misinstance\u001b[0m\u001b[0;34m(\u001b[0m\u001b[0mkey\u001b[0m\u001b[0;34m,\u001b[0m \u001b[0mslice\u001b[0m\u001b[0;34m)\u001b[0m\u001b[0;34m)\u001b[0m\u001b[0;34m:\u001b[0m\u001b[0;34m\u001b[0m\u001b[0m\n\u001b[0;32m--> 274\u001b[0;31m             \u001b[0;32mreturn\u001b[0m \u001b[0msuper\u001b[0m\u001b[0;34m(\u001b[0m\u001b[0mPanel\u001b[0m\u001b[0;34m,\u001b[0m \u001b[0mself\u001b[0m\u001b[0;34m)\u001b[0m\u001b[0;34m.\u001b[0m\u001b[0m__getitem__\u001b[0m\u001b[0;34m(\u001b[0m\u001b[0mkey\u001b[0m\u001b[0;34m)\u001b[0m\u001b[0;34m\u001b[0m\u001b[0m\n\u001b[0m\u001b[1;32m    275\u001b[0m         \u001b[0;32mreturn\u001b[0m \u001b[0mself\u001b[0m\u001b[0;34m.\u001b[0m\u001b[0mix\u001b[0m\u001b[0;34m[\u001b[0m\u001b[0mkey\u001b[0m\u001b[0;34m]\u001b[0m\u001b[0;34m\u001b[0m\u001b[0m\n\u001b[1;32m    276\u001b[0m \u001b[0;34m\u001b[0m\u001b[0m\n",
      "\u001b[0;32m/cfs/klemming/nobackup/b/bobau/ToolBox/TestEnv/Anaconda3/envs/pax_v6.8.2/lib/python3.4/site-packages/pandas/core/generic.py\u001b[0m in \u001b[0;36m__getitem__\u001b[0;34m(self, item)\u001b[0m\n\u001b[1;32m   1377\u001b[0m \u001b[0;34m\u001b[0m\u001b[0m\n\u001b[1;32m   1378\u001b[0m     \u001b[0;32mdef\u001b[0m \u001b[0m__getitem__\u001b[0m\u001b[0;34m(\u001b[0m\u001b[0mself\u001b[0m\u001b[0;34m,\u001b[0m \u001b[0mitem\u001b[0m\u001b[0;34m)\u001b[0m\u001b[0;34m:\u001b[0m\u001b[0;34m\u001b[0m\u001b[0m\n\u001b[0;32m-> 1379\u001b[0;31m         \u001b[0;32mreturn\u001b[0m \u001b[0mself\u001b[0m\u001b[0;34m.\u001b[0m\u001b[0m_get_item_cache\u001b[0m\u001b[0;34m(\u001b[0m\u001b[0mitem\u001b[0m\u001b[0;34m)\u001b[0m\u001b[0;34m\u001b[0m\u001b[0m\n\u001b[0m\u001b[1;32m   1380\u001b[0m \u001b[0;34m\u001b[0m\u001b[0m\n\u001b[1;32m   1381\u001b[0m     \u001b[0;32mdef\u001b[0m \u001b[0m_get_item_cache\u001b[0m\u001b[0;34m(\u001b[0m\u001b[0mself\u001b[0m\u001b[0;34m,\u001b[0m \u001b[0mitem\u001b[0m\u001b[0;34m)\u001b[0m\u001b[0;34m:\u001b[0m\u001b[0;34m\u001b[0m\u001b[0m\n",
      "\u001b[0;32m/cfs/klemming/nobackup/b/bobau/ToolBox/TestEnv/Anaconda3/envs/pax_v6.8.2/lib/python3.4/site-packages/pandas/core/generic.py\u001b[0m in \u001b[0;36m_get_item_cache\u001b[0;34m(self, item)\u001b[0m\n\u001b[1;32m   1384\u001b[0m         \u001b[0mres\u001b[0m \u001b[0;34m=\u001b[0m \u001b[0mcache\u001b[0m\u001b[0;34m.\u001b[0m\u001b[0mget\u001b[0m\u001b[0;34m(\u001b[0m\u001b[0mitem\u001b[0m\u001b[0;34m)\u001b[0m\u001b[0;34m\u001b[0m\u001b[0m\n\u001b[1;32m   1385\u001b[0m         \u001b[0;32mif\u001b[0m \u001b[0mres\u001b[0m \u001b[0;32mis\u001b[0m \u001b[0;32mNone\u001b[0m\u001b[0;34m:\u001b[0m\u001b[0;34m\u001b[0m\u001b[0m\n\u001b[0;32m-> 1386\u001b[0;31m             \u001b[0mvalues\u001b[0m \u001b[0;34m=\u001b[0m \u001b[0mself\u001b[0m\u001b[0;34m.\u001b[0m\u001b[0m_data\u001b[0m\u001b[0;34m.\u001b[0m\u001b[0mget\u001b[0m\u001b[0;34m(\u001b[0m\u001b[0mitem\u001b[0m\u001b[0;34m)\u001b[0m\u001b[0;34m\u001b[0m\u001b[0m\n\u001b[0m\u001b[1;32m   1387\u001b[0m             \u001b[0mres\u001b[0m \u001b[0;34m=\u001b[0m \u001b[0mself\u001b[0m\u001b[0;34m.\u001b[0m\u001b[0m_box_item_values\u001b[0m\u001b[0;34m(\u001b[0m\u001b[0mitem\u001b[0m\u001b[0;34m,\u001b[0m \u001b[0mvalues\u001b[0m\u001b[0;34m)\u001b[0m\u001b[0;34m\u001b[0m\u001b[0m\n\u001b[1;32m   1388\u001b[0m             \u001b[0mcache\u001b[0m\u001b[0;34m[\u001b[0m\u001b[0mitem\u001b[0m\u001b[0;34m]\u001b[0m \u001b[0;34m=\u001b[0m \u001b[0mres\u001b[0m\u001b[0;34m\u001b[0m\u001b[0m\n",
      "\u001b[0;32m/cfs/klemming/nobackup/b/bobau/ToolBox/TestEnv/Anaconda3/envs/pax_v6.8.2/lib/python3.4/site-packages/pandas/core/internals.py\u001b[0m in \u001b[0;36mget\u001b[0;34m(self, item, fastpath)\u001b[0m\n\u001b[1;32m   3541\u001b[0m \u001b[0;34m\u001b[0m\u001b[0m\n\u001b[1;32m   3542\u001b[0m             \u001b[0;32mif\u001b[0m \u001b[0;32mnot\u001b[0m \u001b[0misnull\u001b[0m\u001b[0;34m(\u001b[0m\u001b[0mitem\u001b[0m\u001b[0;34m)\u001b[0m\u001b[0;34m:\u001b[0m\u001b[0;34m\u001b[0m\u001b[0m\n\u001b[0;32m-> 3543\u001b[0;31m                 \u001b[0mloc\u001b[0m \u001b[0;34m=\u001b[0m \u001b[0mself\u001b[0m\u001b[0;34m.\u001b[0m\u001b[0mitems\u001b[0m\u001b[0;34m.\u001b[0m\u001b[0mget_loc\u001b[0m\u001b[0;34m(\u001b[0m\u001b[0mitem\u001b[0m\u001b[0;34m)\u001b[0m\u001b[0;34m\u001b[0m\u001b[0m\n\u001b[0m\u001b[1;32m   3544\u001b[0m             \u001b[0;32melse\u001b[0m\u001b[0;34m:\u001b[0m\u001b[0;34m\u001b[0m\u001b[0m\n\u001b[1;32m   3545\u001b[0m                 \u001b[0mindexer\u001b[0m \u001b[0;34m=\u001b[0m \u001b[0mnp\u001b[0m\u001b[0;34m.\u001b[0m\u001b[0marange\u001b[0m\u001b[0;34m(\u001b[0m\u001b[0mlen\u001b[0m\u001b[0;34m(\u001b[0m\u001b[0mself\u001b[0m\u001b[0;34m.\u001b[0m\u001b[0mitems\u001b[0m\u001b[0;34m)\u001b[0m\u001b[0;34m)\u001b[0m\u001b[0;34m[\u001b[0m\u001b[0misnull\u001b[0m\u001b[0;34m(\u001b[0m\u001b[0mself\u001b[0m\u001b[0;34m.\u001b[0m\u001b[0mitems\u001b[0m\u001b[0;34m)\u001b[0m\u001b[0;34m]\u001b[0m\u001b[0;34m\u001b[0m\u001b[0m\n",
      "\u001b[0;32m/cfs/klemming/nobackup/b/bobau/ToolBox/TestEnv/Anaconda3/envs/pax_v6.8.2/lib/python3.4/site-packages/pandas/indexes/base.py\u001b[0m in \u001b[0;36mget_loc\u001b[0;34m(self, key, method, tolerance)\u001b[0m\n\u001b[1;32m   2134\u001b[0m                 \u001b[0;32mreturn\u001b[0m \u001b[0mself\u001b[0m\u001b[0;34m.\u001b[0m\u001b[0m_engine\u001b[0m\u001b[0;34m.\u001b[0m\u001b[0mget_loc\u001b[0m\u001b[0;34m(\u001b[0m\u001b[0mkey\u001b[0m\u001b[0;34m)\u001b[0m\u001b[0;34m\u001b[0m\u001b[0m\n\u001b[1;32m   2135\u001b[0m             \u001b[0;32mexcept\u001b[0m \u001b[0mKeyError\u001b[0m\u001b[0;34m:\u001b[0m\u001b[0;34m\u001b[0m\u001b[0m\n\u001b[0;32m-> 2136\u001b[0;31m                 \u001b[0;32mreturn\u001b[0m \u001b[0mself\u001b[0m\u001b[0;34m.\u001b[0m\u001b[0m_engine\u001b[0m\u001b[0;34m.\u001b[0m\u001b[0mget_loc\u001b[0m\u001b[0;34m(\u001b[0m\u001b[0mself\u001b[0m\u001b[0;34m.\u001b[0m\u001b[0m_maybe_cast_indexer\u001b[0m\u001b[0;34m(\u001b[0m\u001b[0mkey\u001b[0m\u001b[0;34m)\u001b[0m\u001b[0;34m)\u001b[0m\u001b[0;34m\u001b[0m\u001b[0m\n\u001b[0m\u001b[1;32m   2137\u001b[0m \u001b[0;34m\u001b[0m\u001b[0m\n\u001b[1;32m   2138\u001b[0m         \u001b[0mindexer\u001b[0m \u001b[0;34m=\u001b[0m \u001b[0mself\u001b[0m\u001b[0;34m.\u001b[0m\u001b[0mget_indexer\u001b[0m\u001b[0;34m(\u001b[0m\u001b[0;34m[\u001b[0m\u001b[0mkey\u001b[0m\u001b[0;34m]\u001b[0m\u001b[0;34m,\u001b[0m \u001b[0mmethod\u001b[0m\u001b[0;34m=\u001b[0m\u001b[0mmethod\u001b[0m\u001b[0;34m,\u001b[0m \u001b[0mtolerance\u001b[0m\u001b[0;34m=\u001b[0m\u001b[0mtolerance\u001b[0m\u001b[0;34m)\u001b[0m\u001b[0;34m\u001b[0m\u001b[0m\n",
      "\u001b[0;32mpandas/index.pyx\u001b[0m in \u001b[0;36mpandas.index.IndexEngine.get_loc (pandas/index.c:4433)\u001b[0;34m()\u001b[0m\n",
      "\u001b[0;32mpandas/index.pyx\u001b[0m in \u001b[0;36mpandas.index.IndexEngine.get_loc (pandas/index.c:4279)\u001b[0;34m()\u001b[0m\n",
      "\u001b[0;32mpandas/src/hashtable_class_helper.pxi\u001b[0m in \u001b[0;36mpandas.hashtable.PyObjectHashTable.get_item (pandas/hashtable.c:13742)\u001b[0;34m()\u001b[0m\n",
      "\u001b[0;32mpandas/src/hashtable_class_helper.pxi\u001b[0m in \u001b[0;36mpandas.hashtable.PyObjectHashTable.get_item (pandas/hashtable.c:13696)\u001b[0;34m()\u001b[0m\n",
      "\u001b[0;31mKeyError\u001b[0m: 0"
     ]
    }
   ],
   "source": []
  },
  {
   "cell_type": "code",
   "execution_count": 30,
   "metadata": {
    "collapsed": false
   },
   "outputs": [
    {
     "data": {
      "text/html": [
       "<div>\n",
       "<table border=\"1\" class=\"dataframe\">\n",
       "  <thead>\n",
       "    <tr style=\"text-align: right;\">\n",
       "      <th></th>\n",
       "      <th>event</th>\n",
       "      <th>peak_type</th>\n",
       "    </tr>\n",
       "  </thead>\n",
       "  <tbody>\n",
       "    <tr>\n",
       "      <th>6</th>\n",
       "      <td>1</td>\n",
       "      <td>s2</td>\n",
       "    </tr>\n",
       "    <tr>\n",
       "      <th>14</th>\n",
       "      <td>NaN</td>\n",
       "      <td>NaN</td>\n",
       "    </tr>\n",
       "  </tbody>\n",
       "</table>\n",
       "</div>"
      ],
      "text/plain": [
       "   event peak_type\n",
       "6      1        s2\n",
       "14   NaN       NaN"
      ]
     },
     "execution_count": 30,
     "metadata": {},
     "output_type": "execute_result"
    }
   ],
   "source": [
    "\n",
    "####################################################################################################\n",
    "####################################################################################################\n",
    "\n",
    "pan[0]\n"
   ]
  },
  {
   "cell_type": "code",
   "execution_count": 21,
   "metadata": {
    "collapsed": false
   },
   "outputs": [
    {
     "data": {
      "text/html": [
       "<div>\n",
       "<table border=\"1\" class=\"dataframe\">\n",
       "  <thead>\n",
       "    <tr style=\"text-align: right;\">\n",
       "      <th></th>\n",
       "      <th>event</th>\n",
       "      <th>peak_type</th>\n",
       "    </tr>\n",
       "  </thead>\n",
       "  <tbody>\n",
       "    <tr>\n",
       "      <th>6</th>\n",
       "      <td>NaN</td>\n",
       "      <td>NaN</td>\n",
       "    </tr>\n",
       "    <tr>\n",
       "      <th>14</th>\n",
       "      <td>2</td>\n",
       "      <td>s2</td>\n",
       "    </tr>\n",
       "  </tbody>\n",
       "</table>\n",
       "</div>"
      ],
      "text/plain": [
       "   event peak_type\n",
       "6    NaN       NaN\n",
       "14     2        s2"
      ]
     },
     "execution_count": 21,
     "metadata": {},
     "output_type": "execute_result"
    }
   ],
   "source": [
    "\n",
    "####################################################################################################\n",
    "####################################################################################################\n",
    "\n",
    "pan[1]\n"
   ]
  },
  {
   "cell_type": "code",
   "execution_count": null,
   "metadata": {
    "collapsed": true
   },
   "outputs": [],
   "source": []
  },
  {
   "cell_type": "code",
   "execution_count": 78,
   "metadata": {
    "collapsed": false
   },
   "outputs": [
    {
     "data": {
      "text/html": [
       "<div>\n",
       "<table border=\"1\" class=\"dataframe\">\n",
       "  <thead>\n",
       "    <tr style=\"text-align: right;\">\n",
       "      <th></th>\n",
       "      <th>event</th>\n",
       "      <th>peak_type</th>\n",
       "    </tr>\n",
       "  </thead>\n",
       "  <tbody>\n",
       "    <tr>\n",
       "      <th>6</th>\n",
       "      <td>NaN</td>\n",
       "      <td>NaN</td>\n",
       "    </tr>\n",
       "    <tr>\n",
       "      <th>14</th>\n",
       "      <td>2</td>\n",
       "      <td>s2</td>\n",
       "    </tr>\n",
       "    <tr>\n",
       "      <th>16</th>\n",
       "      <td>NaN</td>\n",
       "      <td>NaN</td>\n",
       "    </tr>\n",
       "    <tr>\n",
       "      <th>21</th>\n",
       "      <td>NaN</td>\n",
       "      <td>NaN</td>\n",
       "    </tr>\n",
       "    <tr>\n",
       "      <th>23</th>\n",
       "      <td>NaN</td>\n",
       "      <td>NaN</td>\n",
       "    </tr>\n",
       "    <tr>\n",
       "      <th>30</th>\n",
       "      <td>NaN</td>\n",
       "      <td>NaN</td>\n",
       "    </tr>\n",
       "    <tr>\n",
       "      <th>35</th>\n",
       "      <td>NaN</td>\n",
       "      <td>NaN</td>\n",
       "    </tr>\n",
       "    <tr>\n",
       "      <th>55</th>\n",
       "      <td>NaN</td>\n",
       "      <td>NaN</td>\n",
       "    </tr>\n",
       "    <tr>\n",
       "      <th>68</th>\n",
       "      <td>NaN</td>\n",
       "      <td>NaN</td>\n",
       "    </tr>\n",
       "    <tr>\n",
       "      <th>85</th>\n",
       "      <td>NaN</td>\n",
       "      <td>NaN</td>\n",
       "    </tr>\n",
       "  </tbody>\n",
       "</table>\n",
       "</div>"
      ],
      "text/plain": [
       "   event peak_type\n",
       "6    NaN       NaN\n",
       "14     2        s2\n",
       "16   NaN       NaN\n",
       "21   NaN       NaN\n",
       "23   NaN       NaN\n",
       "30   NaN       NaN\n",
       "35   NaN       NaN\n",
       "55   NaN       NaN\n",
       "68   NaN       NaN\n",
       "85   NaN       NaN"
      ]
     },
     "execution_count": 78,
     "metadata": {},
     "output_type": "execute_result"
    }
   ],
   "source": [
    "pan[1]"
   ]
  },
  {
   "cell_type": "code",
   "execution_count": null,
   "metadata": {
    "collapsed": true
   },
   "outputs": [],
   "source": []
  },
  {
   "cell_type": "code",
   "execution_count": 24,
   "metadata": {
    "collapsed": false
   },
   "outputs": [
    {
     "name": "stdout",
     "output_type": "stream",
     "text": [
      "(2, 10, 21)\n",
      "(2, 10, 21)\n"
     ]
    },
    {
     "data": {
      "text/html": [
       "<div>\n",
       "<table border=\"1\" class=\"dataframe\">\n",
       "  <thead>\n",
       "    <tr style=\"text-align: right;\">\n",
       "      <th></th>\n",
       "      <th>fax_truth_peak_id</th>\n",
       "      <th>event</th>\n",
       "      <th>g4_id</th>\n",
       "      <th>instruction</th>\n",
       "      <th>n_electrons</th>\n",
       "      <th>n_photons</th>\n",
       "      <th>peak_type</th>\n",
       "      <th>repetition</th>\n",
       "      <th>t_first_electron</th>\n",
       "      <th>t_first_photon</th>\n",
       "      <th>...</th>\n",
       "      <th>t_last_electron</th>\n",
       "      <th>t_last_photon</th>\n",
       "      <th>t_mean_electrons</th>\n",
       "      <th>t_mean_photons</th>\n",
       "      <th>t_sigma_electrons</th>\n",
       "      <th>t_sigma_photons</th>\n",
       "      <th>top_fraction</th>\n",
       "      <th>x</th>\n",
       "      <th>y</th>\n",
       "      <th>z</th>\n",
       "    </tr>\n",
       "  </thead>\n",
       "  <tbody>\n",
       "    <tr>\n",
       "      <th>5</th>\n",
       "      <td>NaN</td>\n",
       "      <td>NaN</td>\n",
       "      <td>NaN</td>\n",
       "      <td>NaN</td>\n",
       "      <td>NaN</td>\n",
       "      <td>NaN</td>\n",
       "      <td>NaN</td>\n",
       "      <td>NaN</td>\n",
       "      <td>NaN</td>\n",
       "      <td>NaN</td>\n",
       "      <td>...</td>\n",
       "      <td>NaN</td>\n",
       "      <td>NaN</td>\n",
       "      <td>NaN</td>\n",
       "      <td>NaN</td>\n",
       "      <td>NaN</td>\n",
       "      <td>NaN</td>\n",
       "      <td>NaN</td>\n",
       "      <td>NaN</td>\n",
       "      <td>NaN</td>\n",
       "      <td>NaN</td>\n",
       "    </tr>\n",
       "    <tr>\n",
       "      <th>6</th>\n",
       "      <td>NaN</td>\n",
       "      <td>NaN</td>\n",
       "      <td>NaN</td>\n",
       "      <td>NaN</td>\n",
       "      <td>NaN</td>\n",
       "      <td>NaN</td>\n",
       "      <td>NaN</td>\n",
       "      <td>NaN</td>\n",
       "      <td>NaN</td>\n",
       "      <td>NaN</td>\n",
       "      <td>...</td>\n",
       "      <td>NaN</td>\n",
       "      <td>NaN</td>\n",
       "      <td>NaN</td>\n",
       "      <td>NaN</td>\n",
       "      <td>NaN</td>\n",
       "      <td>NaN</td>\n",
       "      <td>NaN</td>\n",
       "      <td>NaN</td>\n",
       "      <td>NaN</td>\n",
       "      <td>NaN</td>\n",
       "    </tr>\n",
       "    <tr>\n",
       "      <th>7</th>\n",
       "      <td>NaN</td>\n",
       "      <td>NaN</td>\n",
       "      <td>NaN</td>\n",
       "      <td>NaN</td>\n",
       "      <td>NaN</td>\n",
       "      <td>NaN</td>\n",
       "      <td>NaN</td>\n",
       "      <td>NaN</td>\n",
       "      <td>NaN</td>\n",
       "      <td>NaN</td>\n",
       "      <td>...</td>\n",
       "      <td>NaN</td>\n",
       "      <td>NaN</td>\n",
       "      <td>NaN</td>\n",
       "      <td>NaN</td>\n",
       "      <td>NaN</td>\n",
       "      <td>NaN</td>\n",
       "      <td>NaN</td>\n",
       "      <td>NaN</td>\n",
       "      <td>NaN</td>\n",
       "      <td>NaN</td>\n",
       "    </tr>\n",
       "    <tr>\n",
       "      <th>8</th>\n",
       "      <td>NaN</td>\n",
       "      <td>NaN</td>\n",
       "      <td>NaN</td>\n",
       "      <td>NaN</td>\n",
       "      <td>NaN</td>\n",
       "      <td>NaN</td>\n",
       "      <td>NaN</td>\n",
       "      <td>NaN</td>\n",
       "      <td>NaN</td>\n",
       "      <td>NaN</td>\n",
       "      <td>...</td>\n",
       "      <td>NaN</td>\n",
       "      <td>NaN</td>\n",
       "      <td>NaN</td>\n",
       "      <td>NaN</td>\n",
       "      <td>NaN</td>\n",
       "      <td>NaN</td>\n",
       "      <td>NaN</td>\n",
       "      <td>NaN</td>\n",
       "      <td>NaN</td>\n",
       "      <td>NaN</td>\n",
       "    </tr>\n",
       "    <tr>\n",
       "      <th>9</th>\n",
       "      <td>NaN</td>\n",
       "      <td>NaN</td>\n",
       "      <td>NaN</td>\n",
       "      <td>NaN</td>\n",
       "      <td>NaN</td>\n",
       "      <td>NaN</td>\n",
       "      <td>NaN</td>\n",
       "      <td>NaN</td>\n",
       "      <td>NaN</td>\n",
       "      <td>NaN</td>\n",
       "      <td>...</td>\n",
       "      <td>NaN</td>\n",
       "      <td>NaN</td>\n",
       "      <td>NaN</td>\n",
       "      <td>NaN</td>\n",
       "      <td>NaN</td>\n",
       "      <td>NaN</td>\n",
       "      <td>NaN</td>\n",
       "      <td>NaN</td>\n",
       "      <td>NaN</td>\n",
       "      <td>NaN</td>\n",
       "    </tr>\n",
       "    <tr>\n",
       "      <th>10</th>\n",
       "      <td>NaN</td>\n",
       "      <td>NaN</td>\n",
       "      <td>NaN</td>\n",
       "      <td>NaN</td>\n",
       "      <td>NaN</td>\n",
       "      <td>NaN</td>\n",
       "      <td>NaN</td>\n",
       "      <td>NaN</td>\n",
       "      <td>NaN</td>\n",
       "      <td>NaN</td>\n",
       "      <td>...</td>\n",
       "      <td>NaN</td>\n",
       "      <td>NaN</td>\n",
       "      <td>NaN</td>\n",
       "      <td>NaN</td>\n",
       "      <td>NaN</td>\n",
       "      <td>NaN</td>\n",
       "      <td>NaN</td>\n",
       "      <td>NaN</td>\n",
       "      <td>NaN</td>\n",
       "      <td>NaN</td>\n",
       "    </tr>\n",
       "    <tr>\n",
       "      <th>11</th>\n",
       "      <td>NaN</td>\n",
       "      <td>NaN</td>\n",
       "      <td>NaN</td>\n",
       "      <td>NaN</td>\n",
       "      <td>NaN</td>\n",
       "      <td>NaN</td>\n",
       "      <td>NaN</td>\n",
       "      <td>NaN</td>\n",
       "      <td>NaN</td>\n",
       "      <td>NaN</td>\n",
       "      <td>...</td>\n",
       "      <td>NaN</td>\n",
       "      <td>NaN</td>\n",
       "      <td>NaN</td>\n",
       "      <td>NaN</td>\n",
       "      <td>NaN</td>\n",
       "      <td>NaN</td>\n",
       "      <td>NaN</td>\n",
       "      <td>NaN</td>\n",
       "      <td>NaN</td>\n",
       "      <td>NaN</td>\n",
       "    </tr>\n",
       "    <tr>\n",
       "      <th>12</th>\n",
       "      <td>NaN</td>\n",
       "      <td>NaN</td>\n",
       "      <td>NaN</td>\n",
       "      <td>NaN</td>\n",
       "      <td>NaN</td>\n",
       "      <td>NaN</td>\n",
       "      <td>NaN</td>\n",
       "      <td>NaN</td>\n",
       "      <td>NaN</td>\n",
       "      <td>NaN</td>\n",
       "      <td>...</td>\n",
       "      <td>NaN</td>\n",
       "      <td>NaN</td>\n",
       "      <td>NaN</td>\n",
       "      <td>NaN</td>\n",
       "      <td>NaN</td>\n",
       "      <td>NaN</td>\n",
       "      <td>NaN</td>\n",
       "      <td>NaN</td>\n",
       "      <td>NaN</td>\n",
       "      <td>NaN</td>\n",
       "    </tr>\n",
       "    <tr>\n",
       "      <th>13</th>\n",
       "      <td>13</td>\n",
       "      <td>2</td>\n",
       "      <td>-1</td>\n",
       "      <td>2</td>\n",
       "      <td>NaN</td>\n",
       "      <td>2</td>\n",
       "      <td>s1</td>\n",
       "      <td>0</td>\n",
       "      <td>NaN</td>\n",
       "      <td>655054</td>\n",
       "      <td>...</td>\n",
       "      <td>NaN</td>\n",
       "      <td>655092</td>\n",
       "      <td>NaN</td>\n",
       "      <td>655073</td>\n",
       "      <td>NaN</td>\n",
       "      <td>18.6765</td>\n",
       "      <td>0.5</td>\n",
       "      <td>-32.8449</td>\n",
       "      <td>-21.2475</td>\n",
       "      <td>-25.6558</td>\n",
       "    </tr>\n",
       "    <tr>\n",
       "      <th>14</th>\n",
       "      <td>14</td>\n",
       "      <td>2</td>\n",
       "      <td>-1</td>\n",
       "      <td>2</td>\n",
       "      <td>13</td>\n",
       "      <td>246</td>\n",
       "      <td>s2</td>\n",
       "      <td>0</td>\n",
       "      <td>832421</td>\n",
       "      <td>832591</td>\n",
       "      <td>...</td>\n",
       "      <td>834372</td>\n",
       "      <td>834975</td>\n",
       "      <td>833310</td>\n",
       "      <td>833733</td>\n",
       "      <td>563.046</td>\n",
       "      <td>592.701</td>\n",
       "      <td>0.670732</td>\n",
       "      <td>-31.5762</td>\n",
       "      <td>-20.4268</td>\n",
       "      <td>-25.6558</td>\n",
       "    </tr>\n",
       "  </tbody>\n",
       "</table>\n",
       "<p>10 rows × 21 columns</p>\n",
       "</div>"
      ],
      "text/plain": [
       "   fax_truth_peak_id event g4_id instruction n_electrons n_photons peak_type  \\\n",
       "5                NaN   NaN   NaN         NaN         NaN       NaN       NaN   \n",
       "6                NaN   NaN   NaN         NaN         NaN       NaN       NaN   \n",
       "7                NaN   NaN   NaN         NaN         NaN       NaN       NaN   \n",
       "8                NaN   NaN   NaN         NaN         NaN       NaN       NaN   \n",
       "9                NaN   NaN   NaN         NaN         NaN       NaN       NaN   \n",
       "10               NaN   NaN   NaN         NaN         NaN       NaN       NaN   \n",
       "11               NaN   NaN   NaN         NaN         NaN       NaN       NaN   \n",
       "12               NaN   NaN   NaN         NaN         NaN       NaN       NaN   \n",
       "13                13     2    -1           2         NaN         2        s1   \n",
       "14                14     2    -1           2          13       246        s2   \n",
       "\n",
       "   repetition t_first_electron t_first_photon   ...    t_last_electron  \\\n",
       "5         NaN              NaN            NaN   ...                NaN   \n",
       "6         NaN              NaN            NaN   ...                NaN   \n",
       "7         NaN              NaN            NaN   ...                NaN   \n",
       "8         NaN              NaN            NaN   ...                NaN   \n",
       "9         NaN              NaN            NaN   ...                NaN   \n",
       "10        NaN              NaN            NaN   ...                NaN   \n",
       "11        NaN              NaN            NaN   ...                NaN   \n",
       "12        NaN              NaN            NaN   ...                NaN   \n",
       "13          0              NaN         655054   ...                NaN   \n",
       "14          0           832421         832591   ...             834372   \n",
       "\n",
       "   t_last_photon t_mean_electrons t_mean_photons t_sigma_electrons  \\\n",
       "5            NaN              NaN            NaN               NaN   \n",
       "6            NaN              NaN            NaN               NaN   \n",
       "7            NaN              NaN            NaN               NaN   \n",
       "8            NaN              NaN            NaN               NaN   \n",
       "9            NaN              NaN            NaN               NaN   \n",
       "10           NaN              NaN            NaN               NaN   \n",
       "11           NaN              NaN            NaN               NaN   \n",
       "12           NaN              NaN            NaN               NaN   \n",
       "13        655092              NaN         655073               NaN   \n",
       "14        834975           833310         833733           563.046   \n",
       "\n",
       "   t_sigma_photons top_fraction        x        y        z  \n",
       "5              NaN          NaN      NaN      NaN      NaN  \n",
       "6              NaN          NaN      NaN      NaN      NaN  \n",
       "7              NaN          NaN      NaN      NaN      NaN  \n",
       "8              NaN          NaN      NaN      NaN      NaN  \n",
       "9              NaN          NaN      NaN      NaN      NaN  \n",
       "10             NaN          NaN      NaN      NaN      NaN  \n",
       "11             NaN          NaN      NaN      NaN      NaN  \n",
       "12             NaN          NaN      NaN      NaN      NaN  \n",
       "13         18.6765          0.5 -32.8449 -21.2475 -25.6558  \n",
       "14         592.701     0.670732 -31.5762 -20.4268 -25.6558  \n",
       "\n",
       "[10 rows x 21 columns]"
      ]
     },
     "execution_count": 24,
     "metadata": {},
     "output_type": "execute_result"
    }
   ],
   "source": [
    "\n",
    "\n",
    "####################################################################################################\n",
    "####################################################################################################\n",
    "\n",
    "df_test = pan.loc[:, :, :]\n",
    "print(df_test.shape)\n",
    "\n",
    "\n",
    "####################################################################################################\n",
    "####################################################################################################\n",
    "\n",
    "df_test = pan.loc[0:1, :, :]\n",
    "print(df_test.shape)\n",
    "df_test[1]\n",
    "\n"
   ]
  },
  {
   "cell_type": "code",
   "execution_count": null,
   "metadata": {
    "collapsed": true
   },
   "outputs": [],
   "source": []
  },
  {
   "cell_type": "code",
   "execution_count": null,
   "metadata": {
    "collapsed": true
   },
   "outputs": [],
   "source": []
  },
  {
   "cell_type": "code",
   "execution_count": null,
   "metadata": {
    "collapsed": true
   },
   "outputs": [],
   "source": []
  },
  {
   "cell_type": "code",
   "execution_count": null,
   "metadata": {
    "collapsed": true
   },
   "outputs": [],
   "source": []
  },
  {
   "cell_type": "code",
   "execution_count": null,
   "metadata": {
    "collapsed": true
   },
   "outputs": [],
   "source": []
  },
  {
   "cell_type": "code",
   "execution_count": 270,
   "metadata": {
    "collapsed": false
   },
   "outputs": [
    {
     "name": "stdout",
     "output_type": "stream",
     "text": [
      "Events (truth): 2\n",
      "Events (sim)  : 2\n"
     ]
    }
   ],
   "source": [
    "\n",
    "\n",
    "####################################################################################################\n",
    "####################################################################################################\n",
    "\n",
    "nEvents_truth = len(event_truths)\n",
    "nEvents_simul = len(events)\n",
    "\n",
    "print(\"Events (truth): \" + str(nEvents_truth))\n",
    "print(\"Events (sim)  : \" + str(nEvents_truth))\n",
    "\n",
    "\n",
    "\n",
    "\n",
    "#print(\"Events (single S1): \" + str(nEvents_truth))\n",
    "#print(\"Events (single Ss): \" + str(nEvents_truth))\n",
    "\n"
   ]
  },
  {
   "cell_type": "code",
   "execution_count": null,
   "metadata": {
    "collapsed": true
   },
   "outputs": [],
   "source": []
  },
  {
   "cell_type": "code",
   "execution_count": null,
   "metadata": {
    "collapsed": true
   },
   "outputs": [],
   "source": []
  },
  {
   "cell_type": "code",
   "execution_count": null,
   "metadata": {
    "collapsed": true
   },
   "outputs": [],
   "source": []
  },
  {
   "cell_type": "code",
   "execution_count": null,
   "metadata": {
    "collapsed": true
   },
   "outputs": [],
   "source": []
  },
  {
   "cell_type": "code",
   "execution_count": 215,
   "metadata": {
    "collapsed": false
   },
   "outputs": [
    {
     "data": {
      "text/plain": [
       "(2, 10, 21)"
      ]
     },
     "execution_count": 215,
     "metadata": {},
     "output_type": "execute_result"
    }
   ],
   "source": []
  },
  {
   "cell_type": "code",
   "execution_count": null,
   "metadata": {
    "collapsed": true
   },
   "outputs": [],
   "source": []
  },
  {
   "cell_type": "code",
   "execution_count": null,
   "metadata": {
    "collapsed": true
   },
   "outputs": [],
   "source": []
  },
  {
   "cell_type": "code",
   "execution_count": null,
   "metadata": {
    "collapsed": true
   },
   "outputs": [],
   "source": []
  },
  {
   "cell_type": "code",
   "execution_count": null,
   "metadata": {
    "collapsed": true
   },
   "outputs": [],
   "source": []
  },
  {
   "cell_type": "code",
   "execution_count": null,
   "metadata": {
    "collapsed": true
   },
   "outputs": [],
   "source": []
  },
  {
   "cell_type": "code",
   "execution_count": 275,
   "metadata": {
    "collapsed": false
   },
   "outputs": [
    {
     "name": "stdout",
     "output_type": "stream",
     "text": [
      "<class 'list'>\n",
      "2\n",
      "<class 'pandas.core.frame.DataFrame'>\n"
     ]
    }
   ],
   "source": [
    "\n",
    "####################################################################################################\n",
    "####################################################################################################\n",
    "\n",
    "print(type(events))\n",
    "print(len(events))\n",
    "\n",
    "print(type(events[0]))"
   ]
  },
  {
   "cell_type": "code",
   "execution_count": null,
   "metadata": {
    "collapsed": true
   },
   "outputs": [],
   "source": []
  },
  {
   "cell_type": "code",
   "execution_count": null,
   "metadata": {
    "collapsed": true
   },
   "outputs": [],
   "source": []
  },
  {
   "cell_type": "code",
   "execution_count": null,
   "metadata": {
    "collapsed": true
   },
   "outputs": [],
   "source": []
  },
  {
   "cell_type": "code",
   "execution_count": 276,
   "metadata": {
    "collapsed": false
   },
   "outputs": [
    {
     "name": "stdout",
     "output_type": "stream",
     "text": [
      "<class 'list'>\n",
      "2\n"
     ]
    }
   ],
   "source": [
    "\n",
    "####################################################################################################\n",
    "####################################################################################################\n",
    "\n",
    "print(type(event_truths))\n",
    "print(len(event_truths))\n",
    "\n"
   ]
  },
  {
   "cell_type": "code",
   "execution_count": 277,
   "metadata": {
    "collapsed": true
   },
   "outputs": [],
   "source": [
    "\n",
    "df_truth = event_truths[0]"
   ]
  },
  {
   "cell_type": "code",
   "execution_count": 278,
   "metadata": {
    "collapsed": false
   },
   "outputs": [
    {
     "data": {
      "text/html": [
       "<div>\n",
       "<table border=\"1\" class=\"dataframe\">\n",
       "  <thead>\n",
       "    <tr style=\"text-align: right;\">\n",
       "      <th></th>\n",
       "      <th>fax_truth_peak_id</th>\n",
       "      <th>event</th>\n",
       "      <th>g4_id</th>\n",
       "      <th>instruction</th>\n",
       "      <th>n_electrons</th>\n",
       "      <th>n_photons</th>\n",
       "      <th>peak_type</th>\n",
       "      <th>repetition</th>\n",
       "      <th>t_first_electron</th>\n",
       "      <th>t_first_photon</th>\n",
       "      <th>...</th>\n",
       "      <th>t_last_electron</th>\n",
       "      <th>t_last_photon</th>\n",
       "      <th>t_mean_electrons</th>\n",
       "      <th>t_mean_photons</th>\n",
       "      <th>t_sigma_electrons</th>\n",
       "      <th>t_sigma_photons</th>\n",
       "      <th>top_fraction</th>\n",
       "      <th>x</th>\n",
       "      <th>y</th>\n",
       "      <th>z</th>\n",
       "    </tr>\n",
       "  </thead>\n",
       "  <tbody>\n",
       "    <tr>\n",
       "      <th>5</th>\n",
       "      <td>5</td>\n",
       "      <td>1</td>\n",
       "      <td>-1</td>\n",
       "      <td>1</td>\n",
       "      <td>NaN</td>\n",
       "      <td>29</td>\n",
       "      <td>s1</td>\n",
       "      <td>0</td>\n",
       "      <td>NaN</td>\n",
       "      <td>6.550311e+05</td>\n",
       "      <td>...</td>\n",
       "      <td>NaN</td>\n",
       "      <td>6.551501e+05</td>\n",
       "      <td>NaN</td>\n",
       "      <td>6.550778e+05</td>\n",
       "      <td>NaN</td>\n",
       "      <td>32.208841</td>\n",
       "      <td>0.034483</td>\n",
       "      <td>2.626434</td>\n",
       "      <td>-17.960824</td>\n",
       "      <td>-57.456815</td>\n",
       "    </tr>\n",
       "    <tr>\n",
       "      <th>6</th>\n",
       "      <td>6</td>\n",
       "      <td>1</td>\n",
       "      <td>-1</td>\n",
       "      <td>1</td>\n",
       "      <td>32.0</td>\n",
       "      <td>764</td>\n",
       "      <td>s2</td>\n",
       "      <td>0</td>\n",
       "      <td>1.053706e+06</td>\n",
       "      <td>1.053837e+06</td>\n",
       "      <td>...</td>\n",
       "      <td>1.056341e+06</td>\n",
       "      <td>1.057203e+06</td>\n",
       "      <td>1.055127e+06</td>\n",
       "      <td>1.055459e+06</td>\n",
       "      <td>657.901854</td>\n",
       "      <td>678.571516</td>\n",
       "      <td>0.676702</td>\n",
       "      <td>2.488824</td>\n",
       "      <td>-17.019777</td>\n",
       "      <td>-57.456815</td>\n",
       "    </tr>\n",
       "    <tr>\n",
       "      <th>7</th>\n",
       "      <td>7</td>\n",
       "      <td>1</td>\n",
       "      <td>-1</td>\n",
       "      <td>1</td>\n",
       "      <td>NaN</td>\n",
       "      <td>23</td>\n",
       "      <td>photoionization_afterpulse</td>\n",
       "      <td>0</td>\n",
       "      <td>NaN</td>\n",
       "      <td>1.588175e+06</td>\n",
       "      <td>...</td>\n",
       "      <td>NaN</td>\n",
       "      <td>1.588743e+06</td>\n",
       "      <td>NaN</td>\n",
       "      <td>1.588460e+06</td>\n",
       "      <td>NaN</td>\n",
       "      <td>142.841918</td>\n",
       "      <td>0.652174</td>\n",
       "      <td>47.416537</td>\n",
       "      <td>4.326025</td>\n",
       "      <td>-0.500000</td>\n",
       "    </tr>\n",
       "    <tr>\n",
       "      <th>8</th>\n",
       "      <td>8</td>\n",
       "      <td>1</td>\n",
       "      <td>-1</td>\n",
       "      <td>1</td>\n",
       "      <td>NaN</td>\n",
       "      <td>30</td>\n",
       "      <td>photoionization_afterpulse</td>\n",
       "      <td>0</td>\n",
       "      <td>NaN</td>\n",
       "      <td>1.063021e+06</td>\n",
       "      <td>...</td>\n",
       "      <td>NaN</td>\n",
       "      <td>1.063584e+06</td>\n",
       "      <td>NaN</td>\n",
       "      <td>1.063262e+06</td>\n",
       "      <td>NaN</td>\n",
       "      <td>139.310171</td>\n",
       "      <td>0.600000</td>\n",
       "      <td>6.501793</td>\n",
       "      <td>12.179028</td>\n",
       "      <td>-0.500000</td>\n",
       "    </tr>\n",
       "    <tr>\n",
       "      <th>9</th>\n",
       "      <td>9</td>\n",
       "      <td>1</td>\n",
       "      <td>-1</td>\n",
       "      <td>1</td>\n",
       "      <td>NaN</td>\n",
       "      <td>19</td>\n",
       "      <td>photoionization_afterpulse</td>\n",
       "      <td>0</td>\n",
       "      <td>NaN</td>\n",
       "      <td>1.365220e+06</td>\n",
       "      <td>...</td>\n",
       "      <td>NaN</td>\n",
       "      <td>1.365713e+06</td>\n",
       "      <td>NaN</td>\n",
       "      <td>1.365479e+06</td>\n",
       "      <td>NaN</td>\n",
       "      <td>154.385169</td>\n",
       "      <td>0.526316</td>\n",
       "      <td>-10.587970</td>\n",
       "      <td>37.731992</td>\n",
       "      <td>-0.500000</td>\n",
       "    </tr>\n",
       "    <tr>\n",
       "      <th>10</th>\n",
       "      <td>10</td>\n",
       "      <td>1</td>\n",
       "      <td>-1</td>\n",
       "      <td>1</td>\n",
       "      <td>NaN</td>\n",
       "      <td>21</td>\n",
       "      <td>photoionization_afterpulse</td>\n",
       "      <td>0</td>\n",
       "      <td>NaN</td>\n",
       "      <td>1.393101e+06</td>\n",
       "      <td>...</td>\n",
       "      <td>NaN</td>\n",
       "      <td>1.393944e+06</td>\n",
       "      <td>NaN</td>\n",
       "      <td>1.393371e+06</td>\n",
       "      <td>NaN</td>\n",
       "      <td>168.065879</td>\n",
       "      <td>0.666667</td>\n",
       "      <td>-15.456438</td>\n",
       "      <td>12.185898</td>\n",
       "      <td>-0.500000</td>\n",
       "    </tr>\n",
       "    <tr>\n",
       "      <th>11</th>\n",
       "      <td>11</td>\n",
       "      <td>1</td>\n",
       "      <td>-1</td>\n",
       "      <td>1</td>\n",
       "      <td>NaN</td>\n",
       "      <td>26</td>\n",
       "      <td>photoionization_afterpulse</td>\n",
       "      <td>0</td>\n",
       "      <td>NaN</td>\n",
       "      <td>1.394373e+06</td>\n",
       "      <td>...</td>\n",
       "      <td>NaN</td>\n",
       "      <td>1.395161e+06</td>\n",
       "      <td>NaN</td>\n",
       "      <td>1.394621e+06</td>\n",
       "      <td>NaN</td>\n",
       "      <td>192.550195</td>\n",
       "      <td>0.653846</td>\n",
       "      <td>-43.696444</td>\n",
       "      <td>0.595208</td>\n",
       "      <td>-0.500000</td>\n",
       "    </tr>\n",
       "    <tr>\n",
       "      <th>12</th>\n",
       "      <td>12</td>\n",
       "      <td>1</td>\n",
       "      <td>-1</td>\n",
       "      <td>1</td>\n",
       "      <td>NaN</td>\n",
       "      <td>20</td>\n",
       "      <td>photoionization_afterpulse</td>\n",
       "      <td>0</td>\n",
       "      <td>NaN</td>\n",
       "      <td>1.104477e+06</td>\n",
       "      <td>...</td>\n",
       "      <td>NaN</td>\n",
       "      <td>1.105084e+06</td>\n",
       "      <td>NaN</td>\n",
       "      <td>1.104776e+06</td>\n",
       "      <td>NaN</td>\n",
       "      <td>181.621535</td>\n",
       "      <td>0.750000</td>\n",
       "      <td>-31.802839</td>\n",
       "      <td>23.183041</td>\n",
       "      <td>-0.500000</td>\n",
       "    </tr>\n",
       "  </tbody>\n",
       "</table>\n",
       "<p>8 rows × 21 columns</p>\n",
       "</div>"
      ],
      "text/plain": [
       "    fax_truth_peak_id  event  g4_id  instruction  n_electrons  n_photons  \\\n",
       "5                   5      1     -1            1          NaN         29   \n",
       "6                   6      1     -1            1         32.0        764   \n",
       "7                   7      1     -1            1          NaN         23   \n",
       "8                   8      1     -1            1          NaN         30   \n",
       "9                   9      1     -1            1          NaN         19   \n",
       "10                 10      1     -1            1          NaN         21   \n",
       "11                 11      1     -1            1          NaN         26   \n",
       "12                 12      1     -1            1          NaN         20   \n",
       "\n",
       "                     peak_type  repetition  t_first_electron  t_first_photon  \\\n",
       "5                           s1           0               NaN    6.550311e+05   \n",
       "6                           s2           0      1.053706e+06    1.053837e+06   \n",
       "7   photoionization_afterpulse           0               NaN    1.588175e+06   \n",
       "8   photoionization_afterpulse           0               NaN    1.063021e+06   \n",
       "9   photoionization_afterpulse           0               NaN    1.365220e+06   \n",
       "10  photoionization_afterpulse           0               NaN    1.393101e+06   \n",
       "11  photoionization_afterpulse           0               NaN    1.394373e+06   \n",
       "12  photoionization_afterpulse           0               NaN    1.104477e+06   \n",
       "\n",
       "      ...      t_last_electron  t_last_photon  t_mean_electrons  \\\n",
       "5     ...                  NaN   6.551501e+05               NaN   \n",
       "6     ...         1.056341e+06   1.057203e+06      1.055127e+06   \n",
       "7     ...                  NaN   1.588743e+06               NaN   \n",
       "8     ...                  NaN   1.063584e+06               NaN   \n",
       "9     ...                  NaN   1.365713e+06               NaN   \n",
       "10    ...                  NaN   1.393944e+06               NaN   \n",
       "11    ...                  NaN   1.395161e+06               NaN   \n",
       "12    ...                  NaN   1.105084e+06               NaN   \n",
       "\n",
       "    t_mean_photons  t_sigma_electrons  t_sigma_photons  top_fraction  \\\n",
       "5     6.550778e+05                NaN        32.208841      0.034483   \n",
       "6     1.055459e+06         657.901854       678.571516      0.676702   \n",
       "7     1.588460e+06                NaN       142.841918      0.652174   \n",
       "8     1.063262e+06                NaN       139.310171      0.600000   \n",
       "9     1.365479e+06                NaN       154.385169      0.526316   \n",
       "10    1.393371e+06                NaN       168.065879      0.666667   \n",
       "11    1.394621e+06                NaN       192.550195      0.653846   \n",
       "12    1.104776e+06                NaN       181.621535      0.750000   \n",
       "\n",
       "            x          y          z  \n",
       "5    2.626434 -17.960824 -57.456815  \n",
       "6    2.488824 -17.019777 -57.456815  \n",
       "7   47.416537   4.326025  -0.500000  \n",
       "8    6.501793  12.179028  -0.500000  \n",
       "9  -10.587970  37.731992  -0.500000  \n",
       "10 -15.456438  12.185898  -0.500000  \n",
       "11 -43.696444   0.595208  -0.500000  \n",
       "12 -31.802839  23.183041  -0.500000  \n",
       "\n",
       "[8 rows x 21 columns]"
      ]
     },
     "execution_count": 278,
     "metadata": {},
     "output_type": "execute_result"
    }
   ],
   "source": [
    "df_truth"
   ]
  },
  {
   "cell_type": "code",
   "execution_count": null,
   "metadata": {
    "collapsed": true
   },
   "outputs": [],
   "source": []
  },
  {
   "cell_type": "code",
   "execution_count": 67,
   "metadata": {
    "collapsed": false
   },
   "outputs": [
    {
     "name": "stdout",
     "output_type": "stream",
     "text": [
      "8\n",
      "21\n"
     ]
    }
   ],
   "source": [
    "\n",
    "####################################################################################################\n",
    "####################################################################################################\n",
    "\n",
    "rows, cols = df_truth.shape\n",
    "\n",
    "print(rows)\n",
    "print(cols)"
   ]
  },
  {
   "cell_type": "code",
   "execution_count": null,
   "metadata": {
    "collapsed": true
   },
   "outputs": [],
   "source": []
  },
  {
   "cell_type": "code",
   "execution_count": 104,
   "metadata": {
    "collapsed": false
   },
   "outputs": [
    {
     "data": {
      "text/html": [
       "<div>\n",
       "<table border=\"1\" class=\"dataframe\">\n",
       "  <thead>\n",
       "    <tr style=\"text-align: right;\">\n",
       "      <th></th>\n",
       "      <th>fax_truth_peak_id</th>\n",
       "      <th>event</th>\n",
       "      <th>g4_id</th>\n",
       "      <th>instruction</th>\n",
       "      <th>n_electrons</th>\n",
       "      <th>n_photons</th>\n",
       "      <th>peak_type</th>\n",
       "      <th>repetition</th>\n",
       "      <th>t_first_electron</th>\n",
       "      <th>t_first_photon</th>\n",
       "      <th>...</th>\n",
       "      <th>t_last_electron</th>\n",
       "      <th>t_last_photon</th>\n",
       "      <th>t_mean_electrons</th>\n",
       "      <th>t_mean_photons</th>\n",
       "      <th>t_sigma_electrons</th>\n",
       "      <th>t_sigma_photons</th>\n",
       "      <th>top_fraction</th>\n",
       "      <th>x</th>\n",
       "      <th>y</th>\n",
       "      <th>z</th>\n",
       "    </tr>\n",
       "  </thead>\n",
       "  <tbody>\n",
       "    <tr>\n",
       "      <th>5</th>\n",
       "      <td>5</td>\n",
       "      <td>1</td>\n",
       "      <td>-1</td>\n",
       "      <td>1</td>\n",
       "      <td>NaN</td>\n",
       "      <td>29</td>\n",
       "      <td>s1</td>\n",
       "      <td>0</td>\n",
       "      <td>NaN</td>\n",
       "      <td>6.550311e+05</td>\n",
       "      <td>...</td>\n",
       "      <td>NaN</td>\n",
       "      <td>6.551501e+05</td>\n",
       "      <td>NaN</td>\n",
       "      <td>6.550778e+05</td>\n",
       "      <td>NaN</td>\n",
       "      <td>32.208841</td>\n",
       "      <td>0.034483</td>\n",
       "      <td>2.626434</td>\n",
       "      <td>-17.960824</td>\n",
       "      <td>-57.456815</td>\n",
       "    </tr>\n",
       "    <tr>\n",
       "      <th>6</th>\n",
       "      <td>6</td>\n",
       "      <td>1</td>\n",
       "      <td>-1</td>\n",
       "      <td>1</td>\n",
       "      <td>32.0</td>\n",
       "      <td>764</td>\n",
       "      <td>s2</td>\n",
       "      <td>0</td>\n",
       "      <td>1.053706e+06</td>\n",
       "      <td>1.053837e+06</td>\n",
       "      <td>...</td>\n",
       "      <td>1.056341e+06</td>\n",
       "      <td>1.057203e+06</td>\n",
       "      <td>1.055127e+06</td>\n",
       "      <td>1.055459e+06</td>\n",
       "      <td>657.901854</td>\n",
       "      <td>678.571516</td>\n",
       "      <td>0.676702</td>\n",
       "      <td>2.488824</td>\n",
       "      <td>-17.019777</td>\n",
       "      <td>-57.456815</td>\n",
       "    </tr>\n",
       "    <tr>\n",
       "      <th>7</th>\n",
       "      <td>7</td>\n",
       "      <td>1</td>\n",
       "      <td>-1</td>\n",
       "      <td>1</td>\n",
       "      <td>NaN</td>\n",
       "      <td>23</td>\n",
       "      <td>photoionization_afterpulse</td>\n",
       "      <td>0</td>\n",
       "      <td>NaN</td>\n",
       "      <td>1.588175e+06</td>\n",
       "      <td>...</td>\n",
       "      <td>NaN</td>\n",
       "      <td>1.588743e+06</td>\n",
       "      <td>NaN</td>\n",
       "      <td>1.588460e+06</td>\n",
       "      <td>NaN</td>\n",
       "      <td>142.841918</td>\n",
       "      <td>0.652174</td>\n",
       "      <td>47.416537</td>\n",
       "      <td>4.326025</td>\n",
       "      <td>-0.500000</td>\n",
       "    </tr>\n",
       "    <tr>\n",
       "      <th>8</th>\n",
       "      <td>8</td>\n",
       "      <td>1</td>\n",
       "      <td>-1</td>\n",
       "      <td>1</td>\n",
       "      <td>NaN</td>\n",
       "      <td>30</td>\n",
       "      <td>photoionization_afterpulse</td>\n",
       "      <td>0</td>\n",
       "      <td>NaN</td>\n",
       "      <td>1.063021e+06</td>\n",
       "      <td>...</td>\n",
       "      <td>NaN</td>\n",
       "      <td>1.063584e+06</td>\n",
       "      <td>NaN</td>\n",
       "      <td>1.063262e+06</td>\n",
       "      <td>NaN</td>\n",
       "      <td>139.310171</td>\n",
       "      <td>0.600000</td>\n",
       "      <td>6.501793</td>\n",
       "      <td>12.179028</td>\n",
       "      <td>-0.500000</td>\n",
       "    </tr>\n",
       "    <tr>\n",
       "      <th>9</th>\n",
       "      <td>9</td>\n",
       "      <td>1</td>\n",
       "      <td>-1</td>\n",
       "      <td>1</td>\n",
       "      <td>NaN</td>\n",
       "      <td>19</td>\n",
       "      <td>photoionization_afterpulse</td>\n",
       "      <td>0</td>\n",
       "      <td>NaN</td>\n",
       "      <td>1.365220e+06</td>\n",
       "      <td>...</td>\n",
       "      <td>NaN</td>\n",
       "      <td>1.365713e+06</td>\n",
       "      <td>NaN</td>\n",
       "      <td>1.365479e+06</td>\n",
       "      <td>NaN</td>\n",
       "      <td>154.385169</td>\n",
       "      <td>0.526316</td>\n",
       "      <td>-10.587970</td>\n",
       "      <td>37.731992</td>\n",
       "      <td>-0.500000</td>\n",
       "    </tr>\n",
       "    <tr>\n",
       "      <th>10</th>\n",
       "      <td>10</td>\n",
       "      <td>1</td>\n",
       "      <td>-1</td>\n",
       "      <td>1</td>\n",
       "      <td>NaN</td>\n",
       "      <td>21</td>\n",
       "      <td>photoionization_afterpulse</td>\n",
       "      <td>0</td>\n",
       "      <td>NaN</td>\n",
       "      <td>1.393101e+06</td>\n",
       "      <td>...</td>\n",
       "      <td>NaN</td>\n",
       "      <td>1.393944e+06</td>\n",
       "      <td>NaN</td>\n",
       "      <td>1.393371e+06</td>\n",
       "      <td>NaN</td>\n",
       "      <td>168.065879</td>\n",
       "      <td>0.666667</td>\n",
       "      <td>-15.456438</td>\n",
       "      <td>12.185898</td>\n",
       "      <td>-0.500000</td>\n",
       "    </tr>\n",
       "    <tr>\n",
       "      <th>11</th>\n",
       "      <td>11</td>\n",
       "      <td>1</td>\n",
       "      <td>-1</td>\n",
       "      <td>1</td>\n",
       "      <td>NaN</td>\n",
       "      <td>26</td>\n",
       "      <td>photoionization_afterpulse</td>\n",
       "      <td>0</td>\n",
       "      <td>NaN</td>\n",
       "      <td>1.394373e+06</td>\n",
       "      <td>...</td>\n",
       "      <td>NaN</td>\n",
       "      <td>1.395161e+06</td>\n",
       "      <td>NaN</td>\n",
       "      <td>1.394621e+06</td>\n",
       "      <td>NaN</td>\n",
       "      <td>192.550195</td>\n",
       "      <td>0.653846</td>\n",
       "      <td>-43.696444</td>\n",
       "      <td>0.595208</td>\n",
       "      <td>-0.500000</td>\n",
       "    </tr>\n",
       "    <tr>\n",
       "      <th>12</th>\n",
       "      <td>12</td>\n",
       "      <td>1</td>\n",
       "      <td>-1</td>\n",
       "      <td>1</td>\n",
       "      <td>NaN</td>\n",
       "      <td>20</td>\n",
       "      <td>photoionization_afterpulse</td>\n",
       "      <td>0</td>\n",
       "      <td>NaN</td>\n",
       "      <td>1.104477e+06</td>\n",
       "      <td>...</td>\n",
       "      <td>NaN</td>\n",
       "      <td>1.105084e+06</td>\n",
       "      <td>NaN</td>\n",
       "      <td>1.104776e+06</td>\n",
       "      <td>NaN</td>\n",
       "      <td>181.621535</td>\n",
       "      <td>0.750000</td>\n",
       "      <td>-31.802839</td>\n",
       "      <td>23.183041</td>\n",
       "      <td>-0.500000</td>\n",
       "    </tr>\n",
       "  </tbody>\n",
       "</table>\n",
       "<p>8 rows × 21 columns</p>\n",
       "</div>"
      ],
      "text/plain": [
       "    fax_truth_peak_id  event  g4_id  instruction  n_electrons  n_photons  \\\n",
       "5                   5      1     -1            1          NaN         29   \n",
       "6                   6      1     -1            1         32.0        764   \n",
       "7                   7      1     -1            1          NaN         23   \n",
       "8                   8      1     -1            1          NaN         30   \n",
       "9                   9      1     -1            1          NaN         19   \n",
       "10                 10      1     -1            1          NaN         21   \n",
       "11                 11      1     -1            1          NaN         26   \n",
       "12                 12      1     -1            1          NaN         20   \n",
       "\n",
       "                     peak_type  repetition  t_first_electron  t_first_photon  \\\n",
       "5                           s1           0               NaN    6.550311e+05   \n",
       "6                           s2           0      1.053706e+06    1.053837e+06   \n",
       "7   photoionization_afterpulse           0               NaN    1.588175e+06   \n",
       "8   photoionization_afterpulse           0               NaN    1.063021e+06   \n",
       "9   photoionization_afterpulse           0               NaN    1.365220e+06   \n",
       "10  photoionization_afterpulse           0               NaN    1.393101e+06   \n",
       "11  photoionization_afterpulse           0               NaN    1.394373e+06   \n",
       "12  photoionization_afterpulse           0               NaN    1.104477e+06   \n",
       "\n",
       "      ...      t_last_electron  t_last_photon  t_mean_electrons  \\\n",
       "5     ...                  NaN   6.551501e+05               NaN   \n",
       "6     ...         1.056341e+06   1.057203e+06      1.055127e+06   \n",
       "7     ...                  NaN   1.588743e+06               NaN   \n",
       "8     ...                  NaN   1.063584e+06               NaN   \n",
       "9     ...                  NaN   1.365713e+06               NaN   \n",
       "10    ...                  NaN   1.393944e+06               NaN   \n",
       "11    ...                  NaN   1.395161e+06               NaN   \n",
       "12    ...                  NaN   1.105084e+06               NaN   \n",
       "\n",
       "    t_mean_photons  t_sigma_electrons  t_sigma_photons  top_fraction  \\\n",
       "5     6.550778e+05                NaN        32.208841      0.034483   \n",
       "6     1.055459e+06         657.901854       678.571516      0.676702   \n",
       "7     1.588460e+06                NaN       142.841918      0.652174   \n",
       "8     1.063262e+06                NaN       139.310171      0.600000   \n",
       "9     1.365479e+06                NaN       154.385169      0.526316   \n",
       "10    1.393371e+06                NaN       168.065879      0.666667   \n",
       "11    1.394621e+06                NaN       192.550195      0.653846   \n",
       "12    1.104776e+06                NaN       181.621535      0.750000   \n",
       "\n",
       "            x          y          z  \n",
       "5    2.626434 -17.960824 -57.456815  \n",
       "6    2.488824 -17.019777 -57.456815  \n",
       "7   47.416537   4.326025  -0.500000  \n",
       "8    6.501793  12.179028  -0.500000  \n",
       "9  -10.587970  37.731992  -0.500000  \n",
       "10 -15.456438  12.185898  -0.500000  \n",
       "11 -43.696444   0.595208  -0.500000  \n",
       "12 -31.802839  23.183041  -0.500000  \n",
       "\n",
       "[8 rows x 21 columns]"
      ]
     },
     "execution_count": 104,
     "metadata": {},
     "output_type": "execute_result"
    }
   ],
   "source": [
    "\n",
    "####################################################################################################\n",
    "####################################################################################################\n",
    "\n",
    "df_truth[0:rows][0:cols]\n"
   ]
  },
  {
   "cell_type": "code",
   "execution_count": 123,
   "metadata": {
    "collapsed": false
   },
   "outputs": [],
   "source": [
    "\n",
    "####################################################################################################\n",
    "####################################################################################################\n",
    "\n",
    "df_truth.loc[5, 'peak_type']\n",
    "\n",
    "\n",
    "####################################################################################################\n",
    "####################################################################################################\n",
    "\n",
    "df_truth.loc[:, 'peak_type']\n",
    "\n",
    "\n",
    "####################################################################################################\n",
    "####################################################################################################\n",
    "\n",
    "df_truth_s2 = df_truth.loc[df_truth['peak_type'] == 's2']\n",
    "\n"
   ]
  },
  {
   "cell_type": "code",
   "execution_count": 129,
   "metadata": {
    "collapsed": false
   },
   "outputs": [
    {
     "data": {
      "text/html": [
       "<div>\n",
       "<table border=\"1\" class=\"dataframe\">\n",
       "  <thead>\n",
       "    <tr style=\"text-align: right;\">\n",
       "      <th></th>\n",
       "      <th>x</th>\n",
       "      <th>y</th>\n",
       "      <th>z</th>\n",
       "      <th>n_photons</th>\n",
       "    </tr>\n",
       "  </thead>\n",
       "  <tbody>\n",
       "    <tr>\n",
       "      <th>6</th>\n",
       "      <td>2.488824</td>\n",
       "      <td>-17.019777</td>\n",
       "      <td>-57.456815</td>\n",
       "      <td>764</td>\n",
       "    </tr>\n",
       "  </tbody>\n",
       "</table>\n",
       "</div>"
      ],
      "text/plain": [
       "          x          y          z  n_photons\n",
       "6  2.488824 -17.019777 -57.456815        764"
      ]
     },
     "execution_count": 129,
     "metadata": {},
     "output_type": "execute_result"
    }
   ],
   "source": [
    "\n",
    "####################################################################################################\n",
    "####################################################################################################\n",
    "\n",
    "df_truth_s2[:][ ['x', 'y', 'z', 'n_photons'] ]\n"
   ]
  },
  {
   "cell_type": "code",
   "execution_count": 85,
   "metadata": {
    "collapsed": false
   },
   "outputs": [
    {
     "data": {
      "text/plain": [
       "['fax_truth_peak_id',\n",
       " 'event',\n",
       " 'g4_id',\n",
       " 'instruction',\n",
       " 'n_electrons',\n",
       " 'n_photons',\n",
       " 'peak_type',\n",
       " 'repetition',\n",
       " 't_first_electron',\n",
       " 't_first_photon',\n",
       " 't_interaction',\n",
       " 't_last_electron',\n",
       " 't_last_photon',\n",
       " 't_mean_electrons',\n",
       " 't_mean_photons',\n",
       " 't_sigma_electrons',\n",
       " 't_sigma_photons',\n",
       " 'top_fraction',\n",
       " 'x',\n",
       " 'y',\n",
       " 'z']"
      ]
     },
     "execution_count": 85,
     "metadata": {},
     "output_type": "execute_result"
    }
   ],
   "source": [
    "\n",
    "\n",
    "####################################################################################################\n",
    "# Headers\n",
    "####################################################################################################\n",
    "\n",
    "\n",
    "list(df_truth.columns.values)\n"
   ]
  },
  {
   "cell_type": "code",
   "execution_count": 103,
   "metadata": {
    "collapsed": false
   },
   "outputs": [
    {
     "ename": "ValueError",
     "evalue": "At based indexing on an integer index can only have integer indexers",
     "output_type": "error",
     "traceback": [
      "\u001b[0;31m---------------------------------------------------------------------------\u001b[0m",
      "\u001b[0;31mValueError\u001b[0m                                Traceback (most recent call last)",
      "\u001b[0;32m<ipython-input-103-818caa979fc3>\u001b[0m in \u001b[0;36m<module>\u001b[0;34m()\u001b[0m\n\u001b[1;32m      1\u001b[0m \u001b[0;34m\u001b[0m\u001b[0m\n\u001b[0;32m----> 2\u001b[0;31m \u001b[0mdf_truth\u001b[0m\u001b[0;34m.\u001b[0m\u001b[0mat\u001b[0m\u001b[0;34m[\u001b[0m\u001b[0;36m1\u001b[0m\u001b[0;34m:\u001b[0m\u001b[0;36m1\u001b[0m\u001b[0;34m]\u001b[0m\u001b[0;34m\u001b[0m\u001b[0m\n\u001b[0m",
      "\u001b[0;32m/cfs/klemming/nobackup/b/bobau/ToolBox/TestEnv/Anaconda3/envs/pax_v6.8.2/lib/python3.4/site-packages/pandas/core/indexing.py\u001b[0m in \u001b[0;36m__getitem__\u001b[0;34m(self, key)\u001b[0m\n\u001b[1;32m   1662\u001b[0m                 \u001b[0;32mraise\u001b[0m \u001b[0mValueError\u001b[0m\u001b[0;34m(\u001b[0m\u001b[0;34m'Invalid call for scalar access (getting)!'\u001b[0m\u001b[0;34m)\u001b[0m\u001b[0;34m\u001b[0m\u001b[0m\n\u001b[1;32m   1663\u001b[0m \u001b[0;34m\u001b[0m\u001b[0m\n\u001b[0;32m-> 1664\u001b[0;31m         \u001b[0mkey\u001b[0m \u001b[0;34m=\u001b[0m \u001b[0mself\u001b[0m\u001b[0;34m.\u001b[0m\u001b[0m_convert_key\u001b[0m\u001b[0;34m(\u001b[0m\u001b[0mkey\u001b[0m\u001b[0;34m)\u001b[0m\u001b[0;34m\u001b[0m\u001b[0m\n\u001b[0m\u001b[1;32m   1665\u001b[0m         \u001b[0;32mreturn\u001b[0m \u001b[0mself\u001b[0m\u001b[0;34m.\u001b[0m\u001b[0mobj\u001b[0m\u001b[0;34m.\u001b[0m\u001b[0mget_value\u001b[0m\u001b[0;34m(\u001b[0m\u001b[0;34m*\u001b[0m\u001b[0mkey\u001b[0m\u001b[0;34m,\u001b[0m \u001b[0mtakeable\u001b[0m\u001b[0;34m=\u001b[0m\u001b[0mself\u001b[0m\u001b[0;34m.\u001b[0m\u001b[0m_takeable\u001b[0m\u001b[0;34m)\u001b[0m\u001b[0;34m\u001b[0m\u001b[0m\n\u001b[1;32m   1666\u001b[0m \u001b[0;34m\u001b[0m\u001b[0m\n",
      "\u001b[0;32m/cfs/klemming/nobackup/b/bobau/ToolBox/TestEnv/Anaconda3/envs/pax_v6.8.2/lib/python3.4/site-packages/pandas/core/indexing.py\u001b[0m in \u001b[0;36m_convert_key\u001b[0;34m(self, key, is_setter)\u001b[0m\n\u001b[1;32m   1704\u001b[0m             \u001b[0;32mif\u001b[0m \u001b[0max\u001b[0m\u001b[0;34m.\u001b[0m\u001b[0mis_integer\u001b[0m\u001b[0;34m(\u001b[0m\u001b[0;34m)\u001b[0m\u001b[0;34m:\u001b[0m\u001b[0;34m\u001b[0m\u001b[0m\n\u001b[1;32m   1705\u001b[0m                 \u001b[0;32mif\u001b[0m \u001b[0;32mnot\u001b[0m \u001b[0mis_integer\u001b[0m\u001b[0;34m(\u001b[0m\u001b[0mi\u001b[0m\u001b[0;34m)\u001b[0m\u001b[0;34m:\u001b[0m\u001b[0;34m\u001b[0m\u001b[0m\n\u001b[0;32m-> 1706\u001b[0;31m                     raise ValueError(\"At based indexing on an integer index \"\n\u001b[0m\u001b[1;32m   1707\u001b[0m                                      \"can only have integer indexers\")\n\u001b[1;32m   1708\u001b[0m             \u001b[0;32melse\u001b[0m\u001b[0;34m:\u001b[0m\u001b[0;34m\u001b[0m\u001b[0m\n",
      "\u001b[0;31mValueError\u001b[0m: At based indexing on an integer index can only have integer indexers"
     ]
    }
   ],
   "source": [
    "\n",
    "df_truth.at[1:1]\n"
   ]
  },
  {
   "cell_type": "code",
   "execution_count": null,
   "metadata": {
    "collapsed": true
   },
   "outputs": [],
   "source": []
  },
  {
   "cell_type": "code",
   "execution_count": 82,
   "metadata": {
    "collapsed": false
   },
   "outputs": [
    {
     "data": {
      "text/html": [
       "<div>\n",
       "<table border=\"1\" class=\"dataframe\">\n",
       "  <thead>\n",
       "    <tr style=\"text-align: right;\">\n",
       "      <th></th>\n",
       "      <th>fax_truth_peak_id</th>\n",
       "      <th>event</th>\n",
       "      <th>g4_id</th>\n",
       "      <th>instruction</th>\n",
       "      <th>n_electrons</th>\n",
       "      <th>n_photons</th>\n",
       "      <th>peak_type</th>\n",
       "      <th>repetition</th>\n",
       "      <th>t_first_electron</th>\n",
       "      <th>t_first_photon</th>\n",
       "      <th>...</th>\n",
       "      <th>t_last_electron</th>\n",
       "      <th>t_last_photon</th>\n",
       "      <th>t_mean_electrons</th>\n",
       "      <th>t_mean_photons</th>\n",
       "      <th>t_sigma_electrons</th>\n",
       "      <th>t_sigma_photons</th>\n",
       "      <th>top_fraction</th>\n",
       "      <th>x</th>\n",
       "      <th>y</th>\n",
       "      <th>z</th>\n",
       "    </tr>\n",
       "  </thead>\n",
       "  <tbody>\n",
       "  </tbody>\n",
       "</table>\n",
       "<p>0 rows × 21 columns</p>\n",
       "</div>"
      ],
      "text/plain": [
       "Empty DataFrame\n",
       "Columns: [fax_truth_peak_id, event, g4_id, instruction, n_electrons, n_photons, peak_type, repetition, t_first_electron, t_first_photon, t_interaction, t_last_electron, t_last_photon, t_mean_electrons, t_mean_photons, t_sigma_electrons, t_sigma_photons, top_fraction, x, y, z]\n",
       "Index: []\n",
       "\n",
       "[0 rows x 21 columns]"
      ]
     },
     "execution_count": 82,
     "metadata": {},
     "output_type": "execute_result"
    }
   ],
   "source": [
    "df_truth[0:0][0:0]\n",
    "\n",
    "#print(df_truth[0:0][0:0].as_matrix())"
   ]
  },
  {
   "cell_type": "code",
   "execution_count": 53,
   "metadata": {
    "collapsed": false
   },
   "outputs": [
    {
     "data": {
      "text/plain": [
       "array([ 29, 764,  23,  30,  19,  21,  26,  20])"
      ]
     },
     "execution_count": 53,
     "metadata": {},
     "output_type": "execute_result"
    }
   ],
   "source": [
    "\n",
    "####################################################################################################\n",
    "####################################################################################################\n",
    "\n",
    "df_truth['n_photons'][:].as_matrix()\n"
   ]
  },
  {
   "cell_type": "code",
   "execution_count": null,
   "metadata": {
    "collapsed": true
   },
   "outputs": [],
   "source": []
  }
 ],
 "metadata": {
  "anaconda-cloud": {},
  "kernelspec": {
   "display_name": "Python [conda env:pax_v6.8.2]",
   "language": "python",
   "name": "conda-env-pax_v6.8.2-py"
  },
  "language_info": {
   "codemirror_mode": {
    "name": "ipython",
    "version": 3
   },
   "file_extension": ".py",
   "mimetype": "text/x-python",
   "name": "python",
   "nbconvert_exporter": "python",
   "pygments_lexer": "ipython3",
   "version": "3.4.4"
  }
 },
 "nbformat": 4,
 "nbformat_minor": 2
}
