{
 "cells": [
  {
   "cell_type": "code",
   "execution_count": 3,
   "metadata": {
    "collapsed": false
   },
   "outputs": [
    {
     "name": "stdout",
     "output_type": "stream",
     "text": [
      "The autoreload extension is already loaded. To reload it, use:\n",
      "  %reload_ext autoreload\n"
     ]
    }
   ],
   "source": [
    "\n",
    "#------------------------------------------------------------------------------\n",
    "#------------------------------------------------------------------------------\n",
    "\n",
    "%load_ext autoreload\n",
    "%autoreload 2\n"
   ]
  },
  {
   "cell_type": "code",
   "execution_count": 7,
   "metadata": {
    "collapsed": false,
    "scrolled": true
   },
   "outputs": [
    {
     "name": "stdout",
     "output_type": "stream",
     "text": [
      "nn_s2waveforms_xy_train.py -directory ../../xe1t-processing/pax_merge/temp_s2/ -max_dirs 11 -events_per_batch 100 -downsample 10\n",
      "nn_waveforms.__init__()\n",
      "Input Directory:  ../../xe1t-processing/pax_merge/temp_s2/\n",
      "Events:           10000\n",
      "Files Train:      10\n",
      "Files Test:       1\n",
      "Train files:\n",
      "   ../../xe1t-processing/pax_merge/temp_s2/strArr0.npz\n",
      "   ../../xe1t-processing/pax_merge/temp_s2/strArr1.npz\n",
      "   ../../xe1t-processing/pax_merge/temp_s2/strArr2.npz\n",
      "   ../../xe1t-processing/pax_merge/temp_s2/strArr3.npz\n",
      "   ../../xe1t-processing/pax_merge/temp_s2/strArr4.npz\n",
      "   ../../xe1t-processing/pax_merge/temp_s2/strArr5.npz\n",
      "   ../../xe1t-processing/pax_merge/temp_s2/strArr6.npz\n",
      "   ../../xe1t-processing/pax_merge/temp_s2/strArr7.npz\n",
      "   ../../xe1t-processing/pax_merge/temp_s2/strArr8.npz\n",
      "   ../../xe1t-processing/pax_merge/temp_s2/strArr9.npz\n",
      "Test files:\n",
      "   ../../xe1t-processing/pax_merge/temp_s2/strArr10.npz\n",
      "Batches:          100\n",
      "Events per batch: 100\n",
      "Events:           10000\n",
      "\n",
      "10 Input files:\n",
      "   ../../xe1t-processing/pax_merge/temp_s2/strArr0.npz\n",
      "   ../../xe1t-processing/pax_merge/temp_s2/strArr1.npz\n",
      "   ../../xe1t-processing/pax_merge/temp_s2/strArr2.npz\n",
      "   ../../xe1t-processing/pax_merge/temp_s2/strArr3.npz\n",
      "   ../../xe1t-processing/pax_merge/temp_s2/strArr4.npz\n",
      "   ../../xe1t-processing/pax_merge/temp_s2/strArr5.npz\n",
      "   ../../xe1t-processing/pax_merge/temp_s2/strArr6.npz\n",
      "   ../../xe1t-processing/pax_merge/temp_s2/strArr7.npz\n",
      "   ../../xe1t-processing/pax_merge/temp_s2/strArr8.npz\n",
      "   ../../xe1t-processing/pax_merge/temp_s2/strArr9.npz\n",
      "Batches:          10\n",
      "Events per batch: 100\n",
      "Events:           1000\n",
      "\n",
      "1 Input files:\n",
      "   ../../xe1t-processing/pax_merge/temp_s2/strArr10.npz\n",
      "Start\n",
      "Epoch 1/1\n",
      "-> Data Generator Batch: 0/100, iFile 0, i0=000, i1=100, j0=000, j1=100, Memory: 0.486 GB, File: strArr0.npz\n",
      "-> Data Generator Batch: 1/100, iFile 0, i0=100, i1=200, j0=100, j1=200, Memory: 1.333 GB, File: strArr0.npz\n",
      "-> Data Generator Batch: 2/100, iFile 0, i0=200, i1=300, j0=200, j1=300, Memory: 0.941 GB, File: strArr0.npz\n",
      "-> Data Generator Batch: 3/100, iFile 0, i0=300, i1=400, j0=300, j1=400, Memory: 1.411 GB, File: strArr0.npz\n",
      "-> Data Generator Batch: 4/100, iFile 0, i0=400, i1=500, j0=400, j1=500, Memory: 1.736 GB, File: strArr0.npz\n",
      "-> Data Generator Batch: 5/100, iFile 0, i0=500, i1=600, j0=500, j1=600, Memory: 2.131 GB, File: strArr0.npz\n",
      "-> Data Generator Batch: 6/100, iFile 0, i0=600, i1=700, j0=600, j1=700, Memory: 2.922 GB, File: strArr0.npz\n",
      "-> Data Generator Batch: 7/100, iFile 0, i0=700, i1=800, j0=700, j1=800, Memory: 3.699 GB, File: strArr0.npz\n",
      "-> Data Generator Batch: 8/100, iFile 0, i0=800, i1=900, j0=800, j1=900, Memory: 4.022 GB, File: strArr0.npz\n",
      "-> Data Generator Batch: 9/100, iFile 0, i0=900, i1=1000, j0=900, j1=1000, Memory: 4.461 GB, File: strArr0.npz\n",
      "-> Data Generator Batch: 10/100, iFile 1, i0=000, i1=100, j0=1000, j1=1100, Memory: 4.463 GB, File: strArr1.npz\n",
      "-> Data Generator Batch: 11/100, iFile 1, i0=100, i1=200, j0=1100, j1=1200, Memory: 4.465 GB, File: strArr1.npz\n",
      "-> Data Generator Batch: 12/100, iFile 1, i0=200, i1=300, j0=1200, j1=1300, Memory: 4.097 GB, File: strArr1.npz\n",
      "-> Data Generator Batch: 13/100, iFile 1, i0=300, i1=400, j0=1300, j1=1400, Memory: 4.082 GB, File: strArr1.npz\n",
      "-> Data Generator Batch: 14/100, iFile 1, i0=400, i1=500, j0=1400, j1=1500, Memory: 4.018 GB, File: strArr1.npz\n",
      "-> Data Generator Batch: 15/100, iFile 1, i0=500, i1=600, j0=1500, j1=1600, Memory: 4.092 GB, File: strArr1.npz\n",
      "-> Data Generator Batch: 16/100, iFile 1, i0=600, i1=700, j0=1600, j1=1700, Memory: 4.000 GB, File: strArr1.npz\n",
      "-> Data Generator Batch: 17/100, iFile 1, i0=700, i1=800, j0=1700, j1=1800, Memory: 4.096 GB, File: strArr1.npz\n",
      "-> Data Generator Batch: 18/100, iFile 1, i0=800, i1=900, j0=1800, j1=1900, Memory: 4.081 GB, File: strArr1.npz\n",
      "-> Data Generator Batch: 19/100, iFile 1, i0=900, i1=1000, j0=1900, j1=2000, Memory: 4.085 GB, File: strArr1.npz\n",
      "-> Data Generator Batch: 20/100, iFile 2, i0=000, i1=100, j0=2000, j1=2100, Memory: 4.468 GB, File: strArr2.npz\n",
      "-> Data Generator Batch: 21/100, iFile 2, i0=100, i1=200, j0=2100, j1=2200, Memory: 4.468 GB, File: strArr2.npz\n",
      "-> Data Generator Batch: 22/100, iFile 2, i0=200, i1=300, j0=2200, j1=2300, Memory: 4.468 GB, File: strArr2.npz\n",
      "-> Data Generator Batch: 23/100, iFile 2, i0=300, i1=400, j0=2300, j1=2400, Memory: 4.097 GB, File: strArr2.npz\n",
      "-> Data Generator Batch: 24/100, iFile 2, i0=400, i1=500, j0=2400, j1=2500, Memory: 4.092 GB, File: strArr2.npz\n",
      "-> Data Generator Batch: 25/100, iFile 2, i0=500, i1=600, j0=2500, j1=2600, Memory: 4.098 GB, File: strArr2.npz\n",
      "-> Data Generator Batch: 26/100, iFile 2, i0=600, i1=700, j0=2600, j1=2700, Memory: 4.081 GB, File: strArr2.npz\n",
      "-> Data Generator Batch: 27/100, iFile 2, i0=700, i1=800, j0=2700, j1=2800, Memory: 4.095 GB, File: strArr2.npz\n",
      "-> Data Generator Batch: 28/100, iFile 2, i0=800, i1=900, j0=2800, j1=2900, Memory: 4.033 GB, File: strArr2.npz\n",
      "-> Data Generator Batch: 29/100, iFile 2, i0=900, i1=1000, j0=2900, j1=3000, Memory: 4.101 GB, File: strArr2.npz\n",
      "-> Data Generator Batch: 30/100, iFile 3, i0=000, i1=100, j0=3000, j1=3100, Memory: 4.468 GB, File: strArr3.npz\n",
      "-> Data Generator Batch: 31/100, iFile 3, i0=100, i1=200, j0=3100, j1=3200, Memory: 4.468 GB, File: strArr3.npz\n",
      "-> Data Generator Batch: 32/100, iFile 3, i0=200, i1=300, j0=3200, j1=3300, Memory: 4.138 GB, File: strArr3.npz\n",
      "-> Data Generator Batch: 33/100, iFile 3, i0=300, i1=400, j0=3300, j1=3400, Memory: 4.005 GB, File: strArr3.npz\n",
      "-> Data Generator Batch: 34/100, iFile 3, i0=400, i1=500, j0=3400, j1=3500, Memory: 4.088 GB, File: strArr3.npz\n",
      "-> Data Generator Batch: 35/100, iFile 3, i0=500, i1=600, j0=3500, j1=3600, Memory: 4.088 GB, File: strArr3.npz\n",
      "-> Data Generator Batch: 36/100, iFile 3, i0=600, i1=700, j0=3600, j1=3700, Memory: 4.080 GB, File: strArr3.npz\n",
      "-> Data Generator Batch: 37/100, iFile 3, i0=700, i1=800, j0=3700, j1=3800, Memory: 4.084 GB, File: strArr3.npz\n",
      "-> Data Generator Batch: 38/100, iFile 3, i0=800, i1=900, j0=3800, j1=3900, Memory: 4.093 GB, File: strArr3.npz\n",
      "-> Data Generator Batch: 39/100, iFile 3, i0=900, i1=1000, j0=3900, j1=4000, Memory: 4.092 GB, File: strArr3.npz\n",
      "-> Data Generator Batch: 40/100, iFile 4, i0=000, i1=100, j0=4000, j1=4100, Memory: 4.469 GB, File: strArr4.npz\n",
      "-> Data Generator Batch: 41/100, iFile 4, i0=100, i1=200, j0=4100, j1=4200, Memory: 4.469 GB, File: strArr4.npz\n",
      "-> Data Generator Batch: 42/100, iFile 4, i0=200, i1=300, j0=4200, j1=4300, Memory: 4.099 GB, File: strArr4.npz\n",
      "-> Data Generator Batch: 43/100, iFile 4, i0=300, i1=400, j0=4300, j1=4400, Memory: 4.090 GB, File: strArr4.npz\n",
      "-> Data Generator Batch: 44/100, iFile 4, i0=400, i1=500, j0=4400, j1=4500, Memory: 4.095 GB, File: strArr4.npz\n",
      "-> Data Generator Batch: 45/100, iFile 4, i0=500, i1=600, j0=4500, j1=4600, Memory: 4.085 GB, File: strArr4.npz\n",
      "-> Data Generator Batch: 46/100, iFile 4, i0=600, i1=700, j0=4600, j1=4700, Memory: 4.099 GB, File: strArr4.npz\n",
      "-> Data Generator Batch: 47/100, iFile 4, i0=700, i1=800, j0=4700, j1=4800, Memory: 4.090 GB, File: strArr4.npz\n",
      "-> Data Generator Batch: 48/100, iFile 4, i0=800, i1=900, j0=4800, j1=4900, Memory: 4.088 GB, File: strArr4.npz\n",
      "-> Data Generator Batch: 49/100, iFile 4, i0=900, i1=1000, j0=4900, j1=5000, Memory: 4.079 GB, File: strArr4.npz\n",
      "-> Data Generator Batch: 50/100, iFile 5, i0=000, i1=100, j0=5000, j1=5100, Memory: 4.469 GB, File: strArr5.npz\n",
      "-> Data Generator Batch: 51/100, iFile 5, i0=100, i1=200, j0=5100, j1=5200, Memory: 4.469 GB, File: strArr5.npz\n",
      "-> Data Generator Batch: 52/100, iFile 5, i0=200, i1=300, j0=5200, j1=5300, Memory: 4.248 GB, File: strArr5.npz\n",
      "-> Data Generator Batch: 53/100, iFile 5, i0=300, i1=400, j0=5300, j1=5400, Memory: 4.217 GB, File: strArr5.npz\n",
      "-> Data Generator Batch: 54/100, iFile 5, i0=400, i1=500, j0=5400, j1=5500, Memory: 4.081 GB, File: strArr5.npz\n",
      "-> Data Generator Batch: 55/100, iFile 5, i0=500, i1=600, j0=5500, j1=5600, Memory: 4.093 GB, File: strArr5.npz\n",
      "-> Data Generator Batch: 56/100, iFile 5, i0=600, i1=700, j0=5600, j1=5700, Memory: 4.089 GB, File: strArr5.npz\n",
      "-> Data Generator Batch: 57/100, iFile 5, i0=700, i1=800, j0=5700, j1=5800, Memory: 4.086 GB, File: strArr5.npz\n",
      "-> Data Generator Batch: 58/100, iFile 5, i0=800, i1=900, j0=5800, j1=5900, Memory: 4.060 GB, File: strArr5.npz\n",
      "-> Data Generator Batch: 59/100, iFile 5, i0=900, i1=1000, j0=5900, j1=6000, Memory: 4.083 GB, File: strArr5.npz\n",
      "-> Data Generator Batch: 60/100, iFile 6, i0=000, i1=100, j0=6000, j1=6100, Memory: 4.469 GB, File: strArr6.npz\n",
      "-> Data Generator Batch: 61/100, iFile 6, i0=100, i1=200, j0=6100, j1=6200, Memory: 4.469 GB, File: strArr6.npz\n",
      "-> Data Generator Batch: 62/100, iFile 6, i0=200, i1=300, j0=6200, j1=6300, Memory: 4.136 GB, File: strArr6.npz\n",
      "-> Data Generator Batch: 63/100, iFile 6, i0=300, i1=400, j0=6300, j1=6400, Memory: 4.103 GB, File: strArr6.npz\n",
      "-> Data Generator Batch: 64/100, iFile 6, i0=400, i1=500, j0=6400, j1=6500, Memory: 4.086 GB, File: strArr6.npz\n",
      "-> Data Generator Batch: 65/100, iFile 6, i0=500, i1=600, j0=6500, j1=6600, Memory: 4.095 GB, File: strArr6.npz\n",
      "-> Data Generator Batch: 66/100, iFile 6, i0=600, i1=700, j0=6600, j1=6700, Memory: 4.093 GB, File: strArr6.npz\n",
      "-> Data Generator Batch: 67/100, iFile 6, i0=700, i1=800, j0=6700, j1=6800, Memory: 4.018 GB, File: strArr6.npz\n",
      "-> Data Generator Batch: 68/100, iFile 6, i0=800, i1=900, j0=6800, j1=6900, Memory: 4.086 GB, File: strArr6.npz\n",
      "-> Data Generator Batch: 69/100, iFile 6, i0=900, i1=1000, j0=6900, j1=7000, Memory: 4.089 GB, File: strArr6.npz\n",
      "-> Data Generator Batch: 70/100, iFile 7, i0=000, i1=100, j0=7000, j1=7100, Memory: 4.469 GB, File: strArr7.npz\n",
      "-> Data Generator Batch: 71/100, iFile 7, i0=100, i1=200, j0=7100, j1=7200, Memory: 4.469 GB, File: strArr7.npz\n",
      "-> Data Generator Batch: 72/100, iFile 7, i0=200, i1=300, j0=7200, j1=7300, Memory: 4.469 GB, File: strArr7.npz\n",
      "-> Data Generator Batch: 73/100, iFile 7, i0=300, i1=400, j0=7300, j1=7400, Memory: 4.120 GB, File: strArr7.npz\n",
      "-> Data Generator Batch: 74/100, iFile 7, i0=400, i1=500, j0=7400, j1=7500, Memory: 4.094 GB, File: strArr7.npz\n",
      "-> Data Generator Batch: 75/100, iFile 7, i0=500, i1=600, j0=7500, j1=7600, Memory: 4.092 GB, File: strArr7.npz\n",
      "-> Data Generator Batch: 76/100, iFile 7, i0=600, i1=700, j0=7600, j1=7700, Memory: 4.086 GB, File: strArr7.npz\n",
      "-> Data Generator Batch: 77/100, iFile 7, i0=700, i1=800, j0=7700, j1=7800, Memory: 4.079 GB, File: strArr7.npz\n",
      "-> Data Generator Batch: 78/100, iFile 7, i0=800, i1=900, j0=7800, j1=7900, Memory: 4.031 GB, File: strArr7.npz\n",
      "-> Data Generator Batch: 79/100, iFile 7, i0=900, i1=1000, j0=7900, j1=8000, Memory: 4.078 GB, File: strArr7.npz\n",
      "-> Data Generator Batch: 80/100, iFile 8, i0=000, i1=100, j0=8000, j1=8100, Memory: 4.469 GB, File: strArr8.npz\n",
      "-> Data Generator Batch: 81/100, iFile 8, i0=100, i1=200, j0=8100, j1=8200, Memory: 4.469 GB, File: strArr8.npz\n",
      "-> Data Generator Batch: 82/100, iFile 8, i0=200, i1=300, j0=8200, j1=8300, Memory: 4.240 GB, File: strArr8.npz\n",
      "-> Data Generator Batch: 83/100, iFile 8, i0=300, i1=400, j0=8300, j1=8400, Memory: 4.084 GB, File: strArr8.npz\n",
      "-> Data Generator Batch: 84/100, iFile 8, i0=400, i1=500, j0=8400, j1=8500, Memory: 4.091 GB, File: strArr8.npz\n",
      "-> Data Generator Batch: 85/100, iFile 8, i0=500, i1=600, j0=8500, j1=8600, Memory: 4.098 GB, File: strArr8.npz\n",
      "-> Data Generator Batch: 86/100, iFile 8, i0=600, i1=700, j0=8600, j1=8700, Memory: 4.083 GB, File: strArr8.npz\n",
      "-> Data Generator Batch: 87/100, iFile 8, i0=700, i1=800, j0=8700, j1=8800, Memory: 4.095 GB, File: strArr8.npz\n",
      "-> Data Generator Batch: 88/100, iFile 8, i0=800, i1=900, j0=8800, j1=8900, Memory: 4.075 GB, File: strArr8.npz\n",
      "-> Data Generator Batch: 89/100, iFile 8, i0=900, i1=1000, j0=8900, j1=9000, Memory: 4.031 GB, File: strArr8.npz\n",
      "-> Data Generator Batch: 90/100, iFile 9, i0=000, i1=100, j0=9000, j1=9100, Memory: 4.469 GB, File: strArr9.npz\n",
      "-> Data Generator Batch: 91/100, iFile 9, i0=100, i1=200, j0=9100, j1=9200, Memory: 4.193 GB, File: strArr9.npz\n",
      "-> Data Generator Batch: 92/100, iFile 9, i0=200, i1=300, j0=9200, j1=9300, Memory: 4.087 GB, File: strArr9.npz\n",
      "-> Data Generator Batch: 93/100, iFile 9, i0=300, i1=400, j0=9300, j1=9400, Memory: 4.090 GB, File: strArr9.npz\n",
      "-> Data Generator Batch: 94/100, iFile 9, i0=400, i1=500, j0=9400, j1=9500, Memory: 4.096 GB, File: strArr9.npz\n",
      "-> Data Generator Batch: 95/100, iFile 9, i0=500, i1=600, j0=9500, j1=9600, Memory: 4.078 GB, File: strArr9.npz\n",
      "-> Data Generator Batch: 96/100, iFile 9, i0=600, i1=700, j0=9600, j1=9700, Memory: 4.086 GB, File: strArr9.npz\n",
      "-> Data Generator Batch: 97/100, iFile 9, i0=700, i1=800, j0=9700, j1=9800, Memory: 4.091 GB, File: strArr9.npz\n",
      "-> Data Generator Batch: 98/100, iFile 9, i0=800, i1=900, j0=9800, j1=9900, Memory: 4.075 GB, File: strArr9.npz\n",
      "-> Data Generator Batch: 99/100, iFile 9, i0=900, i1=1000, j0=9900, j1=10000, Memory: 4.082 GB, File: strArr9.npz\n",
      "dataGenerator_waveforms.on_epoch_end()\n",
      "\n",
      "\n",
      "\n",
      "-> Data Generator Batch: 0/100, iFile 0, i0=000, i1=100, j0=000, j1=100, Memory: 3.800 GB, File: strArr0.npz\n",
      " - 647s - loss: 145.2645 - acc: 0.9443\n",
      "-> Data Generator Batch: 1/100, iFile 0, i0=100, i1=200, j0=100, j1=200, Memory: 3.132 GB, File: strArr0.npz\n",
      "-> Data Generator Batch: 2/100, iFile 0, i0=200, i1=300, j0=200, j1=300, Memory: 3.132 GB, File: strArr0.npz\n",
      "-> Data Generator Batch: 3/100, iFile 0, i0=300, i1=400, j0=300, j1=400, Memory: 3.132 GB, File: strArr0.npz\n",
      "-> Data Generator Batch: 4/100, iFile 0, i0=400, i1=500, j0=400, j1=500, Memory: 3.132 GB, File: strArr0.npz\n",
      "-> Data Generator Batch: 5/100, iFile 0, i0=500, i1=600, j0=500, j1=600, Memory: 3.132 GB, File: strArr0.npz\n",
      "-> Data Generator Batch: 6/100, iFile 0, i0=600, i1=700, j0=600, j1=700, Memory: 3.132 GB, File: strArr0.npz\n",
      "-> Data Generator Batch: 7/100, iFile 0, i0=700, i1=800, j0=700, j1=800, Memory: 3.132 GB, File: strArr0.npz\n",
      "-> Data Generator Batch: 8/100, iFile 0, i0=800, i1=900, j0=800, j1=900, Memory: 3.132 GB, File: strArr0.npz\n",
      "-> Data Generator Batch: 9/100, iFile 0, i0=900, i1=1000, j0=900, j1=1000, Memory: 3.132 GB, File: strArr0.npz\n",
      "-> Data Generator Batch: 10/100, iFile 1, i0=000, i1=100, j0=1000, j1=1100, Memory: 3.132 GB, File: strArr1.npz\n",
      "Done\n",
      "_________________________________________________________________\n",
      "Layer (type)                 Output Shape              Param #   \n",
      "=================================================================\n",
      "dense_1 (Dense)              (None, 12700)             161302700 \n",
      "_________________________________________________________________\n",
      "dense_2 (Dense)              (None, 127)               1613027   \n",
      "_________________________________________________________________\n",
      "dropout_1 (Dropout)          (None, 127)               0         \n",
      "_________________________________________________________________\n",
      "dense_3 (Dense)              (None, 2)                 256       \n",
      "=================================================================\n",
      "Total params: 162,915,983\n",
      "Trainable params: 162,915,983\n",
      "Non-trainable params: 0\n",
      "_________________________________________________________________\n",
      "None\n",
      "\n",
      "\n",
      "----- Validate -----\n",
      "\n",
      "\n",
      "-> Data Generator Batch: 0/10, iFile 0, i0=000, i1=100, j0=000, j1=100, Memory: 3.100 GB, File: strArr10.npz\n",
      "-> Data Generator Batch: 1/10, iFile 0, i0=100, i1=200, j0=100, j1=200, Memory: 3.100 GB, File: strArr10.npz\n",
      "-> Data Generator Batch: 2/10, iFile 0, i0=200, i1=300, j0=200, j1=300, Memory: 3.100 GB, File: strArr10.npz\n",
      "-> Data Generator Batch: 3/10, iFile 0, i0=300, i1=400, j0=300, j1=400, Memory: 3.100 GB, File: strArr10.npz\n",
      "-> Data Generator Batch: 4/10, iFile 0, i0=400, i1=500, j0=400, j1=500, Memory: 3.100 GB, File: strArr10.npz\n",
      "-> Data Generator Batch: 5/10, iFile 0, i0=500, i1=600, j0=500, j1=600, Memory: 3.100 GB, File: strArr10.npz\n",
      "-> Data Generator Batch: 6/10, iFile 0, i0=600, i1=700, j0=600, j1=700, Memory: 3.100 GB, File: strArr10.npz\n",
      "-> Data Generator Batch: 7/10, iFile 0, i0=700, i1=800, j0=700, j1=800, Memory: 3.100 GB, File: strArr10.npz\n",
      "-> Data Generator Batch: 8/10, iFile 0, i0=800, i1=900, j0=800, j1=900, Memory: 3.100 GB, File: strArr10.npz\n",
      "-> Data Generator Batch: 9/10, iFile 0, i0=900, i1=1000, j0=900, j1=1000, Memory: 3.100 GB, File: strArr10.npz\n",
      "Batches: 10\n",
      "\n",
      "Saving './models/nn_modl_acc94_evts10000_12700-127-2.h5'...\n",
      "Saving './models/nn_pred_acc94_evts10000_12700-127-2.npy'...\n",
      "\n",
      "\n",
      "Done in 11.8 min\n"
     ]
    },
    {
     "name": "stderr",
     "output_type": "stream",
     "text": [
      "No traceback available to show.\n"
     ]
    }
   ],
   "source": [
    "\n",
    "#------------------------------------------------------------------------------\n",
    "#------------------------------------------------------------------------------\n",
    "\n",
    "filename = \"nn_s2waveforms_xy_train.py\"\n",
    "lst_args = [\n",
    "    '-directory'       , '../../xe1t-processing/pax_merge/temp_s2/',\n",
    "    '-max_dirs'        , '11',\n",
    "    '-events_per_batch', '100',\n",
    "    '-downsample'      , '10'\n",
    "]\n",
    "str_args = \" \".join(lst_args)\n",
    "\n",
    "print(\"{0} {1}\".format(filename, str_args))\n",
    "\n",
    "%run $filename $str_args\n",
    "%tb"
   ]
  },
  {
   "cell_type": "code",
   "execution_count": null,
   "metadata": {
    "collapsed": true
   },
   "outputs": [],
   "source": []
  },
  {
   "cell_type": "code",
   "execution_count": null,
   "metadata": {
    "collapsed": true
   },
   "outputs": [],
   "source": []
  },
  {
   "cell_type": "code",
   "execution_count": null,
   "metadata": {
    "collapsed": true
   },
   "outputs": [],
   "source": []
  },
  {
   "cell_type": "code",
   "execution_count": null,
   "metadata": {
    "collapsed": true
   },
   "outputs": [],
   "source": []
  },
  {
   "cell_type": "code",
   "execution_count": 3,
   "metadata": {
    "collapsed": false
   },
   "outputs": [
    {
     "name": "stderr",
     "output_type": "stream",
     "text": [
      "No traceback available to show.\n"
     ]
    }
   ],
   "source": []
  },
  {
   "cell_type": "code",
   "execution_count": null,
   "metadata": {
    "collapsed": true
   },
   "outputs": [],
   "source": []
  }
 ],
 "metadata": {
  "kernelspec": {
   "display_name": "Python 3",
   "language": "python",
   "name": "python3"
  },
  "language_info": {
   "codemirror_mode": {
    "name": "ipython",
    "version": 3
   },
   "file_extension": ".py",
   "mimetype": "text/x-python",
   "name": "python",
   "nbconvert_exporter": "python",
   "pygments_lexer": "ipython3",
   "version": "3.4.4"
  }
 },
 "nbformat": 4,
 "nbformat_minor": 2
}
