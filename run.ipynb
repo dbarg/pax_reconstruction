{
 "cells": [
  {
   "cell_type": "code",
   "execution_count": null,
   "metadata": {
    "collapsed": false
   },
   "outputs": [],
   "source": [
    "\n",
    "#------------------------------------------------------------------------------\n",
    "#------------------------------------------------------------------------------\n",
    "\n",
    "%load_ext autoreload\n",
    "%autoreload 2\n"
   ]
  },
  {
   "cell_type": "code",
   "execution_count": null,
   "metadata": {
    "collapsed": false,
    "scrolled": true
   },
   "outputs": [
    {
     "name": "stdout",
     "output_type": "stream",
     "text": [
      "nn_s2waveforms_xy_train.py -directory ../xe1t-processing/pax_merge/old -max_dirs 11 -events_per_batch 500 -downsample 10\n"
     ]
    },
    {
     "name": "stderr",
     "output_type": "stream",
     "text": [
      "Using TensorFlow backend.\n"
     ]
    },
    {
     "name": "stdout",
     "output_type": "stream",
     "text": [
      "nn_s2waveforms_base.__init__()\n",
      "Input Directory:  ../xe1t-processing/pax_merge/old\n",
      "Events:           10000\n",
      "Files:            11\n",
      "Files Train:      10\n",
      "Files Test:       1\n",
      "Train files:\n",
      "   ../xe1t-processing/pax_merge/old/strArr0.npz\n",
      "   ../xe1t-processing/pax_merge/old/strArr1.npz\n",
      "   ../xe1t-processing/pax_merge/old/strArr2.npz\n",
      "   ../xe1t-processing/pax_merge/old/strArr3.npz\n",
      "   ../xe1t-processing/pax_merge/old/strArr4.npz\n",
      "   ../xe1t-processing/pax_merge/old/strArr5.npz\n",
      "   ../xe1t-processing/pax_merge/old/strArr6.npz\n",
      "   ../xe1t-processing/pax_merge/old/strArr7.npz\n",
      "   ../xe1t-processing/pax_merge/old/strArr8.npz\n",
      "   ../xe1t-processing/pax_merge/old/strArr9.npz\n",
      "Test files:\n",
      "   ../xe1t-processing/pax_merge/old/strArr10.npz\n",
      "10\n",
      "Batches:          20\n",
      "Events per batch: 500\n",
      "Events:           10000\n",
      "\n",
      "10 Input files:\n",
      "   ../xe1t-processing/pax_merge/old/strArr0.npz\n",
      "   ../xe1t-processing/pax_merge/old/strArr1.npz\n",
      "   ../xe1t-processing/pax_merge/old/strArr2.npz\n",
      "   ../xe1t-processing/pax_merge/old/strArr3.npz\n",
      "   ../xe1t-processing/pax_merge/old/strArr4.npz\n",
      "   ../xe1t-processing/pax_merge/old/strArr5.npz\n",
      "   ../xe1t-processing/pax_merge/old/strArr6.npz\n",
      "   ../xe1t-processing/pax_merge/old/strArr7.npz\n",
      "   ../xe1t-processing/pax_merge/old/strArr8.npz\n",
      "   ../xe1t-processing/pax_merge/old/strArr9.npz\n",
      "generator_waveforms.on_epoch_end()\n",
      "\n",
      "\n",
      "Shuffling...\n",
      "Batches:          2\n",
      "Events per batch: 500\n",
      "Events:           1000\n",
      "\n",
      "1 Input files:\n",
      "   ../xe1t-processing/pax_merge/old/strArr10.npz\n",
      "generator_waveforms.on_epoch_end()\n",
      "\n",
      "\n",
      "Start\n",
      "Epoch 1/1\n",
      "   (Data Generator) Batch: 0/20, File 0: strArr0.npz, Memory: 0.3 GB\n",
      "   (Data Generator) Batch: 1/20, File 0: strArr0.npz, Memory: 0.4 GB\n",
      "   (Data Generator) Batch: 2/20, File 1: strArr1.npz, Memory: 1.4 GB\n",
      "   (Data Generator) Batch: 3/20, File 1: strArr1.npz, Memory: 2.3 GB\n",
      "   (Data Generator) Batch: 4/20, File 2: strArr2.npz, Memory: 3.3 GB\n",
      "   (Data Generator) Batch: 5/20, File 2: strArr2.npz, Memory: 4.4 GB\n",
      "   (Data Generator) Batch: 6/20, File 3: strArr3.npz, Memory: 4.4 GB\n",
      "   (Data Generator) Batch: 7/20, File 3: strArr3.npz, Memory: 4.4 GB\n",
      "   (Data Generator) Batch: 8/20, File 4: strArr4.npz, Memory: 4.4 GB\n",
      "   (Data Generator) Batch: 9/20, File 4: strArr4.npz, Memory: 4.4 GB\n",
      "   (Data Generator) Batch: 10/20, File 5: strArr5.npz, Memory: 4.5 GB\n",
      "   (Data Generator) Batch: 11/20, File 5: strArr5.npz, Memory: 5.1 GB\n",
      "   (Data Generator) Batch: 12/20, File 6: strArr6.npz, Memory: 4.5 GB\n",
      "   (Data Generator) Batch: 13/20, File 6: strArr6.npz, Memory: 4.5 GB\n",
      "   (Data Generator) Batch: 14/20, File 7: strArr7.npz, Memory: 4.5 GB\n"
     ]
    }
   ],
   "source": [
    "\n",
    "#------------------------------------------------------------------------------\n",
    "#------------------------------------------------------------------------------\n",
    "\n",
    "filename = \"nn_s2waveforms_xy_train.py\"\n",
    "lst_args = [\n",
    "    '-directory'       , '../xe1t-processing/pax_merge/old',\n",
    "    '-max_dirs'        , '11',\n",
    "    '-events_per_batch', '500',\n",
    "    '-downsample'      , '10'\n",
    "]\n",
    "str_args = \" \".join(lst_args)\n",
    "\n",
    "print(\"{0} {1}\".format(filename, str_args))\n",
    "\n",
    "%run $filename $str_args\n",
    "%tb\n"
   ]
  },
  {
   "cell_type": "code",
   "execution_count": null,
   "metadata": {
    "collapsed": true
   },
   "outputs": [],
   "source": []
  },
  {
   "cell_type": "code",
   "execution_count": null,
   "metadata": {
    "collapsed": true
   },
   "outputs": [],
   "source": []
  },
  {
   "cell_type": "code",
   "execution_count": null,
   "metadata": {
    "collapsed": true
   },
   "outputs": [],
   "source": []
  },
  {
   "cell_type": "code",
   "execution_count": null,
   "metadata": {
    "collapsed": true
   },
   "outputs": [],
   "source": []
  },
  {
   "cell_type": "code",
   "execution_count": null,
   "metadata": {
    "collapsed": false
   },
   "outputs": [],
   "source": []
  },
  {
   "cell_type": "code",
   "execution_count": null,
   "metadata": {
    "collapsed": true
   },
   "outputs": [],
   "source": []
  }
 ],
 "metadata": {
  "kernelspec": {
   "display_name": "Python 3",
   "language": "python",
   "name": "python3"
  },
  "language_info": {
   "codemirror_mode": {
    "name": "ipython",
    "version": 3
   },
   "file_extension": ".py",
   "mimetype": "text/x-python",
   "name": "python",
   "nbconvert_exporter": "python",
   "pygments_lexer": "ipython3",
   "version": "3.4.4"
  }
 },
 "nbformat": 4,
 "nbformat_minor": 2
}
